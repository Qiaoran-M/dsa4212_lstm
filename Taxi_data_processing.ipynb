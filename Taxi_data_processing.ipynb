{
 "cells": [
  {
   "cell_type": "code",
   "execution_count": 4,
   "id": "f193bc5f",
   "metadata": {},
   "outputs": [],
   "source": [
    "import os\n",
    "import pandas as pd\n",
    "#!pip install pyarrow\n",
    "import pyarrow.parquet as pq"
   ]
  },
  {
   "cell_type": "code",
   "execution_count": 5,
   "id": "e6b4d788",
   "metadata": {},
   "outputs": [],
   "source": [
    "os.getcwd()\n",
    "folder_path = 'taxi'\n",
    "# Initialize an empty list to store individual DataFrames\n",
    "dfs = []\n",
    "\n",
    "# Iterate through each file in the folder\n",
    "for file_name in os.listdir(folder_path):\n",
    "    if file_name.endswith('.parquet'):\n",
    "        # Construct the full file path\n",
    "        file_path = os.path.join(folder_path, file_name)\n",
    "        \n",
    "        # Read Parquet file into a DataFrame\n",
    "        df = pq.read_table(file_path).to_pandas()\n",
    "        \n",
    "        # Append the DataFrame to the list\n",
    "        dfs.append(df)\n",
    "\n",
    "# Concatenate all DataFrames into a single DataFrame\n",
    "trips = pd.concat(dfs, ignore_index=True)"
   ]
  },
  {
   "cell_type": "code",
   "execution_count": 6,
   "id": "7d6ccb7e",
   "metadata": {},
   "outputs": [
    {
     "data": {
      "text/plain": [
       "VendorID                          int64\n",
       "tpep_pickup_datetime     datetime64[ns]\n",
       "tpep_dropoff_datetime    datetime64[ns]\n",
       "passenger_count                 float64\n",
       "trip_distance                   float64\n",
       "RatecodeID                      float64\n",
       "store_and_fwd_flag               object\n",
       "PULocationID                      int64\n",
       "DOLocationID                      int64\n",
       "payment_type                      int64\n",
       "fare_amount                     float64\n",
       "extra                           float64\n",
       "mta_tax                         float64\n",
       "tip_amount                      float64\n",
       "tolls_amount                    float64\n",
       "improvement_surcharge           float64\n",
       "total_amount                    float64\n",
       "congestion_surcharge            float64\n",
       "Airport_fee                     float64\n",
       "airport_fee                     float64\n",
       "dtype: object"
      ]
     },
     "execution_count": 6,
     "metadata": {},
     "output_type": "execute_result"
    }
   ],
   "source": [
    "trips.dtypes"
   ]
  },
  {
   "cell_type": "code",
   "execution_count": 7,
   "id": "1df60886",
   "metadata": {},
   "outputs": [
    {
     "data": {
      "text/html": [
       "<div>\n",
       "<style scoped>\n",
       "    .dataframe tbody tr th:only-of-type {\n",
       "        vertical-align: middle;\n",
       "    }\n",
       "\n",
       "    .dataframe tbody tr th {\n",
       "        vertical-align: top;\n",
       "    }\n",
       "\n",
       "    .dataframe thead th {\n",
       "        text-align: right;\n",
       "    }\n",
       "</style>\n",
       "<table border=\"1\" class=\"dataframe\">\n",
       "  <thead>\n",
       "    <tr style=\"text-align: right;\">\n",
       "      <th></th>\n",
       "      <th>VendorID</th>\n",
       "      <th>tpep_pickup_datetime</th>\n",
       "      <th>tpep_dropoff_datetime</th>\n",
       "      <th>passenger_count</th>\n",
       "      <th>trip_distance</th>\n",
       "      <th>RatecodeID</th>\n",
       "      <th>store_and_fwd_flag</th>\n",
       "      <th>PULocationID</th>\n",
       "      <th>DOLocationID</th>\n",
       "      <th>payment_type</th>\n",
       "      <th>fare_amount</th>\n",
       "      <th>extra</th>\n",
       "      <th>mta_tax</th>\n",
       "      <th>tip_amount</th>\n",
       "      <th>tolls_amount</th>\n",
       "      <th>improvement_surcharge</th>\n",
       "      <th>total_amount</th>\n",
       "      <th>congestion_surcharge</th>\n",
       "      <th>Airport_fee</th>\n",
       "      <th>airport_fee</th>\n",
       "    </tr>\n",
       "  </thead>\n",
       "  <tbody>\n",
       "    <tr>\n",
       "      <th>0</th>\n",
       "      <td>1</td>\n",
       "      <td>2023-06-01 00:08:48</td>\n",
       "      <td>2023-06-01 00:29:41</td>\n",
       "      <td>1.0</td>\n",
       "      <td>3.40</td>\n",
       "      <td>1.0</td>\n",
       "      <td>N</td>\n",
       "      <td>140</td>\n",
       "      <td>238</td>\n",
       "      <td>1</td>\n",
       "      <td>21.9</td>\n",
       "      <td>3.50</td>\n",
       "      <td>0.5</td>\n",
       "      <td>6.70</td>\n",
       "      <td>0.0</td>\n",
       "      <td>1.0</td>\n",
       "      <td>33.60</td>\n",
       "      <td>2.5</td>\n",
       "      <td>0.00</td>\n",
       "      <td>NaN</td>\n",
       "    </tr>\n",
       "    <tr>\n",
       "      <th>1</th>\n",
       "      <td>1</td>\n",
       "      <td>2023-06-01 00:15:04</td>\n",
       "      <td>2023-06-01 00:25:18</td>\n",
       "      <td>0.0</td>\n",
       "      <td>3.40</td>\n",
       "      <td>1.0</td>\n",
       "      <td>N</td>\n",
       "      <td>50</td>\n",
       "      <td>151</td>\n",
       "      <td>1</td>\n",
       "      <td>15.6</td>\n",
       "      <td>3.50</td>\n",
       "      <td>0.5</td>\n",
       "      <td>3.00</td>\n",
       "      <td>0.0</td>\n",
       "      <td>1.0</td>\n",
       "      <td>23.60</td>\n",
       "      <td>2.5</td>\n",
       "      <td>0.00</td>\n",
       "      <td>NaN</td>\n",
       "    </tr>\n",
       "    <tr>\n",
       "      <th>2</th>\n",
       "      <td>1</td>\n",
       "      <td>2023-06-01 00:48:24</td>\n",
       "      <td>2023-06-01 01:07:07</td>\n",
       "      <td>1.0</td>\n",
       "      <td>10.20</td>\n",
       "      <td>1.0</td>\n",
       "      <td>N</td>\n",
       "      <td>138</td>\n",
       "      <td>97</td>\n",
       "      <td>1</td>\n",
       "      <td>40.8</td>\n",
       "      <td>7.75</td>\n",
       "      <td>0.5</td>\n",
       "      <td>10.00</td>\n",
       "      <td>0.0</td>\n",
       "      <td>1.0</td>\n",
       "      <td>60.05</td>\n",
       "      <td>0.0</td>\n",
       "      <td>1.75</td>\n",
       "      <td>NaN</td>\n",
       "    </tr>\n",
       "    <tr>\n",
       "      <th>3</th>\n",
       "      <td>2</td>\n",
       "      <td>2023-06-01 00:54:03</td>\n",
       "      <td>2023-06-01 01:17:29</td>\n",
       "      <td>3.0</td>\n",
       "      <td>9.83</td>\n",
       "      <td>1.0</td>\n",
       "      <td>N</td>\n",
       "      <td>100</td>\n",
       "      <td>244</td>\n",
       "      <td>1</td>\n",
       "      <td>39.4</td>\n",
       "      <td>1.00</td>\n",
       "      <td>0.5</td>\n",
       "      <td>8.88</td>\n",
       "      <td>0.0</td>\n",
       "      <td>1.0</td>\n",
       "      <td>53.28</td>\n",
       "      <td>2.5</td>\n",
       "      <td>0.00</td>\n",
       "      <td>NaN</td>\n",
       "    </tr>\n",
       "    <tr>\n",
       "      <th>4</th>\n",
       "      <td>2</td>\n",
       "      <td>2023-06-01 00:18:44</td>\n",
       "      <td>2023-06-01 00:27:18</td>\n",
       "      <td>1.0</td>\n",
       "      <td>1.17</td>\n",
       "      <td>1.0</td>\n",
       "      <td>N</td>\n",
       "      <td>137</td>\n",
       "      <td>234</td>\n",
       "      <td>1</td>\n",
       "      <td>9.3</td>\n",
       "      <td>1.00</td>\n",
       "      <td>0.5</td>\n",
       "      <td>0.72</td>\n",
       "      <td>0.0</td>\n",
       "      <td>1.0</td>\n",
       "      <td>15.02</td>\n",
       "      <td>2.5</td>\n",
       "      <td>0.00</td>\n",
       "      <td>NaN</td>\n",
       "    </tr>\n",
       "  </tbody>\n",
       "</table>\n",
       "</div>"
      ],
      "text/plain": [
       "   VendorID tpep_pickup_datetime tpep_dropoff_datetime  passenger_count  \\\n",
       "0         1  2023-06-01 00:08:48   2023-06-01 00:29:41              1.0   \n",
       "1         1  2023-06-01 00:15:04   2023-06-01 00:25:18              0.0   \n",
       "2         1  2023-06-01 00:48:24   2023-06-01 01:07:07              1.0   \n",
       "3         2  2023-06-01 00:54:03   2023-06-01 01:17:29              3.0   \n",
       "4         2  2023-06-01 00:18:44   2023-06-01 00:27:18              1.0   \n",
       "\n",
       "   trip_distance  RatecodeID store_and_fwd_flag  PULocationID  DOLocationID  \\\n",
       "0           3.40         1.0                  N           140           238   \n",
       "1           3.40         1.0                  N            50           151   \n",
       "2          10.20         1.0                  N           138            97   \n",
       "3           9.83         1.0                  N           100           244   \n",
       "4           1.17         1.0                  N           137           234   \n",
       "\n",
       "   payment_type  fare_amount  extra  mta_tax  tip_amount  tolls_amount  \\\n",
       "0             1         21.9   3.50      0.5        6.70           0.0   \n",
       "1             1         15.6   3.50      0.5        3.00           0.0   \n",
       "2             1         40.8   7.75      0.5       10.00           0.0   \n",
       "3             1         39.4   1.00      0.5        8.88           0.0   \n",
       "4             1          9.3   1.00      0.5        0.72           0.0   \n",
       "\n",
       "   improvement_surcharge  total_amount  congestion_surcharge  Airport_fee  \\\n",
       "0                    1.0         33.60                   2.5         0.00   \n",
       "1                    1.0         23.60                   2.5         0.00   \n",
       "2                    1.0         60.05                   0.0         1.75   \n",
       "3                    1.0         53.28                   2.5         0.00   \n",
       "4                    1.0         15.02                   2.5         0.00   \n",
       "\n",
       "   airport_fee  \n",
       "0          NaN  \n",
       "1          NaN  \n",
       "2          NaN  \n",
       "3          NaN  \n",
       "4          NaN  "
      ]
     },
     "execution_count": 7,
     "metadata": {},
     "output_type": "execute_result"
    }
   ],
   "source": [
    "trips.head()"
   ]
  },
  {
   "cell_type": "code",
   "execution_count": 8,
   "id": "89df77d7",
   "metadata": {},
   "outputs": [
    {
     "data": {
      "text/plain": [
       "(38310226, 20)"
      ]
     },
     "execution_count": 8,
     "metadata": {},
     "output_type": "execute_result"
    }
   ],
   "source": [
    "trips.shape"
   ]
  },
  {
   "cell_type": "code",
   "execution_count": 9,
   "id": "dfc2fbed",
   "metadata": {},
   "outputs": [
    {
     "data": {
      "text/plain": [
       "tpep_pickup_datetime    2024-01-03 19:42:57\n",
       "tpep_dropoff_datetime   2024-01-03 20:15:55\n",
       "dtype: datetime64[ns]"
      ]
     },
     "execution_count": 9,
     "metadata": {},
     "output_type": "execute_result"
    }
   ],
   "source": [
    "trips[[\"tpep_pickup_datetime\",\"tpep_dropoff_datetime\"]].max()"
   ]
  },
  {
   "cell_type": "code",
   "execution_count": 10,
   "id": "5a4f9518",
   "metadata": {},
   "outputs": [
    {
     "data": {
      "text/plain": [
       "tpep_pickup_datetime    2001-01-01 00:06:49\n",
       "tpep_dropoff_datetime   1970-01-20 10:16:32\n",
       "dtype: datetime64[ns]"
      ]
     },
     "execution_count": 10,
     "metadata": {},
     "output_type": "execute_result"
    }
   ],
   "source": [
    "trips[[\"tpep_pickup_datetime\",\"tpep_dropoff_datetime\"]].min()"
   ]
  },
  {
   "cell_type": "code",
   "execution_count": 11,
   "id": "604baab4",
   "metadata": {},
   "outputs": [],
   "source": [
    "trips=  trips[(trips['tpep_dropoff_datetime'].dt.year==2023) & (trips['tpep_pickup_datetime'].dt.year==2023)]"
   ]
  },
  {
   "cell_type": "code",
   "execution_count": 15,
   "id": "dbe9e006",
   "metadata": {},
   "outputs": [],
   "source": [
    "#data cleaning\n",
    "#1. passanger count\n",
    "#trips.passenger_count.describe()\n",
    "trips=trips[(trips['passenger_count']>0)&(trips['passenger_count']<=6)]\n",
    "#2. trip distance \n",
    "trips=trips[(trips['trip_distance']>=0)]\n",
    "#3. trip fare\n",
    "#we only focus on RatecodeID=1 which is the Standard Rate, no negotiate prices and other influencer\n",
    "trips=trips[trips['RatecodeID']==1]\n",
    "#We only keep orders paid by cash and credit card\n",
    "trips=trips[(trips['payment_type']==1)|(trips['payment_type']==2)]"
   ]
  },
  {
   "cell_type": "code",
   "execution_count": 17,
   "id": "33509733",
   "metadata": {},
   "outputs": [
    {
     "data": {
      "text/plain": [
       "PULocationID\n",
       "237    1686437\n",
       "161    1631138\n",
       "236    1487841\n",
       "162    1261226\n",
       "138    1234509\n",
       "        ...   \n",
       "172          6\n",
       "176          5\n",
       "84           5\n",
       "5            4\n",
       "27           4\n",
       "Length: 262, dtype: int64"
      ]
     },
     "execution_count": 17,
     "metadata": {},
     "output_type": "execute_result"
    }
   ],
   "source": [
    "trips.groupby('PULocationID').size().sort_values(ascending=False)"
   ]
  },
  {
   "cell_type": "code",
   "execution_count": 23,
   "id": "c995cf84",
   "metadata": {},
   "outputs": [],
   "source": [
    "p_zones = [237, 161, 236, 162,138]\n",
    "trips=trips[(trips['PULocationID']==237)|(trips['PULocationID']==161)|(trips['PULocationID']==236)|(trips['PULocationID']==162)|(trips['PULocationID']==138)]"
   ]
  },
  {
   "cell_type": "code",
   "execution_count": 20,
   "id": "797398ff",
   "metadata": {},
   "outputs": [],
   "source": [
    "start_date_2023 = pd.to_datetime('2023-01-01 00:00')\n",
    "end_date_2023 = pd.to_datetime('2024-01-01 00:00')\n",
    "timeline_2023 = pd.date_range(start=start_date_2023, end=end_date_2023, freq='30min')\n"
   ]
  },
  {
   "cell_type": "code",
   "execution_count": null,
   "id": "48f878f8",
   "metadata": {},
   "outputs": [
    {
     "name": "stderr",
     "output_type": "stream",
     "text": [
      "/var/folders/0x/k389_vt16p1gjts_tn1qjff40000gn/T/ipykernel_1202/1482100882.py:4: UserWarning: Boolean Series key will be reindexed to match DataFrame index.\n",
      "  orders_in_interval = trips[(trips['tpep_pickup_datetime'] >= time) & (df['tpep_pickup_datetime'] < next_time)]\n"
     ]
    },
    {
     "name": "stdout",
     "output_type": "stream",
     "text": [
      "0done\n"
     ]
    },
    {
     "name": "stderr",
     "output_type": "stream",
     "text": [
      "/var/folders/0x/k389_vt16p1gjts_tn1qjff40000gn/T/ipykernel_1202/1482100882.py:4: UserWarning: Boolean Series key will be reindexed to match DataFrame index.\n",
      "  orders_in_interval = trips[(trips['tpep_pickup_datetime'] >= time) & (df['tpep_pickup_datetime'] < next_time)]\n",
      "/var/folders/0x/k389_vt16p1gjts_tn1qjff40000gn/T/ipykernel_1202/1482100882.py:4: UserWarning: Boolean Series key will be reindexed to match DataFrame index.\n",
      "  orders_in_interval = trips[(trips['tpep_pickup_datetime'] >= time) & (df['tpep_pickup_datetime'] < next_time)]\n",
      "/var/folders/0x/k389_vt16p1gjts_tn1qjff40000gn/T/ipykernel_1202/1482100882.py:4: UserWarning: Boolean Series key will be reindexed to match DataFrame index.\n",
      "  orders_in_interval = trips[(trips['tpep_pickup_datetime'] >= time) & (df['tpep_pickup_datetime'] < next_time)]\n",
      "/var/folders/0x/k389_vt16p1gjts_tn1qjff40000gn/T/ipykernel_1202/1482100882.py:4: UserWarning: Boolean Series key will be reindexed to match DataFrame index.\n",
      "  orders_in_interval = trips[(trips['tpep_pickup_datetime'] >= time) & (df['tpep_pickup_datetime'] < next_time)]\n",
      "/var/folders/0x/k389_vt16p1gjts_tn1qjff40000gn/T/ipykernel_1202/1482100882.py:4: UserWarning: Boolean Series key will be reindexed to match DataFrame index.\n",
      "  orders_in_interval = trips[(trips['tpep_pickup_datetime'] >= time) & (df['tpep_pickup_datetime'] < next_time)]\n",
      "/var/folders/0x/k389_vt16p1gjts_tn1qjff40000gn/T/ipykernel_1202/1482100882.py:4: UserWarning: Boolean Series key will be reindexed to match DataFrame index.\n",
      "  orders_in_interval = trips[(trips['tpep_pickup_datetime'] >= time) & (df['tpep_pickup_datetime'] < next_time)]\n",
      "/var/folders/0x/k389_vt16p1gjts_tn1qjff40000gn/T/ipykernel_1202/1482100882.py:4: UserWarning: Boolean Series key will be reindexed to match DataFrame index.\n",
      "  orders_in_interval = trips[(trips['tpep_pickup_datetime'] >= time) & (df['tpep_pickup_datetime'] < next_time)]\n",
      "/var/folders/0x/k389_vt16p1gjts_tn1qjff40000gn/T/ipykernel_1202/1482100882.py:4: UserWarning: Boolean Series key will be reindexed to match DataFrame index.\n",
      "  orders_in_interval = trips[(trips['tpep_pickup_datetime'] >= time) & (df['tpep_pickup_datetime'] < next_time)]\n",
      "/var/folders/0x/k389_vt16p1gjts_tn1qjff40000gn/T/ipykernel_1202/1482100882.py:4: UserWarning: Boolean Series key will be reindexed to match DataFrame index.\n",
      "  orders_in_interval = trips[(trips['tpep_pickup_datetime'] >= time) & (df['tpep_pickup_datetime'] < next_time)]\n",
      "/var/folders/0x/k389_vt16p1gjts_tn1qjff40000gn/T/ipykernel_1202/1482100882.py:4: UserWarning: Boolean Series key will be reindexed to match DataFrame index.\n",
      "  orders_in_interval = trips[(trips['tpep_pickup_datetime'] >= time) & (df['tpep_pickup_datetime'] < next_time)]\n"
     ]
    },
    {
     "name": "stdout",
     "output_type": "stream",
     "text": [
      "10done\n"
     ]
    },
    {
     "name": "stderr",
     "output_type": "stream",
     "text": [
      "/var/folders/0x/k389_vt16p1gjts_tn1qjff40000gn/T/ipykernel_1202/1482100882.py:4: UserWarning: Boolean Series key will be reindexed to match DataFrame index.\n",
      "  orders_in_interval = trips[(trips['tpep_pickup_datetime'] >= time) & (df['tpep_pickup_datetime'] < next_time)]\n",
      "/var/folders/0x/k389_vt16p1gjts_tn1qjff40000gn/T/ipykernel_1202/1482100882.py:4: UserWarning: Boolean Series key will be reindexed to match DataFrame index.\n",
      "  orders_in_interval = trips[(trips['tpep_pickup_datetime'] >= time) & (df['tpep_pickup_datetime'] < next_time)]\n",
      "/var/folders/0x/k389_vt16p1gjts_tn1qjff40000gn/T/ipykernel_1202/1482100882.py:4: UserWarning: Boolean Series key will be reindexed to match DataFrame index.\n",
      "  orders_in_interval = trips[(trips['tpep_pickup_datetime'] >= time) & (df['tpep_pickup_datetime'] < next_time)]\n",
      "/var/folders/0x/k389_vt16p1gjts_tn1qjff40000gn/T/ipykernel_1202/1482100882.py:4: UserWarning: Boolean Series key will be reindexed to match DataFrame index.\n",
      "  orders_in_interval = trips[(trips['tpep_pickup_datetime'] >= time) & (df['tpep_pickup_datetime'] < next_time)]\n",
      "/var/folders/0x/k389_vt16p1gjts_tn1qjff40000gn/T/ipykernel_1202/1482100882.py:4: UserWarning: Boolean Series key will be reindexed to match DataFrame index.\n",
      "  orders_in_interval = trips[(trips['tpep_pickup_datetime'] >= time) & (df['tpep_pickup_datetime'] < next_time)]\n",
      "/var/folders/0x/k389_vt16p1gjts_tn1qjff40000gn/T/ipykernel_1202/1482100882.py:4: UserWarning: Boolean Series key will be reindexed to match DataFrame index.\n",
      "  orders_in_interval = trips[(trips['tpep_pickup_datetime'] >= time) & (df['tpep_pickup_datetime'] < next_time)]\n",
      "/var/folders/0x/k389_vt16p1gjts_tn1qjff40000gn/T/ipykernel_1202/1482100882.py:4: UserWarning: Boolean Series key will be reindexed to match DataFrame index.\n",
      "  orders_in_interval = trips[(trips['tpep_pickup_datetime'] >= time) & (df['tpep_pickup_datetime'] < next_time)]\n",
      "/var/folders/0x/k389_vt16p1gjts_tn1qjff40000gn/T/ipykernel_1202/1482100882.py:4: UserWarning: Boolean Series key will be reindexed to match DataFrame index.\n",
      "  orders_in_interval = trips[(trips['tpep_pickup_datetime'] >= time) & (df['tpep_pickup_datetime'] < next_time)]\n",
      "/var/folders/0x/k389_vt16p1gjts_tn1qjff40000gn/T/ipykernel_1202/1482100882.py:4: UserWarning: Boolean Series key will be reindexed to match DataFrame index.\n",
      "  orders_in_interval = trips[(trips['tpep_pickup_datetime'] >= time) & (df['tpep_pickup_datetime'] < next_time)]\n",
      "/var/folders/0x/k389_vt16p1gjts_tn1qjff40000gn/T/ipykernel_1202/1482100882.py:4: UserWarning: Boolean Series key will be reindexed to match DataFrame index.\n",
      "  orders_in_interval = trips[(trips['tpep_pickup_datetime'] >= time) & (df['tpep_pickup_datetime'] < next_time)]\n"
     ]
    },
    {
     "name": "stdout",
     "output_type": "stream",
     "text": [
      "20done\n"
     ]
    },
    {
     "name": "stderr",
     "output_type": "stream",
     "text": [
      "/var/folders/0x/k389_vt16p1gjts_tn1qjff40000gn/T/ipykernel_1202/1482100882.py:4: UserWarning: Boolean Series key will be reindexed to match DataFrame index.\n",
      "  orders_in_interval = trips[(trips['tpep_pickup_datetime'] >= time) & (df['tpep_pickup_datetime'] < next_time)]\n",
      "/var/folders/0x/k389_vt16p1gjts_tn1qjff40000gn/T/ipykernel_1202/1482100882.py:4: UserWarning: Boolean Series key will be reindexed to match DataFrame index.\n",
      "  orders_in_interval = trips[(trips['tpep_pickup_datetime'] >= time) & (df['tpep_pickup_datetime'] < next_time)]\n",
      "/var/folders/0x/k389_vt16p1gjts_tn1qjff40000gn/T/ipykernel_1202/1482100882.py:4: UserWarning: Boolean Series key will be reindexed to match DataFrame index.\n",
      "  orders_in_interval = trips[(trips['tpep_pickup_datetime'] >= time) & (df['tpep_pickup_datetime'] < next_time)]\n",
      "/var/folders/0x/k389_vt16p1gjts_tn1qjff40000gn/T/ipykernel_1202/1482100882.py:4: UserWarning: Boolean Series key will be reindexed to match DataFrame index.\n",
      "  orders_in_interval = trips[(trips['tpep_pickup_datetime'] >= time) & (df['tpep_pickup_datetime'] < next_time)]\n",
      "/var/folders/0x/k389_vt16p1gjts_tn1qjff40000gn/T/ipykernel_1202/1482100882.py:4: UserWarning: Boolean Series key will be reindexed to match DataFrame index.\n",
      "  orders_in_interval = trips[(trips['tpep_pickup_datetime'] >= time) & (df['tpep_pickup_datetime'] < next_time)]\n",
      "/var/folders/0x/k389_vt16p1gjts_tn1qjff40000gn/T/ipykernel_1202/1482100882.py:4: UserWarning: Boolean Series key will be reindexed to match DataFrame index.\n",
      "  orders_in_interval = trips[(trips['tpep_pickup_datetime'] >= time) & (df['tpep_pickup_datetime'] < next_time)]\n",
      "/var/folders/0x/k389_vt16p1gjts_tn1qjff40000gn/T/ipykernel_1202/1482100882.py:4: UserWarning: Boolean Series key will be reindexed to match DataFrame index.\n",
      "  orders_in_interval = trips[(trips['tpep_pickup_datetime'] >= time) & (df['tpep_pickup_datetime'] < next_time)]\n",
      "/var/folders/0x/k389_vt16p1gjts_tn1qjff40000gn/T/ipykernel_1202/1482100882.py:4: UserWarning: Boolean Series key will be reindexed to match DataFrame index.\n",
      "  orders_in_interval = trips[(trips['tpep_pickup_datetime'] >= time) & (df['tpep_pickup_datetime'] < next_time)]\n",
      "/var/folders/0x/k389_vt16p1gjts_tn1qjff40000gn/T/ipykernel_1202/1482100882.py:4: UserWarning: Boolean Series key will be reindexed to match DataFrame index.\n",
      "  orders_in_interval = trips[(trips['tpep_pickup_datetime'] >= time) & (df['tpep_pickup_datetime'] < next_time)]\n",
      "/var/folders/0x/k389_vt16p1gjts_tn1qjff40000gn/T/ipykernel_1202/1482100882.py:4: UserWarning: Boolean Series key will be reindexed to match DataFrame index.\n",
      "  orders_in_interval = trips[(trips['tpep_pickup_datetime'] >= time) & (df['tpep_pickup_datetime'] < next_time)]\n"
     ]
    },
    {
     "name": "stdout",
     "output_type": "stream",
     "text": [
      "30done\n"
     ]
    },
    {
     "name": "stderr",
     "output_type": "stream",
     "text": [
      "/var/folders/0x/k389_vt16p1gjts_tn1qjff40000gn/T/ipykernel_1202/1482100882.py:4: UserWarning: Boolean Series key will be reindexed to match DataFrame index.\n",
      "  orders_in_interval = trips[(trips['tpep_pickup_datetime'] >= time) & (df['tpep_pickup_datetime'] < next_time)]\n",
      "/var/folders/0x/k389_vt16p1gjts_tn1qjff40000gn/T/ipykernel_1202/1482100882.py:4: UserWarning: Boolean Series key will be reindexed to match DataFrame index.\n",
      "  orders_in_interval = trips[(trips['tpep_pickup_datetime'] >= time) & (df['tpep_pickup_datetime'] < next_time)]\n",
      "/var/folders/0x/k389_vt16p1gjts_tn1qjff40000gn/T/ipykernel_1202/1482100882.py:4: UserWarning: Boolean Series key will be reindexed to match DataFrame index.\n",
      "  orders_in_interval = trips[(trips['tpep_pickup_datetime'] >= time) & (df['tpep_pickup_datetime'] < next_time)]\n",
      "/var/folders/0x/k389_vt16p1gjts_tn1qjff40000gn/T/ipykernel_1202/1482100882.py:4: UserWarning: Boolean Series key will be reindexed to match DataFrame index.\n",
      "  orders_in_interval = trips[(trips['tpep_pickup_datetime'] >= time) & (df['tpep_pickup_datetime'] < next_time)]\n",
      "/var/folders/0x/k389_vt16p1gjts_tn1qjff40000gn/T/ipykernel_1202/1482100882.py:4: UserWarning: Boolean Series key will be reindexed to match DataFrame index.\n",
      "  orders_in_interval = trips[(trips['tpep_pickup_datetime'] >= time) & (df['tpep_pickup_datetime'] < next_time)]\n",
      "/var/folders/0x/k389_vt16p1gjts_tn1qjff40000gn/T/ipykernel_1202/1482100882.py:4: UserWarning: Boolean Series key will be reindexed to match DataFrame index.\n",
      "  orders_in_interval = trips[(trips['tpep_pickup_datetime'] >= time) & (df['tpep_pickup_datetime'] < next_time)]\n",
      "/var/folders/0x/k389_vt16p1gjts_tn1qjff40000gn/T/ipykernel_1202/1482100882.py:4: UserWarning: Boolean Series key will be reindexed to match DataFrame index.\n",
      "  orders_in_interval = trips[(trips['tpep_pickup_datetime'] >= time) & (df['tpep_pickup_datetime'] < next_time)]\n",
      "/var/folders/0x/k389_vt16p1gjts_tn1qjff40000gn/T/ipykernel_1202/1482100882.py:4: UserWarning: Boolean Series key will be reindexed to match DataFrame index.\n",
      "  orders_in_interval = trips[(trips['tpep_pickup_datetime'] >= time) & (df['tpep_pickup_datetime'] < next_time)]\n",
      "/var/folders/0x/k389_vt16p1gjts_tn1qjff40000gn/T/ipykernel_1202/1482100882.py:4: UserWarning: Boolean Series key will be reindexed to match DataFrame index.\n",
      "  orders_in_interval = trips[(trips['tpep_pickup_datetime'] >= time) & (df['tpep_pickup_datetime'] < next_time)]\n",
      "/var/folders/0x/k389_vt16p1gjts_tn1qjff40000gn/T/ipykernel_1202/1482100882.py:4: UserWarning: Boolean Series key will be reindexed to match DataFrame index.\n",
      "  orders_in_interval = trips[(trips['tpep_pickup_datetime'] >= time) & (df['tpep_pickup_datetime'] < next_time)]\n"
     ]
    },
    {
     "name": "stdout",
     "output_type": "stream",
     "text": [
      "40done\n"
     ]
    },
    {
     "name": "stderr",
     "output_type": "stream",
     "text": [
      "/var/folders/0x/k389_vt16p1gjts_tn1qjff40000gn/T/ipykernel_1202/1482100882.py:4: UserWarning: Boolean Series key will be reindexed to match DataFrame index.\n",
      "  orders_in_interval = trips[(trips['tpep_pickup_datetime'] >= time) & (df['tpep_pickup_datetime'] < next_time)]\n",
      "/var/folders/0x/k389_vt16p1gjts_tn1qjff40000gn/T/ipykernel_1202/1482100882.py:4: UserWarning: Boolean Series key will be reindexed to match DataFrame index.\n",
      "  orders_in_interval = trips[(trips['tpep_pickup_datetime'] >= time) & (df['tpep_pickup_datetime'] < next_time)]\n",
      "/var/folders/0x/k389_vt16p1gjts_tn1qjff40000gn/T/ipykernel_1202/1482100882.py:4: UserWarning: Boolean Series key will be reindexed to match DataFrame index.\n",
      "  orders_in_interval = trips[(trips['tpep_pickup_datetime'] >= time) & (df['tpep_pickup_datetime'] < next_time)]\n",
      "/var/folders/0x/k389_vt16p1gjts_tn1qjff40000gn/T/ipykernel_1202/1482100882.py:4: UserWarning: Boolean Series key will be reindexed to match DataFrame index.\n",
      "  orders_in_interval = trips[(trips['tpep_pickup_datetime'] >= time) & (df['tpep_pickup_datetime'] < next_time)]\n",
      "/var/folders/0x/k389_vt16p1gjts_tn1qjff40000gn/T/ipykernel_1202/1482100882.py:4: UserWarning: Boolean Series key will be reindexed to match DataFrame index.\n",
      "  orders_in_interval = trips[(trips['tpep_pickup_datetime'] >= time) & (df['tpep_pickup_datetime'] < next_time)]\n",
      "/var/folders/0x/k389_vt16p1gjts_tn1qjff40000gn/T/ipykernel_1202/1482100882.py:4: UserWarning: Boolean Series key will be reindexed to match DataFrame index.\n",
      "  orders_in_interval = trips[(trips['tpep_pickup_datetime'] >= time) & (df['tpep_pickup_datetime'] < next_time)]\n",
      "/var/folders/0x/k389_vt16p1gjts_tn1qjff40000gn/T/ipykernel_1202/1482100882.py:4: UserWarning: Boolean Series key will be reindexed to match DataFrame index.\n",
      "  orders_in_interval = trips[(trips['tpep_pickup_datetime'] >= time) & (df['tpep_pickup_datetime'] < next_time)]\n",
      "/var/folders/0x/k389_vt16p1gjts_tn1qjff40000gn/T/ipykernel_1202/1482100882.py:4: UserWarning: Boolean Series key will be reindexed to match DataFrame index.\n",
      "  orders_in_interval = trips[(trips['tpep_pickup_datetime'] >= time) & (df['tpep_pickup_datetime'] < next_time)]\n",
      "/var/folders/0x/k389_vt16p1gjts_tn1qjff40000gn/T/ipykernel_1202/1482100882.py:4: UserWarning: Boolean Series key will be reindexed to match DataFrame index.\n",
      "  orders_in_interval = trips[(trips['tpep_pickup_datetime'] >= time) & (df['tpep_pickup_datetime'] < next_time)]\n",
      "/var/folders/0x/k389_vt16p1gjts_tn1qjff40000gn/T/ipykernel_1202/1482100882.py:4: UserWarning: Boolean Series key will be reindexed to match DataFrame index.\n",
      "  orders_in_interval = trips[(trips['tpep_pickup_datetime'] >= time) & (df['tpep_pickup_datetime'] < next_time)]\n"
     ]
    },
    {
     "name": "stdout",
     "output_type": "stream",
     "text": [
      "50done\n"
     ]
    },
    {
     "name": "stderr",
     "output_type": "stream",
     "text": [
      "/var/folders/0x/k389_vt16p1gjts_tn1qjff40000gn/T/ipykernel_1202/1482100882.py:4: UserWarning: Boolean Series key will be reindexed to match DataFrame index.\n",
      "  orders_in_interval = trips[(trips['tpep_pickup_datetime'] >= time) & (df['tpep_pickup_datetime'] < next_time)]\n",
      "/var/folders/0x/k389_vt16p1gjts_tn1qjff40000gn/T/ipykernel_1202/1482100882.py:4: UserWarning: Boolean Series key will be reindexed to match DataFrame index.\n",
      "  orders_in_interval = trips[(trips['tpep_pickup_datetime'] >= time) & (df['tpep_pickup_datetime'] < next_time)]\n",
      "/var/folders/0x/k389_vt16p1gjts_tn1qjff40000gn/T/ipykernel_1202/1482100882.py:4: UserWarning: Boolean Series key will be reindexed to match DataFrame index.\n",
      "  orders_in_interval = trips[(trips['tpep_pickup_datetime'] >= time) & (df['tpep_pickup_datetime'] < next_time)]\n",
      "/var/folders/0x/k389_vt16p1gjts_tn1qjff40000gn/T/ipykernel_1202/1482100882.py:4: UserWarning: Boolean Series key will be reindexed to match DataFrame index.\n",
      "  orders_in_interval = trips[(trips['tpep_pickup_datetime'] >= time) & (df['tpep_pickup_datetime'] < next_time)]\n",
      "/var/folders/0x/k389_vt16p1gjts_tn1qjff40000gn/T/ipykernel_1202/1482100882.py:4: UserWarning: Boolean Series key will be reindexed to match DataFrame index.\n",
      "  orders_in_interval = trips[(trips['tpep_pickup_datetime'] >= time) & (df['tpep_pickup_datetime'] < next_time)]\n",
      "/var/folders/0x/k389_vt16p1gjts_tn1qjff40000gn/T/ipykernel_1202/1482100882.py:4: UserWarning: Boolean Series key will be reindexed to match DataFrame index.\n",
      "  orders_in_interval = trips[(trips['tpep_pickup_datetime'] >= time) & (df['tpep_pickup_datetime'] < next_time)]\n",
      "/var/folders/0x/k389_vt16p1gjts_tn1qjff40000gn/T/ipykernel_1202/1482100882.py:4: UserWarning: Boolean Series key will be reindexed to match DataFrame index.\n",
      "  orders_in_interval = trips[(trips['tpep_pickup_datetime'] >= time) & (df['tpep_pickup_datetime'] < next_time)]\n",
      "/var/folders/0x/k389_vt16p1gjts_tn1qjff40000gn/T/ipykernel_1202/1482100882.py:4: UserWarning: Boolean Series key will be reindexed to match DataFrame index.\n",
      "  orders_in_interval = trips[(trips['tpep_pickup_datetime'] >= time) & (df['tpep_pickup_datetime'] < next_time)]\n",
      "/var/folders/0x/k389_vt16p1gjts_tn1qjff40000gn/T/ipykernel_1202/1482100882.py:4: UserWarning: Boolean Series key will be reindexed to match DataFrame index.\n",
      "  orders_in_interval = trips[(trips['tpep_pickup_datetime'] >= time) & (df['tpep_pickup_datetime'] < next_time)]\n",
      "/var/folders/0x/k389_vt16p1gjts_tn1qjff40000gn/T/ipykernel_1202/1482100882.py:4: UserWarning: Boolean Series key will be reindexed to match DataFrame index.\n",
      "  orders_in_interval = trips[(trips['tpep_pickup_datetime'] >= time) & (df['tpep_pickup_datetime'] < next_time)]\n"
     ]
    },
    {
     "name": "stdout",
     "output_type": "stream",
     "text": [
      "60done\n"
     ]
    },
    {
     "name": "stderr",
     "output_type": "stream",
     "text": [
      "/var/folders/0x/k389_vt16p1gjts_tn1qjff40000gn/T/ipykernel_1202/1482100882.py:4: UserWarning: Boolean Series key will be reindexed to match DataFrame index.\n",
      "  orders_in_interval = trips[(trips['tpep_pickup_datetime'] >= time) & (df['tpep_pickup_datetime'] < next_time)]\n",
      "/var/folders/0x/k389_vt16p1gjts_tn1qjff40000gn/T/ipykernel_1202/1482100882.py:4: UserWarning: Boolean Series key will be reindexed to match DataFrame index.\n",
      "  orders_in_interval = trips[(trips['tpep_pickup_datetime'] >= time) & (df['tpep_pickup_datetime'] < next_time)]\n",
      "/var/folders/0x/k389_vt16p1gjts_tn1qjff40000gn/T/ipykernel_1202/1482100882.py:4: UserWarning: Boolean Series key will be reindexed to match DataFrame index.\n",
      "  orders_in_interval = trips[(trips['tpep_pickup_datetime'] >= time) & (df['tpep_pickup_datetime'] < next_time)]\n",
      "/var/folders/0x/k389_vt16p1gjts_tn1qjff40000gn/T/ipykernel_1202/1482100882.py:4: UserWarning: Boolean Series key will be reindexed to match DataFrame index.\n",
      "  orders_in_interval = trips[(trips['tpep_pickup_datetime'] >= time) & (df['tpep_pickup_datetime'] < next_time)]\n",
      "/var/folders/0x/k389_vt16p1gjts_tn1qjff40000gn/T/ipykernel_1202/1482100882.py:4: UserWarning: Boolean Series key will be reindexed to match DataFrame index.\n",
      "  orders_in_interval = trips[(trips['tpep_pickup_datetime'] >= time) & (df['tpep_pickup_datetime'] < next_time)]\n",
      "/var/folders/0x/k389_vt16p1gjts_tn1qjff40000gn/T/ipykernel_1202/1482100882.py:4: UserWarning: Boolean Series key will be reindexed to match DataFrame index.\n",
      "  orders_in_interval = trips[(trips['tpep_pickup_datetime'] >= time) & (df['tpep_pickup_datetime'] < next_time)]\n",
      "/var/folders/0x/k389_vt16p1gjts_tn1qjff40000gn/T/ipykernel_1202/1482100882.py:4: UserWarning: Boolean Series key will be reindexed to match DataFrame index.\n",
      "  orders_in_interval = trips[(trips['tpep_pickup_datetime'] >= time) & (df['tpep_pickup_datetime'] < next_time)]\n",
      "/var/folders/0x/k389_vt16p1gjts_tn1qjff40000gn/T/ipykernel_1202/1482100882.py:4: UserWarning: Boolean Series key will be reindexed to match DataFrame index.\n",
      "  orders_in_interval = trips[(trips['tpep_pickup_datetime'] >= time) & (df['tpep_pickup_datetime'] < next_time)]\n",
      "/var/folders/0x/k389_vt16p1gjts_tn1qjff40000gn/T/ipykernel_1202/1482100882.py:4: UserWarning: Boolean Series key will be reindexed to match DataFrame index.\n",
      "  orders_in_interval = trips[(trips['tpep_pickup_datetime'] >= time) & (df['tpep_pickup_datetime'] < next_time)]\n",
      "/var/folders/0x/k389_vt16p1gjts_tn1qjff40000gn/T/ipykernel_1202/1482100882.py:4: UserWarning: Boolean Series key will be reindexed to match DataFrame index.\n",
      "  orders_in_interval = trips[(trips['tpep_pickup_datetime'] >= time) & (df['tpep_pickup_datetime'] < next_time)]\n"
     ]
    },
    {
     "name": "stdout",
     "output_type": "stream",
     "text": [
      "70done\n"
     ]
    },
    {
     "name": "stderr",
     "output_type": "stream",
     "text": [
      "/var/folders/0x/k389_vt16p1gjts_tn1qjff40000gn/T/ipykernel_1202/1482100882.py:4: UserWarning: Boolean Series key will be reindexed to match DataFrame index.\n",
      "  orders_in_interval = trips[(trips['tpep_pickup_datetime'] >= time) & (df['tpep_pickup_datetime'] < next_time)]\n",
      "/var/folders/0x/k389_vt16p1gjts_tn1qjff40000gn/T/ipykernel_1202/1482100882.py:4: UserWarning: Boolean Series key will be reindexed to match DataFrame index.\n",
      "  orders_in_interval = trips[(trips['tpep_pickup_datetime'] >= time) & (df['tpep_pickup_datetime'] < next_time)]\n",
      "/var/folders/0x/k389_vt16p1gjts_tn1qjff40000gn/T/ipykernel_1202/1482100882.py:4: UserWarning: Boolean Series key will be reindexed to match DataFrame index.\n",
      "  orders_in_interval = trips[(trips['tpep_pickup_datetime'] >= time) & (df['tpep_pickup_datetime'] < next_time)]\n",
      "/var/folders/0x/k389_vt16p1gjts_tn1qjff40000gn/T/ipykernel_1202/1482100882.py:4: UserWarning: Boolean Series key will be reindexed to match DataFrame index.\n",
      "  orders_in_interval = trips[(trips['tpep_pickup_datetime'] >= time) & (df['tpep_pickup_datetime'] < next_time)]\n",
      "/var/folders/0x/k389_vt16p1gjts_tn1qjff40000gn/T/ipykernel_1202/1482100882.py:4: UserWarning: Boolean Series key will be reindexed to match DataFrame index.\n",
      "  orders_in_interval = trips[(trips['tpep_pickup_datetime'] >= time) & (df['tpep_pickup_datetime'] < next_time)]\n",
      "/var/folders/0x/k389_vt16p1gjts_tn1qjff40000gn/T/ipykernel_1202/1482100882.py:4: UserWarning: Boolean Series key will be reindexed to match DataFrame index.\n",
      "  orders_in_interval = trips[(trips['tpep_pickup_datetime'] >= time) & (df['tpep_pickup_datetime'] < next_time)]\n",
      "/var/folders/0x/k389_vt16p1gjts_tn1qjff40000gn/T/ipykernel_1202/1482100882.py:4: UserWarning: Boolean Series key will be reindexed to match DataFrame index.\n",
      "  orders_in_interval = trips[(trips['tpep_pickup_datetime'] >= time) & (df['tpep_pickup_datetime'] < next_time)]\n",
      "/var/folders/0x/k389_vt16p1gjts_tn1qjff40000gn/T/ipykernel_1202/1482100882.py:4: UserWarning: Boolean Series key will be reindexed to match DataFrame index.\n",
      "  orders_in_interval = trips[(trips['tpep_pickup_datetime'] >= time) & (df['tpep_pickup_datetime'] < next_time)]\n",
      "/var/folders/0x/k389_vt16p1gjts_tn1qjff40000gn/T/ipykernel_1202/1482100882.py:4: UserWarning: Boolean Series key will be reindexed to match DataFrame index.\n",
      "  orders_in_interval = trips[(trips['tpep_pickup_datetime'] >= time) & (df['tpep_pickup_datetime'] < next_time)]\n",
      "/var/folders/0x/k389_vt16p1gjts_tn1qjff40000gn/T/ipykernel_1202/1482100882.py:4: UserWarning: Boolean Series key will be reindexed to match DataFrame index.\n",
      "  orders_in_interval = trips[(trips['tpep_pickup_datetime'] >= time) & (df['tpep_pickup_datetime'] < next_time)]\n"
     ]
    },
    {
     "name": "stdout",
     "output_type": "stream",
     "text": [
      "80done\n"
     ]
    },
    {
     "name": "stderr",
     "output_type": "stream",
     "text": [
      "/var/folders/0x/k389_vt16p1gjts_tn1qjff40000gn/T/ipykernel_1202/1482100882.py:4: UserWarning: Boolean Series key will be reindexed to match DataFrame index.\n",
      "  orders_in_interval = trips[(trips['tpep_pickup_datetime'] >= time) & (df['tpep_pickup_datetime'] < next_time)]\n",
      "/var/folders/0x/k389_vt16p1gjts_tn1qjff40000gn/T/ipykernel_1202/1482100882.py:4: UserWarning: Boolean Series key will be reindexed to match DataFrame index.\n",
      "  orders_in_interval = trips[(trips['tpep_pickup_datetime'] >= time) & (df['tpep_pickup_datetime'] < next_time)]\n",
      "/var/folders/0x/k389_vt16p1gjts_tn1qjff40000gn/T/ipykernel_1202/1482100882.py:4: UserWarning: Boolean Series key will be reindexed to match DataFrame index.\n",
      "  orders_in_interval = trips[(trips['tpep_pickup_datetime'] >= time) & (df['tpep_pickup_datetime'] < next_time)]\n",
      "/var/folders/0x/k389_vt16p1gjts_tn1qjff40000gn/T/ipykernel_1202/1482100882.py:4: UserWarning: Boolean Series key will be reindexed to match DataFrame index.\n",
      "  orders_in_interval = trips[(trips['tpep_pickup_datetime'] >= time) & (df['tpep_pickup_datetime'] < next_time)]\n",
      "/var/folders/0x/k389_vt16p1gjts_tn1qjff40000gn/T/ipykernel_1202/1482100882.py:4: UserWarning: Boolean Series key will be reindexed to match DataFrame index.\n",
      "  orders_in_interval = trips[(trips['tpep_pickup_datetime'] >= time) & (df['tpep_pickup_datetime'] < next_time)]\n",
      "/var/folders/0x/k389_vt16p1gjts_tn1qjff40000gn/T/ipykernel_1202/1482100882.py:4: UserWarning: Boolean Series key will be reindexed to match DataFrame index.\n",
      "  orders_in_interval = trips[(trips['tpep_pickup_datetime'] >= time) & (df['tpep_pickup_datetime'] < next_time)]\n",
      "/var/folders/0x/k389_vt16p1gjts_tn1qjff40000gn/T/ipykernel_1202/1482100882.py:4: UserWarning: Boolean Series key will be reindexed to match DataFrame index.\n",
      "  orders_in_interval = trips[(trips['tpep_pickup_datetime'] >= time) & (df['tpep_pickup_datetime'] < next_time)]\n",
      "/var/folders/0x/k389_vt16p1gjts_tn1qjff40000gn/T/ipykernel_1202/1482100882.py:4: UserWarning: Boolean Series key will be reindexed to match DataFrame index.\n",
      "  orders_in_interval = trips[(trips['tpep_pickup_datetime'] >= time) & (df['tpep_pickup_datetime'] < next_time)]\n",
      "/var/folders/0x/k389_vt16p1gjts_tn1qjff40000gn/T/ipykernel_1202/1482100882.py:4: UserWarning: Boolean Series key will be reindexed to match DataFrame index.\n",
      "  orders_in_interval = trips[(trips['tpep_pickup_datetime'] >= time) & (df['tpep_pickup_datetime'] < next_time)]\n",
      "/var/folders/0x/k389_vt16p1gjts_tn1qjff40000gn/T/ipykernel_1202/1482100882.py:4: UserWarning: Boolean Series key will be reindexed to match DataFrame index.\n",
      "  orders_in_interval = trips[(trips['tpep_pickup_datetime'] >= time) & (df['tpep_pickup_datetime'] < next_time)]\n"
     ]
    },
    {
     "name": "stdout",
     "output_type": "stream",
     "text": [
      "90done\n"
     ]
    },
    {
     "name": "stderr",
     "output_type": "stream",
     "text": [
      "/var/folders/0x/k389_vt16p1gjts_tn1qjff40000gn/T/ipykernel_1202/1482100882.py:4: UserWarning: Boolean Series key will be reindexed to match DataFrame index.\n",
      "  orders_in_interval = trips[(trips['tpep_pickup_datetime'] >= time) & (df['tpep_pickup_datetime'] < next_time)]\n",
      "/var/folders/0x/k389_vt16p1gjts_tn1qjff40000gn/T/ipykernel_1202/1482100882.py:4: UserWarning: Boolean Series key will be reindexed to match DataFrame index.\n",
      "  orders_in_interval = trips[(trips['tpep_pickup_datetime'] >= time) & (df['tpep_pickup_datetime'] < next_time)]\n",
      "/var/folders/0x/k389_vt16p1gjts_tn1qjff40000gn/T/ipykernel_1202/1482100882.py:4: UserWarning: Boolean Series key will be reindexed to match DataFrame index.\n",
      "  orders_in_interval = trips[(trips['tpep_pickup_datetime'] >= time) & (df['tpep_pickup_datetime'] < next_time)]\n",
      "/var/folders/0x/k389_vt16p1gjts_tn1qjff40000gn/T/ipykernel_1202/1482100882.py:4: UserWarning: Boolean Series key will be reindexed to match DataFrame index.\n",
      "  orders_in_interval = trips[(trips['tpep_pickup_datetime'] >= time) & (df['tpep_pickup_datetime'] < next_time)]\n",
      "/var/folders/0x/k389_vt16p1gjts_tn1qjff40000gn/T/ipykernel_1202/1482100882.py:4: UserWarning: Boolean Series key will be reindexed to match DataFrame index.\n",
      "  orders_in_interval = trips[(trips['tpep_pickup_datetime'] >= time) & (df['tpep_pickup_datetime'] < next_time)]\n",
      "/var/folders/0x/k389_vt16p1gjts_tn1qjff40000gn/T/ipykernel_1202/1482100882.py:4: UserWarning: Boolean Series key will be reindexed to match DataFrame index.\n",
      "  orders_in_interval = trips[(trips['tpep_pickup_datetime'] >= time) & (df['tpep_pickup_datetime'] < next_time)]\n",
      "/var/folders/0x/k389_vt16p1gjts_tn1qjff40000gn/T/ipykernel_1202/1482100882.py:4: UserWarning: Boolean Series key will be reindexed to match DataFrame index.\n",
      "  orders_in_interval = trips[(trips['tpep_pickup_datetime'] >= time) & (df['tpep_pickup_datetime'] < next_time)]\n",
      "/var/folders/0x/k389_vt16p1gjts_tn1qjff40000gn/T/ipykernel_1202/1482100882.py:4: UserWarning: Boolean Series key will be reindexed to match DataFrame index.\n",
      "  orders_in_interval = trips[(trips['tpep_pickup_datetime'] >= time) & (df['tpep_pickup_datetime'] < next_time)]\n",
      "/var/folders/0x/k389_vt16p1gjts_tn1qjff40000gn/T/ipykernel_1202/1482100882.py:4: UserWarning: Boolean Series key will be reindexed to match DataFrame index.\n",
      "  orders_in_interval = trips[(trips['tpep_pickup_datetime'] >= time) & (df['tpep_pickup_datetime'] < next_time)]\n",
      "/var/folders/0x/k389_vt16p1gjts_tn1qjff40000gn/T/ipykernel_1202/1482100882.py:4: UserWarning: Boolean Series key will be reindexed to match DataFrame index.\n",
      "  orders_in_interval = trips[(trips['tpep_pickup_datetime'] >= time) & (df['tpep_pickup_datetime'] < next_time)]\n"
     ]
    },
    {
     "name": "stdout",
     "output_type": "stream",
     "text": [
      "100done\n"
     ]
    },
    {
     "name": "stderr",
     "output_type": "stream",
     "text": [
      "/var/folders/0x/k389_vt16p1gjts_tn1qjff40000gn/T/ipykernel_1202/1482100882.py:4: UserWarning: Boolean Series key will be reindexed to match DataFrame index.\n",
      "  orders_in_interval = trips[(trips['tpep_pickup_datetime'] >= time) & (df['tpep_pickup_datetime'] < next_time)]\n",
      "/var/folders/0x/k389_vt16p1gjts_tn1qjff40000gn/T/ipykernel_1202/1482100882.py:4: UserWarning: Boolean Series key will be reindexed to match DataFrame index.\n",
      "  orders_in_interval = trips[(trips['tpep_pickup_datetime'] >= time) & (df['tpep_pickup_datetime'] < next_time)]\n",
      "/var/folders/0x/k389_vt16p1gjts_tn1qjff40000gn/T/ipykernel_1202/1482100882.py:4: UserWarning: Boolean Series key will be reindexed to match DataFrame index.\n",
      "  orders_in_interval = trips[(trips['tpep_pickup_datetime'] >= time) & (df['tpep_pickup_datetime'] < next_time)]\n",
      "/var/folders/0x/k389_vt16p1gjts_tn1qjff40000gn/T/ipykernel_1202/1482100882.py:4: UserWarning: Boolean Series key will be reindexed to match DataFrame index.\n",
      "  orders_in_interval = trips[(trips['tpep_pickup_datetime'] >= time) & (df['tpep_pickup_datetime'] < next_time)]\n",
      "/var/folders/0x/k389_vt16p1gjts_tn1qjff40000gn/T/ipykernel_1202/1482100882.py:4: UserWarning: Boolean Series key will be reindexed to match DataFrame index.\n",
      "  orders_in_interval = trips[(trips['tpep_pickup_datetime'] >= time) & (df['tpep_pickup_datetime'] < next_time)]\n",
      "/var/folders/0x/k389_vt16p1gjts_tn1qjff40000gn/T/ipykernel_1202/1482100882.py:4: UserWarning: Boolean Series key will be reindexed to match DataFrame index.\n",
      "  orders_in_interval = trips[(trips['tpep_pickup_datetime'] >= time) & (df['tpep_pickup_datetime'] < next_time)]\n",
      "/var/folders/0x/k389_vt16p1gjts_tn1qjff40000gn/T/ipykernel_1202/1482100882.py:4: UserWarning: Boolean Series key will be reindexed to match DataFrame index.\n",
      "  orders_in_interval = trips[(trips['tpep_pickup_datetime'] >= time) & (df['tpep_pickup_datetime'] < next_time)]\n",
      "/var/folders/0x/k389_vt16p1gjts_tn1qjff40000gn/T/ipykernel_1202/1482100882.py:4: UserWarning: Boolean Series key will be reindexed to match DataFrame index.\n",
      "  orders_in_interval = trips[(trips['tpep_pickup_datetime'] >= time) & (df['tpep_pickup_datetime'] < next_time)]\n",
      "/var/folders/0x/k389_vt16p1gjts_tn1qjff40000gn/T/ipykernel_1202/1482100882.py:4: UserWarning: Boolean Series key will be reindexed to match DataFrame index.\n",
      "  orders_in_interval = trips[(trips['tpep_pickup_datetime'] >= time) & (df['tpep_pickup_datetime'] < next_time)]\n",
      "/var/folders/0x/k389_vt16p1gjts_tn1qjff40000gn/T/ipykernel_1202/1482100882.py:4: UserWarning: Boolean Series key will be reindexed to match DataFrame index.\n",
      "  orders_in_interval = trips[(trips['tpep_pickup_datetime'] >= time) & (df['tpep_pickup_datetime'] < next_time)]\n"
     ]
    },
    {
     "name": "stdout",
     "output_type": "stream",
     "text": [
      "110done\n"
     ]
    },
    {
     "name": "stderr",
     "output_type": "stream",
     "text": [
      "/var/folders/0x/k389_vt16p1gjts_tn1qjff40000gn/T/ipykernel_1202/1482100882.py:4: UserWarning: Boolean Series key will be reindexed to match DataFrame index.\n",
      "  orders_in_interval = trips[(trips['tpep_pickup_datetime'] >= time) & (df['tpep_pickup_datetime'] < next_time)]\n",
      "/var/folders/0x/k389_vt16p1gjts_tn1qjff40000gn/T/ipykernel_1202/1482100882.py:4: UserWarning: Boolean Series key will be reindexed to match DataFrame index.\n",
      "  orders_in_interval = trips[(trips['tpep_pickup_datetime'] >= time) & (df['tpep_pickup_datetime'] < next_time)]\n",
      "/var/folders/0x/k389_vt16p1gjts_tn1qjff40000gn/T/ipykernel_1202/1482100882.py:4: UserWarning: Boolean Series key will be reindexed to match DataFrame index.\n",
      "  orders_in_interval = trips[(trips['tpep_pickup_datetime'] >= time) & (df['tpep_pickup_datetime'] < next_time)]\n",
      "/var/folders/0x/k389_vt16p1gjts_tn1qjff40000gn/T/ipykernel_1202/1482100882.py:4: UserWarning: Boolean Series key will be reindexed to match DataFrame index.\n",
      "  orders_in_interval = trips[(trips['tpep_pickup_datetime'] >= time) & (df['tpep_pickup_datetime'] < next_time)]\n",
      "/var/folders/0x/k389_vt16p1gjts_tn1qjff40000gn/T/ipykernel_1202/1482100882.py:4: UserWarning: Boolean Series key will be reindexed to match DataFrame index.\n",
      "  orders_in_interval = trips[(trips['tpep_pickup_datetime'] >= time) & (df['tpep_pickup_datetime'] < next_time)]\n",
      "/var/folders/0x/k389_vt16p1gjts_tn1qjff40000gn/T/ipykernel_1202/1482100882.py:4: UserWarning: Boolean Series key will be reindexed to match DataFrame index.\n",
      "  orders_in_interval = trips[(trips['tpep_pickup_datetime'] >= time) & (df['tpep_pickup_datetime'] < next_time)]\n",
      "/var/folders/0x/k389_vt16p1gjts_tn1qjff40000gn/T/ipykernel_1202/1482100882.py:4: UserWarning: Boolean Series key will be reindexed to match DataFrame index.\n",
      "  orders_in_interval = trips[(trips['tpep_pickup_datetime'] >= time) & (df['tpep_pickup_datetime'] < next_time)]\n",
      "/var/folders/0x/k389_vt16p1gjts_tn1qjff40000gn/T/ipykernel_1202/1482100882.py:4: UserWarning: Boolean Series key will be reindexed to match DataFrame index.\n",
      "  orders_in_interval = trips[(trips['tpep_pickup_datetime'] >= time) & (df['tpep_pickup_datetime'] < next_time)]\n",
      "/var/folders/0x/k389_vt16p1gjts_tn1qjff40000gn/T/ipykernel_1202/1482100882.py:4: UserWarning: Boolean Series key will be reindexed to match DataFrame index.\n",
      "  orders_in_interval = trips[(trips['tpep_pickup_datetime'] >= time) & (df['tpep_pickup_datetime'] < next_time)]\n",
      "/var/folders/0x/k389_vt16p1gjts_tn1qjff40000gn/T/ipykernel_1202/1482100882.py:4: UserWarning: Boolean Series key will be reindexed to match DataFrame index.\n",
      "  orders_in_interval = trips[(trips['tpep_pickup_datetime'] >= time) & (df['tpep_pickup_datetime'] < next_time)]\n"
     ]
    },
    {
     "name": "stdout",
     "output_type": "stream",
     "text": [
      "120done\n"
     ]
    },
    {
     "name": "stderr",
     "output_type": "stream",
     "text": [
      "/var/folders/0x/k389_vt16p1gjts_tn1qjff40000gn/T/ipykernel_1202/1482100882.py:4: UserWarning: Boolean Series key will be reindexed to match DataFrame index.\n",
      "  orders_in_interval = trips[(trips['tpep_pickup_datetime'] >= time) & (df['tpep_pickup_datetime'] < next_time)]\n",
      "/var/folders/0x/k389_vt16p1gjts_tn1qjff40000gn/T/ipykernel_1202/1482100882.py:4: UserWarning: Boolean Series key will be reindexed to match DataFrame index.\n",
      "  orders_in_interval = trips[(trips['tpep_pickup_datetime'] >= time) & (df['tpep_pickup_datetime'] < next_time)]\n",
      "/var/folders/0x/k389_vt16p1gjts_tn1qjff40000gn/T/ipykernel_1202/1482100882.py:4: UserWarning: Boolean Series key will be reindexed to match DataFrame index.\n",
      "  orders_in_interval = trips[(trips['tpep_pickup_datetime'] >= time) & (df['tpep_pickup_datetime'] < next_time)]\n",
      "/var/folders/0x/k389_vt16p1gjts_tn1qjff40000gn/T/ipykernel_1202/1482100882.py:4: UserWarning: Boolean Series key will be reindexed to match DataFrame index.\n",
      "  orders_in_interval = trips[(trips['tpep_pickup_datetime'] >= time) & (df['tpep_pickup_datetime'] < next_time)]\n",
      "/var/folders/0x/k389_vt16p1gjts_tn1qjff40000gn/T/ipykernel_1202/1482100882.py:4: UserWarning: Boolean Series key will be reindexed to match DataFrame index.\n",
      "  orders_in_interval = trips[(trips['tpep_pickup_datetime'] >= time) & (df['tpep_pickup_datetime'] < next_time)]\n",
      "/var/folders/0x/k389_vt16p1gjts_tn1qjff40000gn/T/ipykernel_1202/1482100882.py:4: UserWarning: Boolean Series key will be reindexed to match DataFrame index.\n",
      "  orders_in_interval = trips[(trips['tpep_pickup_datetime'] >= time) & (df['tpep_pickup_datetime'] < next_time)]\n",
      "/var/folders/0x/k389_vt16p1gjts_tn1qjff40000gn/T/ipykernel_1202/1482100882.py:4: UserWarning: Boolean Series key will be reindexed to match DataFrame index.\n",
      "  orders_in_interval = trips[(trips['tpep_pickup_datetime'] >= time) & (df['tpep_pickup_datetime'] < next_time)]\n",
      "/var/folders/0x/k389_vt16p1gjts_tn1qjff40000gn/T/ipykernel_1202/1482100882.py:4: UserWarning: Boolean Series key will be reindexed to match DataFrame index.\n",
      "  orders_in_interval = trips[(trips['tpep_pickup_datetime'] >= time) & (df['tpep_pickup_datetime'] < next_time)]\n",
      "/var/folders/0x/k389_vt16p1gjts_tn1qjff40000gn/T/ipykernel_1202/1482100882.py:4: UserWarning: Boolean Series key will be reindexed to match DataFrame index.\n",
      "  orders_in_interval = trips[(trips['tpep_pickup_datetime'] >= time) & (df['tpep_pickup_datetime'] < next_time)]\n",
      "/var/folders/0x/k389_vt16p1gjts_tn1qjff40000gn/T/ipykernel_1202/1482100882.py:4: UserWarning: Boolean Series key will be reindexed to match DataFrame index.\n",
      "  orders_in_interval = trips[(trips['tpep_pickup_datetime'] >= time) & (df['tpep_pickup_datetime'] < next_time)]\n"
     ]
    },
    {
     "name": "stdout",
     "output_type": "stream",
     "text": [
      "130done\n"
     ]
    },
    {
     "name": "stderr",
     "output_type": "stream",
     "text": [
      "/var/folders/0x/k389_vt16p1gjts_tn1qjff40000gn/T/ipykernel_1202/1482100882.py:4: UserWarning: Boolean Series key will be reindexed to match DataFrame index.\n",
      "  orders_in_interval = trips[(trips['tpep_pickup_datetime'] >= time) & (df['tpep_pickup_datetime'] < next_time)]\n",
      "/var/folders/0x/k389_vt16p1gjts_tn1qjff40000gn/T/ipykernel_1202/1482100882.py:4: UserWarning: Boolean Series key will be reindexed to match DataFrame index.\n",
      "  orders_in_interval = trips[(trips['tpep_pickup_datetime'] >= time) & (df['tpep_pickup_datetime'] < next_time)]\n",
      "/var/folders/0x/k389_vt16p1gjts_tn1qjff40000gn/T/ipykernel_1202/1482100882.py:4: UserWarning: Boolean Series key will be reindexed to match DataFrame index.\n",
      "  orders_in_interval = trips[(trips['tpep_pickup_datetime'] >= time) & (df['tpep_pickup_datetime'] < next_time)]\n",
      "/var/folders/0x/k389_vt16p1gjts_tn1qjff40000gn/T/ipykernel_1202/1482100882.py:4: UserWarning: Boolean Series key will be reindexed to match DataFrame index.\n",
      "  orders_in_interval = trips[(trips['tpep_pickup_datetime'] >= time) & (df['tpep_pickup_datetime'] < next_time)]\n",
      "/var/folders/0x/k389_vt16p1gjts_tn1qjff40000gn/T/ipykernel_1202/1482100882.py:4: UserWarning: Boolean Series key will be reindexed to match DataFrame index.\n",
      "  orders_in_interval = trips[(trips['tpep_pickup_datetime'] >= time) & (df['tpep_pickup_datetime'] < next_time)]\n",
      "/var/folders/0x/k389_vt16p1gjts_tn1qjff40000gn/T/ipykernel_1202/1482100882.py:4: UserWarning: Boolean Series key will be reindexed to match DataFrame index.\n",
      "  orders_in_interval = trips[(trips['tpep_pickup_datetime'] >= time) & (df['tpep_pickup_datetime'] < next_time)]\n",
      "/var/folders/0x/k389_vt16p1gjts_tn1qjff40000gn/T/ipykernel_1202/1482100882.py:4: UserWarning: Boolean Series key will be reindexed to match DataFrame index.\n",
      "  orders_in_interval = trips[(trips['tpep_pickup_datetime'] >= time) & (df['tpep_pickup_datetime'] < next_time)]\n",
      "/var/folders/0x/k389_vt16p1gjts_tn1qjff40000gn/T/ipykernel_1202/1482100882.py:4: UserWarning: Boolean Series key will be reindexed to match DataFrame index.\n",
      "  orders_in_interval = trips[(trips['tpep_pickup_datetime'] >= time) & (df['tpep_pickup_datetime'] < next_time)]\n",
      "/var/folders/0x/k389_vt16p1gjts_tn1qjff40000gn/T/ipykernel_1202/1482100882.py:4: UserWarning: Boolean Series key will be reindexed to match DataFrame index.\n",
      "  orders_in_interval = trips[(trips['tpep_pickup_datetime'] >= time) & (df['tpep_pickup_datetime'] < next_time)]\n",
      "/var/folders/0x/k389_vt16p1gjts_tn1qjff40000gn/T/ipykernel_1202/1482100882.py:4: UserWarning: Boolean Series key will be reindexed to match DataFrame index.\n",
      "  orders_in_interval = trips[(trips['tpep_pickup_datetime'] >= time) & (df['tpep_pickup_datetime'] < next_time)]\n"
     ]
    },
    {
     "name": "stdout",
     "output_type": "stream",
     "text": [
      "140done\n"
     ]
    },
    {
     "name": "stderr",
     "output_type": "stream",
     "text": [
      "/var/folders/0x/k389_vt16p1gjts_tn1qjff40000gn/T/ipykernel_1202/1482100882.py:4: UserWarning: Boolean Series key will be reindexed to match DataFrame index.\n",
      "  orders_in_interval = trips[(trips['tpep_pickup_datetime'] >= time) & (df['tpep_pickup_datetime'] < next_time)]\n",
      "/var/folders/0x/k389_vt16p1gjts_tn1qjff40000gn/T/ipykernel_1202/1482100882.py:4: UserWarning: Boolean Series key will be reindexed to match DataFrame index.\n",
      "  orders_in_interval = trips[(trips['tpep_pickup_datetime'] >= time) & (df['tpep_pickup_datetime'] < next_time)]\n",
      "/var/folders/0x/k389_vt16p1gjts_tn1qjff40000gn/T/ipykernel_1202/1482100882.py:4: UserWarning: Boolean Series key will be reindexed to match DataFrame index.\n",
      "  orders_in_interval = trips[(trips['tpep_pickup_datetime'] >= time) & (df['tpep_pickup_datetime'] < next_time)]\n",
      "/var/folders/0x/k389_vt16p1gjts_tn1qjff40000gn/T/ipykernel_1202/1482100882.py:4: UserWarning: Boolean Series key will be reindexed to match DataFrame index.\n",
      "  orders_in_interval = trips[(trips['tpep_pickup_datetime'] >= time) & (df['tpep_pickup_datetime'] < next_time)]\n",
      "/var/folders/0x/k389_vt16p1gjts_tn1qjff40000gn/T/ipykernel_1202/1482100882.py:4: UserWarning: Boolean Series key will be reindexed to match DataFrame index.\n",
      "  orders_in_interval = trips[(trips['tpep_pickup_datetime'] >= time) & (df['tpep_pickup_datetime'] < next_time)]\n",
      "/var/folders/0x/k389_vt16p1gjts_tn1qjff40000gn/T/ipykernel_1202/1482100882.py:4: UserWarning: Boolean Series key will be reindexed to match DataFrame index.\n",
      "  orders_in_interval = trips[(trips['tpep_pickup_datetime'] >= time) & (df['tpep_pickup_datetime'] < next_time)]\n",
      "/var/folders/0x/k389_vt16p1gjts_tn1qjff40000gn/T/ipykernel_1202/1482100882.py:4: UserWarning: Boolean Series key will be reindexed to match DataFrame index.\n",
      "  orders_in_interval = trips[(trips['tpep_pickup_datetime'] >= time) & (df['tpep_pickup_datetime'] < next_time)]\n",
      "/var/folders/0x/k389_vt16p1gjts_tn1qjff40000gn/T/ipykernel_1202/1482100882.py:4: UserWarning: Boolean Series key will be reindexed to match DataFrame index.\n",
      "  orders_in_interval = trips[(trips['tpep_pickup_datetime'] >= time) & (df['tpep_pickup_datetime'] < next_time)]\n",
      "/var/folders/0x/k389_vt16p1gjts_tn1qjff40000gn/T/ipykernel_1202/1482100882.py:4: UserWarning: Boolean Series key will be reindexed to match DataFrame index.\n",
      "  orders_in_interval = trips[(trips['tpep_pickup_datetime'] >= time) & (df['tpep_pickup_datetime'] < next_time)]\n",
      "/var/folders/0x/k389_vt16p1gjts_tn1qjff40000gn/T/ipykernel_1202/1482100882.py:4: UserWarning: Boolean Series key will be reindexed to match DataFrame index.\n",
      "  orders_in_interval = trips[(trips['tpep_pickup_datetime'] >= time) & (df['tpep_pickup_datetime'] < next_time)]\n"
     ]
    },
    {
     "name": "stdout",
     "output_type": "stream",
     "text": [
      "150done\n"
     ]
    },
    {
     "name": "stderr",
     "output_type": "stream",
     "text": [
      "/var/folders/0x/k389_vt16p1gjts_tn1qjff40000gn/T/ipykernel_1202/1482100882.py:4: UserWarning: Boolean Series key will be reindexed to match DataFrame index.\n",
      "  orders_in_interval = trips[(trips['tpep_pickup_datetime'] >= time) & (df['tpep_pickup_datetime'] < next_time)]\n",
      "/var/folders/0x/k389_vt16p1gjts_tn1qjff40000gn/T/ipykernel_1202/1482100882.py:4: UserWarning: Boolean Series key will be reindexed to match DataFrame index.\n",
      "  orders_in_interval = trips[(trips['tpep_pickup_datetime'] >= time) & (df['tpep_pickup_datetime'] < next_time)]\n",
      "/var/folders/0x/k389_vt16p1gjts_tn1qjff40000gn/T/ipykernel_1202/1482100882.py:4: UserWarning: Boolean Series key will be reindexed to match DataFrame index.\n",
      "  orders_in_interval = trips[(trips['tpep_pickup_datetime'] >= time) & (df['tpep_pickup_datetime'] < next_time)]\n",
      "/var/folders/0x/k389_vt16p1gjts_tn1qjff40000gn/T/ipykernel_1202/1482100882.py:4: UserWarning: Boolean Series key will be reindexed to match DataFrame index.\n",
      "  orders_in_interval = trips[(trips['tpep_pickup_datetime'] >= time) & (df['tpep_pickup_datetime'] < next_time)]\n",
      "/var/folders/0x/k389_vt16p1gjts_tn1qjff40000gn/T/ipykernel_1202/1482100882.py:4: UserWarning: Boolean Series key will be reindexed to match DataFrame index.\n",
      "  orders_in_interval = trips[(trips['tpep_pickup_datetime'] >= time) & (df['tpep_pickup_datetime'] < next_time)]\n",
      "/var/folders/0x/k389_vt16p1gjts_tn1qjff40000gn/T/ipykernel_1202/1482100882.py:4: UserWarning: Boolean Series key will be reindexed to match DataFrame index.\n",
      "  orders_in_interval = trips[(trips['tpep_pickup_datetime'] >= time) & (df['tpep_pickup_datetime'] < next_time)]\n",
      "/var/folders/0x/k389_vt16p1gjts_tn1qjff40000gn/T/ipykernel_1202/1482100882.py:4: UserWarning: Boolean Series key will be reindexed to match DataFrame index.\n",
      "  orders_in_interval = trips[(trips['tpep_pickup_datetime'] >= time) & (df['tpep_pickup_datetime'] < next_time)]\n",
      "/var/folders/0x/k389_vt16p1gjts_tn1qjff40000gn/T/ipykernel_1202/1482100882.py:4: UserWarning: Boolean Series key will be reindexed to match DataFrame index.\n",
      "  orders_in_interval = trips[(trips['tpep_pickup_datetime'] >= time) & (df['tpep_pickup_datetime'] < next_time)]\n",
      "/var/folders/0x/k389_vt16p1gjts_tn1qjff40000gn/T/ipykernel_1202/1482100882.py:4: UserWarning: Boolean Series key will be reindexed to match DataFrame index.\n",
      "  orders_in_interval = trips[(trips['tpep_pickup_datetime'] >= time) & (df['tpep_pickup_datetime'] < next_time)]\n",
      "/var/folders/0x/k389_vt16p1gjts_tn1qjff40000gn/T/ipykernel_1202/1482100882.py:4: UserWarning: Boolean Series key will be reindexed to match DataFrame index.\n",
      "  orders_in_interval = trips[(trips['tpep_pickup_datetime'] >= time) & (df['tpep_pickup_datetime'] < next_time)]\n"
     ]
    },
    {
     "name": "stdout",
     "output_type": "stream",
     "text": [
      "160done\n"
     ]
    },
    {
     "name": "stderr",
     "output_type": "stream",
     "text": [
      "/var/folders/0x/k389_vt16p1gjts_tn1qjff40000gn/T/ipykernel_1202/1482100882.py:4: UserWarning: Boolean Series key will be reindexed to match DataFrame index.\n",
      "  orders_in_interval = trips[(trips['tpep_pickup_datetime'] >= time) & (df['tpep_pickup_datetime'] < next_time)]\n",
      "/var/folders/0x/k389_vt16p1gjts_tn1qjff40000gn/T/ipykernel_1202/1482100882.py:4: UserWarning: Boolean Series key will be reindexed to match DataFrame index.\n",
      "  orders_in_interval = trips[(trips['tpep_pickup_datetime'] >= time) & (df['tpep_pickup_datetime'] < next_time)]\n",
      "/var/folders/0x/k389_vt16p1gjts_tn1qjff40000gn/T/ipykernel_1202/1482100882.py:4: UserWarning: Boolean Series key will be reindexed to match DataFrame index.\n",
      "  orders_in_interval = trips[(trips['tpep_pickup_datetime'] >= time) & (df['tpep_pickup_datetime'] < next_time)]\n",
      "/var/folders/0x/k389_vt16p1gjts_tn1qjff40000gn/T/ipykernel_1202/1482100882.py:4: UserWarning: Boolean Series key will be reindexed to match DataFrame index.\n",
      "  orders_in_interval = trips[(trips['tpep_pickup_datetime'] >= time) & (df['tpep_pickup_datetime'] < next_time)]\n",
      "/var/folders/0x/k389_vt16p1gjts_tn1qjff40000gn/T/ipykernel_1202/1482100882.py:4: UserWarning: Boolean Series key will be reindexed to match DataFrame index.\n",
      "  orders_in_interval = trips[(trips['tpep_pickup_datetime'] >= time) & (df['tpep_pickup_datetime'] < next_time)]\n",
      "/var/folders/0x/k389_vt16p1gjts_tn1qjff40000gn/T/ipykernel_1202/1482100882.py:4: UserWarning: Boolean Series key will be reindexed to match DataFrame index.\n",
      "  orders_in_interval = trips[(trips['tpep_pickup_datetime'] >= time) & (df['tpep_pickup_datetime'] < next_time)]\n",
      "/var/folders/0x/k389_vt16p1gjts_tn1qjff40000gn/T/ipykernel_1202/1482100882.py:4: UserWarning: Boolean Series key will be reindexed to match DataFrame index.\n",
      "  orders_in_interval = trips[(trips['tpep_pickup_datetime'] >= time) & (df['tpep_pickup_datetime'] < next_time)]\n",
      "/var/folders/0x/k389_vt16p1gjts_tn1qjff40000gn/T/ipykernel_1202/1482100882.py:4: UserWarning: Boolean Series key will be reindexed to match DataFrame index.\n",
      "  orders_in_interval = trips[(trips['tpep_pickup_datetime'] >= time) & (df['tpep_pickup_datetime'] < next_time)]\n",
      "/var/folders/0x/k389_vt16p1gjts_tn1qjff40000gn/T/ipykernel_1202/1482100882.py:4: UserWarning: Boolean Series key will be reindexed to match DataFrame index.\n",
      "  orders_in_interval = trips[(trips['tpep_pickup_datetime'] >= time) & (df['tpep_pickup_datetime'] < next_time)]\n",
      "/var/folders/0x/k389_vt16p1gjts_tn1qjff40000gn/T/ipykernel_1202/1482100882.py:4: UserWarning: Boolean Series key will be reindexed to match DataFrame index.\n",
      "  orders_in_interval = trips[(trips['tpep_pickup_datetime'] >= time) & (df['tpep_pickup_datetime'] < next_time)]\n"
     ]
    },
    {
     "name": "stdout",
     "output_type": "stream",
     "text": [
      "170done\n"
     ]
    },
    {
     "name": "stderr",
     "output_type": "stream",
     "text": [
      "/var/folders/0x/k389_vt16p1gjts_tn1qjff40000gn/T/ipykernel_1202/1482100882.py:4: UserWarning: Boolean Series key will be reindexed to match DataFrame index.\n",
      "  orders_in_interval = trips[(trips['tpep_pickup_datetime'] >= time) & (df['tpep_pickup_datetime'] < next_time)]\n",
      "/var/folders/0x/k389_vt16p1gjts_tn1qjff40000gn/T/ipykernel_1202/1482100882.py:4: UserWarning: Boolean Series key will be reindexed to match DataFrame index.\n",
      "  orders_in_interval = trips[(trips['tpep_pickup_datetime'] >= time) & (df['tpep_pickup_datetime'] < next_time)]\n",
      "/var/folders/0x/k389_vt16p1gjts_tn1qjff40000gn/T/ipykernel_1202/1482100882.py:4: UserWarning: Boolean Series key will be reindexed to match DataFrame index.\n",
      "  orders_in_interval = trips[(trips['tpep_pickup_datetime'] >= time) & (df['tpep_pickup_datetime'] < next_time)]\n",
      "/var/folders/0x/k389_vt16p1gjts_tn1qjff40000gn/T/ipykernel_1202/1482100882.py:4: UserWarning: Boolean Series key will be reindexed to match DataFrame index.\n",
      "  orders_in_interval = trips[(trips['tpep_pickup_datetime'] >= time) & (df['tpep_pickup_datetime'] < next_time)]\n",
      "/var/folders/0x/k389_vt16p1gjts_tn1qjff40000gn/T/ipykernel_1202/1482100882.py:4: UserWarning: Boolean Series key will be reindexed to match DataFrame index.\n",
      "  orders_in_interval = trips[(trips['tpep_pickup_datetime'] >= time) & (df['tpep_pickup_datetime'] < next_time)]\n",
      "/var/folders/0x/k389_vt16p1gjts_tn1qjff40000gn/T/ipykernel_1202/1482100882.py:4: UserWarning: Boolean Series key will be reindexed to match DataFrame index.\n",
      "  orders_in_interval = trips[(trips['tpep_pickup_datetime'] >= time) & (df['tpep_pickup_datetime'] < next_time)]\n",
      "/var/folders/0x/k389_vt16p1gjts_tn1qjff40000gn/T/ipykernel_1202/1482100882.py:4: UserWarning: Boolean Series key will be reindexed to match DataFrame index.\n",
      "  orders_in_interval = trips[(trips['tpep_pickup_datetime'] >= time) & (df['tpep_pickup_datetime'] < next_time)]\n",
      "/var/folders/0x/k389_vt16p1gjts_tn1qjff40000gn/T/ipykernel_1202/1482100882.py:4: UserWarning: Boolean Series key will be reindexed to match DataFrame index.\n",
      "  orders_in_interval = trips[(trips['tpep_pickup_datetime'] >= time) & (df['tpep_pickup_datetime'] < next_time)]\n",
      "/var/folders/0x/k389_vt16p1gjts_tn1qjff40000gn/T/ipykernel_1202/1482100882.py:4: UserWarning: Boolean Series key will be reindexed to match DataFrame index.\n",
      "  orders_in_interval = trips[(trips['tpep_pickup_datetime'] >= time) & (df['tpep_pickup_datetime'] < next_time)]\n",
      "/var/folders/0x/k389_vt16p1gjts_tn1qjff40000gn/T/ipykernel_1202/1482100882.py:4: UserWarning: Boolean Series key will be reindexed to match DataFrame index.\n",
      "  orders_in_interval = trips[(trips['tpep_pickup_datetime'] >= time) & (df['tpep_pickup_datetime'] < next_time)]\n"
     ]
    },
    {
     "name": "stdout",
     "output_type": "stream",
     "text": [
      "180done\n"
     ]
    },
    {
     "name": "stderr",
     "output_type": "stream",
     "text": [
      "/var/folders/0x/k389_vt16p1gjts_tn1qjff40000gn/T/ipykernel_1202/1482100882.py:4: UserWarning: Boolean Series key will be reindexed to match DataFrame index.\n",
      "  orders_in_interval = trips[(trips['tpep_pickup_datetime'] >= time) & (df['tpep_pickup_datetime'] < next_time)]\n",
      "/var/folders/0x/k389_vt16p1gjts_tn1qjff40000gn/T/ipykernel_1202/1482100882.py:4: UserWarning: Boolean Series key will be reindexed to match DataFrame index.\n",
      "  orders_in_interval = trips[(trips['tpep_pickup_datetime'] >= time) & (df['tpep_pickup_datetime'] < next_time)]\n",
      "/var/folders/0x/k389_vt16p1gjts_tn1qjff40000gn/T/ipykernel_1202/1482100882.py:4: UserWarning: Boolean Series key will be reindexed to match DataFrame index.\n",
      "  orders_in_interval = trips[(trips['tpep_pickup_datetime'] >= time) & (df['tpep_pickup_datetime'] < next_time)]\n",
      "/var/folders/0x/k389_vt16p1gjts_tn1qjff40000gn/T/ipykernel_1202/1482100882.py:4: UserWarning: Boolean Series key will be reindexed to match DataFrame index.\n",
      "  orders_in_interval = trips[(trips['tpep_pickup_datetime'] >= time) & (df['tpep_pickup_datetime'] < next_time)]\n",
      "/var/folders/0x/k389_vt16p1gjts_tn1qjff40000gn/T/ipykernel_1202/1482100882.py:4: UserWarning: Boolean Series key will be reindexed to match DataFrame index.\n",
      "  orders_in_interval = trips[(trips['tpep_pickup_datetime'] >= time) & (df['tpep_pickup_datetime'] < next_time)]\n",
      "/var/folders/0x/k389_vt16p1gjts_tn1qjff40000gn/T/ipykernel_1202/1482100882.py:4: UserWarning: Boolean Series key will be reindexed to match DataFrame index.\n",
      "  orders_in_interval = trips[(trips['tpep_pickup_datetime'] >= time) & (df['tpep_pickup_datetime'] < next_time)]\n",
      "/var/folders/0x/k389_vt16p1gjts_tn1qjff40000gn/T/ipykernel_1202/1482100882.py:4: UserWarning: Boolean Series key will be reindexed to match DataFrame index.\n",
      "  orders_in_interval = trips[(trips['tpep_pickup_datetime'] >= time) & (df['tpep_pickup_datetime'] < next_time)]\n",
      "/var/folders/0x/k389_vt16p1gjts_tn1qjff40000gn/T/ipykernel_1202/1482100882.py:4: UserWarning: Boolean Series key will be reindexed to match DataFrame index.\n",
      "  orders_in_interval = trips[(trips['tpep_pickup_datetime'] >= time) & (df['tpep_pickup_datetime'] < next_time)]\n",
      "/var/folders/0x/k389_vt16p1gjts_tn1qjff40000gn/T/ipykernel_1202/1482100882.py:4: UserWarning: Boolean Series key will be reindexed to match DataFrame index.\n",
      "  orders_in_interval = trips[(trips['tpep_pickup_datetime'] >= time) & (df['tpep_pickup_datetime'] < next_time)]\n",
      "/var/folders/0x/k389_vt16p1gjts_tn1qjff40000gn/T/ipykernel_1202/1482100882.py:4: UserWarning: Boolean Series key will be reindexed to match DataFrame index.\n",
      "  orders_in_interval = trips[(trips['tpep_pickup_datetime'] >= time) & (df['tpep_pickup_datetime'] < next_time)]\n"
     ]
    },
    {
     "name": "stdout",
     "output_type": "stream",
     "text": [
      "190done\n"
     ]
    },
    {
     "name": "stderr",
     "output_type": "stream",
     "text": [
      "/var/folders/0x/k389_vt16p1gjts_tn1qjff40000gn/T/ipykernel_1202/1482100882.py:4: UserWarning: Boolean Series key will be reindexed to match DataFrame index.\n",
      "  orders_in_interval = trips[(trips['tpep_pickup_datetime'] >= time) & (df['tpep_pickup_datetime'] < next_time)]\n",
      "/var/folders/0x/k389_vt16p1gjts_tn1qjff40000gn/T/ipykernel_1202/1482100882.py:4: UserWarning: Boolean Series key will be reindexed to match DataFrame index.\n",
      "  orders_in_interval = trips[(trips['tpep_pickup_datetime'] >= time) & (df['tpep_pickup_datetime'] < next_time)]\n",
      "/var/folders/0x/k389_vt16p1gjts_tn1qjff40000gn/T/ipykernel_1202/1482100882.py:4: UserWarning: Boolean Series key will be reindexed to match DataFrame index.\n",
      "  orders_in_interval = trips[(trips['tpep_pickup_datetime'] >= time) & (df['tpep_pickup_datetime'] < next_time)]\n",
      "/var/folders/0x/k389_vt16p1gjts_tn1qjff40000gn/T/ipykernel_1202/1482100882.py:4: UserWarning: Boolean Series key will be reindexed to match DataFrame index.\n",
      "  orders_in_interval = trips[(trips['tpep_pickup_datetime'] >= time) & (df['tpep_pickup_datetime'] < next_time)]\n",
      "/var/folders/0x/k389_vt16p1gjts_tn1qjff40000gn/T/ipykernel_1202/1482100882.py:4: UserWarning: Boolean Series key will be reindexed to match DataFrame index.\n",
      "  orders_in_interval = trips[(trips['tpep_pickup_datetime'] >= time) & (df['tpep_pickup_datetime'] < next_time)]\n",
      "/var/folders/0x/k389_vt16p1gjts_tn1qjff40000gn/T/ipykernel_1202/1482100882.py:4: UserWarning: Boolean Series key will be reindexed to match DataFrame index.\n",
      "  orders_in_interval = trips[(trips['tpep_pickup_datetime'] >= time) & (df['tpep_pickup_datetime'] < next_time)]\n",
      "/var/folders/0x/k389_vt16p1gjts_tn1qjff40000gn/T/ipykernel_1202/1482100882.py:4: UserWarning: Boolean Series key will be reindexed to match DataFrame index.\n",
      "  orders_in_interval = trips[(trips['tpep_pickup_datetime'] >= time) & (df['tpep_pickup_datetime'] < next_time)]\n",
      "/var/folders/0x/k389_vt16p1gjts_tn1qjff40000gn/T/ipykernel_1202/1482100882.py:4: UserWarning: Boolean Series key will be reindexed to match DataFrame index.\n",
      "  orders_in_interval = trips[(trips['tpep_pickup_datetime'] >= time) & (df['tpep_pickup_datetime'] < next_time)]\n",
      "/var/folders/0x/k389_vt16p1gjts_tn1qjff40000gn/T/ipykernel_1202/1482100882.py:4: UserWarning: Boolean Series key will be reindexed to match DataFrame index.\n",
      "  orders_in_interval = trips[(trips['tpep_pickup_datetime'] >= time) & (df['tpep_pickup_datetime'] < next_time)]\n",
      "/var/folders/0x/k389_vt16p1gjts_tn1qjff40000gn/T/ipykernel_1202/1482100882.py:4: UserWarning: Boolean Series key will be reindexed to match DataFrame index.\n",
      "  orders_in_interval = trips[(trips['tpep_pickup_datetime'] >= time) & (df['tpep_pickup_datetime'] < next_time)]\n"
     ]
    },
    {
     "name": "stdout",
     "output_type": "stream",
     "text": [
      "200done\n"
     ]
    },
    {
     "name": "stderr",
     "output_type": "stream",
     "text": [
      "/var/folders/0x/k389_vt16p1gjts_tn1qjff40000gn/T/ipykernel_1202/1482100882.py:4: UserWarning: Boolean Series key will be reindexed to match DataFrame index.\n",
      "  orders_in_interval = trips[(trips['tpep_pickup_datetime'] >= time) & (df['tpep_pickup_datetime'] < next_time)]\n",
      "/var/folders/0x/k389_vt16p1gjts_tn1qjff40000gn/T/ipykernel_1202/1482100882.py:4: UserWarning: Boolean Series key will be reindexed to match DataFrame index.\n",
      "  orders_in_interval = trips[(trips['tpep_pickup_datetime'] >= time) & (df['tpep_pickup_datetime'] < next_time)]\n",
      "/var/folders/0x/k389_vt16p1gjts_tn1qjff40000gn/T/ipykernel_1202/1482100882.py:4: UserWarning: Boolean Series key will be reindexed to match DataFrame index.\n",
      "  orders_in_interval = trips[(trips['tpep_pickup_datetime'] >= time) & (df['tpep_pickup_datetime'] < next_time)]\n",
      "/var/folders/0x/k389_vt16p1gjts_tn1qjff40000gn/T/ipykernel_1202/1482100882.py:4: UserWarning: Boolean Series key will be reindexed to match DataFrame index.\n",
      "  orders_in_interval = trips[(trips['tpep_pickup_datetime'] >= time) & (df['tpep_pickup_datetime'] < next_time)]\n",
      "/var/folders/0x/k389_vt16p1gjts_tn1qjff40000gn/T/ipykernel_1202/1482100882.py:4: UserWarning: Boolean Series key will be reindexed to match DataFrame index.\n",
      "  orders_in_interval = trips[(trips['tpep_pickup_datetime'] >= time) & (df['tpep_pickup_datetime'] < next_time)]\n",
      "/var/folders/0x/k389_vt16p1gjts_tn1qjff40000gn/T/ipykernel_1202/1482100882.py:4: UserWarning: Boolean Series key will be reindexed to match DataFrame index.\n",
      "  orders_in_interval = trips[(trips['tpep_pickup_datetime'] >= time) & (df['tpep_pickup_datetime'] < next_time)]\n",
      "/var/folders/0x/k389_vt16p1gjts_tn1qjff40000gn/T/ipykernel_1202/1482100882.py:4: UserWarning: Boolean Series key will be reindexed to match DataFrame index.\n",
      "  orders_in_interval = trips[(trips['tpep_pickup_datetime'] >= time) & (df['tpep_pickup_datetime'] < next_time)]\n",
      "/var/folders/0x/k389_vt16p1gjts_tn1qjff40000gn/T/ipykernel_1202/1482100882.py:4: UserWarning: Boolean Series key will be reindexed to match DataFrame index.\n",
      "  orders_in_interval = trips[(trips['tpep_pickup_datetime'] >= time) & (df['tpep_pickup_datetime'] < next_time)]\n",
      "/var/folders/0x/k389_vt16p1gjts_tn1qjff40000gn/T/ipykernel_1202/1482100882.py:4: UserWarning: Boolean Series key will be reindexed to match DataFrame index.\n",
      "  orders_in_interval = trips[(trips['tpep_pickup_datetime'] >= time) & (df['tpep_pickup_datetime'] < next_time)]\n",
      "/var/folders/0x/k389_vt16p1gjts_tn1qjff40000gn/T/ipykernel_1202/1482100882.py:4: UserWarning: Boolean Series key will be reindexed to match DataFrame index.\n",
      "  orders_in_interval = trips[(trips['tpep_pickup_datetime'] >= time) & (df['tpep_pickup_datetime'] < next_time)]\n"
     ]
    },
    {
     "name": "stdout",
     "output_type": "stream",
     "text": [
      "210done\n"
     ]
    },
    {
     "name": "stderr",
     "output_type": "stream",
     "text": [
      "/var/folders/0x/k389_vt16p1gjts_tn1qjff40000gn/T/ipykernel_1202/1482100882.py:4: UserWarning: Boolean Series key will be reindexed to match DataFrame index.\n",
      "  orders_in_interval = trips[(trips['tpep_pickup_datetime'] >= time) & (df['tpep_pickup_datetime'] < next_time)]\n",
      "/var/folders/0x/k389_vt16p1gjts_tn1qjff40000gn/T/ipykernel_1202/1482100882.py:4: UserWarning: Boolean Series key will be reindexed to match DataFrame index.\n",
      "  orders_in_interval = trips[(trips['tpep_pickup_datetime'] >= time) & (df['tpep_pickup_datetime'] < next_time)]\n",
      "/var/folders/0x/k389_vt16p1gjts_tn1qjff40000gn/T/ipykernel_1202/1482100882.py:4: UserWarning: Boolean Series key will be reindexed to match DataFrame index.\n",
      "  orders_in_interval = trips[(trips['tpep_pickup_datetime'] >= time) & (df['tpep_pickup_datetime'] < next_time)]\n",
      "/var/folders/0x/k389_vt16p1gjts_tn1qjff40000gn/T/ipykernel_1202/1482100882.py:4: UserWarning: Boolean Series key will be reindexed to match DataFrame index.\n",
      "  orders_in_interval = trips[(trips['tpep_pickup_datetime'] >= time) & (df['tpep_pickup_datetime'] < next_time)]\n",
      "/var/folders/0x/k389_vt16p1gjts_tn1qjff40000gn/T/ipykernel_1202/1482100882.py:4: UserWarning: Boolean Series key will be reindexed to match DataFrame index.\n",
      "  orders_in_interval = trips[(trips['tpep_pickup_datetime'] >= time) & (df['tpep_pickup_datetime'] < next_time)]\n",
      "/var/folders/0x/k389_vt16p1gjts_tn1qjff40000gn/T/ipykernel_1202/1482100882.py:4: UserWarning: Boolean Series key will be reindexed to match DataFrame index.\n",
      "  orders_in_interval = trips[(trips['tpep_pickup_datetime'] >= time) & (df['tpep_pickup_datetime'] < next_time)]\n",
      "/var/folders/0x/k389_vt16p1gjts_tn1qjff40000gn/T/ipykernel_1202/1482100882.py:4: UserWarning: Boolean Series key will be reindexed to match DataFrame index.\n",
      "  orders_in_interval = trips[(trips['tpep_pickup_datetime'] >= time) & (df['tpep_pickup_datetime'] < next_time)]\n",
      "/var/folders/0x/k389_vt16p1gjts_tn1qjff40000gn/T/ipykernel_1202/1482100882.py:4: UserWarning: Boolean Series key will be reindexed to match DataFrame index.\n",
      "  orders_in_interval = trips[(trips['tpep_pickup_datetime'] >= time) & (df['tpep_pickup_datetime'] < next_time)]\n",
      "/var/folders/0x/k389_vt16p1gjts_tn1qjff40000gn/T/ipykernel_1202/1482100882.py:4: UserWarning: Boolean Series key will be reindexed to match DataFrame index.\n",
      "  orders_in_interval = trips[(trips['tpep_pickup_datetime'] >= time) & (df['tpep_pickup_datetime'] < next_time)]\n",
      "/var/folders/0x/k389_vt16p1gjts_tn1qjff40000gn/T/ipykernel_1202/1482100882.py:4: UserWarning: Boolean Series key will be reindexed to match DataFrame index.\n",
      "  orders_in_interval = trips[(trips['tpep_pickup_datetime'] >= time) & (df['tpep_pickup_datetime'] < next_time)]\n"
     ]
    },
    {
     "name": "stdout",
     "output_type": "stream",
     "text": [
      "220done\n"
     ]
    },
    {
     "name": "stderr",
     "output_type": "stream",
     "text": [
      "/var/folders/0x/k389_vt16p1gjts_tn1qjff40000gn/T/ipykernel_1202/1482100882.py:4: UserWarning: Boolean Series key will be reindexed to match DataFrame index.\n",
      "  orders_in_interval = trips[(trips['tpep_pickup_datetime'] >= time) & (df['tpep_pickup_datetime'] < next_time)]\n",
      "/var/folders/0x/k389_vt16p1gjts_tn1qjff40000gn/T/ipykernel_1202/1482100882.py:4: UserWarning: Boolean Series key will be reindexed to match DataFrame index.\n",
      "  orders_in_interval = trips[(trips['tpep_pickup_datetime'] >= time) & (df['tpep_pickup_datetime'] < next_time)]\n",
      "/var/folders/0x/k389_vt16p1gjts_tn1qjff40000gn/T/ipykernel_1202/1482100882.py:4: UserWarning: Boolean Series key will be reindexed to match DataFrame index.\n",
      "  orders_in_interval = trips[(trips['tpep_pickup_datetime'] >= time) & (df['tpep_pickup_datetime'] < next_time)]\n",
      "/var/folders/0x/k389_vt16p1gjts_tn1qjff40000gn/T/ipykernel_1202/1482100882.py:4: UserWarning: Boolean Series key will be reindexed to match DataFrame index.\n",
      "  orders_in_interval = trips[(trips['tpep_pickup_datetime'] >= time) & (df['tpep_pickup_datetime'] < next_time)]\n",
      "/var/folders/0x/k389_vt16p1gjts_tn1qjff40000gn/T/ipykernel_1202/1482100882.py:4: UserWarning: Boolean Series key will be reindexed to match DataFrame index.\n",
      "  orders_in_interval = trips[(trips['tpep_pickup_datetime'] >= time) & (df['tpep_pickup_datetime'] < next_time)]\n",
      "/var/folders/0x/k389_vt16p1gjts_tn1qjff40000gn/T/ipykernel_1202/1482100882.py:4: UserWarning: Boolean Series key will be reindexed to match DataFrame index.\n",
      "  orders_in_interval = trips[(trips['tpep_pickup_datetime'] >= time) & (df['tpep_pickup_datetime'] < next_time)]\n",
      "/var/folders/0x/k389_vt16p1gjts_tn1qjff40000gn/T/ipykernel_1202/1482100882.py:4: UserWarning: Boolean Series key will be reindexed to match DataFrame index.\n",
      "  orders_in_interval = trips[(trips['tpep_pickup_datetime'] >= time) & (df['tpep_pickup_datetime'] < next_time)]\n",
      "/var/folders/0x/k389_vt16p1gjts_tn1qjff40000gn/T/ipykernel_1202/1482100882.py:4: UserWarning: Boolean Series key will be reindexed to match DataFrame index.\n",
      "  orders_in_interval = trips[(trips['tpep_pickup_datetime'] >= time) & (df['tpep_pickup_datetime'] < next_time)]\n",
      "/var/folders/0x/k389_vt16p1gjts_tn1qjff40000gn/T/ipykernel_1202/1482100882.py:4: UserWarning: Boolean Series key will be reindexed to match DataFrame index.\n",
      "  orders_in_interval = trips[(trips['tpep_pickup_datetime'] >= time) & (df['tpep_pickup_datetime'] < next_time)]\n",
      "/var/folders/0x/k389_vt16p1gjts_tn1qjff40000gn/T/ipykernel_1202/1482100882.py:4: UserWarning: Boolean Series key will be reindexed to match DataFrame index.\n",
      "  orders_in_interval = trips[(trips['tpep_pickup_datetime'] >= time) & (df['tpep_pickup_datetime'] < next_time)]\n"
     ]
    },
    {
     "name": "stdout",
     "output_type": "stream",
     "text": [
      "230done\n"
     ]
    },
    {
     "name": "stderr",
     "output_type": "stream",
     "text": [
      "/var/folders/0x/k389_vt16p1gjts_tn1qjff40000gn/T/ipykernel_1202/1482100882.py:4: UserWarning: Boolean Series key will be reindexed to match DataFrame index.\n",
      "  orders_in_interval = trips[(trips['tpep_pickup_datetime'] >= time) & (df['tpep_pickup_datetime'] < next_time)]\n",
      "/var/folders/0x/k389_vt16p1gjts_tn1qjff40000gn/T/ipykernel_1202/1482100882.py:4: UserWarning: Boolean Series key will be reindexed to match DataFrame index.\n",
      "  orders_in_interval = trips[(trips['tpep_pickup_datetime'] >= time) & (df['tpep_pickup_datetime'] < next_time)]\n",
      "/var/folders/0x/k389_vt16p1gjts_tn1qjff40000gn/T/ipykernel_1202/1482100882.py:4: UserWarning: Boolean Series key will be reindexed to match DataFrame index.\n",
      "  orders_in_interval = trips[(trips['tpep_pickup_datetime'] >= time) & (df['tpep_pickup_datetime'] < next_time)]\n",
      "/var/folders/0x/k389_vt16p1gjts_tn1qjff40000gn/T/ipykernel_1202/1482100882.py:4: UserWarning: Boolean Series key will be reindexed to match DataFrame index.\n",
      "  orders_in_interval = trips[(trips['tpep_pickup_datetime'] >= time) & (df['tpep_pickup_datetime'] < next_time)]\n",
      "/var/folders/0x/k389_vt16p1gjts_tn1qjff40000gn/T/ipykernel_1202/1482100882.py:4: UserWarning: Boolean Series key will be reindexed to match DataFrame index.\n",
      "  orders_in_interval = trips[(trips['tpep_pickup_datetime'] >= time) & (df['tpep_pickup_datetime'] < next_time)]\n",
      "/var/folders/0x/k389_vt16p1gjts_tn1qjff40000gn/T/ipykernel_1202/1482100882.py:4: UserWarning: Boolean Series key will be reindexed to match DataFrame index.\n",
      "  orders_in_interval = trips[(trips['tpep_pickup_datetime'] >= time) & (df['tpep_pickup_datetime'] < next_time)]\n",
      "/var/folders/0x/k389_vt16p1gjts_tn1qjff40000gn/T/ipykernel_1202/1482100882.py:4: UserWarning: Boolean Series key will be reindexed to match DataFrame index.\n",
      "  orders_in_interval = trips[(trips['tpep_pickup_datetime'] >= time) & (df['tpep_pickup_datetime'] < next_time)]\n",
      "/var/folders/0x/k389_vt16p1gjts_tn1qjff40000gn/T/ipykernel_1202/1482100882.py:4: UserWarning: Boolean Series key will be reindexed to match DataFrame index.\n",
      "  orders_in_interval = trips[(trips['tpep_pickup_datetime'] >= time) & (df['tpep_pickup_datetime'] < next_time)]\n",
      "/var/folders/0x/k389_vt16p1gjts_tn1qjff40000gn/T/ipykernel_1202/1482100882.py:4: UserWarning: Boolean Series key will be reindexed to match DataFrame index.\n",
      "  orders_in_interval = trips[(trips['tpep_pickup_datetime'] >= time) & (df['tpep_pickup_datetime'] < next_time)]\n",
      "/var/folders/0x/k389_vt16p1gjts_tn1qjff40000gn/T/ipykernel_1202/1482100882.py:4: UserWarning: Boolean Series key will be reindexed to match DataFrame index.\n",
      "  orders_in_interval = trips[(trips['tpep_pickup_datetime'] >= time) & (df['tpep_pickup_datetime'] < next_time)]\n"
     ]
    },
    {
     "name": "stdout",
     "output_type": "stream",
     "text": [
      "240done\n"
     ]
    },
    {
     "name": "stderr",
     "output_type": "stream",
     "text": [
      "/var/folders/0x/k389_vt16p1gjts_tn1qjff40000gn/T/ipykernel_1202/1482100882.py:4: UserWarning: Boolean Series key will be reindexed to match DataFrame index.\n",
      "  orders_in_interval = trips[(trips['tpep_pickup_datetime'] >= time) & (df['tpep_pickup_datetime'] < next_time)]\n",
      "/var/folders/0x/k389_vt16p1gjts_tn1qjff40000gn/T/ipykernel_1202/1482100882.py:4: UserWarning: Boolean Series key will be reindexed to match DataFrame index.\n",
      "  orders_in_interval = trips[(trips['tpep_pickup_datetime'] >= time) & (df['tpep_pickup_datetime'] < next_time)]\n",
      "/var/folders/0x/k389_vt16p1gjts_tn1qjff40000gn/T/ipykernel_1202/1482100882.py:4: UserWarning: Boolean Series key will be reindexed to match DataFrame index.\n",
      "  orders_in_interval = trips[(trips['tpep_pickup_datetime'] >= time) & (df['tpep_pickup_datetime'] < next_time)]\n",
      "/var/folders/0x/k389_vt16p1gjts_tn1qjff40000gn/T/ipykernel_1202/1482100882.py:4: UserWarning: Boolean Series key will be reindexed to match DataFrame index.\n",
      "  orders_in_interval = trips[(trips['tpep_pickup_datetime'] >= time) & (df['tpep_pickup_datetime'] < next_time)]\n",
      "/var/folders/0x/k389_vt16p1gjts_tn1qjff40000gn/T/ipykernel_1202/1482100882.py:4: UserWarning: Boolean Series key will be reindexed to match DataFrame index.\n",
      "  orders_in_interval = trips[(trips['tpep_pickup_datetime'] >= time) & (df['tpep_pickup_datetime'] < next_time)]\n",
      "/var/folders/0x/k389_vt16p1gjts_tn1qjff40000gn/T/ipykernel_1202/1482100882.py:4: UserWarning: Boolean Series key will be reindexed to match DataFrame index.\n",
      "  orders_in_interval = trips[(trips['tpep_pickup_datetime'] >= time) & (df['tpep_pickup_datetime'] < next_time)]\n",
      "/var/folders/0x/k389_vt16p1gjts_tn1qjff40000gn/T/ipykernel_1202/1482100882.py:4: UserWarning: Boolean Series key will be reindexed to match DataFrame index.\n",
      "  orders_in_interval = trips[(trips['tpep_pickup_datetime'] >= time) & (df['tpep_pickup_datetime'] < next_time)]\n",
      "/var/folders/0x/k389_vt16p1gjts_tn1qjff40000gn/T/ipykernel_1202/1482100882.py:4: UserWarning: Boolean Series key will be reindexed to match DataFrame index.\n",
      "  orders_in_interval = trips[(trips['tpep_pickup_datetime'] >= time) & (df['tpep_pickup_datetime'] < next_time)]\n",
      "/var/folders/0x/k389_vt16p1gjts_tn1qjff40000gn/T/ipykernel_1202/1482100882.py:4: UserWarning: Boolean Series key will be reindexed to match DataFrame index.\n",
      "  orders_in_interval = trips[(trips['tpep_pickup_datetime'] >= time) & (df['tpep_pickup_datetime'] < next_time)]\n",
      "/var/folders/0x/k389_vt16p1gjts_tn1qjff40000gn/T/ipykernel_1202/1482100882.py:4: UserWarning: Boolean Series key will be reindexed to match DataFrame index.\n",
      "  orders_in_interval = trips[(trips['tpep_pickup_datetime'] >= time) & (df['tpep_pickup_datetime'] < next_time)]\n"
     ]
    },
    {
     "name": "stdout",
     "output_type": "stream",
     "text": [
      "250done\n"
     ]
    },
    {
     "name": "stderr",
     "output_type": "stream",
     "text": [
      "/var/folders/0x/k389_vt16p1gjts_tn1qjff40000gn/T/ipykernel_1202/1482100882.py:4: UserWarning: Boolean Series key will be reindexed to match DataFrame index.\n",
      "  orders_in_interval = trips[(trips['tpep_pickup_datetime'] >= time) & (df['tpep_pickup_datetime'] < next_time)]\n",
      "/var/folders/0x/k389_vt16p1gjts_tn1qjff40000gn/T/ipykernel_1202/1482100882.py:4: UserWarning: Boolean Series key will be reindexed to match DataFrame index.\n",
      "  orders_in_interval = trips[(trips['tpep_pickup_datetime'] >= time) & (df['tpep_pickup_datetime'] < next_time)]\n",
      "/var/folders/0x/k389_vt16p1gjts_tn1qjff40000gn/T/ipykernel_1202/1482100882.py:4: UserWarning: Boolean Series key will be reindexed to match DataFrame index.\n",
      "  orders_in_interval = trips[(trips['tpep_pickup_datetime'] >= time) & (df['tpep_pickup_datetime'] < next_time)]\n",
      "/var/folders/0x/k389_vt16p1gjts_tn1qjff40000gn/T/ipykernel_1202/1482100882.py:4: UserWarning: Boolean Series key will be reindexed to match DataFrame index.\n",
      "  orders_in_interval = trips[(trips['tpep_pickup_datetime'] >= time) & (df['tpep_pickup_datetime'] < next_time)]\n",
      "/var/folders/0x/k389_vt16p1gjts_tn1qjff40000gn/T/ipykernel_1202/1482100882.py:4: UserWarning: Boolean Series key will be reindexed to match DataFrame index.\n",
      "  orders_in_interval = trips[(trips['tpep_pickup_datetime'] >= time) & (df['tpep_pickup_datetime'] < next_time)]\n",
      "/var/folders/0x/k389_vt16p1gjts_tn1qjff40000gn/T/ipykernel_1202/1482100882.py:4: UserWarning: Boolean Series key will be reindexed to match DataFrame index.\n",
      "  orders_in_interval = trips[(trips['tpep_pickup_datetime'] >= time) & (df['tpep_pickup_datetime'] < next_time)]\n",
      "/var/folders/0x/k389_vt16p1gjts_tn1qjff40000gn/T/ipykernel_1202/1482100882.py:4: UserWarning: Boolean Series key will be reindexed to match DataFrame index.\n",
      "  orders_in_interval = trips[(trips['tpep_pickup_datetime'] >= time) & (df['tpep_pickup_datetime'] < next_time)]\n",
      "/var/folders/0x/k389_vt16p1gjts_tn1qjff40000gn/T/ipykernel_1202/1482100882.py:4: UserWarning: Boolean Series key will be reindexed to match DataFrame index.\n",
      "  orders_in_interval = trips[(trips['tpep_pickup_datetime'] >= time) & (df['tpep_pickup_datetime'] < next_time)]\n",
      "/var/folders/0x/k389_vt16p1gjts_tn1qjff40000gn/T/ipykernel_1202/1482100882.py:4: UserWarning: Boolean Series key will be reindexed to match DataFrame index.\n",
      "  orders_in_interval = trips[(trips['tpep_pickup_datetime'] >= time) & (df['tpep_pickup_datetime'] < next_time)]\n",
      "/var/folders/0x/k389_vt16p1gjts_tn1qjff40000gn/T/ipykernel_1202/1482100882.py:4: UserWarning: Boolean Series key will be reindexed to match DataFrame index.\n",
      "  orders_in_interval = trips[(trips['tpep_pickup_datetime'] >= time) & (df['tpep_pickup_datetime'] < next_time)]\n"
     ]
    },
    {
     "name": "stdout",
     "output_type": "stream",
     "text": [
      "260done\n"
     ]
    },
    {
     "name": "stderr",
     "output_type": "stream",
     "text": [
      "/var/folders/0x/k389_vt16p1gjts_tn1qjff40000gn/T/ipykernel_1202/1482100882.py:4: UserWarning: Boolean Series key will be reindexed to match DataFrame index.\n",
      "  orders_in_interval = trips[(trips['tpep_pickup_datetime'] >= time) & (df['tpep_pickup_datetime'] < next_time)]\n",
      "/var/folders/0x/k389_vt16p1gjts_tn1qjff40000gn/T/ipykernel_1202/1482100882.py:4: UserWarning: Boolean Series key will be reindexed to match DataFrame index.\n",
      "  orders_in_interval = trips[(trips['tpep_pickup_datetime'] >= time) & (df['tpep_pickup_datetime'] < next_time)]\n",
      "/var/folders/0x/k389_vt16p1gjts_tn1qjff40000gn/T/ipykernel_1202/1482100882.py:4: UserWarning: Boolean Series key will be reindexed to match DataFrame index.\n",
      "  orders_in_interval = trips[(trips['tpep_pickup_datetime'] >= time) & (df['tpep_pickup_datetime'] < next_time)]\n",
      "/var/folders/0x/k389_vt16p1gjts_tn1qjff40000gn/T/ipykernel_1202/1482100882.py:4: UserWarning: Boolean Series key will be reindexed to match DataFrame index.\n",
      "  orders_in_interval = trips[(trips['tpep_pickup_datetime'] >= time) & (df['tpep_pickup_datetime'] < next_time)]\n",
      "/var/folders/0x/k389_vt16p1gjts_tn1qjff40000gn/T/ipykernel_1202/1482100882.py:4: UserWarning: Boolean Series key will be reindexed to match DataFrame index.\n",
      "  orders_in_interval = trips[(trips['tpep_pickup_datetime'] >= time) & (df['tpep_pickup_datetime'] < next_time)]\n",
      "/var/folders/0x/k389_vt16p1gjts_tn1qjff40000gn/T/ipykernel_1202/1482100882.py:4: UserWarning: Boolean Series key will be reindexed to match DataFrame index.\n",
      "  orders_in_interval = trips[(trips['tpep_pickup_datetime'] >= time) & (df['tpep_pickup_datetime'] < next_time)]\n",
      "/var/folders/0x/k389_vt16p1gjts_tn1qjff40000gn/T/ipykernel_1202/1482100882.py:4: UserWarning: Boolean Series key will be reindexed to match DataFrame index.\n",
      "  orders_in_interval = trips[(trips['tpep_pickup_datetime'] >= time) & (df['tpep_pickup_datetime'] < next_time)]\n",
      "/var/folders/0x/k389_vt16p1gjts_tn1qjff40000gn/T/ipykernel_1202/1482100882.py:4: UserWarning: Boolean Series key will be reindexed to match DataFrame index.\n",
      "  orders_in_interval = trips[(trips['tpep_pickup_datetime'] >= time) & (df['tpep_pickup_datetime'] < next_time)]\n",
      "/var/folders/0x/k389_vt16p1gjts_tn1qjff40000gn/T/ipykernel_1202/1482100882.py:4: UserWarning: Boolean Series key will be reindexed to match DataFrame index.\n",
      "  orders_in_interval = trips[(trips['tpep_pickup_datetime'] >= time) & (df['tpep_pickup_datetime'] < next_time)]\n",
      "/var/folders/0x/k389_vt16p1gjts_tn1qjff40000gn/T/ipykernel_1202/1482100882.py:4: UserWarning: Boolean Series key will be reindexed to match DataFrame index.\n",
      "  orders_in_interval = trips[(trips['tpep_pickup_datetime'] >= time) & (df['tpep_pickup_datetime'] < next_time)]\n"
     ]
    },
    {
     "name": "stdout",
     "output_type": "stream",
     "text": [
      "270done\n"
     ]
    },
    {
     "name": "stderr",
     "output_type": "stream",
     "text": [
      "/var/folders/0x/k389_vt16p1gjts_tn1qjff40000gn/T/ipykernel_1202/1482100882.py:4: UserWarning: Boolean Series key will be reindexed to match DataFrame index.\n",
      "  orders_in_interval = trips[(trips['tpep_pickup_datetime'] >= time) & (df['tpep_pickup_datetime'] < next_time)]\n",
      "/var/folders/0x/k389_vt16p1gjts_tn1qjff40000gn/T/ipykernel_1202/1482100882.py:4: UserWarning: Boolean Series key will be reindexed to match DataFrame index.\n",
      "  orders_in_interval = trips[(trips['tpep_pickup_datetime'] >= time) & (df['tpep_pickup_datetime'] < next_time)]\n",
      "/var/folders/0x/k389_vt16p1gjts_tn1qjff40000gn/T/ipykernel_1202/1482100882.py:4: UserWarning: Boolean Series key will be reindexed to match DataFrame index.\n",
      "  orders_in_interval = trips[(trips['tpep_pickup_datetime'] >= time) & (df['tpep_pickup_datetime'] < next_time)]\n",
      "/var/folders/0x/k389_vt16p1gjts_tn1qjff40000gn/T/ipykernel_1202/1482100882.py:4: UserWarning: Boolean Series key will be reindexed to match DataFrame index.\n",
      "  orders_in_interval = trips[(trips['tpep_pickup_datetime'] >= time) & (df['tpep_pickup_datetime'] < next_time)]\n",
      "/var/folders/0x/k389_vt16p1gjts_tn1qjff40000gn/T/ipykernel_1202/1482100882.py:4: UserWarning: Boolean Series key will be reindexed to match DataFrame index.\n",
      "  orders_in_interval = trips[(trips['tpep_pickup_datetime'] >= time) & (df['tpep_pickup_datetime'] < next_time)]\n",
      "/var/folders/0x/k389_vt16p1gjts_tn1qjff40000gn/T/ipykernel_1202/1482100882.py:4: UserWarning: Boolean Series key will be reindexed to match DataFrame index.\n",
      "  orders_in_interval = trips[(trips['tpep_pickup_datetime'] >= time) & (df['tpep_pickup_datetime'] < next_time)]\n",
      "/var/folders/0x/k389_vt16p1gjts_tn1qjff40000gn/T/ipykernel_1202/1482100882.py:4: UserWarning: Boolean Series key will be reindexed to match DataFrame index.\n",
      "  orders_in_interval = trips[(trips['tpep_pickup_datetime'] >= time) & (df['tpep_pickup_datetime'] < next_time)]\n",
      "/var/folders/0x/k389_vt16p1gjts_tn1qjff40000gn/T/ipykernel_1202/1482100882.py:4: UserWarning: Boolean Series key will be reindexed to match DataFrame index.\n",
      "  orders_in_interval = trips[(trips['tpep_pickup_datetime'] >= time) & (df['tpep_pickup_datetime'] < next_time)]\n",
      "/var/folders/0x/k389_vt16p1gjts_tn1qjff40000gn/T/ipykernel_1202/1482100882.py:4: UserWarning: Boolean Series key will be reindexed to match DataFrame index.\n",
      "  orders_in_interval = trips[(trips['tpep_pickup_datetime'] >= time) & (df['tpep_pickup_datetime'] < next_time)]\n",
      "/var/folders/0x/k389_vt16p1gjts_tn1qjff40000gn/T/ipykernel_1202/1482100882.py:4: UserWarning: Boolean Series key will be reindexed to match DataFrame index.\n",
      "  orders_in_interval = trips[(trips['tpep_pickup_datetime'] >= time) & (df['tpep_pickup_datetime'] < next_time)]\n"
     ]
    },
    {
     "name": "stdout",
     "output_type": "stream",
     "text": [
      "280done\n"
     ]
    },
    {
     "name": "stderr",
     "output_type": "stream",
     "text": [
      "/var/folders/0x/k389_vt16p1gjts_tn1qjff40000gn/T/ipykernel_1202/1482100882.py:4: UserWarning: Boolean Series key will be reindexed to match DataFrame index.\n",
      "  orders_in_interval = trips[(trips['tpep_pickup_datetime'] >= time) & (df['tpep_pickup_datetime'] < next_time)]\n",
      "/var/folders/0x/k389_vt16p1gjts_tn1qjff40000gn/T/ipykernel_1202/1482100882.py:4: UserWarning: Boolean Series key will be reindexed to match DataFrame index.\n",
      "  orders_in_interval = trips[(trips['tpep_pickup_datetime'] >= time) & (df['tpep_pickup_datetime'] < next_time)]\n",
      "/var/folders/0x/k389_vt16p1gjts_tn1qjff40000gn/T/ipykernel_1202/1482100882.py:4: UserWarning: Boolean Series key will be reindexed to match DataFrame index.\n",
      "  orders_in_interval = trips[(trips['tpep_pickup_datetime'] >= time) & (df['tpep_pickup_datetime'] < next_time)]\n",
      "/var/folders/0x/k389_vt16p1gjts_tn1qjff40000gn/T/ipykernel_1202/1482100882.py:4: UserWarning: Boolean Series key will be reindexed to match DataFrame index.\n",
      "  orders_in_interval = trips[(trips['tpep_pickup_datetime'] >= time) & (df['tpep_pickup_datetime'] < next_time)]\n",
      "/var/folders/0x/k389_vt16p1gjts_tn1qjff40000gn/T/ipykernel_1202/1482100882.py:4: UserWarning: Boolean Series key will be reindexed to match DataFrame index.\n",
      "  orders_in_interval = trips[(trips['tpep_pickup_datetime'] >= time) & (df['tpep_pickup_datetime'] < next_time)]\n",
      "/var/folders/0x/k389_vt16p1gjts_tn1qjff40000gn/T/ipykernel_1202/1482100882.py:4: UserWarning: Boolean Series key will be reindexed to match DataFrame index.\n",
      "  orders_in_interval = trips[(trips['tpep_pickup_datetime'] >= time) & (df['tpep_pickup_datetime'] < next_time)]\n",
      "/var/folders/0x/k389_vt16p1gjts_tn1qjff40000gn/T/ipykernel_1202/1482100882.py:4: UserWarning: Boolean Series key will be reindexed to match DataFrame index.\n",
      "  orders_in_interval = trips[(trips['tpep_pickup_datetime'] >= time) & (df['tpep_pickup_datetime'] < next_time)]\n",
      "/var/folders/0x/k389_vt16p1gjts_tn1qjff40000gn/T/ipykernel_1202/1482100882.py:4: UserWarning: Boolean Series key will be reindexed to match DataFrame index.\n",
      "  orders_in_interval = trips[(trips['tpep_pickup_datetime'] >= time) & (df['tpep_pickup_datetime'] < next_time)]\n",
      "/var/folders/0x/k389_vt16p1gjts_tn1qjff40000gn/T/ipykernel_1202/1482100882.py:4: UserWarning: Boolean Series key will be reindexed to match DataFrame index.\n",
      "  orders_in_interval = trips[(trips['tpep_pickup_datetime'] >= time) & (df['tpep_pickup_datetime'] < next_time)]\n",
      "/var/folders/0x/k389_vt16p1gjts_tn1qjff40000gn/T/ipykernel_1202/1482100882.py:4: UserWarning: Boolean Series key will be reindexed to match DataFrame index.\n",
      "  orders_in_interval = trips[(trips['tpep_pickup_datetime'] >= time) & (df['tpep_pickup_datetime'] < next_time)]\n"
     ]
    },
    {
     "name": "stdout",
     "output_type": "stream",
     "text": [
      "290done\n"
     ]
    },
    {
     "name": "stderr",
     "output_type": "stream",
     "text": [
      "/var/folders/0x/k389_vt16p1gjts_tn1qjff40000gn/T/ipykernel_1202/1482100882.py:4: UserWarning: Boolean Series key will be reindexed to match DataFrame index.\n",
      "  orders_in_interval = trips[(trips['tpep_pickup_datetime'] >= time) & (df['tpep_pickup_datetime'] < next_time)]\n",
      "/var/folders/0x/k389_vt16p1gjts_tn1qjff40000gn/T/ipykernel_1202/1482100882.py:4: UserWarning: Boolean Series key will be reindexed to match DataFrame index.\n",
      "  orders_in_interval = trips[(trips['tpep_pickup_datetime'] >= time) & (df['tpep_pickup_datetime'] < next_time)]\n",
      "/var/folders/0x/k389_vt16p1gjts_tn1qjff40000gn/T/ipykernel_1202/1482100882.py:4: UserWarning: Boolean Series key will be reindexed to match DataFrame index.\n",
      "  orders_in_interval = trips[(trips['tpep_pickup_datetime'] >= time) & (df['tpep_pickup_datetime'] < next_time)]\n",
      "/var/folders/0x/k389_vt16p1gjts_tn1qjff40000gn/T/ipykernel_1202/1482100882.py:4: UserWarning: Boolean Series key will be reindexed to match DataFrame index.\n",
      "  orders_in_interval = trips[(trips['tpep_pickup_datetime'] >= time) & (df['tpep_pickup_datetime'] < next_time)]\n",
      "/var/folders/0x/k389_vt16p1gjts_tn1qjff40000gn/T/ipykernel_1202/1482100882.py:4: UserWarning: Boolean Series key will be reindexed to match DataFrame index.\n",
      "  orders_in_interval = trips[(trips['tpep_pickup_datetime'] >= time) & (df['tpep_pickup_datetime'] < next_time)]\n",
      "/var/folders/0x/k389_vt16p1gjts_tn1qjff40000gn/T/ipykernel_1202/1482100882.py:4: UserWarning: Boolean Series key will be reindexed to match DataFrame index.\n",
      "  orders_in_interval = trips[(trips['tpep_pickup_datetime'] >= time) & (df['tpep_pickup_datetime'] < next_time)]\n",
      "/var/folders/0x/k389_vt16p1gjts_tn1qjff40000gn/T/ipykernel_1202/1482100882.py:4: UserWarning: Boolean Series key will be reindexed to match DataFrame index.\n",
      "  orders_in_interval = trips[(trips['tpep_pickup_datetime'] >= time) & (df['tpep_pickup_datetime'] < next_time)]\n",
      "/var/folders/0x/k389_vt16p1gjts_tn1qjff40000gn/T/ipykernel_1202/1482100882.py:4: UserWarning: Boolean Series key will be reindexed to match DataFrame index.\n",
      "  orders_in_interval = trips[(trips['tpep_pickup_datetime'] >= time) & (df['tpep_pickup_datetime'] < next_time)]\n",
      "/var/folders/0x/k389_vt16p1gjts_tn1qjff40000gn/T/ipykernel_1202/1482100882.py:4: UserWarning: Boolean Series key will be reindexed to match DataFrame index.\n",
      "  orders_in_interval = trips[(trips['tpep_pickup_datetime'] >= time) & (df['tpep_pickup_datetime'] < next_time)]\n",
      "/var/folders/0x/k389_vt16p1gjts_tn1qjff40000gn/T/ipykernel_1202/1482100882.py:4: UserWarning: Boolean Series key will be reindexed to match DataFrame index.\n",
      "  orders_in_interval = trips[(trips['tpep_pickup_datetime'] >= time) & (df['tpep_pickup_datetime'] < next_time)]\n"
     ]
    },
    {
     "name": "stdout",
     "output_type": "stream",
     "text": [
      "300done\n"
     ]
    },
    {
     "name": "stderr",
     "output_type": "stream",
     "text": [
      "/var/folders/0x/k389_vt16p1gjts_tn1qjff40000gn/T/ipykernel_1202/1482100882.py:4: UserWarning: Boolean Series key will be reindexed to match DataFrame index.\n",
      "  orders_in_interval = trips[(trips['tpep_pickup_datetime'] >= time) & (df['tpep_pickup_datetime'] < next_time)]\n",
      "/var/folders/0x/k389_vt16p1gjts_tn1qjff40000gn/T/ipykernel_1202/1482100882.py:4: UserWarning: Boolean Series key will be reindexed to match DataFrame index.\n",
      "  orders_in_interval = trips[(trips['tpep_pickup_datetime'] >= time) & (df['tpep_pickup_datetime'] < next_time)]\n",
      "/var/folders/0x/k389_vt16p1gjts_tn1qjff40000gn/T/ipykernel_1202/1482100882.py:4: UserWarning: Boolean Series key will be reindexed to match DataFrame index.\n",
      "  orders_in_interval = trips[(trips['tpep_pickup_datetime'] >= time) & (df['tpep_pickup_datetime'] < next_time)]\n",
      "/var/folders/0x/k389_vt16p1gjts_tn1qjff40000gn/T/ipykernel_1202/1482100882.py:4: UserWarning: Boolean Series key will be reindexed to match DataFrame index.\n",
      "  orders_in_interval = trips[(trips['tpep_pickup_datetime'] >= time) & (df['tpep_pickup_datetime'] < next_time)]\n",
      "/var/folders/0x/k389_vt16p1gjts_tn1qjff40000gn/T/ipykernel_1202/1482100882.py:4: UserWarning: Boolean Series key will be reindexed to match DataFrame index.\n",
      "  orders_in_interval = trips[(trips['tpep_pickup_datetime'] >= time) & (df['tpep_pickup_datetime'] < next_time)]\n",
      "/var/folders/0x/k389_vt16p1gjts_tn1qjff40000gn/T/ipykernel_1202/1482100882.py:4: UserWarning: Boolean Series key will be reindexed to match DataFrame index.\n",
      "  orders_in_interval = trips[(trips['tpep_pickup_datetime'] >= time) & (df['tpep_pickup_datetime'] < next_time)]\n",
      "/var/folders/0x/k389_vt16p1gjts_tn1qjff40000gn/T/ipykernel_1202/1482100882.py:4: UserWarning: Boolean Series key will be reindexed to match DataFrame index.\n",
      "  orders_in_interval = trips[(trips['tpep_pickup_datetime'] >= time) & (df['tpep_pickup_datetime'] < next_time)]\n",
      "/var/folders/0x/k389_vt16p1gjts_tn1qjff40000gn/T/ipykernel_1202/1482100882.py:4: UserWarning: Boolean Series key will be reindexed to match DataFrame index.\n",
      "  orders_in_interval = trips[(trips['tpep_pickup_datetime'] >= time) & (df['tpep_pickup_datetime'] < next_time)]\n",
      "/var/folders/0x/k389_vt16p1gjts_tn1qjff40000gn/T/ipykernel_1202/1482100882.py:4: UserWarning: Boolean Series key will be reindexed to match DataFrame index.\n",
      "  orders_in_interval = trips[(trips['tpep_pickup_datetime'] >= time) & (df['tpep_pickup_datetime'] < next_time)]\n",
      "/var/folders/0x/k389_vt16p1gjts_tn1qjff40000gn/T/ipykernel_1202/1482100882.py:4: UserWarning: Boolean Series key will be reindexed to match DataFrame index.\n",
      "  orders_in_interval = trips[(trips['tpep_pickup_datetime'] >= time) & (df['tpep_pickup_datetime'] < next_time)]\n"
     ]
    },
    {
     "name": "stdout",
     "output_type": "stream",
     "text": [
      "310done\n"
     ]
    },
    {
     "name": "stderr",
     "output_type": "stream",
     "text": [
      "/var/folders/0x/k389_vt16p1gjts_tn1qjff40000gn/T/ipykernel_1202/1482100882.py:4: UserWarning: Boolean Series key will be reindexed to match DataFrame index.\n",
      "  orders_in_interval = trips[(trips['tpep_pickup_datetime'] >= time) & (df['tpep_pickup_datetime'] < next_time)]\n",
      "/var/folders/0x/k389_vt16p1gjts_tn1qjff40000gn/T/ipykernel_1202/1482100882.py:4: UserWarning: Boolean Series key will be reindexed to match DataFrame index.\n",
      "  orders_in_interval = trips[(trips['tpep_pickup_datetime'] >= time) & (df['tpep_pickup_datetime'] < next_time)]\n",
      "/var/folders/0x/k389_vt16p1gjts_tn1qjff40000gn/T/ipykernel_1202/1482100882.py:4: UserWarning: Boolean Series key will be reindexed to match DataFrame index.\n",
      "  orders_in_interval = trips[(trips['tpep_pickup_datetime'] >= time) & (df['tpep_pickup_datetime'] < next_time)]\n",
      "/var/folders/0x/k389_vt16p1gjts_tn1qjff40000gn/T/ipykernel_1202/1482100882.py:4: UserWarning: Boolean Series key will be reindexed to match DataFrame index.\n",
      "  orders_in_interval = trips[(trips['tpep_pickup_datetime'] >= time) & (df['tpep_pickup_datetime'] < next_time)]\n",
      "/var/folders/0x/k389_vt16p1gjts_tn1qjff40000gn/T/ipykernel_1202/1482100882.py:4: UserWarning: Boolean Series key will be reindexed to match DataFrame index.\n",
      "  orders_in_interval = trips[(trips['tpep_pickup_datetime'] >= time) & (df['tpep_pickup_datetime'] < next_time)]\n",
      "/var/folders/0x/k389_vt16p1gjts_tn1qjff40000gn/T/ipykernel_1202/1482100882.py:4: UserWarning: Boolean Series key will be reindexed to match DataFrame index.\n",
      "  orders_in_interval = trips[(trips['tpep_pickup_datetime'] >= time) & (df['tpep_pickup_datetime'] < next_time)]\n",
      "/var/folders/0x/k389_vt16p1gjts_tn1qjff40000gn/T/ipykernel_1202/1482100882.py:4: UserWarning: Boolean Series key will be reindexed to match DataFrame index.\n",
      "  orders_in_interval = trips[(trips['tpep_pickup_datetime'] >= time) & (df['tpep_pickup_datetime'] < next_time)]\n",
      "/var/folders/0x/k389_vt16p1gjts_tn1qjff40000gn/T/ipykernel_1202/1482100882.py:4: UserWarning: Boolean Series key will be reindexed to match DataFrame index.\n",
      "  orders_in_interval = trips[(trips['tpep_pickup_datetime'] >= time) & (df['tpep_pickup_datetime'] < next_time)]\n",
      "/var/folders/0x/k389_vt16p1gjts_tn1qjff40000gn/T/ipykernel_1202/1482100882.py:4: UserWarning: Boolean Series key will be reindexed to match DataFrame index.\n",
      "  orders_in_interval = trips[(trips['tpep_pickup_datetime'] >= time) & (df['tpep_pickup_datetime'] < next_time)]\n",
      "/var/folders/0x/k389_vt16p1gjts_tn1qjff40000gn/T/ipykernel_1202/1482100882.py:4: UserWarning: Boolean Series key will be reindexed to match DataFrame index.\n",
      "  orders_in_interval = trips[(trips['tpep_pickup_datetime'] >= time) & (df['tpep_pickup_datetime'] < next_time)]\n"
     ]
    },
    {
     "name": "stdout",
     "output_type": "stream",
     "text": [
      "320done\n"
     ]
    },
    {
     "name": "stderr",
     "output_type": "stream",
     "text": [
      "/var/folders/0x/k389_vt16p1gjts_tn1qjff40000gn/T/ipykernel_1202/1482100882.py:4: UserWarning: Boolean Series key will be reindexed to match DataFrame index.\n",
      "  orders_in_interval = trips[(trips['tpep_pickup_datetime'] >= time) & (df['tpep_pickup_datetime'] < next_time)]\n",
      "/var/folders/0x/k389_vt16p1gjts_tn1qjff40000gn/T/ipykernel_1202/1482100882.py:4: UserWarning: Boolean Series key will be reindexed to match DataFrame index.\n",
      "  orders_in_interval = trips[(trips['tpep_pickup_datetime'] >= time) & (df['tpep_pickup_datetime'] < next_time)]\n",
      "/var/folders/0x/k389_vt16p1gjts_tn1qjff40000gn/T/ipykernel_1202/1482100882.py:4: UserWarning: Boolean Series key will be reindexed to match DataFrame index.\n",
      "  orders_in_interval = trips[(trips['tpep_pickup_datetime'] >= time) & (df['tpep_pickup_datetime'] < next_time)]\n",
      "/var/folders/0x/k389_vt16p1gjts_tn1qjff40000gn/T/ipykernel_1202/1482100882.py:4: UserWarning: Boolean Series key will be reindexed to match DataFrame index.\n",
      "  orders_in_interval = trips[(trips['tpep_pickup_datetime'] >= time) & (df['tpep_pickup_datetime'] < next_time)]\n",
      "/var/folders/0x/k389_vt16p1gjts_tn1qjff40000gn/T/ipykernel_1202/1482100882.py:4: UserWarning: Boolean Series key will be reindexed to match DataFrame index.\n",
      "  orders_in_interval = trips[(trips['tpep_pickup_datetime'] >= time) & (df['tpep_pickup_datetime'] < next_time)]\n",
      "/var/folders/0x/k389_vt16p1gjts_tn1qjff40000gn/T/ipykernel_1202/1482100882.py:4: UserWarning: Boolean Series key will be reindexed to match DataFrame index.\n",
      "  orders_in_interval = trips[(trips['tpep_pickup_datetime'] >= time) & (df['tpep_pickup_datetime'] < next_time)]\n",
      "/var/folders/0x/k389_vt16p1gjts_tn1qjff40000gn/T/ipykernel_1202/1482100882.py:4: UserWarning: Boolean Series key will be reindexed to match DataFrame index.\n",
      "  orders_in_interval = trips[(trips['tpep_pickup_datetime'] >= time) & (df['tpep_pickup_datetime'] < next_time)]\n",
      "/var/folders/0x/k389_vt16p1gjts_tn1qjff40000gn/T/ipykernel_1202/1482100882.py:4: UserWarning: Boolean Series key will be reindexed to match DataFrame index.\n",
      "  orders_in_interval = trips[(trips['tpep_pickup_datetime'] >= time) & (df['tpep_pickup_datetime'] < next_time)]\n",
      "/var/folders/0x/k389_vt16p1gjts_tn1qjff40000gn/T/ipykernel_1202/1482100882.py:4: UserWarning: Boolean Series key will be reindexed to match DataFrame index.\n",
      "  orders_in_interval = trips[(trips['tpep_pickup_datetime'] >= time) & (df['tpep_pickup_datetime'] < next_time)]\n",
      "/var/folders/0x/k389_vt16p1gjts_tn1qjff40000gn/T/ipykernel_1202/1482100882.py:4: UserWarning: Boolean Series key will be reindexed to match DataFrame index.\n",
      "  orders_in_interval = trips[(trips['tpep_pickup_datetime'] >= time) & (df['tpep_pickup_datetime'] < next_time)]\n"
     ]
    },
    {
     "name": "stdout",
     "output_type": "stream",
     "text": [
      "330done\n"
     ]
    },
    {
     "name": "stderr",
     "output_type": "stream",
     "text": [
      "/var/folders/0x/k389_vt16p1gjts_tn1qjff40000gn/T/ipykernel_1202/1482100882.py:4: UserWarning: Boolean Series key will be reindexed to match DataFrame index.\n",
      "  orders_in_interval = trips[(trips['tpep_pickup_datetime'] >= time) & (df['tpep_pickup_datetime'] < next_time)]\n",
      "/var/folders/0x/k389_vt16p1gjts_tn1qjff40000gn/T/ipykernel_1202/1482100882.py:4: UserWarning: Boolean Series key will be reindexed to match DataFrame index.\n",
      "  orders_in_interval = trips[(trips['tpep_pickup_datetime'] >= time) & (df['tpep_pickup_datetime'] < next_time)]\n",
      "/var/folders/0x/k389_vt16p1gjts_tn1qjff40000gn/T/ipykernel_1202/1482100882.py:4: UserWarning: Boolean Series key will be reindexed to match DataFrame index.\n",
      "  orders_in_interval = trips[(trips['tpep_pickup_datetime'] >= time) & (df['tpep_pickup_datetime'] < next_time)]\n",
      "/var/folders/0x/k389_vt16p1gjts_tn1qjff40000gn/T/ipykernel_1202/1482100882.py:4: UserWarning: Boolean Series key will be reindexed to match DataFrame index.\n",
      "  orders_in_interval = trips[(trips['tpep_pickup_datetime'] >= time) & (df['tpep_pickup_datetime'] < next_time)]\n",
      "/var/folders/0x/k389_vt16p1gjts_tn1qjff40000gn/T/ipykernel_1202/1482100882.py:4: UserWarning: Boolean Series key will be reindexed to match DataFrame index.\n",
      "  orders_in_interval = trips[(trips['tpep_pickup_datetime'] >= time) & (df['tpep_pickup_datetime'] < next_time)]\n",
      "/var/folders/0x/k389_vt16p1gjts_tn1qjff40000gn/T/ipykernel_1202/1482100882.py:4: UserWarning: Boolean Series key will be reindexed to match DataFrame index.\n",
      "  orders_in_interval = trips[(trips['tpep_pickup_datetime'] >= time) & (df['tpep_pickup_datetime'] < next_time)]\n",
      "/var/folders/0x/k389_vt16p1gjts_tn1qjff40000gn/T/ipykernel_1202/1482100882.py:4: UserWarning: Boolean Series key will be reindexed to match DataFrame index.\n",
      "  orders_in_interval = trips[(trips['tpep_pickup_datetime'] >= time) & (df['tpep_pickup_datetime'] < next_time)]\n",
      "/var/folders/0x/k389_vt16p1gjts_tn1qjff40000gn/T/ipykernel_1202/1482100882.py:4: UserWarning: Boolean Series key will be reindexed to match DataFrame index.\n",
      "  orders_in_interval = trips[(trips['tpep_pickup_datetime'] >= time) & (df['tpep_pickup_datetime'] < next_time)]\n",
      "/var/folders/0x/k389_vt16p1gjts_tn1qjff40000gn/T/ipykernel_1202/1482100882.py:4: UserWarning: Boolean Series key will be reindexed to match DataFrame index.\n",
      "  orders_in_interval = trips[(trips['tpep_pickup_datetime'] >= time) & (df['tpep_pickup_datetime'] < next_time)]\n",
      "/var/folders/0x/k389_vt16p1gjts_tn1qjff40000gn/T/ipykernel_1202/1482100882.py:4: UserWarning: Boolean Series key will be reindexed to match DataFrame index.\n",
      "  orders_in_interval = trips[(trips['tpep_pickup_datetime'] >= time) & (df['tpep_pickup_datetime'] < next_time)]\n"
     ]
    },
    {
     "name": "stdout",
     "output_type": "stream",
     "text": [
      "340done\n"
     ]
    },
    {
     "name": "stderr",
     "output_type": "stream",
     "text": [
      "/var/folders/0x/k389_vt16p1gjts_tn1qjff40000gn/T/ipykernel_1202/1482100882.py:4: UserWarning: Boolean Series key will be reindexed to match DataFrame index.\n",
      "  orders_in_interval = trips[(trips['tpep_pickup_datetime'] >= time) & (df['tpep_pickup_datetime'] < next_time)]\n",
      "/var/folders/0x/k389_vt16p1gjts_tn1qjff40000gn/T/ipykernel_1202/1482100882.py:4: UserWarning: Boolean Series key will be reindexed to match DataFrame index.\n",
      "  orders_in_interval = trips[(trips['tpep_pickup_datetime'] >= time) & (df['tpep_pickup_datetime'] < next_time)]\n",
      "/var/folders/0x/k389_vt16p1gjts_tn1qjff40000gn/T/ipykernel_1202/1482100882.py:4: UserWarning: Boolean Series key will be reindexed to match DataFrame index.\n",
      "  orders_in_interval = trips[(trips['tpep_pickup_datetime'] >= time) & (df['tpep_pickup_datetime'] < next_time)]\n",
      "/var/folders/0x/k389_vt16p1gjts_tn1qjff40000gn/T/ipykernel_1202/1482100882.py:4: UserWarning: Boolean Series key will be reindexed to match DataFrame index.\n",
      "  orders_in_interval = trips[(trips['tpep_pickup_datetime'] >= time) & (df['tpep_pickup_datetime'] < next_time)]\n",
      "/var/folders/0x/k389_vt16p1gjts_tn1qjff40000gn/T/ipykernel_1202/1482100882.py:4: UserWarning: Boolean Series key will be reindexed to match DataFrame index.\n",
      "  orders_in_interval = trips[(trips['tpep_pickup_datetime'] >= time) & (df['tpep_pickup_datetime'] < next_time)]\n",
      "/var/folders/0x/k389_vt16p1gjts_tn1qjff40000gn/T/ipykernel_1202/1482100882.py:4: UserWarning: Boolean Series key will be reindexed to match DataFrame index.\n",
      "  orders_in_interval = trips[(trips['tpep_pickup_datetime'] >= time) & (df['tpep_pickup_datetime'] < next_time)]\n",
      "/var/folders/0x/k389_vt16p1gjts_tn1qjff40000gn/T/ipykernel_1202/1482100882.py:4: UserWarning: Boolean Series key will be reindexed to match DataFrame index.\n",
      "  orders_in_interval = trips[(trips['tpep_pickup_datetime'] >= time) & (df['tpep_pickup_datetime'] < next_time)]\n",
      "/var/folders/0x/k389_vt16p1gjts_tn1qjff40000gn/T/ipykernel_1202/1482100882.py:4: UserWarning: Boolean Series key will be reindexed to match DataFrame index.\n",
      "  orders_in_interval = trips[(trips['tpep_pickup_datetime'] >= time) & (df['tpep_pickup_datetime'] < next_time)]\n",
      "/var/folders/0x/k389_vt16p1gjts_tn1qjff40000gn/T/ipykernel_1202/1482100882.py:4: UserWarning: Boolean Series key will be reindexed to match DataFrame index.\n",
      "  orders_in_interval = trips[(trips['tpep_pickup_datetime'] >= time) & (df['tpep_pickup_datetime'] < next_time)]\n",
      "/var/folders/0x/k389_vt16p1gjts_tn1qjff40000gn/T/ipykernel_1202/1482100882.py:4: UserWarning: Boolean Series key will be reindexed to match DataFrame index.\n",
      "  orders_in_interval = trips[(trips['tpep_pickup_datetime'] >= time) & (df['tpep_pickup_datetime'] < next_time)]\n"
     ]
    },
    {
     "name": "stdout",
     "output_type": "stream",
     "text": [
      "350done\n"
     ]
    },
    {
     "name": "stderr",
     "output_type": "stream",
     "text": [
      "/var/folders/0x/k389_vt16p1gjts_tn1qjff40000gn/T/ipykernel_1202/1482100882.py:4: UserWarning: Boolean Series key will be reindexed to match DataFrame index.\n",
      "  orders_in_interval = trips[(trips['tpep_pickup_datetime'] >= time) & (df['tpep_pickup_datetime'] < next_time)]\n",
      "/var/folders/0x/k389_vt16p1gjts_tn1qjff40000gn/T/ipykernel_1202/1482100882.py:4: UserWarning: Boolean Series key will be reindexed to match DataFrame index.\n",
      "  orders_in_interval = trips[(trips['tpep_pickup_datetime'] >= time) & (df['tpep_pickup_datetime'] < next_time)]\n",
      "/var/folders/0x/k389_vt16p1gjts_tn1qjff40000gn/T/ipykernel_1202/1482100882.py:4: UserWarning: Boolean Series key will be reindexed to match DataFrame index.\n",
      "  orders_in_interval = trips[(trips['tpep_pickup_datetime'] >= time) & (df['tpep_pickup_datetime'] < next_time)]\n",
      "/var/folders/0x/k389_vt16p1gjts_tn1qjff40000gn/T/ipykernel_1202/1482100882.py:4: UserWarning: Boolean Series key will be reindexed to match DataFrame index.\n",
      "  orders_in_interval = trips[(trips['tpep_pickup_datetime'] >= time) & (df['tpep_pickup_datetime'] < next_time)]\n",
      "/var/folders/0x/k389_vt16p1gjts_tn1qjff40000gn/T/ipykernel_1202/1482100882.py:4: UserWarning: Boolean Series key will be reindexed to match DataFrame index.\n",
      "  orders_in_interval = trips[(trips['tpep_pickup_datetime'] >= time) & (df['tpep_pickup_datetime'] < next_time)]\n",
      "/var/folders/0x/k389_vt16p1gjts_tn1qjff40000gn/T/ipykernel_1202/1482100882.py:4: UserWarning: Boolean Series key will be reindexed to match DataFrame index.\n",
      "  orders_in_interval = trips[(trips['tpep_pickup_datetime'] >= time) & (df['tpep_pickup_datetime'] < next_time)]\n",
      "/var/folders/0x/k389_vt16p1gjts_tn1qjff40000gn/T/ipykernel_1202/1482100882.py:4: UserWarning: Boolean Series key will be reindexed to match DataFrame index.\n",
      "  orders_in_interval = trips[(trips['tpep_pickup_datetime'] >= time) & (df['tpep_pickup_datetime'] < next_time)]\n",
      "/var/folders/0x/k389_vt16p1gjts_tn1qjff40000gn/T/ipykernel_1202/1482100882.py:4: UserWarning: Boolean Series key will be reindexed to match DataFrame index.\n",
      "  orders_in_interval = trips[(trips['tpep_pickup_datetime'] >= time) & (df['tpep_pickup_datetime'] < next_time)]\n",
      "/var/folders/0x/k389_vt16p1gjts_tn1qjff40000gn/T/ipykernel_1202/1482100882.py:4: UserWarning: Boolean Series key will be reindexed to match DataFrame index.\n",
      "  orders_in_interval = trips[(trips['tpep_pickup_datetime'] >= time) & (df['tpep_pickup_datetime'] < next_time)]\n",
      "/var/folders/0x/k389_vt16p1gjts_tn1qjff40000gn/T/ipykernel_1202/1482100882.py:4: UserWarning: Boolean Series key will be reindexed to match DataFrame index.\n",
      "  orders_in_interval = trips[(trips['tpep_pickup_datetime'] >= time) & (df['tpep_pickup_datetime'] < next_time)]\n"
     ]
    },
    {
     "name": "stdout",
     "output_type": "stream",
     "text": [
      "360done\n"
     ]
    },
    {
     "name": "stderr",
     "output_type": "stream",
     "text": [
      "/var/folders/0x/k389_vt16p1gjts_tn1qjff40000gn/T/ipykernel_1202/1482100882.py:4: UserWarning: Boolean Series key will be reindexed to match DataFrame index.\n",
      "  orders_in_interval = trips[(trips['tpep_pickup_datetime'] >= time) & (df['tpep_pickup_datetime'] < next_time)]\n",
      "/var/folders/0x/k389_vt16p1gjts_tn1qjff40000gn/T/ipykernel_1202/1482100882.py:4: UserWarning: Boolean Series key will be reindexed to match DataFrame index.\n",
      "  orders_in_interval = trips[(trips['tpep_pickup_datetime'] >= time) & (df['tpep_pickup_datetime'] < next_time)]\n",
      "/var/folders/0x/k389_vt16p1gjts_tn1qjff40000gn/T/ipykernel_1202/1482100882.py:4: UserWarning: Boolean Series key will be reindexed to match DataFrame index.\n",
      "  orders_in_interval = trips[(trips['tpep_pickup_datetime'] >= time) & (df['tpep_pickup_datetime'] < next_time)]\n",
      "/var/folders/0x/k389_vt16p1gjts_tn1qjff40000gn/T/ipykernel_1202/1482100882.py:4: UserWarning: Boolean Series key will be reindexed to match DataFrame index.\n",
      "  orders_in_interval = trips[(trips['tpep_pickup_datetime'] >= time) & (df['tpep_pickup_datetime'] < next_time)]\n",
      "/var/folders/0x/k389_vt16p1gjts_tn1qjff40000gn/T/ipykernel_1202/1482100882.py:4: UserWarning: Boolean Series key will be reindexed to match DataFrame index.\n",
      "  orders_in_interval = trips[(trips['tpep_pickup_datetime'] >= time) & (df['tpep_pickup_datetime'] < next_time)]\n",
      "/var/folders/0x/k389_vt16p1gjts_tn1qjff40000gn/T/ipykernel_1202/1482100882.py:4: UserWarning: Boolean Series key will be reindexed to match DataFrame index.\n",
      "  orders_in_interval = trips[(trips['tpep_pickup_datetime'] >= time) & (df['tpep_pickup_datetime'] < next_time)]\n",
      "/var/folders/0x/k389_vt16p1gjts_tn1qjff40000gn/T/ipykernel_1202/1482100882.py:4: UserWarning: Boolean Series key will be reindexed to match DataFrame index.\n",
      "  orders_in_interval = trips[(trips['tpep_pickup_datetime'] >= time) & (df['tpep_pickup_datetime'] < next_time)]\n",
      "/var/folders/0x/k389_vt16p1gjts_tn1qjff40000gn/T/ipykernel_1202/1482100882.py:4: UserWarning: Boolean Series key will be reindexed to match DataFrame index.\n",
      "  orders_in_interval = trips[(trips['tpep_pickup_datetime'] >= time) & (df['tpep_pickup_datetime'] < next_time)]\n",
      "/var/folders/0x/k389_vt16p1gjts_tn1qjff40000gn/T/ipykernel_1202/1482100882.py:4: UserWarning: Boolean Series key will be reindexed to match DataFrame index.\n",
      "  orders_in_interval = trips[(trips['tpep_pickup_datetime'] >= time) & (df['tpep_pickup_datetime'] < next_time)]\n",
      "/var/folders/0x/k389_vt16p1gjts_tn1qjff40000gn/T/ipykernel_1202/1482100882.py:4: UserWarning: Boolean Series key will be reindexed to match DataFrame index.\n",
      "  orders_in_interval = trips[(trips['tpep_pickup_datetime'] >= time) & (df['tpep_pickup_datetime'] < next_time)]\n"
     ]
    },
    {
     "name": "stdout",
     "output_type": "stream",
     "text": [
      "370done\n"
     ]
    },
    {
     "name": "stderr",
     "output_type": "stream",
     "text": [
      "/var/folders/0x/k389_vt16p1gjts_tn1qjff40000gn/T/ipykernel_1202/1482100882.py:4: UserWarning: Boolean Series key will be reindexed to match DataFrame index.\n",
      "  orders_in_interval = trips[(trips['tpep_pickup_datetime'] >= time) & (df['tpep_pickup_datetime'] < next_time)]\n",
      "/var/folders/0x/k389_vt16p1gjts_tn1qjff40000gn/T/ipykernel_1202/1482100882.py:4: UserWarning: Boolean Series key will be reindexed to match DataFrame index.\n",
      "  orders_in_interval = trips[(trips['tpep_pickup_datetime'] >= time) & (df['tpep_pickup_datetime'] < next_time)]\n",
      "/var/folders/0x/k389_vt16p1gjts_tn1qjff40000gn/T/ipykernel_1202/1482100882.py:4: UserWarning: Boolean Series key will be reindexed to match DataFrame index.\n",
      "  orders_in_interval = trips[(trips['tpep_pickup_datetime'] >= time) & (df['tpep_pickup_datetime'] < next_time)]\n",
      "/var/folders/0x/k389_vt16p1gjts_tn1qjff40000gn/T/ipykernel_1202/1482100882.py:4: UserWarning: Boolean Series key will be reindexed to match DataFrame index.\n",
      "  orders_in_interval = trips[(trips['tpep_pickup_datetime'] >= time) & (df['tpep_pickup_datetime'] < next_time)]\n",
      "/var/folders/0x/k389_vt16p1gjts_tn1qjff40000gn/T/ipykernel_1202/1482100882.py:4: UserWarning: Boolean Series key will be reindexed to match DataFrame index.\n",
      "  orders_in_interval = trips[(trips['tpep_pickup_datetime'] >= time) & (df['tpep_pickup_datetime'] < next_time)]\n",
      "/var/folders/0x/k389_vt16p1gjts_tn1qjff40000gn/T/ipykernel_1202/1482100882.py:4: UserWarning: Boolean Series key will be reindexed to match DataFrame index.\n",
      "  orders_in_interval = trips[(trips['tpep_pickup_datetime'] >= time) & (df['tpep_pickup_datetime'] < next_time)]\n",
      "/var/folders/0x/k389_vt16p1gjts_tn1qjff40000gn/T/ipykernel_1202/1482100882.py:4: UserWarning: Boolean Series key will be reindexed to match DataFrame index.\n",
      "  orders_in_interval = trips[(trips['tpep_pickup_datetime'] >= time) & (df['tpep_pickup_datetime'] < next_time)]\n",
      "/var/folders/0x/k389_vt16p1gjts_tn1qjff40000gn/T/ipykernel_1202/1482100882.py:4: UserWarning: Boolean Series key will be reindexed to match DataFrame index.\n",
      "  orders_in_interval = trips[(trips['tpep_pickup_datetime'] >= time) & (df['tpep_pickup_datetime'] < next_time)]\n",
      "/var/folders/0x/k389_vt16p1gjts_tn1qjff40000gn/T/ipykernel_1202/1482100882.py:4: UserWarning: Boolean Series key will be reindexed to match DataFrame index.\n",
      "  orders_in_interval = trips[(trips['tpep_pickup_datetime'] >= time) & (df['tpep_pickup_datetime'] < next_time)]\n",
      "/var/folders/0x/k389_vt16p1gjts_tn1qjff40000gn/T/ipykernel_1202/1482100882.py:4: UserWarning: Boolean Series key will be reindexed to match DataFrame index.\n",
      "  orders_in_interval = trips[(trips['tpep_pickup_datetime'] >= time) & (df['tpep_pickup_datetime'] < next_time)]\n"
     ]
    },
    {
     "name": "stdout",
     "output_type": "stream",
     "text": [
      "380done\n"
     ]
    },
    {
     "name": "stderr",
     "output_type": "stream",
     "text": [
      "/var/folders/0x/k389_vt16p1gjts_tn1qjff40000gn/T/ipykernel_1202/1482100882.py:4: UserWarning: Boolean Series key will be reindexed to match DataFrame index.\n",
      "  orders_in_interval = trips[(trips['tpep_pickup_datetime'] >= time) & (df['tpep_pickup_datetime'] < next_time)]\n",
      "/var/folders/0x/k389_vt16p1gjts_tn1qjff40000gn/T/ipykernel_1202/1482100882.py:4: UserWarning: Boolean Series key will be reindexed to match DataFrame index.\n",
      "  orders_in_interval = trips[(trips['tpep_pickup_datetime'] >= time) & (df['tpep_pickup_datetime'] < next_time)]\n",
      "/var/folders/0x/k389_vt16p1gjts_tn1qjff40000gn/T/ipykernel_1202/1482100882.py:4: UserWarning: Boolean Series key will be reindexed to match DataFrame index.\n",
      "  orders_in_interval = trips[(trips['tpep_pickup_datetime'] >= time) & (df['tpep_pickup_datetime'] < next_time)]\n",
      "/var/folders/0x/k389_vt16p1gjts_tn1qjff40000gn/T/ipykernel_1202/1482100882.py:4: UserWarning: Boolean Series key will be reindexed to match DataFrame index.\n",
      "  orders_in_interval = trips[(trips['tpep_pickup_datetime'] >= time) & (df['tpep_pickup_datetime'] < next_time)]\n",
      "/var/folders/0x/k389_vt16p1gjts_tn1qjff40000gn/T/ipykernel_1202/1482100882.py:4: UserWarning: Boolean Series key will be reindexed to match DataFrame index.\n",
      "  orders_in_interval = trips[(trips['tpep_pickup_datetime'] >= time) & (df['tpep_pickup_datetime'] < next_time)]\n",
      "/var/folders/0x/k389_vt16p1gjts_tn1qjff40000gn/T/ipykernel_1202/1482100882.py:4: UserWarning: Boolean Series key will be reindexed to match DataFrame index.\n",
      "  orders_in_interval = trips[(trips['tpep_pickup_datetime'] >= time) & (df['tpep_pickup_datetime'] < next_time)]\n",
      "/var/folders/0x/k389_vt16p1gjts_tn1qjff40000gn/T/ipykernel_1202/1482100882.py:4: UserWarning: Boolean Series key will be reindexed to match DataFrame index.\n",
      "  orders_in_interval = trips[(trips['tpep_pickup_datetime'] >= time) & (df['tpep_pickup_datetime'] < next_time)]\n",
      "/var/folders/0x/k389_vt16p1gjts_tn1qjff40000gn/T/ipykernel_1202/1482100882.py:4: UserWarning: Boolean Series key will be reindexed to match DataFrame index.\n",
      "  orders_in_interval = trips[(trips['tpep_pickup_datetime'] >= time) & (df['tpep_pickup_datetime'] < next_time)]\n",
      "/var/folders/0x/k389_vt16p1gjts_tn1qjff40000gn/T/ipykernel_1202/1482100882.py:4: UserWarning: Boolean Series key will be reindexed to match DataFrame index.\n",
      "  orders_in_interval = trips[(trips['tpep_pickup_datetime'] >= time) & (df['tpep_pickup_datetime'] < next_time)]\n",
      "/var/folders/0x/k389_vt16p1gjts_tn1qjff40000gn/T/ipykernel_1202/1482100882.py:4: UserWarning: Boolean Series key will be reindexed to match DataFrame index.\n",
      "  orders_in_interval = trips[(trips['tpep_pickup_datetime'] >= time) & (df['tpep_pickup_datetime'] < next_time)]\n"
     ]
    },
    {
     "name": "stdout",
     "output_type": "stream",
     "text": [
      "390done\n"
     ]
    },
    {
     "name": "stderr",
     "output_type": "stream",
     "text": [
      "/var/folders/0x/k389_vt16p1gjts_tn1qjff40000gn/T/ipykernel_1202/1482100882.py:4: UserWarning: Boolean Series key will be reindexed to match DataFrame index.\n",
      "  orders_in_interval = trips[(trips['tpep_pickup_datetime'] >= time) & (df['tpep_pickup_datetime'] < next_time)]\n",
      "/var/folders/0x/k389_vt16p1gjts_tn1qjff40000gn/T/ipykernel_1202/1482100882.py:4: UserWarning: Boolean Series key will be reindexed to match DataFrame index.\n",
      "  orders_in_interval = trips[(trips['tpep_pickup_datetime'] >= time) & (df['tpep_pickup_datetime'] < next_time)]\n",
      "/var/folders/0x/k389_vt16p1gjts_tn1qjff40000gn/T/ipykernel_1202/1482100882.py:4: UserWarning: Boolean Series key will be reindexed to match DataFrame index.\n",
      "  orders_in_interval = trips[(trips['tpep_pickup_datetime'] >= time) & (df['tpep_pickup_datetime'] < next_time)]\n",
      "/var/folders/0x/k389_vt16p1gjts_tn1qjff40000gn/T/ipykernel_1202/1482100882.py:4: UserWarning: Boolean Series key will be reindexed to match DataFrame index.\n",
      "  orders_in_interval = trips[(trips['tpep_pickup_datetime'] >= time) & (df['tpep_pickup_datetime'] < next_time)]\n",
      "/var/folders/0x/k389_vt16p1gjts_tn1qjff40000gn/T/ipykernel_1202/1482100882.py:4: UserWarning: Boolean Series key will be reindexed to match DataFrame index.\n",
      "  orders_in_interval = trips[(trips['tpep_pickup_datetime'] >= time) & (df['tpep_pickup_datetime'] < next_time)]\n",
      "/var/folders/0x/k389_vt16p1gjts_tn1qjff40000gn/T/ipykernel_1202/1482100882.py:4: UserWarning: Boolean Series key will be reindexed to match DataFrame index.\n",
      "  orders_in_interval = trips[(trips['tpep_pickup_datetime'] >= time) & (df['tpep_pickup_datetime'] < next_time)]\n",
      "/var/folders/0x/k389_vt16p1gjts_tn1qjff40000gn/T/ipykernel_1202/1482100882.py:4: UserWarning: Boolean Series key will be reindexed to match DataFrame index.\n",
      "  orders_in_interval = trips[(trips['tpep_pickup_datetime'] >= time) & (df['tpep_pickup_datetime'] < next_time)]\n",
      "/var/folders/0x/k389_vt16p1gjts_tn1qjff40000gn/T/ipykernel_1202/1482100882.py:4: UserWarning: Boolean Series key will be reindexed to match DataFrame index.\n",
      "  orders_in_interval = trips[(trips['tpep_pickup_datetime'] >= time) & (df['tpep_pickup_datetime'] < next_time)]\n",
      "/var/folders/0x/k389_vt16p1gjts_tn1qjff40000gn/T/ipykernel_1202/1482100882.py:4: UserWarning: Boolean Series key will be reindexed to match DataFrame index.\n",
      "  orders_in_interval = trips[(trips['tpep_pickup_datetime'] >= time) & (df['tpep_pickup_datetime'] < next_time)]\n",
      "/var/folders/0x/k389_vt16p1gjts_tn1qjff40000gn/T/ipykernel_1202/1482100882.py:4: UserWarning: Boolean Series key will be reindexed to match DataFrame index.\n",
      "  orders_in_interval = trips[(trips['tpep_pickup_datetime'] >= time) & (df['tpep_pickup_datetime'] < next_time)]\n"
     ]
    },
    {
     "name": "stdout",
     "output_type": "stream",
     "text": [
      "400done\n"
     ]
    },
    {
     "name": "stderr",
     "output_type": "stream",
     "text": [
      "/var/folders/0x/k389_vt16p1gjts_tn1qjff40000gn/T/ipykernel_1202/1482100882.py:4: UserWarning: Boolean Series key will be reindexed to match DataFrame index.\n",
      "  orders_in_interval = trips[(trips['tpep_pickup_datetime'] >= time) & (df['tpep_pickup_datetime'] < next_time)]\n",
      "/var/folders/0x/k389_vt16p1gjts_tn1qjff40000gn/T/ipykernel_1202/1482100882.py:4: UserWarning: Boolean Series key will be reindexed to match DataFrame index.\n",
      "  orders_in_interval = trips[(trips['tpep_pickup_datetime'] >= time) & (df['tpep_pickup_datetime'] < next_time)]\n",
      "/var/folders/0x/k389_vt16p1gjts_tn1qjff40000gn/T/ipykernel_1202/1482100882.py:4: UserWarning: Boolean Series key will be reindexed to match DataFrame index.\n",
      "  orders_in_interval = trips[(trips['tpep_pickup_datetime'] >= time) & (df['tpep_pickup_datetime'] < next_time)]\n",
      "/var/folders/0x/k389_vt16p1gjts_tn1qjff40000gn/T/ipykernel_1202/1482100882.py:4: UserWarning: Boolean Series key will be reindexed to match DataFrame index.\n",
      "  orders_in_interval = trips[(trips['tpep_pickup_datetime'] >= time) & (df['tpep_pickup_datetime'] < next_time)]\n",
      "/var/folders/0x/k389_vt16p1gjts_tn1qjff40000gn/T/ipykernel_1202/1482100882.py:4: UserWarning: Boolean Series key will be reindexed to match DataFrame index.\n",
      "  orders_in_interval = trips[(trips['tpep_pickup_datetime'] >= time) & (df['tpep_pickup_datetime'] < next_time)]\n",
      "/var/folders/0x/k389_vt16p1gjts_tn1qjff40000gn/T/ipykernel_1202/1482100882.py:4: UserWarning: Boolean Series key will be reindexed to match DataFrame index.\n",
      "  orders_in_interval = trips[(trips['tpep_pickup_datetime'] >= time) & (df['tpep_pickup_datetime'] < next_time)]\n",
      "/var/folders/0x/k389_vt16p1gjts_tn1qjff40000gn/T/ipykernel_1202/1482100882.py:4: UserWarning: Boolean Series key will be reindexed to match DataFrame index.\n",
      "  orders_in_interval = trips[(trips['tpep_pickup_datetime'] >= time) & (df['tpep_pickup_datetime'] < next_time)]\n",
      "/var/folders/0x/k389_vt16p1gjts_tn1qjff40000gn/T/ipykernel_1202/1482100882.py:4: UserWarning: Boolean Series key will be reindexed to match DataFrame index.\n",
      "  orders_in_interval = trips[(trips['tpep_pickup_datetime'] >= time) & (df['tpep_pickup_datetime'] < next_time)]\n",
      "/var/folders/0x/k389_vt16p1gjts_tn1qjff40000gn/T/ipykernel_1202/1482100882.py:4: UserWarning: Boolean Series key will be reindexed to match DataFrame index.\n",
      "  orders_in_interval = trips[(trips['tpep_pickup_datetime'] >= time) & (df['tpep_pickup_datetime'] < next_time)]\n",
      "/var/folders/0x/k389_vt16p1gjts_tn1qjff40000gn/T/ipykernel_1202/1482100882.py:4: UserWarning: Boolean Series key will be reindexed to match DataFrame index.\n",
      "  orders_in_interval = trips[(trips['tpep_pickup_datetime'] >= time) & (df['tpep_pickup_datetime'] < next_time)]\n"
     ]
    },
    {
     "name": "stdout",
     "output_type": "stream",
     "text": [
      "410done\n"
     ]
    },
    {
     "name": "stderr",
     "output_type": "stream",
     "text": [
      "/var/folders/0x/k389_vt16p1gjts_tn1qjff40000gn/T/ipykernel_1202/1482100882.py:4: UserWarning: Boolean Series key will be reindexed to match DataFrame index.\n",
      "  orders_in_interval = trips[(trips['tpep_pickup_datetime'] >= time) & (df['tpep_pickup_datetime'] < next_time)]\n",
      "/var/folders/0x/k389_vt16p1gjts_tn1qjff40000gn/T/ipykernel_1202/1482100882.py:4: UserWarning: Boolean Series key will be reindexed to match DataFrame index.\n",
      "  orders_in_interval = trips[(trips['tpep_pickup_datetime'] >= time) & (df['tpep_pickup_datetime'] < next_time)]\n",
      "/var/folders/0x/k389_vt16p1gjts_tn1qjff40000gn/T/ipykernel_1202/1482100882.py:4: UserWarning: Boolean Series key will be reindexed to match DataFrame index.\n",
      "  orders_in_interval = trips[(trips['tpep_pickup_datetime'] >= time) & (df['tpep_pickup_datetime'] < next_time)]\n",
      "/var/folders/0x/k389_vt16p1gjts_tn1qjff40000gn/T/ipykernel_1202/1482100882.py:4: UserWarning: Boolean Series key will be reindexed to match DataFrame index.\n",
      "  orders_in_interval = trips[(trips['tpep_pickup_datetime'] >= time) & (df['tpep_pickup_datetime'] < next_time)]\n",
      "/var/folders/0x/k389_vt16p1gjts_tn1qjff40000gn/T/ipykernel_1202/1482100882.py:4: UserWarning: Boolean Series key will be reindexed to match DataFrame index.\n",
      "  orders_in_interval = trips[(trips['tpep_pickup_datetime'] >= time) & (df['tpep_pickup_datetime'] < next_time)]\n",
      "/var/folders/0x/k389_vt16p1gjts_tn1qjff40000gn/T/ipykernel_1202/1482100882.py:4: UserWarning: Boolean Series key will be reindexed to match DataFrame index.\n",
      "  orders_in_interval = trips[(trips['tpep_pickup_datetime'] >= time) & (df['tpep_pickup_datetime'] < next_time)]\n",
      "/var/folders/0x/k389_vt16p1gjts_tn1qjff40000gn/T/ipykernel_1202/1482100882.py:4: UserWarning: Boolean Series key will be reindexed to match DataFrame index.\n",
      "  orders_in_interval = trips[(trips['tpep_pickup_datetime'] >= time) & (df['tpep_pickup_datetime'] < next_time)]\n",
      "/var/folders/0x/k389_vt16p1gjts_tn1qjff40000gn/T/ipykernel_1202/1482100882.py:4: UserWarning: Boolean Series key will be reindexed to match DataFrame index.\n",
      "  orders_in_interval = trips[(trips['tpep_pickup_datetime'] >= time) & (df['tpep_pickup_datetime'] < next_time)]\n",
      "/var/folders/0x/k389_vt16p1gjts_tn1qjff40000gn/T/ipykernel_1202/1482100882.py:4: UserWarning: Boolean Series key will be reindexed to match DataFrame index.\n",
      "  orders_in_interval = trips[(trips['tpep_pickup_datetime'] >= time) & (df['tpep_pickup_datetime'] < next_time)]\n",
      "/var/folders/0x/k389_vt16p1gjts_tn1qjff40000gn/T/ipykernel_1202/1482100882.py:4: UserWarning: Boolean Series key will be reindexed to match DataFrame index.\n",
      "  orders_in_interval = trips[(trips['tpep_pickup_datetime'] >= time) & (df['tpep_pickup_datetime'] < next_time)]\n"
     ]
    },
    {
     "name": "stdout",
     "output_type": "stream",
     "text": [
      "420done\n"
     ]
    },
    {
     "name": "stderr",
     "output_type": "stream",
     "text": [
      "/var/folders/0x/k389_vt16p1gjts_tn1qjff40000gn/T/ipykernel_1202/1482100882.py:4: UserWarning: Boolean Series key will be reindexed to match DataFrame index.\n",
      "  orders_in_interval = trips[(trips['tpep_pickup_datetime'] >= time) & (df['tpep_pickup_datetime'] < next_time)]\n",
      "/var/folders/0x/k389_vt16p1gjts_tn1qjff40000gn/T/ipykernel_1202/1482100882.py:4: UserWarning: Boolean Series key will be reindexed to match DataFrame index.\n",
      "  orders_in_interval = trips[(trips['tpep_pickup_datetime'] >= time) & (df['tpep_pickup_datetime'] < next_time)]\n",
      "/var/folders/0x/k389_vt16p1gjts_tn1qjff40000gn/T/ipykernel_1202/1482100882.py:4: UserWarning: Boolean Series key will be reindexed to match DataFrame index.\n",
      "  orders_in_interval = trips[(trips['tpep_pickup_datetime'] >= time) & (df['tpep_pickup_datetime'] < next_time)]\n",
      "/var/folders/0x/k389_vt16p1gjts_tn1qjff40000gn/T/ipykernel_1202/1482100882.py:4: UserWarning: Boolean Series key will be reindexed to match DataFrame index.\n",
      "  orders_in_interval = trips[(trips['tpep_pickup_datetime'] >= time) & (df['tpep_pickup_datetime'] < next_time)]\n",
      "/var/folders/0x/k389_vt16p1gjts_tn1qjff40000gn/T/ipykernel_1202/1482100882.py:4: UserWarning: Boolean Series key will be reindexed to match DataFrame index.\n",
      "  orders_in_interval = trips[(trips['tpep_pickup_datetime'] >= time) & (df['tpep_pickup_datetime'] < next_time)]\n",
      "/var/folders/0x/k389_vt16p1gjts_tn1qjff40000gn/T/ipykernel_1202/1482100882.py:4: UserWarning: Boolean Series key will be reindexed to match DataFrame index.\n",
      "  orders_in_interval = trips[(trips['tpep_pickup_datetime'] >= time) & (df['tpep_pickup_datetime'] < next_time)]\n",
      "/var/folders/0x/k389_vt16p1gjts_tn1qjff40000gn/T/ipykernel_1202/1482100882.py:4: UserWarning: Boolean Series key will be reindexed to match DataFrame index.\n",
      "  orders_in_interval = trips[(trips['tpep_pickup_datetime'] >= time) & (df['tpep_pickup_datetime'] < next_time)]\n",
      "/var/folders/0x/k389_vt16p1gjts_tn1qjff40000gn/T/ipykernel_1202/1482100882.py:4: UserWarning: Boolean Series key will be reindexed to match DataFrame index.\n",
      "  orders_in_interval = trips[(trips['tpep_pickup_datetime'] >= time) & (df['tpep_pickup_datetime'] < next_time)]\n",
      "/var/folders/0x/k389_vt16p1gjts_tn1qjff40000gn/T/ipykernel_1202/1482100882.py:4: UserWarning: Boolean Series key will be reindexed to match DataFrame index.\n",
      "  orders_in_interval = trips[(trips['tpep_pickup_datetime'] >= time) & (df['tpep_pickup_datetime'] < next_time)]\n",
      "/var/folders/0x/k389_vt16p1gjts_tn1qjff40000gn/T/ipykernel_1202/1482100882.py:4: UserWarning: Boolean Series key will be reindexed to match DataFrame index.\n",
      "  orders_in_interval = trips[(trips['tpep_pickup_datetime'] >= time) & (df['tpep_pickup_datetime'] < next_time)]\n"
     ]
    },
    {
     "name": "stdout",
     "output_type": "stream",
     "text": [
      "430done\n"
     ]
    },
    {
     "name": "stderr",
     "output_type": "stream",
     "text": [
      "/var/folders/0x/k389_vt16p1gjts_tn1qjff40000gn/T/ipykernel_1202/1482100882.py:4: UserWarning: Boolean Series key will be reindexed to match DataFrame index.\n",
      "  orders_in_interval = trips[(trips['tpep_pickup_datetime'] >= time) & (df['tpep_pickup_datetime'] < next_time)]\n",
      "/var/folders/0x/k389_vt16p1gjts_tn1qjff40000gn/T/ipykernel_1202/1482100882.py:4: UserWarning: Boolean Series key will be reindexed to match DataFrame index.\n",
      "  orders_in_interval = trips[(trips['tpep_pickup_datetime'] >= time) & (df['tpep_pickup_datetime'] < next_time)]\n",
      "/var/folders/0x/k389_vt16p1gjts_tn1qjff40000gn/T/ipykernel_1202/1482100882.py:4: UserWarning: Boolean Series key will be reindexed to match DataFrame index.\n",
      "  orders_in_interval = trips[(trips['tpep_pickup_datetime'] >= time) & (df['tpep_pickup_datetime'] < next_time)]\n",
      "/var/folders/0x/k389_vt16p1gjts_tn1qjff40000gn/T/ipykernel_1202/1482100882.py:4: UserWarning: Boolean Series key will be reindexed to match DataFrame index.\n",
      "  orders_in_interval = trips[(trips['tpep_pickup_datetime'] >= time) & (df['tpep_pickup_datetime'] < next_time)]\n",
      "/var/folders/0x/k389_vt16p1gjts_tn1qjff40000gn/T/ipykernel_1202/1482100882.py:4: UserWarning: Boolean Series key will be reindexed to match DataFrame index.\n",
      "  orders_in_interval = trips[(trips['tpep_pickup_datetime'] >= time) & (df['tpep_pickup_datetime'] < next_time)]\n",
      "/var/folders/0x/k389_vt16p1gjts_tn1qjff40000gn/T/ipykernel_1202/1482100882.py:4: UserWarning: Boolean Series key will be reindexed to match DataFrame index.\n",
      "  orders_in_interval = trips[(trips['tpep_pickup_datetime'] >= time) & (df['tpep_pickup_datetime'] < next_time)]\n",
      "/var/folders/0x/k389_vt16p1gjts_tn1qjff40000gn/T/ipykernel_1202/1482100882.py:4: UserWarning: Boolean Series key will be reindexed to match DataFrame index.\n",
      "  orders_in_interval = trips[(trips['tpep_pickup_datetime'] >= time) & (df['tpep_pickup_datetime'] < next_time)]\n",
      "/var/folders/0x/k389_vt16p1gjts_tn1qjff40000gn/T/ipykernel_1202/1482100882.py:4: UserWarning: Boolean Series key will be reindexed to match DataFrame index.\n",
      "  orders_in_interval = trips[(trips['tpep_pickup_datetime'] >= time) & (df['tpep_pickup_datetime'] < next_time)]\n",
      "/var/folders/0x/k389_vt16p1gjts_tn1qjff40000gn/T/ipykernel_1202/1482100882.py:4: UserWarning: Boolean Series key will be reindexed to match DataFrame index.\n",
      "  orders_in_interval = trips[(trips['tpep_pickup_datetime'] >= time) & (df['tpep_pickup_datetime'] < next_time)]\n",
      "/var/folders/0x/k389_vt16p1gjts_tn1qjff40000gn/T/ipykernel_1202/1482100882.py:4: UserWarning: Boolean Series key will be reindexed to match DataFrame index.\n",
      "  orders_in_interval = trips[(trips['tpep_pickup_datetime'] >= time) & (df['tpep_pickup_datetime'] < next_time)]\n"
     ]
    },
    {
     "name": "stdout",
     "output_type": "stream",
     "text": [
      "440done\n"
     ]
    },
    {
     "name": "stderr",
     "output_type": "stream",
     "text": [
      "/var/folders/0x/k389_vt16p1gjts_tn1qjff40000gn/T/ipykernel_1202/1482100882.py:4: UserWarning: Boolean Series key will be reindexed to match DataFrame index.\n",
      "  orders_in_interval = trips[(trips['tpep_pickup_datetime'] >= time) & (df['tpep_pickup_datetime'] < next_time)]\n",
      "/var/folders/0x/k389_vt16p1gjts_tn1qjff40000gn/T/ipykernel_1202/1482100882.py:4: UserWarning: Boolean Series key will be reindexed to match DataFrame index.\n",
      "  orders_in_interval = trips[(trips['tpep_pickup_datetime'] >= time) & (df['tpep_pickup_datetime'] < next_time)]\n",
      "/var/folders/0x/k389_vt16p1gjts_tn1qjff40000gn/T/ipykernel_1202/1482100882.py:4: UserWarning: Boolean Series key will be reindexed to match DataFrame index.\n",
      "  orders_in_interval = trips[(trips['tpep_pickup_datetime'] >= time) & (df['tpep_pickup_datetime'] < next_time)]\n",
      "/var/folders/0x/k389_vt16p1gjts_tn1qjff40000gn/T/ipykernel_1202/1482100882.py:4: UserWarning: Boolean Series key will be reindexed to match DataFrame index.\n",
      "  orders_in_interval = trips[(trips['tpep_pickup_datetime'] >= time) & (df['tpep_pickup_datetime'] < next_time)]\n",
      "/var/folders/0x/k389_vt16p1gjts_tn1qjff40000gn/T/ipykernel_1202/1482100882.py:4: UserWarning: Boolean Series key will be reindexed to match DataFrame index.\n",
      "  orders_in_interval = trips[(trips['tpep_pickup_datetime'] >= time) & (df['tpep_pickup_datetime'] < next_time)]\n",
      "/var/folders/0x/k389_vt16p1gjts_tn1qjff40000gn/T/ipykernel_1202/1482100882.py:4: UserWarning: Boolean Series key will be reindexed to match DataFrame index.\n",
      "  orders_in_interval = trips[(trips['tpep_pickup_datetime'] >= time) & (df['tpep_pickup_datetime'] < next_time)]\n",
      "/var/folders/0x/k389_vt16p1gjts_tn1qjff40000gn/T/ipykernel_1202/1482100882.py:4: UserWarning: Boolean Series key will be reindexed to match DataFrame index.\n",
      "  orders_in_interval = trips[(trips['tpep_pickup_datetime'] >= time) & (df['tpep_pickup_datetime'] < next_time)]\n",
      "/var/folders/0x/k389_vt16p1gjts_tn1qjff40000gn/T/ipykernel_1202/1482100882.py:4: UserWarning: Boolean Series key will be reindexed to match DataFrame index.\n",
      "  orders_in_interval = trips[(trips['tpep_pickup_datetime'] >= time) & (df['tpep_pickup_datetime'] < next_time)]\n",
      "/var/folders/0x/k389_vt16p1gjts_tn1qjff40000gn/T/ipykernel_1202/1482100882.py:4: UserWarning: Boolean Series key will be reindexed to match DataFrame index.\n",
      "  orders_in_interval = trips[(trips['tpep_pickup_datetime'] >= time) & (df['tpep_pickup_datetime'] < next_time)]\n",
      "/var/folders/0x/k389_vt16p1gjts_tn1qjff40000gn/T/ipykernel_1202/1482100882.py:4: UserWarning: Boolean Series key will be reindexed to match DataFrame index.\n",
      "  orders_in_interval = trips[(trips['tpep_pickup_datetime'] >= time) & (df['tpep_pickup_datetime'] < next_time)]\n"
     ]
    },
    {
     "name": "stdout",
     "output_type": "stream",
     "text": [
      "450done\n"
     ]
    },
    {
     "name": "stderr",
     "output_type": "stream",
     "text": [
      "/var/folders/0x/k389_vt16p1gjts_tn1qjff40000gn/T/ipykernel_1202/1482100882.py:4: UserWarning: Boolean Series key will be reindexed to match DataFrame index.\n",
      "  orders_in_interval = trips[(trips['tpep_pickup_datetime'] >= time) & (df['tpep_pickup_datetime'] < next_time)]\n",
      "/var/folders/0x/k389_vt16p1gjts_tn1qjff40000gn/T/ipykernel_1202/1482100882.py:4: UserWarning: Boolean Series key will be reindexed to match DataFrame index.\n",
      "  orders_in_interval = trips[(trips['tpep_pickup_datetime'] >= time) & (df['tpep_pickup_datetime'] < next_time)]\n",
      "/var/folders/0x/k389_vt16p1gjts_tn1qjff40000gn/T/ipykernel_1202/1482100882.py:4: UserWarning: Boolean Series key will be reindexed to match DataFrame index.\n",
      "  orders_in_interval = trips[(trips['tpep_pickup_datetime'] >= time) & (df['tpep_pickup_datetime'] < next_time)]\n",
      "/var/folders/0x/k389_vt16p1gjts_tn1qjff40000gn/T/ipykernel_1202/1482100882.py:4: UserWarning: Boolean Series key will be reindexed to match DataFrame index.\n",
      "  orders_in_interval = trips[(trips['tpep_pickup_datetime'] >= time) & (df['tpep_pickup_datetime'] < next_time)]\n",
      "/var/folders/0x/k389_vt16p1gjts_tn1qjff40000gn/T/ipykernel_1202/1482100882.py:4: UserWarning: Boolean Series key will be reindexed to match DataFrame index.\n",
      "  orders_in_interval = trips[(trips['tpep_pickup_datetime'] >= time) & (df['tpep_pickup_datetime'] < next_time)]\n",
      "/var/folders/0x/k389_vt16p1gjts_tn1qjff40000gn/T/ipykernel_1202/1482100882.py:4: UserWarning: Boolean Series key will be reindexed to match DataFrame index.\n",
      "  orders_in_interval = trips[(trips['tpep_pickup_datetime'] >= time) & (df['tpep_pickup_datetime'] < next_time)]\n",
      "/var/folders/0x/k389_vt16p1gjts_tn1qjff40000gn/T/ipykernel_1202/1482100882.py:4: UserWarning: Boolean Series key will be reindexed to match DataFrame index.\n",
      "  orders_in_interval = trips[(trips['tpep_pickup_datetime'] >= time) & (df['tpep_pickup_datetime'] < next_time)]\n",
      "/var/folders/0x/k389_vt16p1gjts_tn1qjff40000gn/T/ipykernel_1202/1482100882.py:4: UserWarning: Boolean Series key will be reindexed to match DataFrame index.\n",
      "  orders_in_interval = trips[(trips['tpep_pickup_datetime'] >= time) & (df['tpep_pickup_datetime'] < next_time)]\n",
      "/var/folders/0x/k389_vt16p1gjts_tn1qjff40000gn/T/ipykernel_1202/1482100882.py:4: UserWarning: Boolean Series key will be reindexed to match DataFrame index.\n",
      "  orders_in_interval = trips[(trips['tpep_pickup_datetime'] >= time) & (df['tpep_pickup_datetime'] < next_time)]\n",
      "/var/folders/0x/k389_vt16p1gjts_tn1qjff40000gn/T/ipykernel_1202/1482100882.py:4: UserWarning: Boolean Series key will be reindexed to match DataFrame index.\n",
      "  orders_in_interval = trips[(trips['tpep_pickup_datetime'] >= time) & (df['tpep_pickup_datetime'] < next_time)]\n"
     ]
    },
    {
     "name": "stdout",
     "output_type": "stream",
     "text": [
      "460done\n"
     ]
    },
    {
     "name": "stderr",
     "output_type": "stream",
     "text": [
      "/var/folders/0x/k389_vt16p1gjts_tn1qjff40000gn/T/ipykernel_1202/1482100882.py:4: UserWarning: Boolean Series key will be reindexed to match DataFrame index.\n",
      "  orders_in_interval = trips[(trips['tpep_pickup_datetime'] >= time) & (df['tpep_pickup_datetime'] < next_time)]\n",
      "/var/folders/0x/k389_vt16p1gjts_tn1qjff40000gn/T/ipykernel_1202/1482100882.py:4: UserWarning: Boolean Series key will be reindexed to match DataFrame index.\n",
      "  orders_in_interval = trips[(trips['tpep_pickup_datetime'] >= time) & (df['tpep_pickup_datetime'] < next_time)]\n",
      "/var/folders/0x/k389_vt16p1gjts_tn1qjff40000gn/T/ipykernel_1202/1482100882.py:4: UserWarning: Boolean Series key will be reindexed to match DataFrame index.\n",
      "  orders_in_interval = trips[(trips['tpep_pickup_datetime'] >= time) & (df['tpep_pickup_datetime'] < next_time)]\n",
      "/var/folders/0x/k389_vt16p1gjts_tn1qjff40000gn/T/ipykernel_1202/1482100882.py:4: UserWarning: Boolean Series key will be reindexed to match DataFrame index.\n",
      "  orders_in_interval = trips[(trips['tpep_pickup_datetime'] >= time) & (df['tpep_pickup_datetime'] < next_time)]\n",
      "/var/folders/0x/k389_vt16p1gjts_tn1qjff40000gn/T/ipykernel_1202/1482100882.py:4: UserWarning: Boolean Series key will be reindexed to match DataFrame index.\n",
      "  orders_in_interval = trips[(trips['tpep_pickup_datetime'] >= time) & (df['tpep_pickup_datetime'] < next_time)]\n",
      "/var/folders/0x/k389_vt16p1gjts_tn1qjff40000gn/T/ipykernel_1202/1482100882.py:4: UserWarning: Boolean Series key will be reindexed to match DataFrame index.\n",
      "  orders_in_interval = trips[(trips['tpep_pickup_datetime'] >= time) & (df['tpep_pickup_datetime'] < next_time)]\n",
      "/var/folders/0x/k389_vt16p1gjts_tn1qjff40000gn/T/ipykernel_1202/1482100882.py:4: UserWarning: Boolean Series key will be reindexed to match DataFrame index.\n",
      "  orders_in_interval = trips[(trips['tpep_pickup_datetime'] >= time) & (df['tpep_pickup_datetime'] < next_time)]\n",
      "/var/folders/0x/k389_vt16p1gjts_tn1qjff40000gn/T/ipykernel_1202/1482100882.py:4: UserWarning: Boolean Series key will be reindexed to match DataFrame index.\n",
      "  orders_in_interval = trips[(trips['tpep_pickup_datetime'] >= time) & (df['tpep_pickup_datetime'] < next_time)]\n",
      "/var/folders/0x/k389_vt16p1gjts_tn1qjff40000gn/T/ipykernel_1202/1482100882.py:4: UserWarning: Boolean Series key will be reindexed to match DataFrame index.\n",
      "  orders_in_interval = trips[(trips['tpep_pickup_datetime'] >= time) & (df['tpep_pickup_datetime'] < next_time)]\n",
      "/var/folders/0x/k389_vt16p1gjts_tn1qjff40000gn/T/ipykernel_1202/1482100882.py:4: UserWarning: Boolean Series key will be reindexed to match DataFrame index.\n",
      "  orders_in_interval = trips[(trips['tpep_pickup_datetime'] >= time) & (df['tpep_pickup_datetime'] < next_time)]\n"
     ]
    },
    {
     "name": "stdout",
     "output_type": "stream",
     "text": [
      "470done\n"
     ]
    },
    {
     "name": "stderr",
     "output_type": "stream",
     "text": [
      "/var/folders/0x/k389_vt16p1gjts_tn1qjff40000gn/T/ipykernel_1202/1482100882.py:4: UserWarning: Boolean Series key will be reindexed to match DataFrame index.\n",
      "  orders_in_interval = trips[(trips['tpep_pickup_datetime'] >= time) & (df['tpep_pickup_datetime'] < next_time)]\n",
      "/var/folders/0x/k389_vt16p1gjts_tn1qjff40000gn/T/ipykernel_1202/1482100882.py:4: UserWarning: Boolean Series key will be reindexed to match DataFrame index.\n",
      "  orders_in_interval = trips[(trips['tpep_pickup_datetime'] >= time) & (df['tpep_pickup_datetime'] < next_time)]\n",
      "/var/folders/0x/k389_vt16p1gjts_tn1qjff40000gn/T/ipykernel_1202/1482100882.py:4: UserWarning: Boolean Series key will be reindexed to match DataFrame index.\n",
      "  orders_in_interval = trips[(trips['tpep_pickup_datetime'] >= time) & (df['tpep_pickup_datetime'] < next_time)]\n",
      "/var/folders/0x/k389_vt16p1gjts_tn1qjff40000gn/T/ipykernel_1202/1482100882.py:4: UserWarning: Boolean Series key will be reindexed to match DataFrame index.\n",
      "  orders_in_interval = trips[(trips['tpep_pickup_datetime'] >= time) & (df['tpep_pickup_datetime'] < next_time)]\n",
      "/var/folders/0x/k389_vt16p1gjts_tn1qjff40000gn/T/ipykernel_1202/1482100882.py:4: UserWarning: Boolean Series key will be reindexed to match DataFrame index.\n",
      "  orders_in_interval = trips[(trips['tpep_pickup_datetime'] >= time) & (df['tpep_pickup_datetime'] < next_time)]\n",
      "/var/folders/0x/k389_vt16p1gjts_tn1qjff40000gn/T/ipykernel_1202/1482100882.py:4: UserWarning: Boolean Series key will be reindexed to match DataFrame index.\n",
      "  orders_in_interval = trips[(trips['tpep_pickup_datetime'] >= time) & (df['tpep_pickup_datetime'] < next_time)]\n",
      "/var/folders/0x/k389_vt16p1gjts_tn1qjff40000gn/T/ipykernel_1202/1482100882.py:4: UserWarning: Boolean Series key will be reindexed to match DataFrame index.\n",
      "  orders_in_interval = trips[(trips['tpep_pickup_datetime'] >= time) & (df['tpep_pickup_datetime'] < next_time)]\n",
      "/var/folders/0x/k389_vt16p1gjts_tn1qjff40000gn/T/ipykernel_1202/1482100882.py:4: UserWarning: Boolean Series key will be reindexed to match DataFrame index.\n",
      "  orders_in_interval = trips[(trips['tpep_pickup_datetime'] >= time) & (df['tpep_pickup_datetime'] < next_time)]\n",
      "/var/folders/0x/k389_vt16p1gjts_tn1qjff40000gn/T/ipykernel_1202/1482100882.py:4: UserWarning: Boolean Series key will be reindexed to match DataFrame index.\n",
      "  orders_in_interval = trips[(trips['tpep_pickup_datetime'] >= time) & (df['tpep_pickup_datetime'] < next_time)]\n",
      "/var/folders/0x/k389_vt16p1gjts_tn1qjff40000gn/T/ipykernel_1202/1482100882.py:4: UserWarning: Boolean Series key will be reindexed to match DataFrame index.\n",
      "  orders_in_interval = trips[(trips['tpep_pickup_datetime'] >= time) & (df['tpep_pickup_datetime'] < next_time)]\n"
     ]
    },
    {
     "name": "stdout",
     "output_type": "stream",
     "text": [
      "480done\n"
     ]
    },
    {
     "name": "stderr",
     "output_type": "stream",
     "text": [
      "/var/folders/0x/k389_vt16p1gjts_tn1qjff40000gn/T/ipykernel_1202/1482100882.py:4: UserWarning: Boolean Series key will be reindexed to match DataFrame index.\n",
      "  orders_in_interval = trips[(trips['tpep_pickup_datetime'] >= time) & (df['tpep_pickup_datetime'] < next_time)]\n",
      "/var/folders/0x/k389_vt16p1gjts_tn1qjff40000gn/T/ipykernel_1202/1482100882.py:4: UserWarning: Boolean Series key will be reindexed to match DataFrame index.\n",
      "  orders_in_interval = trips[(trips['tpep_pickup_datetime'] >= time) & (df['tpep_pickup_datetime'] < next_time)]\n",
      "/var/folders/0x/k389_vt16p1gjts_tn1qjff40000gn/T/ipykernel_1202/1482100882.py:4: UserWarning: Boolean Series key will be reindexed to match DataFrame index.\n",
      "  orders_in_interval = trips[(trips['tpep_pickup_datetime'] >= time) & (df['tpep_pickup_datetime'] < next_time)]\n",
      "/var/folders/0x/k389_vt16p1gjts_tn1qjff40000gn/T/ipykernel_1202/1482100882.py:4: UserWarning: Boolean Series key will be reindexed to match DataFrame index.\n",
      "  orders_in_interval = trips[(trips['tpep_pickup_datetime'] >= time) & (df['tpep_pickup_datetime'] < next_time)]\n",
      "/var/folders/0x/k389_vt16p1gjts_tn1qjff40000gn/T/ipykernel_1202/1482100882.py:4: UserWarning: Boolean Series key will be reindexed to match DataFrame index.\n",
      "  orders_in_interval = trips[(trips['tpep_pickup_datetime'] >= time) & (df['tpep_pickup_datetime'] < next_time)]\n",
      "/var/folders/0x/k389_vt16p1gjts_tn1qjff40000gn/T/ipykernel_1202/1482100882.py:4: UserWarning: Boolean Series key will be reindexed to match DataFrame index.\n",
      "  orders_in_interval = trips[(trips['tpep_pickup_datetime'] >= time) & (df['tpep_pickup_datetime'] < next_time)]\n",
      "/var/folders/0x/k389_vt16p1gjts_tn1qjff40000gn/T/ipykernel_1202/1482100882.py:4: UserWarning: Boolean Series key will be reindexed to match DataFrame index.\n",
      "  orders_in_interval = trips[(trips['tpep_pickup_datetime'] >= time) & (df['tpep_pickup_datetime'] < next_time)]\n",
      "/var/folders/0x/k389_vt16p1gjts_tn1qjff40000gn/T/ipykernel_1202/1482100882.py:4: UserWarning: Boolean Series key will be reindexed to match DataFrame index.\n",
      "  orders_in_interval = trips[(trips['tpep_pickup_datetime'] >= time) & (df['tpep_pickup_datetime'] < next_time)]\n",
      "/var/folders/0x/k389_vt16p1gjts_tn1qjff40000gn/T/ipykernel_1202/1482100882.py:4: UserWarning: Boolean Series key will be reindexed to match DataFrame index.\n",
      "  orders_in_interval = trips[(trips['tpep_pickup_datetime'] >= time) & (df['tpep_pickup_datetime'] < next_time)]\n",
      "/var/folders/0x/k389_vt16p1gjts_tn1qjff40000gn/T/ipykernel_1202/1482100882.py:4: UserWarning: Boolean Series key will be reindexed to match DataFrame index.\n",
      "  orders_in_interval = trips[(trips['tpep_pickup_datetime'] >= time) & (df['tpep_pickup_datetime'] < next_time)]\n"
     ]
    },
    {
     "name": "stdout",
     "output_type": "stream",
     "text": [
      "490done\n"
     ]
    },
    {
     "name": "stderr",
     "output_type": "stream",
     "text": [
      "/var/folders/0x/k389_vt16p1gjts_tn1qjff40000gn/T/ipykernel_1202/1482100882.py:4: UserWarning: Boolean Series key will be reindexed to match DataFrame index.\n",
      "  orders_in_interval = trips[(trips['tpep_pickup_datetime'] >= time) & (df['tpep_pickup_datetime'] < next_time)]\n",
      "/var/folders/0x/k389_vt16p1gjts_tn1qjff40000gn/T/ipykernel_1202/1482100882.py:4: UserWarning: Boolean Series key will be reindexed to match DataFrame index.\n",
      "  orders_in_interval = trips[(trips['tpep_pickup_datetime'] >= time) & (df['tpep_pickup_datetime'] < next_time)]\n",
      "/var/folders/0x/k389_vt16p1gjts_tn1qjff40000gn/T/ipykernel_1202/1482100882.py:4: UserWarning: Boolean Series key will be reindexed to match DataFrame index.\n",
      "  orders_in_interval = trips[(trips['tpep_pickup_datetime'] >= time) & (df['tpep_pickup_datetime'] < next_time)]\n",
      "/var/folders/0x/k389_vt16p1gjts_tn1qjff40000gn/T/ipykernel_1202/1482100882.py:4: UserWarning: Boolean Series key will be reindexed to match DataFrame index.\n",
      "  orders_in_interval = trips[(trips['tpep_pickup_datetime'] >= time) & (df['tpep_pickup_datetime'] < next_time)]\n",
      "/var/folders/0x/k389_vt16p1gjts_tn1qjff40000gn/T/ipykernel_1202/1482100882.py:4: UserWarning: Boolean Series key will be reindexed to match DataFrame index.\n",
      "  orders_in_interval = trips[(trips['tpep_pickup_datetime'] >= time) & (df['tpep_pickup_datetime'] < next_time)]\n",
      "/var/folders/0x/k389_vt16p1gjts_tn1qjff40000gn/T/ipykernel_1202/1482100882.py:4: UserWarning: Boolean Series key will be reindexed to match DataFrame index.\n",
      "  orders_in_interval = trips[(trips['tpep_pickup_datetime'] >= time) & (df['tpep_pickup_datetime'] < next_time)]\n",
      "/var/folders/0x/k389_vt16p1gjts_tn1qjff40000gn/T/ipykernel_1202/1482100882.py:4: UserWarning: Boolean Series key will be reindexed to match DataFrame index.\n",
      "  orders_in_interval = trips[(trips['tpep_pickup_datetime'] >= time) & (df['tpep_pickup_datetime'] < next_time)]\n",
      "/var/folders/0x/k389_vt16p1gjts_tn1qjff40000gn/T/ipykernel_1202/1482100882.py:4: UserWarning: Boolean Series key will be reindexed to match DataFrame index.\n",
      "  orders_in_interval = trips[(trips['tpep_pickup_datetime'] >= time) & (df['tpep_pickup_datetime'] < next_time)]\n",
      "/var/folders/0x/k389_vt16p1gjts_tn1qjff40000gn/T/ipykernel_1202/1482100882.py:4: UserWarning: Boolean Series key will be reindexed to match DataFrame index.\n",
      "  orders_in_interval = trips[(trips['tpep_pickup_datetime'] >= time) & (df['tpep_pickup_datetime'] < next_time)]\n",
      "/var/folders/0x/k389_vt16p1gjts_tn1qjff40000gn/T/ipykernel_1202/1482100882.py:4: UserWarning: Boolean Series key will be reindexed to match DataFrame index.\n",
      "  orders_in_interval = trips[(trips['tpep_pickup_datetime'] >= time) & (df['tpep_pickup_datetime'] < next_time)]\n"
     ]
    },
    {
     "name": "stdout",
     "output_type": "stream",
     "text": [
      "500done\n"
     ]
    },
    {
     "name": "stderr",
     "output_type": "stream",
     "text": [
      "/var/folders/0x/k389_vt16p1gjts_tn1qjff40000gn/T/ipykernel_1202/1482100882.py:4: UserWarning: Boolean Series key will be reindexed to match DataFrame index.\n",
      "  orders_in_interval = trips[(trips['tpep_pickup_datetime'] >= time) & (df['tpep_pickup_datetime'] < next_time)]\n",
      "/var/folders/0x/k389_vt16p1gjts_tn1qjff40000gn/T/ipykernel_1202/1482100882.py:4: UserWarning: Boolean Series key will be reindexed to match DataFrame index.\n",
      "  orders_in_interval = trips[(trips['tpep_pickup_datetime'] >= time) & (df['tpep_pickup_datetime'] < next_time)]\n",
      "/var/folders/0x/k389_vt16p1gjts_tn1qjff40000gn/T/ipykernel_1202/1482100882.py:4: UserWarning: Boolean Series key will be reindexed to match DataFrame index.\n",
      "  orders_in_interval = trips[(trips['tpep_pickup_datetime'] >= time) & (df['tpep_pickup_datetime'] < next_time)]\n",
      "/var/folders/0x/k389_vt16p1gjts_tn1qjff40000gn/T/ipykernel_1202/1482100882.py:4: UserWarning: Boolean Series key will be reindexed to match DataFrame index.\n",
      "  orders_in_interval = trips[(trips['tpep_pickup_datetime'] >= time) & (df['tpep_pickup_datetime'] < next_time)]\n",
      "/var/folders/0x/k389_vt16p1gjts_tn1qjff40000gn/T/ipykernel_1202/1482100882.py:4: UserWarning: Boolean Series key will be reindexed to match DataFrame index.\n",
      "  orders_in_interval = trips[(trips['tpep_pickup_datetime'] >= time) & (df['tpep_pickup_datetime'] < next_time)]\n",
      "/var/folders/0x/k389_vt16p1gjts_tn1qjff40000gn/T/ipykernel_1202/1482100882.py:4: UserWarning: Boolean Series key will be reindexed to match DataFrame index.\n",
      "  orders_in_interval = trips[(trips['tpep_pickup_datetime'] >= time) & (df['tpep_pickup_datetime'] < next_time)]\n",
      "/var/folders/0x/k389_vt16p1gjts_tn1qjff40000gn/T/ipykernel_1202/1482100882.py:4: UserWarning: Boolean Series key will be reindexed to match DataFrame index.\n",
      "  orders_in_interval = trips[(trips['tpep_pickup_datetime'] >= time) & (df['tpep_pickup_datetime'] < next_time)]\n",
      "/var/folders/0x/k389_vt16p1gjts_tn1qjff40000gn/T/ipykernel_1202/1482100882.py:4: UserWarning: Boolean Series key will be reindexed to match DataFrame index.\n",
      "  orders_in_interval = trips[(trips['tpep_pickup_datetime'] >= time) & (df['tpep_pickup_datetime'] < next_time)]\n",
      "/var/folders/0x/k389_vt16p1gjts_tn1qjff40000gn/T/ipykernel_1202/1482100882.py:4: UserWarning: Boolean Series key will be reindexed to match DataFrame index.\n",
      "  orders_in_interval = trips[(trips['tpep_pickup_datetime'] >= time) & (df['tpep_pickup_datetime'] < next_time)]\n",
      "/var/folders/0x/k389_vt16p1gjts_tn1qjff40000gn/T/ipykernel_1202/1482100882.py:4: UserWarning: Boolean Series key will be reindexed to match DataFrame index.\n",
      "  orders_in_interval = trips[(trips['tpep_pickup_datetime'] >= time) & (df['tpep_pickup_datetime'] < next_time)]\n"
     ]
    },
    {
     "name": "stdout",
     "output_type": "stream",
     "text": [
      "510done\n"
     ]
    },
    {
     "name": "stderr",
     "output_type": "stream",
     "text": [
      "/var/folders/0x/k389_vt16p1gjts_tn1qjff40000gn/T/ipykernel_1202/1482100882.py:4: UserWarning: Boolean Series key will be reindexed to match DataFrame index.\n",
      "  orders_in_interval = trips[(trips['tpep_pickup_datetime'] >= time) & (df['tpep_pickup_datetime'] < next_time)]\n",
      "/var/folders/0x/k389_vt16p1gjts_tn1qjff40000gn/T/ipykernel_1202/1482100882.py:4: UserWarning: Boolean Series key will be reindexed to match DataFrame index.\n",
      "  orders_in_interval = trips[(trips['tpep_pickup_datetime'] >= time) & (df['tpep_pickup_datetime'] < next_time)]\n",
      "/var/folders/0x/k389_vt16p1gjts_tn1qjff40000gn/T/ipykernel_1202/1482100882.py:4: UserWarning: Boolean Series key will be reindexed to match DataFrame index.\n",
      "  orders_in_interval = trips[(trips['tpep_pickup_datetime'] >= time) & (df['tpep_pickup_datetime'] < next_time)]\n",
      "/var/folders/0x/k389_vt16p1gjts_tn1qjff40000gn/T/ipykernel_1202/1482100882.py:4: UserWarning: Boolean Series key will be reindexed to match DataFrame index.\n",
      "  orders_in_interval = trips[(trips['tpep_pickup_datetime'] >= time) & (df['tpep_pickup_datetime'] < next_time)]\n",
      "/var/folders/0x/k389_vt16p1gjts_tn1qjff40000gn/T/ipykernel_1202/1482100882.py:4: UserWarning: Boolean Series key will be reindexed to match DataFrame index.\n",
      "  orders_in_interval = trips[(trips['tpep_pickup_datetime'] >= time) & (df['tpep_pickup_datetime'] < next_time)]\n",
      "/var/folders/0x/k389_vt16p1gjts_tn1qjff40000gn/T/ipykernel_1202/1482100882.py:4: UserWarning: Boolean Series key will be reindexed to match DataFrame index.\n",
      "  orders_in_interval = trips[(trips['tpep_pickup_datetime'] >= time) & (df['tpep_pickup_datetime'] < next_time)]\n",
      "/var/folders/0x/k389_vt16p1gjts_tn1qjff40000gn/T/ipykernel_1202/1482100882.py:4: UserWarning: Boolean Series key will be reindexed to match DataFrame index.\n",
      "  orders_in_interval = trips[(trips['tpep_pickup_datetime'] >= time) & (df['tpep_pickup_datetime'] < next_time)]\n",
      "/var/folders/0x/k389_vt16p1gjts_tn1qjff40000gn/T/ipykernel_1202/1482100882.py:4: UserWarning: Boolean Series key will be reindexed to match DataFrame index.\n",
      "  orders_in_interval = trips[(trips['tpep_pickup_datetime'] >= time) & (df['tpep_pickup_datetime'] < next_time)]\n",
      "/var/folders/0x/k389_vt16p1gjts_tn1qjff40000gn/T/ipykernel_1202/1482100882.py:4: UserWarning: Boolean Series key will be reindexed to match DataFrame index.\n",
      "  orders_in_interval = trips[(trips['tpep_pickup_datetime'] >= time) & (df['tpep_pickup_datetime'] < next_time)]\n",
      "/var/folders/0x/k389_vt16p1gjts_tn1qjff40000gn/T/ipykernel_1202/1482100882.py:4: UserWarning: Boolean Series key will be reindexed to match DataFrame index.\n",
      "  orders_in_interval = trips[(trips['tpep_pickup_datetime'] >= time) & (df['tpep_pickup_datetime'] < next_time)]\n"
     ]
    },
    {
     "name": "stdout",
     "output_type": "stream",
     "text": [
      "520done\n"
     ]
    },
    {
     "name": "stderr",
     "output_type": "stream",
     "text": [
      "/var/folders/0x/k389_vt16p1gjts_tn1qjff40000gn/T/ipykernel_1202/1482100882.py:4: UserWarning: Boolean Series key will be reindexed to match DataFrame index.\n",
      "  orders_in_interval = trips[(trips['tpep_pickup_datetime'] >= time) & (df['tpep_pickup_datetime'] < next_time)]\n",
      "/var/folders/0x/k389_vt16p1gjts_tn1qjff40000gn/T/ipykernel_1202/1482100882.py:4: UserWarning: Boolean Series key will be reindexed to match DataFrame index.\n",
      "  orders_in_interval = trips[(trips['tpep_pickup_datetime'] >= time) & (df['tpep_pickup_datetime'] < next_time)]\n",
      "/var/folders/0x/k389_vt16p1gjts_tn1qjff40000gn/T/ipykernel_1202/1482100882.py:4: UserWarning: Boolean Series key will be reindexed to match DataFrame index.\n",
      "  orders_in_interval = trips[(trips['tpep_pickup_datetime'] >= time) & (df['tpep_pickup_datetime'] < next_time)]\n",
      "/var/folders/0x/k389_vt16p1gjts_tn1qjff40000gn/T/ipykernel_1202/1482100882.py:4: UserWarning: Boolean Series key will be reindexed to match DataFrame index.\n",
      "  orders_in_interval = trips[(trips['tpep_pickup_datetime'] >= time) & (df['tpep_pickup_datetime'] < next_time)]\n",
      "/var/folders/0x/k389_vt16p1gjts_tn1qjff40000gn/T/ipykernel_1202/1482100882.py:4: UserWarning: Boolean Series key will be reindexed to match DataFrame index.\n",
      "  orders_in_interval = trips[(trips['tpep_pickup_datetime'] >= time) & (df['tpep_pickup_datetime'] < next_time)]\n",
      "/var/folders/0x/k389_vt16p1gjts_tn1qjff40000gn/T/ipykernel_1202/1482100882.py:4: UserWarning: Boolean Series key will be reindexed to match DataFrame index.\n",
      "  orders_in_interval = trips[(trips['tpep_pickup_datetime'] >= time) & (df['tpep_pickup_datetime'] < next_time)]\n",
      "/var/folders/0x/k389_vt16p1gjts_tn1qjff40000gn/T/ipykernel_1202/1482100882.py:4: UserWarning: Boolean Series key will be reindexed to match DataFrame index.\n",
      "  orders_in_interval = trips[(trips['tpep_pickup_datetime'] >= time) & (df['tpep_pickup_datetime'] < next_time)]\n",
      "/var/folders/0x/k389_vt16p1gjts_tn1qjff40000gn/T/ipykernel_1202/1482100882.py:4: UserWarning: Boolean Series key will be reindexed to match DataFrame index.\n",
      "  orders_in_interval = trips[(trips['tpep_pickup_datetime'] >= time) & (df['tpep_pickup_datetime'] < next_time)]\n",
      "/var/folders/0x/k389_vt16p1gjts_tn1qjff40000gn/T/ipykernel_1202/1482100882.py:4: UserWarning: Boolean Series key will be reindexed to match DataFrame index.\n",
      "  orders_in_interval = trips[(trips['tpep_pickup_datetime'] >= time) & (df['tpep_pickup_datetime'] < next_time)]\n",
      "/var/folders/0x/k389_vt16p1gjts_tn1qjff40000gn/T/ipykernel_1202/1482100882.py:4: UserWarning: Boolean Series key will be reindexed to match DataFrame index.\n",
      "  orders_in_interval = trips[(trips['tpep_pickup_datetime'] >= time) & (df['tpep_pickup_datetime'] < next_time)]\n"
     ]
    },
    {
     "name": "stdout",
     "output_type": "stream",
     "text": [
      "530done\n"
     ]
    },
    {
     "name": "stderr",
     "output_type": "stream",
     "text": [
      "/var/folders/0x/k389_vt16p1gjts_tn1qjff40000gn/T/ipykernel_1202/1482100882.py:4: UserWarning: Boolean Series key will be reindexed to match DataFrame index.\n",
      "  orders_in_interval = trips[(trips['tpep_pickup_datetime'] >= time) & (df['tpep_pickup_datetime'] < next_time)]\n",
      "/var/folders/0x/k389_vt16p1gjts_tn1qjff40000gn/T/ipykernel_1202/1482100882.py:4: UserWarning: Boolean Series key will be reindexed to match DataFrame index.\n",
      "  orders_in_interval = trips[(trips['tpep_pickup_datetime'] >= time) & (df['tpep_pickup_datetime'] < next_time)]\n",
      "/var/folders/0x/k389_vt16p1gjts_tn1qjff40000gn/T/ipykernel_1202/1482100882.py:4: UserWarning: Boolean Series key will be reindexed to match DataFrame index.\n",
      "  orders_in_interval = trips[(trips['tpep_pickup_datetime'] >= time) & (df['tpep_pickup_datetime'] < next_time)]\n",
      "/var/folders/0x/k389_vt16p1gjts_tn1qjff40000gn/T/ipykernel_1202/1482100882.py:4: UserWarning: Boolean Series key will be reindexed to match DataFrame index.\n",
      "  orders_in_interval = trips[(trips['tpep_pickup_datetime'] >= time) & (df['tpep_pickup_datetime'] < next_time)]\n",
      "/var/folders/0x/k389_vt16p1gjts_tn1qjff40000gn/T/ipykernel_1202/1482100882.py:4: UserWarning: Boolean Series key will be reindexed to match DataFrame index.\n",
      "  orders_in_interval = trips[(trips['tpep_pickup_datetime'] >= time) & (df['tpep_pickup_datetime'] < next_time)]\n",
      "/var/folders/0x/k389_vt16p1gjts_tn1qjff40000gn/T/ipykernel_1202/1482100882.py:4: UserWarning: Boolean Series key will be reindexed to match DataFrame index.\n",
      "  orders_in_interval = trips[(trips['tpep_pickup_datetime'] >= time) & (df['tpep_pickup_datetime'] < next_time)]\n",
      "/var/folders/0x/k389_vt16p1gjts_tn1qjff40000gn/T/ipykernel_1202/1482100882.py:4: UserWarning: Boolean Series key will be reindexed to match DataFrame index.\n",
      "  orders_in_interval = trips[(trips['tpep_pickup_datetime'] >= time) & (df['tpep_pickup_datetime'] < next_time)]\n",
      "/var/folders/0x/k389_vt16p1gjts_tn1qjff40000gn/T/ipykernel_1202/1482100882.py:4: UserWarning: Boolean Series key will be reindexed to match DataFrame index.\n",
      "  orders_in_interval = trips[(trips['tpep_pickup_datetime'] >= time) & (df['tpep_pickup_datetime'] < next_time)]\n",
      "/var/folders/0x/k389_vt16p1gjts_tn1qjff40000gn/T/ipykernel_1202/1482100882.py:4: UserWarning: Boolean Series key will be reindexed to match DataFrame index.\n",
      "  orders_in_interval = trips[(trips['tpep_pickup_datetime'] >= time) & (df['tpep_pickup_datetime'] < next_time)]\n",
      "/var/folders/0x/k389_vt16p1gjts_tn1qjff40000gn/T/ipykernel_1202/1482100882.py:4: UserWarning: Boolean Series key will be reindexed to match DataFrame index.\n",
      "  orders_in_interval = trips[(trips['tpep_pickup_datetime'] >= time) & (df['tpep_pickup_datetime'] < next_time)]\n"
     ]
    },
    {
     "name": "stdout",
     "output_type": "stream",
     "text": [
      "540done\n"
     ]
    },
    {
     "name": "stderr",
     "output_type": "stream",
     "text": [
      "/var/folders/0x/k389_vt16p1gjts_tn1qjff40000gn/T/ipykernel_1202/1482100882.py:4: UserWarning: Boolean Series key will be reindexed to match DataFrame index.\n",
      "  orders_in_interval = trips[(trips['tpep_pickup_datetime'] >= time) & (df['tpep_pickup_datetime'] < next_time)]\n",
      "/var/folders/0x/k389_vt16p1gjts_tn1qjff40000gn/T/ipykernel_1202/1482100882.py:4: UserWarning: Boolean Series key will be reindexed to match DataFrame index.\n",
      "  orders_in_interval = trips[(trips['tpep_pickup_datetime'] >= time) & (df['tpep_pickup_datetime'] < next_time)]\n",
      "/var/folders/0x/k389_vt16p1gjts_tn1qjff40000gn/T/ipykernel_1202/1482100882.py:4: UserWarning: Boolean Series key will be reindexed to match DataFrame index.\n",
      "  orders_in_interval = trips[(trips['tpep_pickup_datetime'] >= time) & (df['tpep_pickup_datetime'] < next_time)]\n",
      "/var/folders/0x/k389_vt16p1gjts_tn1qjff40000gn/T/ipykernel_1202/1482100882.py:4: UserWarning: Boolean Series key will be reindexed to match DataFrame index.\n",
      "  orders_in_interval = trips[(trips['tpep_pickup_datetime'] >= time) & (df['tpep_pickup_datetime'] < next_time)]\n",
      "/var/folders/0x/k389_vt16p1gjts_tn1qjff40000gn/T/ipykernel_1202/1482100882.py:4: UserWarning: Boolean Series key will be reindexed to match DataFrame index.\n",
      "  orders_in_interval = trips[(trips['tpep_pickup_datetime'] >= time) & (df['tpep_pickup_datetime'] < next_time)]\n",
      "/var/folders/0x/k389_vt16p1gjts_tn1qjff40000gn/T/ipykernel_1202/1482100882.py:4: UserWarning: Boolean Series key will be reindexed to match DataFrame index.\n",
      "  orders_in_interval = trips[(trips['tpep_pickup_datetime'] >= time) & (df['tpep_pickup_datetime'] < next_time)]\n",
      "/var/folders/0x/k389_vt16p1gjts_tn1qjff40000gn/T/ipykernel_1202/1482100882.py:4: UserWarning: Boolean Series key will be reindexed to match DataFrame index.\n",
      "  orders_in_interval = trips[(trips['tpep_pickup_datetime'] >= time) & (df['tpep_pickup_datetime'] < next_time)]\n",
      "/var/folders/0x/k389_vt16p1gjts_tn1qjff40000gn/T/ipykernel_1202/1482100882.py:4: UserWarning: Boolean Series key will be reindexed to match DataFrame index.\n",
      "  orders_in_interval = trips[(trips['tpep_pickup_datetime'] >= time) & (df['tpep_pickup_datetime'] < next_time)]\n",
      "/var/folders/0x/k389_vt16p1gjts_tn1qjff40000gn/T/ipykernel_1202/1482100882.py:4: UserWarning: Boolean Series key will be reindexed to match DataFrame index.\n",
      "  orders_in_interval = trips[(trips['tpep_pickup_datetime'] >= time) & (df['tpep_pickup_datetime'] < next_time)]\n",
      "/var/folders/0x/k389_vt16p1gjts_tn1qjff40000gn/T/ipykernel_1202/1482100882.py:4: UserWarning: Boolean Series key will be reindexed to match DataFrame index.\n",
      "  orders_in_interval = trips[(trips['tpep_pickup_datetime'] >= time) & (df['tpep_pickup_datetime'] < next_time)]\n"
     ]
    },
    {
     "name": "stdout",
     "output_type": "stream",
     "text": [
      "550done\n"
     ]
    },
    {
     "name": "stderr",
     "output_type": "stream",
     "text": [
      "/var/folders/0x/k389_vt16p1gjts_tn1qjff40000gn/T/ipykernel_1202/1482100882.py:4: UserWarning: Boolean Series key will be reindexed to match DataFrame index.\n",
      "  orders_in_interval = trips[(trips['tpep_pickup_datetime'] >= time) & (df['tpep_pickup_datetime'] < next_time)]\n",
      "/var/folders/0x/k389_vt16p1gjts_tn1qjff40000gn/T/ipykernel_1202/1482100882.py:4: UserWarning: Boolean Series key will be reindexed to match DataFrame index.\n",
      "  orders_in_interval = trips[(trips['tpep_pickup_datetime'] >= time) & (df['tpep_pickup_datetime'] < next_time)]\n",
      "/var/folders/0x/k389_vt16p1gjts_tn1qjff40000gn/T/ipykernel_1202/1482100882.py:4: UserWarning: Boolean Series key will be reindexed to match DataFrame index.\n",
      "  orders_in_interval = trips[(trips['tpep_pickup_datetime'] >= time) & (df['tpep_pickup_datetime'] < next_time)]\n",
      "/var/folders/0x/k389_vt16p1gjts_tn1qjff40000gn/T/ipykernel_1202/1482100882.py:4: UserWarning: Boolean Series key will be reindexed to match DataFrame index.\n",
      "  orders_in_interval = trips[(trips['tpep_pickup_datetime'] >= time) & (df['tpep_pickup_datetime'] < next_time)]\n",
      "/var/folders/0x/k389_vt16p1gjts_tn1qjff40000gn/T/ipykernel_1202/1482100882.py:4: UserWarning: Boolean Series key will be reindexed to match DataFrame index.\n",
      "  orders_in_interval = trips[(trips['tpep_pickup_datetime'] >= time) & (df['tpep_pickup_datetime'] < next_time)]\n",
      "/var/folders/0x/k389_vt16p1gjts_tn1qjff40000gn/T/ipykernel_1202/1482100882.py:4: UserWarning: Boolean Series key will be reindexed to match DataFrame index.\n",
      "  orders_in_interval = trips[(trips['tpep_pickup_datetime'] >= time) & (df['tpep_pickup_datetime'] < next_time)]\n",
      "/var/folders/0x/k389_vt16p1gjts_tn1qjff40000gn/T/ipykernel_1202/1482100882.py:4: UserWarning: Boolean Series key will be reindexed to match DataFrame index.\n",
      "  orders_in_interval = trips[(trips['tpep_pickup_datetime'] >= time) & (df['tpep_pickup_datetime'] < next_time)]\n",
      "/var/folders/0x/k389_vt16p1gjts_tn1qjff40000gn/T/ipykernel_1202/1482100882.py:4: UserWarning: Boolean Series key will be reindexed to match DataFrame index.\n",
      "  orders_in_interval = trips[(trips['tpep_pickup_datetime'] >= time) & (df['tpep_pickup_datetime'] < next_time)]\n",
      "/var/folders/0x/k389_vt16p1gjts_tn1qjff40000gn/T/ipykernel_1202/1482100882.py:4: UserWarning: Boolean Series key will be reindexed to match DataFrame index.\n",
      "  orders_in_interval = trips[(trips['tpep_pickup_datetime'] >= time) & (df['tpep_pickup_datetime'] < next_time)]\n",
      "/var/folders/0x/k389_vt16p1gjts_tn1qjff40000gn/T/ipykernel_1202/1482100882.py:4: UserWarning: Boolean Series key will be reindexed to match DataFrame index.\n",
      "  orders_in_interval = trips[(trips['tpep_pickup_datetime'] >= time) & (df['tpep_pickup_datetime'] < next_time)]\n"
     ]
    },
    {
     "name": "stdout",
     "output_type": "stream",
     "text": [
      "560done\n"
     ]
    },
    {
     "name": "stderr",
     "output_type": "stream",
     "text": [
      "/var/folders/0x/k389_vt16p1gjts_tn1qjff40000gn/T/ipykernel_1202/1482100882.py:4: UserWarning: Boolean Series key will be reindexed to match DataFrame index.\n",
      "  orders_in_interval = trips[(trips['tpep_pickup_datetime'] >= time) & (df['tpep_pickup_datetime'] < next_time)]\n",
      "/var/folders/0x/k389_vt16p1gjts_tn1qjff40000gn/T/ipykernel_1202/1482100882.py:4: UserWarning: Boolean Series key will be reindexed to match DataFrame index.\n",
      "  orders_in_interval = trips[(trips['tpep_pickup_datetime'] >= time) & (df['tpep_pickup_datetime'] < next_time)]\n",
      "/var/folders/0x/k389_vt16p1gjts_tn1qjff40000gn/T/ipykernel_1202/1482100882.py:4: UserWarning: Boolean Series key will be reindexed to match DataFrame index.\n",
      "  orders_in_interval = trips[(trips['tpep_pickup_datetime'] >= time) & (df['tpep_pickup_datetime'] < next_time)]\n",
      "/var/folders/0x/k389_vt16p1gjts_tn1qjff40000gn/T/ipykernel_1202/1482100882.py:4: UserWarning: Boolean Series key will be reindexed to match DataFrame index.\n",
      "  orders_in_interval = trips[(trips['tpep_pickup_datetime'] >= time) & (df['tpep_pickup_datetime'] < next_time)]\n",
      "/var/folders/0x/k389_vt16p1gjts_tn1qjff40000gn/T/ipykernel_1202/1482100882.py:4: UserWarning: Boolean Series key will be reindexed to match DataFrame index.\n",
      "  orders_in_interval = trips[(trips['tpep_pickup_datetime'] >= time) & (df['tpep_pickup_datetime'] < next_time)]\n",
      "/var/folders/0x/k389_vt16p1gjts_tn1qjff40000gn/T/ipykernel_1202/1482100882.py:4: UserWarning: Boolean Series key will be reindexed to match DataFrame index.\n",
      "  orders_in_interval = trips[(trips['tpep_pickup_datetime'] >= time) & (df['tpep_pickup_datetime'] < next_time)]\n",
      "/var/folders/0x/k389_vt16p1gjts_tn1qjff40000gn/T/ipykernel_1202/1482100882.py:4: UserWarning: Boolean Series key will be reindexed to match DataFrame index.\n",
      "  orders_in_interval = trips[(trips['tpep_pickup_datetime'] >= time) & (df['tpep_pickup_datetime'] < next_time)]\n",
      "/var/folders/0x/k389_vt16p1gjts_tn1qjff40000gn/T/ipykernel_1202/1482100882.py:4: UserWarning: Boolean Series key will be reindexed to match DataFrame index.\n",
      "  orders_in_interval = trips[(trips['tpep_pickup_datetime'] >= time) & (df['tpep_pickup_datetime'] < next_time)]\n",
      "/var/folders/0x/k389_vt16p1gjts_tn1qjff40000gn/T/ipykernel_1202/1482100882.py:4: UserWarning: Boolean Series key will be reindexed to match DataFrame index.\n",
      "  orders_in_interval = trips[(trips['tpep_pickup_datetime'] >= time) & (df['tpep_pickup_datetime'] < next_time)]\n",
      "/var/folders/0x/k389_vt16p1gjts_tn1qjff40000gn/T/ipykernel_1202/1482100882.py:4: UserWarning: Boolean Series key will be reindexed to match DataFrame index.\n",
      "  orders_in_interval = trips[(trips['tpep_pickup_datetime'] >= time) & (df['tpep_pickup_datetime'] < next_time)]\n"
     ]
    },
    {
     "name": "stdout",
     "output_type": "stream",
     "text": [
      "570done\n"
     ]
    },
    {
     "name": "stderr",
     "output_type": "stream",
     "text": [
      "/var/folders/0x/k389_vt16p1gjts_tn1qjff40000gn/T/ipykernel_1202/1482100882.py:4: UserWarning: Boolean Series key will be reindexed to match DataFrame index.\n",
      "  orders_in_interval = trips[(trips['tpep_pickup_datetime'] >= time) & (df['tpep_pickup_datetime'] < next_time)]\n",
      "/var/folders/0x/k389_vt16p1gjts_tn1qjff40000gn/T/ipykernel_1202/1482100882.py:4: UserWarning: Boolean Series key will be reindexed to match DataFrame index.\n",
      "  orders_in_interval = trips[(trips['tpep_pickup_datetime'] >= time) & (df['tpep_pickup_datetime'] < next_time)]\n",
      "/var/folders/0x/k389_vt16p1gjts_tn1qjff40000gn/T/ipykernel_1202/1482100882.py:4: UserWarning: Boolean Series key will be reindexed to match DataFrame index.\n",
      "  orders_in_interval = trips[(trips['tpep_pickup_datetime'] >= time) & (df['tpep_pickup_datetime'] < next_time)]\n",
      "/var/folders/0x/k389_vt16p1gjts_tn1qjff40000gn/T/ipykernel_1202/1482100882.py:4: UserWarning: Boolean Series key will be reindexed to match DataFrame index.\n",
      "  orders_in_interval = trips[(trips['tpep_pickup_datetime'] >= time) & (df['tpep_pickup_datetime'] < next_time)]\n",
      "/var/folders/0x/k389_vt16p1gjts_tn1qjff40000gn/T/ipykernel_1202/1482100882.py:4: UserWarning: Boolean Series key will be reindexed to match DataFrame index.\n",
      "  orders_in_interval = trips[(trips['tpep_pickup_datetime'] >= time) & (df['tpep_pickup_datetime'] < next_time)]\n",
      "/var/folders/0x/k389_vt16p1gjts_tn1qjff40000gn/T/ipykernel_1202/1482100882.py:4: UserWarning: Boolean Series key will be reindexed to match DataFrame index.\n",
      "  orders_in_interval = trips[(trips['tpep_pickup_datetime'] >= time) & (df['tpep_pickup_datetime'] < next_time)]\n",
      "/var/folders/0x/k389_vt16p1gjts_tn1qjff40000gn/T/ipykernel_1202/1482100882.py:4: UserWarning: Boolean Series key will be reindexed to match DataFrame index.\n",
      "  orders_in_interval = trips[(trips['tpep_pickup_datetime'] >= time) & (df['tpep_pickup_datetime'] < next_time)]\n",
      "/var/folders/0x/k389_vt16p1gjts_tn1qjff40000gn/T/ipykernel_1202/1482100882.py:4: UserWarning: Boolean Series key will be reindexed to match DataFrame index.\n",
      "  orders_in_interval = trips[(trips['tpep_pickup_datetime'] >= time) & (df['tpep_pickup_datetime'] < next_time)]\n",
      "/var/folders/0x/k389_vt16p1gjts_tn1qjff40000gn/T/ipykernel_1202/1482100882.py:4: UserWarning: Boolean Series key will be reindexed to match DataFrame index.\n",
      "  orders_in_interval = trips[(trips['tpep_pickup_datetime'] >= time) & (df['tpep_pickup_datetime'] < next_time)]\n",
      "/var/folders/0x/k389_vt16p1gjts_tn1qjff40000gn/T/ipykernel_1202/1482100882.py:4: UserWarning: Boolean Series key will be reindexed to match DataFrame index.\n",
      "  orders_in_interval = trips[(trips['tpep_pickup_datetime'] >= time) & (df['tpep_pickup_datetime'] < next_time)]\n"
     ]
    },
    {
     "name": "stdout",
     "output_type": "stream",
     "text": [
      "580done\n"
     ]
    },
    {
     "name": "stderr",
     "output_type": "stream",
     "text": [
      "/var/folders/0x/k389_vt16p1gjts_tn1qjff40000gn/T/ipykernel_1202/1482100882.py:4: UserWarning: Boolean Series key will be reindexed to match DataFrame index.\n",
      "  orders_in_interval = trips[(trips['tpep_pickup_datetime'] >= time) & (df['tpep_pickup_datetime'] < next_time)]\n",
      "/var/folders/0x/k389_vt16p1gjts_tn1qjff40000gn/T/ipykernel_1202/1482100882.py:4: UserWarning: Boolean Series key will be reindexed to match DataFrame index.\n",
      "  orders_in_interval = trips[(trips['tpep_pickup_datetime'] >= time) & (df['tpep_pickup_datetime'] < next_time)]\n",
      "/var/folders/0x/k389_vt16p1gjts_tn1qjff40000gn/T/ipykernel_1202/1482100882.py:4: UserWarning: Boolean Series key will be reindexed to match DataFrame index.\n",
      "  orders_in_interval = trips[(trips['tpep_pickup_datetime'] >= time) & (df['tpep_pickup_datetime'] < next_time)]\n",
      "/var/folders/0x/k389_vt16p1gjts_tn1qjff40000gn/T/ipykernel_1202/1482100882.py:4: UserWarning: Boolean Series key will be reindexed to match DataFrame index.\n",
      "  orders_in_interval = trips[(trips['tpep_pickup_datetime'] >= time) & (df['tpep_pickup_datetime'] < next_time)]\n",
      "/var/folders/0x/k389_vt16p1gjts_tn1qjff40000gn/T/ipykernel_1202/1482100882.py:4: UserWarning: Boolean Series key will be reindexed to match DataFrame index.\n",
      "  orders_in_interval = trips[(trips['tpep_pickup_datetime'] >= time) & (df['tpep_pickup_datetime'] < next_time)]\n",
      "/var/folders/0x/k389_vt16p1gjts_tn1qjff40000gn/T/ipykernel_1202/1482100882.py:4: UserWarning: Boolean Series key will be reindexed to match DataFrame index.\n",
      "  orders_in_interval = trips[(trips['tpep_pickup_datetime'] >= time) & (df['tpep_pickup_datetime'] < next_time)]\n",
      "/var/folders/0x/k389_vt16p1gjts_tn1qjff40000gn/T/ipykernel_1202/1482100882.py:4: UserWarning: Boolean Series key will be reindexed to match DataFrame index.\n",
      "  orders_in_interval = trips[(trips['tpep_pickup_datetime'] >= time) & (df['tpep_pickup_datetime'] < next_time)]\n",
      "/var/folders/0x/k389_vt16p1gjts_tn1qjff40000gn/T/ipykernel_1202/1482100882.py:4: UserWarning: Boolean Series key will be reindexed to match DataFrame index.\n",
      "  orders_in_interval = trips[(trips['tpep_pickup_datetime'] >= time) & (df['tpep_pickup_datetime'] < next_time)]\n",
      "/var/folders/0x/k389_vt16p1gjts_tn1qjff40000gn/T/ipykernel_1202/1482100882.py:4: UserWarning: Boolean Series key will be reindexed to match DataFrame index.\n",
      "  orders_in_interval = trips[(trips['tpep_pickup_datetime'] >= time) & (df['tpep_pickup_datetime'] < next_time)]\n",
      "/var/folders/0x/k389_vt16p1gjts_tn1qjff40000gn/T/ipykernel_1202/1482100882.py:4: UserWarning: Boolean Series key will be reindexed to match DataFrame index.\n",
      "  orders_in_interval = trips[(trips['tpep_pickup_datetime'] >= time) & (df['tpep_pickup_datetime'] < next_time)]\n"
     ]
    },
    {
     "name": "stdout",
     "output_type": "stream",
     "text": [
      "590done\n"
     ]
    },
    {
     "name": "stderr",
     "output_type": "stream",
     "text": [
      "/var/folders/0x/k389_vt16p1gjts_tn1qjff40000gn/T/ipykernel_1202/1482100882.py:4: UserWarning: Boolean Series key will be reindexed to match DataFrame index.\n",
      "  orders_in_interval = trips[(trips['tpep_pickup_datetime'] >= time) & (df['tpep_pickup_datetime'] < next_time)]\n",
      "/var/folders/0x/k389_vt16p1gjts_tn1qjff40000gn/T/ipykernel_1202/1482100882.py:4: UserWarning: Boolean Series key will be reindexed to match DataFrame index.\n",
      "  orders_in_interval = trips[(trips['tpep_pickup_datetime'] >= time) & (df['tpep_pickup_datetime'] < next_time)]\n",
      "/var/folders/0x/k389_vt16p1gjts_tn1qjff40000gn/T/ipykernel_1202/1482100882.py:4: UserWarning: Boolean Series key will be reindexed to match DataFrame index.\n",
      "  orders_in_interval = trips[(trips['tpep_pickup_datetime'] >= time) & (df['tpep_pickup_datetime'] < next_time)]\n",
      "/var/folders/0x/k389_vt16p1gjts_tn1qjff40000gn/T/ipykernel_1202/1482100882.py:4: UserWarning: Boolean Series key will be reindexed to match DataFrame index.\n",
      "  orders_in_interval = trips[(trips['tpep_pickup_datetime'] >= time) & (df['tpep_pickup_datetime'] < next_time)]\n",
      "/var/folders/0x/k389_vt16p1gjts_tn1qjff40000gn/T/ipykernel_1202/1482100882.py:4: UserWarning: Boolean Series key will be reindexed to match DataFrame index.\n",
      "  orders_in_interval = trips[(trips['tpep_pickup_datetime'] >= time) & (df['tpep_pickup_datetime'] < next_time)]\n",
      "/var/folders/0x/k389_vt16p1gjts_tn1qjff40000gn/T/ipykernel_1202/1482100882.py:4: UserWarning: Boolean Series key will be reindexed to match DataFrame index.\n",
      "  orders_in_interval = trips[(trips['tpep_pickup_datetime'] >= time) & (df['tpep_pickup_datetime'] < next_time)]\n",
      "/var/folders/0x/k389_vt16p1gjts_tn1qjff40000gn/T/ipykernel_1202/1482100882.py:4: UserWarning: Boolean Series key will be reindexed to match DataFrame index.\n",
      "  orders_in_interval = trips[(trips['tpep_pickup_datetime'] >= time) & (df['tpep_pickup_datetime'] < next_time)]\n",
      "/var/folders/0x/k389_vt16p1gjts_tn1qjff40000gn/T/ipykernel_1202/1482100882.py:4: UserWarning: Boolean Series key will be reindexed to match DataFrame index.\n",
      "  orders_in_interval = trips[(trips['tpep_pickup_datetime'] >= time) & (df['tpep_pickup_datetime'] < next_time)]\n",
      "/var/folders/0x/k389_vt16p1gjts_tn1qjff40000gn/T/ipykernel_1202/1482100882.py:4: UserWarning: Boolean Series key will be reindexed to match DataFrame index.\n",
      "  orders_in_interval = trips[(trips['tpep_pickup_datetime'] >= time) & (df['tpep_pickup_datetime'] < next_time)]\n",
      "/var/folders/0x/k389_vt16p1gjts_tn1qjff40000gn/T/ipykernel_1202/1482100882.py:4: UserWarning: Boolean Series key will be reindexed to match DataFrame index.\n",
      "  orders_in_interval = trips[(trips['tpep_pickup_datetime'] >= time) & (df['tpep_pickup_datetime'] < next_time)]\n"
     ]
    },
    {
     "name": "stdout",
     "output_type": "stream",
     "text": [
      "600done\n"
     ]
    },
    {
     "name": "stderr",
     "output_type": "stream",
     "text": [
      "/var/folders/0x/k389_vt16p1gjts_tn1qjff40000gn/T/ipykernel_1202/1482100882.py:4: UserWarning: Boolean Series key will be reindexed to match DataFrame index.\n",
      "  orders_in_interval = trips[(trips['tpep_pickup_datetime'] >= time) & (df['tpep_pickup_datetime'] < next_time)]\n",
      "/var/folders/0x/k389_vt16p1gjts_tn1qjff40000gn/T/ipykernel_1202/1482100882.py:4: UserWarning: Boolean Series key will be reindexed to match DataFrame index.\n",
      "  orders_in_interval = trips[(trips['tpep_pickup_datetime'] >= time) & (df['tpep_pickup_datetime'] < next_time)]\n",
      "/var/folders/0x/k389_vt16p1gjts_tn1qjff40000gn/T/ipykernel_1202/1482100882.py:4: UserWarning: Boolean Series key will be reindexed to match DataFrame index.\n",
      "  orders_in_interval = trips[(trips['tpep_pickup_datetime'] >= time) & (df['tpep_pickup_datetime'] < next_time)]\n",
      "/var/folders/0x/k389_vt16p1gjts_tn1qjff40000gn/T/ipykernel_1202/1482100882.py:4: UserWarning: Boolean Series key will be reindexed to match DataFrame index.\n",
      "  orders_in_interval = trips[(trips['tpep_pickup_datetime'] >= time) & (df['tpep_pickup_datetime'] < next_time)]\n",
      "/var/folders/0x/k389_vt16p1gjts_tn1qjff40000gn/T/ipykernel_1202/1482100882.py:4: UserWarning: Boolean Series key will be reindexed to match DataFrame index.\n",
      "  orders_in_interval = trips[(trips['tpep_pickup_datetime'] >= time) & (df['tpep_pickup_datetime'] < next_time)]\n",
      "/var/folders/0x/k389_vt16p1gjts_tn1qjff40000gn/T/ipykernel_1202/1482100882.py:4: UserWarning: Boolean Series key will be reindexed to match DataFrame index.\n",
      "  orders_in_interval = trips[(trips['tpep_pickup_datetime'] >= time) & (df['tpep_pickup_datetime'] < next_time)]\n",
      "/var/folders/0x/k389_vt16p1gjts_tn1qjff40000gn/T/ipykernel_1202/1482100882.py:4: UserWarning: Boolean Series key will be reindexed to match DataFrame index.\n",
      "  orders_in_interval = trips[(trips['tpep_pickup_datetime'] >= time) & (df['tpep_pickup_datetime'] < next_time)]\n",
      "/var/folders/0x/k389_vt16p1gjts_tn1qjff40000gn/T/ipykernel_1202/1482100882.py:4: UserWarning: Boolean Series key will be reindexed to match DataFrame index.\n",
      "  orders_in_interval = trips[(trips['tpep_pickup_datetime'] >= time) & (df['tpep_pickup_datetime'] < next_time)]\n",
      "/var/folders/0x/k389_vt16p1gjts_tn1qjff40000gn/T/ipykernel_1202/1482100882.py:4: UserWarning: Boolean Series key will be reindexed to match DataFrame index.\n",
      "  orders_in_interval = trips[(trips['tpep_pickup_datetime'] >= time) & (df['tpep_pickup_datetime'] < next_time)]\n",
      "/var/folders/0x/k389_vt16p1gjts_tn1qjff40000gn/T/ipykernel_1202/1482100882.py:4: UserWarning: Boolean Series key will be reindexed to match DataFrame index.\n",
      "  orders_in_interval = trips[(trips['tpep_pickup_datetime'] >= time) & (df['tpep_pickup_datetime'] < next_time)]\n"
     ]
    },
    {
     "name": "stdout",
     "output_type": "stream",
     "text": [
      "610done\n"
     ]
    },
    {
     "name": "stderr",
     "output_type": "stream",
     "text": [
      "/var/folders/0x/k389_vt16p1gjts_tn1qjff40000gn/T/ipykernel_1202/1482100882.py:4: UserWarning: Boolean Series key will be reindexed to match DataFrame index.\n",
      "  orders_in_interval = trips[(trips['tpep_pickup_datetime'] >= time) & (df['tpep_pickup_datetime'] < next_time)]\n",
      "/var/folders/0x/k389_vt16p1gjts_tn1qjff40000gn/T/ipykernel_1202/1482100882.py:4: UserWarning: Boolean Series key will be reindexed to match DataFrame index.\n",
      "  orders_in_interval = trips[(trips['tpep_pickup_datetime'] >= time) & (df['tpep_pickup_datetime'] < next_time)]\n",
      "/var/folders/0x/k389_vt16p1gjts_tn1qjff40000gn/T/ipykernel_1202/1482100882.py:4: UserWarning: Boolean Series key will be reindexed to match DataFrame index.\n",
      "  orders_in_interval = trips[(trips['tpep_pickup_datetime'] >= time) & (df['tpep_pickup_datetime'] < next_time)]\n",
      "/var/folders/0x/k389_vt16p1gjts_tn1qjff40000gn/T/ipykernel_1202/1482100882.py:4: UserWarning: Boolean Series key will be reindexed to match DataFrame index.\n",
      "  orders_in_interval = trips[(trips['tpep_pickup_datetime'] >= time) & (df['tpep_pickup_datetime'] < next_time)]\n",
      "/var/folders/0x/k389_vt16p1gjts_tn1qjff40000gn/T/ipykernel_1202/1482100882.py:4: UserWarning: Boolean Series key will be reindexed to match DataFrame index.\n",
      "  orders_in_interval = trips[(trips['tpep_pickup_datetime'] >= time) & (df['tpep_pickup_datetime'] < next_time)]\n",
      "/var/folders/0x/k389_vt16p1gjts_tn1qjff40000gn/T/ipykernel_1202/1482100882.py:4: UserWarning: Boolean Series key will be reindexed to match DataFrame index.\n",
      "  orders_in_interval = trips[(trips['tpep_pickup_datetime'] >= time) & (df['tpep_pickup_datetime'] < next_time)]\n",
      "/var/folders/0x/k389_vt16p1gjts_tn1qjff40000gn/T/ipykernel_1202/1482100882.py:4: UserWarning: Boolean Series key will be reindexed to match DataFrame index.\n",
      "  orders_in_interval = trips[(trips['tpep_pickup_datetime'] >= time) & (df['tpep_pickup_datetime'] < next_time)]\n",
      "/var/folders/0x/k389_vt16p1gjts_tn1qjff40000gn/T/ipykernel_1202/1482100882.py:4: UserWarning: Boolean Series key will be reindexed to match DataFrame index.\n",
      "  orders_in_interval = trips[(trips['tpep_pickup_datetime'] >= time) & (df['tpep_pickup_datetime'] < next_time)]\n",
      "/var/folders/0x/k389_vt16p1gjts_tn1qjff40000gn/T/ipykernel_1202/1482100882.py:4: UserWarning: Boolean Series key will be reindexed to match DataFrame index.\n",
      "  orders_in_interval = trips[(trips['tpep_pickup_datetime'] >= time) & (df['tpep_pickup_datetime'] < next_time)]\n",
      "/var/folders/0x/k389_vt16p1gjts_tn1qjff40000gn/T/ipykernel_1202/1482100882.py:4: UserWarning: Boolean Series key will be reindexed to match DataFrame index.\n",
      "  orders_in_interval = trips[(trips['tpep_pickup_datetime'] >= time) & (df['tpep_pickup_datetime'] < next_time)]\n"
     ]
    },
    {
     "name": "stdout",
     "output_type": "stream",
     "text": [
      "620done\n"
     ]
    },
    {
     "name": "stderr",
     "output_type": "stream",
     "text": [
      "/var/folders/0x/k389_vt16p1gjts_tn1qjff40000gn/T/ipykernel_1202/1482100882.py:4: UserWarning: Boolean Series key will be reindexed to match DataFrame index.\n",
      "  orders_in_interval = trips[(trips['tpep_pickup_datetime'] >= time) & (df['tpep_pickup_datetime'] < next_time)]\n",
      "/var/folders/0x/k389_vt16p1gjts_tn1qjff40000gn/T/ipykernel_1202/1482100882.py:4: UserWarning: Boolean Series key will be reindexed to match DataFrame index.\n",
      "  orders_in_interval = trips[(trips['tpep_pickup_datetime'] >= time) & (df['tpep_pickup_datetime'] < next_time)]\n",
      "/var/folders/0x/k389_vt16p1gjts_tn1qjff40000gn/T/ipykernel_1202/1482100882.py:4: UserWarning: Boolean Series key will be reindexed to match DataFrame index.\n",
      "  orders_in_interval = trips[(trips['tpep_pickup_datetime'] >= time) & (df['tpep_pickup_datetime'] < next_time)]\n",
      "/var/folders/0x/k389_vt16p1gjts_tn1qjff40000gn/T/ipykernel_1202/1482100882.py:4: UserWarning: Boolean Series key will be reindexed to match DataFrame index.\n",
      "  orders_in_interval = trips[(trips['tpep_pickup_datetime'] >= time) & (df['tpep_pickup_datetime'] < next_time)]\n",
      "/var/folders/0x/k389_vt16p1gjts_tn1qjff40000gn/T/ipykernel_1202/1482100882.py:4: UserWarning: Boolean Series key will be reindexed to match DataFrame index.\n",
      "  orders_in_interval = trips[(trips['tpep_pickup_datetime'] >= time) & (df['tpep_pickup_datetime'] < next_time)]\n",
      "/var/folders/0x/k389_vt16p1gjts_tn1qjff40000gn/T/ipykernel_1202/1482100882.py:4: UserWarning: Boolean Series key will be reindexed to match DataFrame index.\n",
      "  orders_in_interval = trips[(trips['tpep_pickup_datetime'] >= time) & (df['tpep_pickup_datetime'] < next_time)]\n",
      "/var/folders/0x/k389_vt16p1gjts_tn1qjff40000gn/T/ipykernel_1202/1482100882.py:4: UserWarning: Boolean Series key will be reindexed to match DataFrame index.\n",
      "  orders_in_interval = trips[(trips['tpep_pickup_datetime'] >= time) & (df['tpep_pickup_datetime'] < next_time)]\n",
      "/var/folders/0x/k389_vt16p1gjts_tn1qjff40000gn/T/ipykernel_1202/1482100882.py:4: UserWarning: Boolean Series key will be reindexed to match DataFrame index.\n",
      "  orders_in_interval = trips[(trips['tpep_pickup_datetime'] >= time) & (df['tpep_pickup_datetime'] < next_time)]\n",
      "/var/folders/0x/k389_vt16p1gjts_tn1qjff40000gn/T/ipykernel_1202/1482100882.py:4: UserWarning: Boolean Series key will be reindexed to match DataFrame index.\n",
      "  orders_in_interval = trips[(trips['tpep_pickup_datetime'] >= time) & (df['tpep_pickup_datetime'] < next_time)]\n",
      "/var/folders/0x/k389_vt16p1gjts_tn1qjff40000gn/T/ipykernel_1202/1482100882.py:4: UserWarning: Boolean Series key will be reindexed to match DataFrame index.\n",
      "  orders_in_interval = trips[(trips['tpep_pickup_datetime'] >= time) & (df['tpep_pickup_datetime'] < next_time)]\n"
     ]
    },
    {
     "name": "stdout",
     "output_type": "stream",
     "text": [
      "630done\n"
     ]
    },
    {
     "name": "stderr",
     "output_type": "stream",
     "text": [
      "/var/folders/0x/k389_vt16p1gjts_tn1qjff40000gn/T/ipykernel_1202/1482100882.py:4: UserWarning: Boolean Series key will be reindexed to match DataFrame index.\n",
      "  orders_in_interval = trips[(trips['tpep_pickup_datetime'] >= time) & (df['tpep_pickup_datetime'] < next_time)]\n",
      "/var/folders/0x/k389_vt16p1gjts_tn1qjff40000gn/T/ipykernel_1202/1482100882.py:4: UserWarning: Boolean Series key will be reindexed to match DataFrame index.\n",
      "  orders_in_interval = trips[(trips['tpep_pickup_datetime'] >= time) & (df['tpep_pickup_datetime'] < next_time)]\n",
      "/var/folders/0x/k389_vt16p1gjts_tn1qjff40000gn/T/ipykernel_1202/1482100882.py:4: UserWarning: Boolean Series key will be reindexed to match DataFrame index.\n",
      "  orders_in_interval = trips[(trips['tpep_pickup_datetime'] >= time) & (df['tpep_pickup_datetime'] < next_time)]\n",
      "/var/folders/0x/k389_vt16p1gjts_tn1qjff40000gn/T/ipykernel_1202/1482100882.py:4: UserWarning: Boolean Series key will be reindexed to match DataFrame index.\n",
      "  orders_in_interval = trips[(trips['tpep_pickup_datetime'] >= time) & (df['tpep_pickup_datetime'] < next_time)]\n",
      "/var/folders/0x/k389_vt16p1gjts_tn1qjff40000gn/T/ipykernel_1202/1482100882.py:4: UserWarning: Boolean Series key will be reindexed to match DataFrame index.\n",
      "  orders_in_interval = trips[(trips['tpep_pickup_datetime'] >= time) & (df['tpep_pickup_datetime'] < next_time)]\n",
      "/var/folders/0x/k389_vt16p1gjts_tn1qjff40000gn/T/ipykernel_1202/1482100882.py:4: UserWarning: Boolean Series key will be reindexed to match DataFrame index.\n",
      "  orders_in_interval = trips[(trips['tpep_pickup_datetime'] >= time) & (df['tpep_pickup_datetime'] < next_time)]\n",
      "/var/folders/0x/k389_vt16p1gjts_tn1qjff40000gn/T/ipykernel_1202/1482100882.py:4: UserWarning: Boolean Series key will be reindexed to match DataFrame index.\n",
      "  orders_in_interval = trips[(trips['tpep_pickup_datetime'] >= time) & (df['tpep_pickup_datetime'] < next_time)]\n",
      "/var/folders/0x/k389_vt16p1gjts_tn1qjff40000gn/T/ipykernel_1202/1482100882.py:4: UserWarning: Boolean Series key will be reindexed to match DataFrame index.\n",
      "  orders_in_interval = trips[(trips['tpep_pickup_datetime'] >= time) & (df['tpep_pickup_datetime'] < next_time)]\n",
      "/var/folders/0x/k389_vt16p1gjts_tn1qjff40000gn/T/ipykernel_1202/1482100882.py:4: UserWarning: Boolean Series key will be reindexed to match DataFrame index.\n",
      "  orders_in_interval = trips[(trips['tpep_pickup_datetime'] >= time) & (df['tpep_pickup_datetime'] < next_time)]\n",
      "/var/folders/0x/k389_vt16p1gjts_tn1qjff40000gn/T/ipykernel_1202/1482100882.py:4: UserWarning: Boolean Series key will be reindexed to match DataFrame index.\n",
      "  orders_in_interval = trips[(trips['tpep_pickup_datetime'] >= time) & (df['tpep_pickup_datetime'] < next_time)]\n"
     ]
    },
    {
     "name": "stdout",
     "output_type": "stream",
     "text": [
      "640done\n"
     ]
    },
    {
     "name": "stderr",
     "output_type": "stream",
     "text": [
      "/var/folders/0x/k389_vt16p1gjts_tn1qjff40000gn/T/ipykernel_1202/1482100882.py:4: UserWarning: Boolean Series key will be reindexed to match DataFrame index.\n",
      "  orders_in_interval = trips[(trips['tpep_pickup_datetime'] >= time) & (df['tpep_pickup_datetime'] < next_time)]\n",
      "/var/folders/0x/k389_vt16p1gjts_tn1qjff40000gn/T/ipykernel_1202/1482100882.py:4: UserWarning: Boolean Series key will be reindexed to match DataFrame index.\n",
      "  orders_in_interval = trips[(trips['tpep_pickup_datetime'] >= time) & (df['tpep_pickup_datetime'] < next_time)]\n",
      "/var/folders/0x/k389_vt16p1gjts_tn1qjff40000gn/T/ipykernel_1202/1482100882.py:4: UserWarning: Boolean Series key will be reindexed to match DataFrame index.\n",
      "  orders_in_interval = trips[(trips['tpep_pickup_datetime'] >= time) & (df['tpep_pickup_datetime'] < next_time)]\n",
      "/var/folders/0x/k389_vt16p1gjts_tn1qjff40000gn/T/ipykernel_1202/1482100882.py:4: UserWarning: Boolean Series key will be reindexed to match DataFrame index.\n",
      "  orders_in_interval = trips[(trips['tpep_pickup_datetime'] >= time) & (df['tpep_pickup_datetime'] < next_time)]\n",
      "/var/folders/0x/k389_vt16p1gjts_tn1qjff40000gn/T/ipykernel_1202/1482100882.py:4: UserWarning: Boolean Series key will be reindexed to match DataFrame index.\n",
      "  orders_in_interval = trips[(trips['tpep_pickup_datetime'] >= time) & (df['tpep_pickup_datetime'] < next_time)]\n",
      "/var/folders/0x/k389_vt16p1gjts_tn1qjff40000gn/T/ipykernel_1202/1482100882.py:4: UserWarning: Boolean Series key will be reindexed to match DataFrame index.\n",
      "  orders_in_interval = trips[(trips['tpep_pickup_datetime'] >= time) & (df['tpep_pickup_datetime'] < next_time)]\n",
      "/var/folders/0x/k389_vt16p1gjts_tn1qjff40000gn/T/ipykernel_1202/1482100882.py:4: UserWarning: Boolean Series key will be reindexed to match DataFrame index.\n",
      "  orders_in_interval = trips[(trips['tpep_pickup_datetime'] >= time) & (df['tpep_pickup_datetime'] < next_time)]\n",
      "/var/folders/0x/k389_vt16p1gjts_tn1qjff40000gn/T/ipykernel_1202/1482100882.py:4: UserWarning: Boolean Series key will be reindexed to match DataFrame index.\n",
      "  orders_in_interval = trips[(trips['tpep_pickup_datetime'] >= time) & (df['tpep_pickup_datetime'] < next_time)]\n",
      "/var/folders/0x/k389_vt16p1gjts_tn1qjff40000gn/T/ipykernel_1202/1482100882.py:4: UserWarning: Boolean Series key will be reindexed to match DataFrame index.\n",
      "  orders_in_interval = trips[(trips['tpep_pickup_datetime'] >= time) & (df['tpep_pickup_datetime'] < next_time)]\n",
      "/var/folders/0x/k389_vt16p1gjts_tn1qjff40000gn/T/ipykernel_1202/1482100882.py:4: UserWarning: Boolean Series key will be reindexed to match DataFrame index.\n",
      "  orders_in_interval = trips[(trips['tpep_pickup_datetime'] >= time) & (df['tpep_pickup_datetime'] < next_time)]\n"
     ]
    },
    {
     "name": "stdout",
     "output_type": "stream",
     "text": [
      "650done\n"
     ]
    },
    {
     "name": "stderr",
     "output_type": "stream",
     "text": [
      "/var/folders/0x/k389_vt16p1gjts_tn1qjff40000gn/T/ipykernel_1202/1482100882.py:4: UserWarning: Boolean Series key will be reindexed to match DataFrame index.\n",
      "  orders_in_interval = trips[(trips['tpep_pickup_datetime'] >= time) & (df['tpep_pickup_datetime'] < next_time)]\n",
      "/var/folders/0x/k389_vt16p1gjts_tn1qjff40000gn/T/ipykernel_1202/1482100882.py:4: UserWarning: Boolean Series key will be reindexed to match DataFrame index.\n",
      "  orders_in_interval = trips[(trips['tpep_pickup_datetime'] >= time) & (df['tpep_pickup_datetime'] < next_time)]\n",
      "/var/folders/0x/k389_vt16p1gjts_tn1qjff40000gn/T/ipykernel_1202/1482100882.py:4: UserWarning: Boolean Series key will be reindexed to match DataFrame index.\n",
      "  orders_in_interval = trips[(trips['tpep_pickup_datetime'] >= time) & (df['tpep_pickup_datetime'] < next_time)]\n",
      "/var/folders/0x/k389_vt16p1gjts_tn1qjff40000gn/T/ipykernel_1202/1482100882.py:4: UserWarning: Boolean Series key will be reindexed to match DataFrame index.\n",
      "  orders_in_interval = trips[(trips['tpep_pickup_datetime'] >= time) & (df['tpep_pickup_datetime'] < next_time)]\n",
      "/var/folders/0x/k389_vt16p1gjts_tn1qjff40000gn/T/ipykernel_1202/1482100882.py:4: UserWarning: Boolean Series key will be reindexed to match DataFrame index.\n",
      "  orders_in_interval = trips[(trips['tpep_pickup_datetime'] >= time) & (df['tpep_pickup_datetime'] < next_time)]\n",
      "/var/folders/0x/k389_vt16p1gjts_tn1qjff40000gn/T/ipykernel_1202/1482100882.py:4: UserWarning: Boolean Series key will be reindexed to match DataFrame index.\n",
      "  orders_in_interval = trips[(trips['tpep_pickup_datetime'] >= time) & (df['tpep_pickup_datetime'] < next_time)]\n",
      "/var/folders/0x/k389_vt16p1gjts_tn1qjff40000gn/T/ipykernel_1202/1482100882.py:4: UserWarning: Boolean Series key will be reindexed to match DataFrame index.\n",
      "  orders_in_interval = trips[(trips['tpep_pickup_datetime'] >= time) & (df['tpep_pickup_datetime'] < next_time)]\n",
      "/var/folders/0x/k389_vt16p1gjts_tn1qjff40000gn/T/ipykernel_1202/1482100882.py:4: UserWarning: Boolean Series key will be reindexed to match DataFrame index.\n",
      "  orders_in_interval = trips[(trips['tpep_pickup_datetime'] >= time) & (df['tpep_pickup_datetime'] < next_time)]\n",
      "/var/folders/0x/k389_vt16p1gjts_tn1qjff40000gn/T/ipykernel_1202/1482100882.py:4: UserWarning: Boolean Series key will be reindexed to match DataFrame index.\n",
      "  orders_in_interval = trips[(trips['tpep_pickup_datetime'] >= time) & (df['tpep_pickup_datetime'] < next_time)]\n",
      "/var/folders/0x/k389_vt16p1gjts_tn1qjff40000gn/T/ipykernel_1202/1482100882.py:4: UserWarning: Boolean Series key will be reindexed to match DataFrame index.\n",
      "  orders_in_interval = trips[(trips['tpep_pickup_datetime'] >= time) & (df['tpep_pickup_datetime'] < next_time)]\n"
     ]
    },
    {
     "name": "stdout",
     "output_type": "stream",
     "text": [
      "660done\n"
     ]
    },
    {
     "name": "stderr",
     "output_type": "stream",
     "text": [
      "/var/folders/0x/k389_vt16p1gjts_tn1qjff40000gn/T/ipykernel_1202/1482100882.py:4: UserWarning: Boolean Series key will be reindexed to match DataFrame index.\n",
      "  orders_in_interval = trips[(trips['tpep_pickup_datetime'] >= time) & (df['tpep_pickup_datetime'] < next_time)]\n",
      "/var/folders/0x/k389_vt16p1gjts_tn1qjff40000gn/T/ipykernel_1202/1482100882.py:4: UserWarning: Boolean Series key will be reindexed to match DataFrame index.\n",
      "  orders_in_interval = trips[(trips['tpep_pickup_datetime'] >= time) & (df['tpep_pickup_datetime'] < next_time)]\n",
      "/var/folders/0x/k389_vt16p1gjts_tn1qjff40000gn/T/ipykernel_1202/1482100882.py:4: UserWarning: Boolean Series key will be reindexed to match DataFrame index.\n",
      "  orders_in_interval = trips[(trips['tpep_pickup_datetime'] >= time) & (df['tpep_pickup_datetime'] < next_time)]\n",
      "/var/folders/0x/k389_vt16p1gjts_tn1qjff40000gn/T/ipykernel_1202/1482100882.py:4: UserWarning: Boolean Series key will be reindexed to match DataFrame index.\n",
      "  orders_in_interval = trips[(trips['tpep_pickup_datetime'] >= time) & (df['tpep_pickup_datetime'] < next_time)]\n",
      "/var/folders/0x/k389_vt16p1gjts_tn1qjff40000gn/T/ipykernel_1202/1482100882.py:4: UserWarning: Boolean Series key will be reindexed to match DataFrame index.\n",
      "  orders_in_interval = trips[(trips['tpep_pickup_datetime'] >= time) & (df['tpep_pickup_datetime'] < next_time)]\n",
      "/var/folders/0x/k389_vt16p1gjts_tn1qjff40000gn/T/ipykernel_1202/1482100882.py:4: UserWarning: Boolean Series key will be reindexed to match DataFrame index.\n",
      "  orders_in_interval = trips[(trips['tpep_pickup_datetime'] >= time) & (df['tpep_pickup_datetime'] < next_time)]\n",
      "/var/folders/0x/k389_vt16p1gjts_tn1qjff40000gn/T/ipykernel_1202/1482100882.py:4: UserWarning: Boolean Series key will be reindexed to match DataFrame index.\n",
      "  orders_in_interval = trips[(trips['tpep_pickup_datetime'] >= time) & (df['tpep_pickup_datetime'] < next_time)]\n",
      "/var/folders/0x/k389_vt16p1gjts_tn1qjff40000gn/T/ipykernel_1202/1482100882.py:4: UserWarning: Boolean Series key will be reindexed to match DataFrame index.\n",
      "  orders_in_interval = trips[(trips['tpep_pickup_datetime'] >= time) & (df['tpep_pickup_datetime'] < next_time)]\n",
      "/var/folders/0x/k389_vt16p1gjts_tn1qjff40000gn/T/ipykernel_1202/1482100882.py:4: UserWarning: Boolean Series key will be reindexed to match DataFrame index.\n",
      "  orders_in_interval = trips[(trips['tpep_pickup_datetime'] >= time) & (df['tpep_pickup_datetime'] < next_time)]\n",
      "/var/folders/0x/k389_vt16p1gjts_tn1qjff40000gn/T/ipykernel_1202/1482100882.py:4: UserWarning: Boolean Series key will be reindexed to match DataFrame index.\n",
      "  orders_in_interval = trips[(trips['tpep_pickup_datetime'] >= time) & (df['tpep_pickup_datetime'] < next_time)]\n"
     ]
    },
    {
     "name": "stdout",
     "output_type": "stream",
     "text": [
      "670done\n"
     ]
    },
    {
     "name": "stderr",
     "output_type": "stream",
     "text": [
      "/var/folders/0x/k389_vt16p1gjts_tn1qjff40000gn/T/ipykernel_1202/1482100882.py:4: UserWarning: Boolean Series key will be reindexed to match DataFrame index.\n",
      "  orders_in_interval = trips[(trips['tpep_pickup_datetime'] >= time) & (df['tpep_pickup_datetime'] < next_time)]\n",
      "/var/folders/0x/k389_vt16p1gjts_tn1qjff40000gn/T/ipykernel_1202/1482100882.py:4: UserWarning: Boolean Series key will be reindexed to match DataFrame index.\n",
      "  orders_in_interval = trips[(trips['tpep_pickup_datetime'] >= time) & (df['tpep_pickup_datetime'] < next_time)]\n",
      "/var/folders/0x/k389_vt16p1gjts_tn1qjff40000gn/T/ipykernel_1202/1482100882.py:4: UserWarning: Boolean Series key will be reindexed to match DataFrame index.\n",
      "  orders_in_interval = trips[(trips['tpep_pickup_datetime'] >= time) & (df['tpep_pickup_datetime'] < next_time)]\n",
      "/var/folders/0x/k389_vt16p1gjts_tn1qjff40000gn/T/ipykernel_1202/1482100882.py:4: UserWarning: Boolean Series key will be reindexed to match DataFrame index.\n",
      "  orders_in_interval = trips[(trips['tpep_pickup_datetime'] >= time) & (df['tpep_pickup_datetime'] < next_time)]\n",
      "/var/folders/0x/k389_vt16p1gjts_tn1qjff40000gn/T/ipykernel_1202/1482100882.py:4: UserWarning: Boolean Series key will be reindexed to match DataFrame index.\n",
      "  orders_in_interval = trips[(trips['tpep_pickup_datetime'] >= time) & (df['tpep_pickup_datetime'] < next_time)]\n",
      "/var/folders/0x/k389_vt16p1gjts_tn1qjff40000gn/T/ipykernel_1202/1482100882.py:4: UserWarning: Boolean Series key will be reindexed to match DataFrame index.\n",
      "  orders_in_interval = trips[(trips['tpep_pickup_datetime'] >= time) & (df['tpep_pickup_datetime'] < next_time)]\n",
      "/var/folders/0x/k389_vt16p1gjts_tn1qjff40000gn/T/ipykernel_1202/1482100882.py:4: UserWarning: Boolean Series key will be reindexed to match DataFrame index.\n",
      "  orders_in_interval = trips[(trips['tpep_pickup_datetime'] >= time) & (df['tpep_pickup_datetime'] < next_time)]\n",
      "/var/folders/0x/k389_vt16p1gjts_tn1qjff40000gn/T/ipykernel_1202/1482100882.py:4: UserWarning: Boolean Series key will be reindexed to match DataFrame index.\n",
      "  orders_in_interval = trips[(trips['tpep_pickup_datetime'] >= time) & (df['tpep_pickup_datetime'] < next_time)]\n",
      "/var/folders/0x/k389_vt16p1gjts_tn1qjff40000gn/T/ipykernel_1202/1482100882.py:4: UserWarning: Boolean Series key will be reindexed to match DataFrame index.\n",
      "  orders_in_interval = trips[(trips['tpep_pickup_datetime'] >= time) & (df['tpep_pickup_datetime'] < next_time)]\n",
      "/var/folders/0x/k389_vt16p1gjts_tn1qjff40000gn/T/ipykernel_1202/1482100882.py:4: UserWarning: Boolean Series key will be reindexed to match DataFrame index.\n",
      "  orders_in_interval = trips[(trips['tpep_pickup_datetime'] >= time) & (df['tpep_pickup_datetime'] < next_time)]\n"
     ]
    },
    {
     "name": "stdout",
     "output_type": "stream",
     "text": [
      "680done\n"
     ]
    },
    {
     "name": "stderr",
     "output_type": "stream",
     "text": [
      "/var/folders/0x/k389_vt16p1gjts_tn1qjff40000gn/T/ipykernel_1202/1482100882.py:4: UserWarning: Boolean Series key will be reindexed to match DataFrame index.\n",
      "  orders_in_interval = trips[(trips['tpep_pickup_datetime'] >= time) & (df['tpep_pickup_datetime'] < next_time)]\n",
      "/var/folders/0x/k389_vt16p1gjts_tn1qjff40000gn/T/ipykernel_1202/1482100882.py:4: UserWarning: Boolean Series key will be reindexed to match DataFrame index.\n",
      "  orders_in_interval = trips[(trips['tpep_pickup_datetime'] >= time) & (df['tpep_pickup_datetime'] < next_time)]\n",
      "/var/folders/0x/k389_vt16p1gjts_tn1qjff40000gn/T/ipykernel_1202/1482100882.py:4: UserWarning: Boolean Series key will be reindexed to match DataFrame index.\n",
      "  orders_in_interval = trips[(trips['tpep_pickup_datetime'] >= time) & (df['tpep_pickup_datetime'] < next_time)]\n",
      "/var/folders/0x/k389_vt16p1gjts_tn1qjff40000gn/T/ipykernel_1202/1482100882.py:4: UserWarning: Boolean Series key will be reindexed to match DataFrame index.\n",
      "  orders_in_interval = trips[(trips['tpep_pickup_datetime'] >= time) & (df['tpep_pickup_datetime'] < next_time)]\n",
      "/var/folders/0x/k389_vt16p1gjts_tn1qjff40000gn/T/ipykernel_1202/1482100882.py:4: UserWarning: Boolean Series key will be reindexed to match DataFrame index.\n",
      "  orders_in_interval = trips[(trips['tpep_pickup_datetime'] >= time) & (df['tpep_pickup_datetime'] < next_time)]\n",
      "/var/folders/0x/k389_vt16p1gjts_tn1qjff40000gn/T/ipykernel_1202/1482100882.py:4: UserWarning: Boolean Series key will be reindexed to match DataFrame index.\n",
      "  orders_in_interval = trips[(trips['tpep_pickup_datetime'] >= time) & (df['tpep_pickup_datetime'] < next_time)]\n",
      "/var/folders/0x/k389_vt16p1gjts_tn1qjff40000gn/T/ipykernel_1202/1482100882.py:4: UserWarning: Boolean Series key will be reindexed to match DataFrame index.\n",
      "  orders_in_interval = trips[(trips['tpep_pickup_datetime'] >= time) & (df['tpep_pickup_datetime'] < next_time)]\n",
      "/var/folders/0x/k389_vt16p1gjts_tn1qjff40000gn/T/ipykernel_1202/1482100882.py:4: UserWarning: Boolean Series key will be reindexed to match DataFrame index.\n",
      "  orders_in_interval = trips[(trips['tpep_pickup_datetime'] >= time) & (df['tpep_pickup_datetime'] < next_time)]\n",
      "/var/folders/0x/k389_vt16p1gjts_tn1qjff40000gn/T/ipykernel_1202/1482100882.py:4: UserWarning: Boolean Series key will be reindexed to match DataFrame index.\n",
      "  orders_in_interval = trips[(trips['tpep_pickup_datetime'] >= time) & (df['tpep_pickup_datetime'] < next_time)]\n",
      "/var/folders/0x/k389_vt16p1gjts_tn1qjff40000gn/T/ipykernel_1202/1482100882.py:4: UserWarning: Boolean Series key will be reindexed to match DataFrame index.\n",
      "  orders_in_interval = trips[(trips['tpep_pickup_datetime'] >= time) & (df['tpep_pickup_datetime'] < next_time)]\n"
     ]
    },
    {
     "name": "stdout",
     "output_type": "stream",
     "text": [
      "690done\n"
     ]
    },
    {
     "name": "stderr",
     "output_type": "stream",
     "text": [
      "/var/folders/0x/k389_vt16p1gjts_tn1qjff40000gn/T/ipykernel_1202/1482100882.py:4: UserWarning: Boolean Series key will be reindexed to match DataFrame index.\n",
      "  orders_in_interval = trips[(trips['tpep_pickup_datetime'] >= time) & (df['tpep_pickup_datetime'] < next_time)]\n",
      "/var/folders/0x/k389_vt16p1gjts_tn1qjff40000gn/T/ipykernel_1202/1482100882.py:4: UserWarning: Boolean Series key will be reindexed to match DataFrame index.\n",
      "  orders_in_interval = trips[(trips['tpep_pickup_datetime'] >= time) & (df['tpep_pickup_datetime'] < next_time)]\n",
      "/var/folders/0x/k389_vt16p1gjts_tn1qjff40000gn/T/ipykernel_1202/1482100882.py:4: UserWarning: Boolean Series key will be reindexed to match DataFrame index.\n",
      "  orders_in_interval = trips[(trips['tpep_pickup_datetime'] >= time) & (df['tpep_pickup_datetime'] < next_time)]\n",
      "/var/folders/0x/k389_vt16p1gjts_tn1qjff40000gn/T/ipykernel_1202/1482100882.py:4: UserWarning: Boolean Series key will be reindexed to match DataFrame index.\n",
      "  orders_in_interval = trips[(trips['tpep_pickup_datetime'] >= time) & (df['tpep_pickup_datetime'] < next_time)]\n",
      "/var/folders/0x/k389_vt16p1gjts_tn1qjff40000gn/T/ipykernel_1202/1482100882.py:4: UserWarning: Boolean Series key will be reindexed to match DataFrame index.\n",
      "  orders_in_interval = trips[(trips['tpep_pickup_datetime'] >= time) & (df['tpep_pickup_datetime'] < next_time)]\n",
      "/var/folders/0x/k389_vt16p1gjts_tn1qjff40000gn/T/ipykernel_1202/1482100882.py:4: UserWarning: Boolean Series key will be reindexed to match DataFrame index.\n",
      "  orders_in_interval = trips[(trips['tpep_pickup_datetime'] >= time) & (df['tpep_pickup_datetime'] < next_time)]\n",
      "/var/folders/0x/k389_vt16p1gjts_tn1qjff40000gn/T/ipykernel_1202/1482100882.py:4: UserWarning: Boolean Series key will be reindexed to match DataFrame index.\n",
      "  orders_in_interval = trips[(trips['tpep_pickup_datetime'] >= time) & (df['tpep_pickup_datetime'] < next_time)]\n",
      "/var/folders/0x/k389_vt16p1gjts_tn1qjff40000gn/T/ipykernel_1202/1482100882.py:4: UserWarning: Boolean Series key will be reindexed to match DataFrame index.\n",
      "  orders_in_interval = trips[(trips['tpep_pickup_datetime'] >= time) & (df['tpep_pickup_datetime'] < next_time)]\n",
      "/var/folders/0x/k389_vt16p1gjts_tn1qjff40000gn/T/ipykernel_1202/1482100882.py:4: UserWarning: Boolean Series key will be reindexed to match DataFrame index.\n",
      "  orders_in_interval = trips[(trips['tpep_pickup_datetime'] >= time) & (df['tpep_pickup_datetime'] < next_time)]\n",
      "/var/folders/0x/k389_vt16p1gjts_tn1qjff40000gn/T/ipykernel_1202/1482100882.py:4: UserWarning: Boolean Series key will be reindexed to match DataFrame index.\n",
      "  orders_in_interval = trips[(trips['tpep_pickup_datetime'] >= time) & (df['tpep_pickup_datetime'] < next_time)]\n"
     ]
    },
    {
     "name": "stdout",
     "output_type": "stream",
     "text": [
      "700done\n"
     ]
    },
    {
     "name": "stderr",
     "output_type": "stream",
     "text": [
      "/var/folders/0x/k389_vt16p1gjts_tn1qjff40000gn/T/ipykernel_1202/1482100882.py:4: UserWarning: Boolean Series key will be reindexed to match DataFrame index.\n",
      "  orders_in_interval = trips[(trips['tpep_pickup_datetime'] >= time) & (df['tpep_pickup_datetime'] < next_time)]\n",
      "/var/folders/0x/k389_vt16p1gjts_tn1qjff40000gn/T/ipykernel_1202/1482100882.py:4: UserWarning: Boolean Series key will be reindexed to match DataFrame index.\n",
      "  orders_in_interval = trips[(trips['tpep_pickup_datetime'] >= time) & (df['tpep_pickup_datetime'] < next_time)]\n",
      "/var/folders/0x/k389_vt16p1gjts_tn1qjff40000gn/T/ipykernel_1202/1482100882.py:4: UserWarning: Boolean Series key will be reindexed to match DataFrame index.\n",
      "  orders_in_interval = trips[(trips['tpep_pickup_datetime'] >= time) & (df['tpep_pickup_datetime'] < next_time)]\n",
      "/var/folders/0x/k389_vt16p1gjts_tn1qjff40000gn/T/ipykernel_1202/1482100882.py:4: UserWarning: Boolean Series key will be reindexed to match DataFrame index.\n",
      "  orders_in_interval = trips[(trips['tpep_pickup_datetime'] >= time) & (df['tpep_pickup_datetime'] < next_time)]\n",
      "/var/folders/0x/k389_vt16p1gjts_tn1qjff40000gn/T/ipykernel_1202/1482100882.py:4: UserWarning: Boolean Series key will be reindexed to match DataFrame index.\n",
      "  orders_in_interval = trips[(trips['tpep_pickup_datetime'] >= time) & (df['tpep_pickup_datetime'] < next_time)]\n",
      "/var/folders/0x/k389_vt16p1gjts_tn1qjff40000gn/T/ipykernel_1202/1482100882.py:4: UserWarning: Boolean Series key will be reindexed to match DataFrame index.\n",
      "  orders_in_interval = trips[(trips['tpep_pickup_datetime'] >= time) & (df['tpep_pickup_datetime'] < next_time)]\n",
      "/var/folders/0x/k389_vt16p1gjts_tn1qjff40000gn/T/ipykernel_1202/1482100882.py:4: UserWarning: Boolean Series key will be reindexed to match DataFrame index.\n",
      "  orders_in_interval = trips[(trips['tpep_pickup_datetime'] >= time) & (df['tpep_pickup_datetime'] < next_time)]\n",
      "/var/folders/0x/k389_vt16p1gjts_tn1qjff40000gn/T/ipykernel_1202/1482100882.py:4: UserWarning: Boolean Series key will be reindexed to match DataFrame index.\n",
      "  orders_in_interval = trips[(trips['tpep_pickup_datetime'] >= time) & (df['tpep_pickup_datetime'] < next_time)]\n",
      "/var/folders/0x/k389_vt16p1gjts_tn1qjff40000gn/T/ipykernel_1202/1482100882.py:4: UserWarning: Boolean Series key will be reindexed to match DataFrame index.\n",
      "  orders_in_interval = trips[(trips['tpep_pickup_datetime'] >= time) & (df['tpep_pickup_datetime'] < next_time)]\n",
      "/var/folders/0x/k389_vt16p1gjts_tn1qjff40000gn/T/ipykernel_1202/1482100882.py:4: UserWarning: Boolean Series key will be reindexed to match DataFrame index.\n",
      "  orders_in_interval = trips[(trips['tpep_pickup_datetime'] >= time) & (df['tpep_pickup_datetime'] < next_time)]\n"
     ]
    },
    {
     "name": "stdout",
     "output_type": "stream",
     "text": [
      "710done\n"
     ]
    },
    {
     "name": "stderr",
     "output_type": "stream",
     "text": [
      "/var/folders/0x/k389_vt16p1gjts_tn1qjff40000gn/T/ipykernel_1202/1482100882.py:4: UserWarning: Boolean Series key will be reindexed to match DataFrame index.\n",
      "  orders_in_interval = trips[(trips['tpep_pickup_datetime'] >= time) & (df['tpep_pickup_datetime'] < next_time)]\n",
      "/var/folders/0x/k389_vt16p1gjts_tn1qjff40000gn/T/ipykernel_1202/1482100882.py:4: UserWarning: Boolean Series key will be reindexed to match DataFrame index.\n",
      "  orders_in_interval = trips[(trips['tpep_pickup_datetime'] >= time) & (df['tpep_pickup_datetime'] < next_time)]\n",
      "/var/folders/0x/k389_vt16p1gjts_tn1qjff40000gn/T/ipykernel_1202/1482100882.py:4: UserWarning: Boolean Series key will be reindexed to match DataFrame index.\n",
      "  orders_in_interval = trips[(trips['tpep_pickup_datetime'] >= time) & (df['tpep_pickup_datetime'] < next_time)]\n",
      "/var/folders/0x/k389_vt16p1gjts_tn1qjff40000gn/T/ipykernel_1202/1482100882.py:4: UserWarning: Boolean Series key will be reindexed to match DataFrame index.\n",
      "  orders_in_interval = trips[(trips['tpep_pickup_datetime'] >= time) & (df['tpep_pickup_datetime'] < next_time)]\n",
      "/var/folders/0x/k389_vt16p1gjts_tn1qjff40000gn/T/ipykernel_1202/1482100882.py:4: UserWarning: Boolean Series key will be reindexed to match DataFrame index.\n",
      "  orders_in_interval = trips[(trips['tpep_pickup_datetime'] >= time) & (df['tpep_pickup_datetime'] < next_time)]\n",
      "/var/folders/0x/k389_vt16p1gjts_tn1qjff40000gn/T/ipykernel_1202/1482100882.py:4: UserWarning: Boolean Series key will be reindexed to match DataFrame index.\n",
      "  orders_in_interval = trips[(trips['tpep_pickup_datetime'] >= time) & (df['tpep_pickup_datetime'] < next_time)]\n",
      "/var/folders/0x/k389_vt16p1gjts_tn1qjff40000gn/T/ipykernel_1202/1482100882.py:4: UserWarning: Boolean Series key will be reindexed to match DataFrame index.\n",
      "  orders_in_interval = trips[(trips['tpep_pickup_datetime'] >= time) & (df['tpep_pickup_datetime'] < next_time)]\n",
      "/var/folders/0x/k389_vt16p1gjts_tn1qjff40000gn/T/ipykernel_1202/1482100882.py:4: UserWarning: Boolean Series key will be reindexed to match DataFrame index.\n",
      "  orders_in_interval = trips[(trips['tpep_pickup_datetime'] >= time) & (df['tpep_pickup_datetime'] < next_time)]\n",
      "/var/folders/0x/k389_vt16p1gjts_tn1qjff40000gn/T/ipykernel_1202/1482100882.py:4: UserWarning: Boolean Series key will be reindexed to match DataFrame index.\n",
      "  orders_in_interval = trips[(trips['tpep_pickup_datetime'] >= time) & (df['tpep_pickup_datetime'] < next_time)]\n",
      "/var/folders/0x/k389_vt16p1gjts_tn1qjff40000gn/T/ipykernel_1202/1482100882.py:4: UserWarning: Boolean Series key will be reindexed to match DataFrame index.\n",
      "  orders_in_interval = trips[(trips['tpep_pickup_datetime'] >= time) & (df['tpep_pickup_datetime'] < next_time)]\n"
     ]
    },
    {
     "name": "stdout",
     "output_type": "stream",
     "text": [
      "720done\n"
     ]
    },
    {
     "name": "stderr",
     "output_type": "stream",
     "text": [
      "/var/folders/0x/k389_vt16p1gjts_tn1qjff40000gn/T/ipykernel_1202/1482100882.py:4: UserWarning: Boolean Series key will be reindexed to match DataFrame index.\n",
      "  orders_in_interval = trips[(trips['tpep_pickup_datetime'] >= time) & (df['tpep_pickup_datetime'] < next_time)]\n",
      "/var/folders/0x/k389_vt16p1gjts_tn1qjff40000gn/T/ipykernel_1202/1482100882.py:4: UserWarning: Boolean Series key will be reindexed to match DataFrame index.\n",
      "  orders_in_interval = trips[(trips['tpep_pickup_datetime'] >= time) & (df['tpep_pickup_datetime'] < next_time)]\n",
      "/var/folders/0x/k389_vt16p1gjts_tn1qjff40000gn/T/ipykernel_1202/1482100882.py:4: UserWarning: Boolean Series key will be reindexed to match DataFrame index.\n",
      "  orders_in_interval = trips[(trips['tpep_pickup_datetime'] >= time) & (df['tpep_pickup_datetime'] < next_time)]\n",
      "/var/folders/0x/k389_vt16p1gjts_tn1qjff40000gn/T/ipykernel_1202/1482100882.py:4: UserWarning: Boolean Series key will be reindexed to match DataFrame index.\n",
      "  orders_in_interval = trips[(trips['tpep_pickup_datetime'] >= time) & (df['tpep_pickup_datetime'] < next_time)]\n",
      "/var/folders/0x/k389_vt16p1gjts_tn1qjff40000gn/T/ipykernel_1202/1482100882.py:4: UserWarning: Boolean Series key will be reindexed to match DataFrame index.\n",
      "  orders_in_interval = trips[(trips['tpep_pickup_datetime'] >= time) & (df['tpep_pickup_datetime'] < next_time)]\n",
      "/var/folders/0x/k389_vt16p1gjts_tn1qjff40000gn/T/ipykernel_1202/1482100882.py:4: UserWarning: Boolean Series key will be reindexed to match DataFrame index.\n",
      "  orders_in_interval = trips[(trips['tpep_pickup_datetime'] >= time) & (df['tpep_pickup_datetime'] < next_time)]\n",
      "/var/folders/0x/k389_vt16p1gjts_tn1qjff40000gn/T/ipykernel_1202/1482100882.py:4: UserWarning: Boolean Series key will be reindexed to match DataFrame index.\n",
      "  orders_in_interval = trips[(trips['tpep_pickup_datetime'] >= time) & (df['tpep_pickup_datetime'] < next_time)]\n",
      "/var/folders/0x/k389_vt16p1gjts_tn1qjff40000gn/T/ipykernel_1202/1482100882.py:4: UserWarning: Boolean Series key will be reindexed to match DataFrame index.\n",
      "  orders_in_interval = trips[(trips['tpep_pickup_datetime'] >= time) & (df['tpep_pickup_datetime'] < next_time)]\n",
      "/var/folders/0x/k389_vt16p1gjts_tn1qjff40000gn/T/ipykernel_1202/1482100882.py:4: UserWarning: Boolean Series key will be reindexed to match DataFrame index.\n",
      "  orders_in_interval = trips[(trips['tpep_pickup_datetime'] >= time) & (df['tpep_pickup_datetime'] < next_time)]\n",
      "/var/folders/0x/k389_vt16p1gjts_tn1qjff40000gn/T/ipykernel_1202/1482100882.py:4: UserWarning: Boolean Series key will be reindexed to match DataFrame index.\n",
      "  orders_in_interval = trips[(trips['tpep_pickup_datetime'] >= time) & (df['tpep_pickup_datetime'] < next_time)]\n"
     ]
    },
    {
     "name": "stdout",
     "output_type": "stream",
     "text": [
      "730done\n"
     ]
    },
    {
     "name": "stderr",
     "output_type": "stream",
     "text": [
      "/var/folders/0x/k389_vt16p1gjts_tn1qjff40000gn/T/ipykernel_1202/1482100882.py:4: UserWarning: Boolean Series key will be reindexed to match DataFrame index.\n",
      "  orders_in_interval = trips[(trips['tpep_pickup_datetime'] >= time) & (df['tpep_pickup_datetime'] < next_time)]\n",
      "/var/folders/0x/k389_vt16p1gjts_tn1qjff40000gn/T/ipykernel_1202/1482100882.py:4: UserWarning: Boolean Series key will be reindexed to match DataFrame index.\n",
      "  orders_in_interval = trips[(trips['tpep_pickup_datetime'] >= time) & (df['tpep_pickup_datetime'] < next_time)]\n",
      "/var/folders/0x/k389_vt16p1gjts_tn1qjff40000gn/T/ipykernel_1202/1482100882.py:4: UserWarning: Boolean Series key will be reindexed to match DataFrame index.\n",
      "  orders_in_interval = trips[(trips['tpep_pickup_datetime'] >= time) & (df['tpep_pickup_datetime'] < next_time)]\n",
      "/var/folders/0x/k389_vt16p1gjts_tn1qjff40000gn/T/ipykernel_1202/1482100882.py:4: UserWarning: Boolean Series key will be reindexed to match DataFrame index.\n",
      "  orders_in_interval = trips[(trips['tpep_pickup_datetime'] >= time) & (df['tpep_pickup_datetime'] < next_time)]\n",
      "/var/folders/0x/k389_vt16p1gjts_tn1qjff40000gn/T/ipykernel_1202/1482100882.py:4: UserWarning: Boolean Series key will be reindexed to match DataFrame index.\n",
      "  orders_in_interval = trips[(trips['tpep_pickup_datetime'] >= time) & (df['tpep_pickup_datetime'] < next_time)]\n",
      "/var/folders/0x/k389_vt16p1gjts_tn1qjff40000gn/T/ipykernel_1202/1482100882.py:4: UserWarning: Boolean Series key will be reindexed to match DataFrame index.\n",
      "  orders_in_interval = trips[(trips['tpep_pickup_datetime'] >= time) & (df['tpep_pickup_datetime'] < next_time)]\n",
      "/var/folders/0x/k389_vt16p1gjts_tn1qjff40000gn/T/ipykernel_1202/1482100882.py:4: UserWarning: Boolean Series key will be reindexed to match DataFrame index.\n",
      "  orders_in_interval = trips[(trips['tpep_pickup_datetime'] >= time) & (df['tpep_pickup_datetime'] < next_time)]\n",
      "/var/folders/0x/k389_vt16p1gjts_tn1qjff40000gn/T/ipykernel_1202/1482100882.py:4: UserWarning: Boolean Series key will be reindexed to match DataFrame index.\n",
      "  orders_in_interval = trips[(trips['tpep_pickup_datetime'] >= time) & (df['tpep_pickup_datetime'] < next_time)]\n",
      "/var/folders/0x/k389_vt16p1gjts_tn1qjff40000gn/T/ipykernel_1202/1482100882.py:4: UserWarning: Boolean Series key will be reindexed to match DataFrame index.\n",
      "  orders_in_interval = trips[(trips['tpep_pickup_datetime'] >= time) & (df['tpep_pickup_datetime'] < next_time)]\n",
      "/var/folders/0x/k389_vt16p1gjts_tn1qjff40000gn/T/ipykernel_1202/1482100882.py:4: UserWarning: Boolean Series key will be reindexed to match DataFrame index.\n",
      "  orders_in_interval = trips[(trips['tpep_pickup_datetime'] >= time) & (df['tpep_pickup_datetime'] < next_time)]\n"
     ]
    },
    {
     "name": "stdout",
     "output_type": "stream",
     "text": [
      "740done\n"
     ]
    },
    {
     "name": "stderr",
     "output_type": "stream",
     "text": [
      "/var/folders/0x/k389_vt16p1gjts_tn1qjff40000gn/T/ipykernel_1202/1482100882.py:4: UserWarning: Boolean Series key will be reindexed to match DataFrame index.\n",
      "  orders_in_interval = trips[(trips['tpep_pickup_datetime'] >= time) & (df['tpep_pickup_datetime'] < next_time)]\n",
      "/var/folders/0x/k389_vt16p1gjts_tn1qjff40000gn/T/ipykernel_1202/1482100882.py:4: UserWarning: Boolean Series key will be reindexed to match DataFrame index.\n",
      "  orders_in_interval = trips[(trips['tpep_pickup_datetime'] >= time) & (df['tpep_pickup_datetime'] < next_time)]\n",
      "/var/folders/0x/k389_vt16p1gjts_tn1qjff40000gn/T/ipykernel_1202/1482100882.py:4: UserWarning: Boolean Series key will be reindexed to match DataFrame index.\n",
      "  orders_in_interval = trips[(trips['tpep_pickup_datetime'] >= time) & (df['tpep_pickup_datetime'] < next_time)]\n",
      "/var/folders/0x/k389_vt16p1gjts_tn1qjff40000gn/T/ipykernel_1202/1482100882.py:4: UserWarning: Boolean Series key will be reindexed to match DataFrame index.\n",
      "  orders_in_interval = trips[(trips['tpep_pickup_datetime'] >= time) & (df['tpep_pickup_datetime'] < next_time)]\n",
      "/var/folders/0x/k389_vt16p1gjts_tn1qjff40000gn/T/ipykernel_1202/1482100882.py:4: UserWarning: Boolean Series key will be reindexed to match DataFrame index.\n",
      "  orders_in_interval = trips[(trips['tpep_pickup_datetime'] >= time) & (df['tpep_pickup_datetime'] < next_time)]\n",
      "/var/folders/0x/k389_vt16p1gjts_tn1qjff40000gn/T/ipykernel_1202/1482100882.py:4: UserWarning: Boolean Series key will be reindexed to match DataFrame index.\n",
      "  orders_in_interval = trips[(trips['tpep_pickup_datetime'] >= time) & (df['tpep_pickup_datetime'] < next_time)]\n",
      "/var/folders/0x/k389_vt16p1gjts_tn1qjff40000gn/T/ipykernel_1202/1482100882.py:4: UserWarning: Boolean Series key will be reindexed to match DataFrame index.\n",
      "  orders_in_interval = trips[(trips['tpep_pickup_datetime'] >= time) & (df['tpep_pickup_datetime'] < next_time)]\n",
      "/var/folders/0x/k389_vt16p1gjts_tn1qjff40000gn/T/ipykernel_1202/1482100882.py:4: UserWarning: Boolean Series key will be reindexed to match DataFrame index.\n",
      "  orders_in_interval = trips[(trips['tpep_pickup_datetime'] >= time) & (df['tpep_pickup_datetime'] < next_time)]\n",
      "/var/folders/0x/k389_vt16p1gjts_tn1qjff40000gn/T/ipykernel_1202/1482100882.py:4: UserWarning: Boolean Series key will be reindexed to match DataFrame index.\n",
      "  orders_in_interval = trips[(trips['tpep_pickup_datetime'] >= time) & (df['tpep_pickup_datetime'] < next_time)]\n",
      "/var/folders/0x/k389_vt16p1gjts_tn1qjff40000gn/T/ipykernel_1202/1482100882.py:4: UserWarning: Boolean Series key will be reindexed to match DataFrame index.\n",
      "  orders_in_interval = trips[(trips['tpep_pickup_datetime'] >= time) & (df['tpep_pickup_datetime'] < next_time)]\n"
     ]
    },
    {
     "name": "stdout",
     "output_type": "stream",
     "text": [
      "750done\n"
     ]
    },
    {
     "name": "stderr",
     "output_type": "stream",
     "text": [
      "/var/folders/0x/k389_vt16p1gjts_tn1qjff40000gn/T/ipykernel_1202/1482100882.py:4: UserWarning: Boolean Series key will be reindexed to match DataFrame index.\n",
      "  orders_in_interval = trips[(trips['tpep_pickup_datetime'] >= time) & (df['tpep_pickup_datetime'] < next_time)]\n",
      "/var/folders/0x/k389_vt16p1gjts_tn1qjff40000gn/T/ipykernel_1202/1482100882.py:4: UserWarning: Boolean Series key will be reindexed to match DataFrame index.\n",
      "  orders_in_interval = trips[(trips['tpep_pickup_datetime'] >= time) & (df['tpep_pickup_datetime'] < next_time)]\n",
      "/var/folders/0x/k389_vt16p1gjts_tn1qjff40000gn/T/ipykernel_1202/1482100882.py:4: UserWarning: Boolean Series key will be reindexed to match DataFrame index.\n",
      "  orders_in_interval = trips[(trips['tpep_pickup_datetime'] >= time) & (df['tpep_pickup_datetime'] < next_time)]\n",
      "/var/folders/0x/k389_vt16p1gjts_tn1qjff40000gn/T/ipykernel_1202/1482100882.py:4: UserWarning: Boolean Series key will be reindexed to match DataFrame index.\n",
      "  orders_in_interval = trips[(trips['tpep_pickup_datetime'] >= time) & (df['tpep_pickup_datetime'] < next_time)]\n",
      "/var/folders/0x/k389_vt16p1gjts_tn1qjff40000gn/T/ipykernel_1202/1482100882.py:4: UserWarning: Boolean Series key will be reindexed to match DataFrame index.\n",
      "  orders_in_interval = trips[(trips['tpep_pickup_datetime'] >= time) & (df['tpep_pickup_datetime'] < next_time)]\n",
      "/var/folders/0x/k389_vt16p1gjts_tn1qjff40000gn/T/ipykernel_1202/1482100882.py:4: UserWarning: Boolean Series key will be reindexed to match DataFrame index.\n",
      "  orders_in_interval = trips[(trips['tpep_pickup_datetime'] >= time) & (df['tpep_pickup_datetime'] < next_time)]\n",
      "/var/folders/0x/k389_vt16p1gjts_tn1qjff40000gn/T/ipykernel_1202/1482100882.py:4: UserWarning: Boolean Series key will be reindexed to match DataFrame index.\n",
      "  orders_in_interval = trips[(trips['tpep_pickup_datetime'] >= time) & (df['tpep_pickup_datetime'] < next_time)]\n",
      "/var/folders/0x/k389_vt16p1gjts_tn1qjff40000gn/T/ipykernel_1202/1482100882.py:4: UserWarning: Boolean Series key will be reindexed to match DataFrame index.\n",
      "  orders_in_interval = trips[(trips['tpep_pickup_datetime'] >= time) & (df['tpep_pickup_datetime'] < next_time)]\n",
      "/var/folders/0x/k389_vt16p1gjts_tn1qjff40000gn/T/ipykernel_1202/1482100882.py:4: UserWarning: Boolean Series key will be reindexed to match DataFrame index.\n",
      "  orders_in_interval = trips[(trips['tpep_pickup_datetime'] >= time) & (df['tpep_pickup_datetime'] < next_time)]\n",
      "/var/folders/0x/k389_vt16p1gjts_tn1qjff40000gn/T/ipykernel_1202/1482100882.py:4: UserWarning: Boolean Series key will be reindexed to match DataFrame index.\n",
      "  orders_in_interval = trips[(trips['tpep_pickup_datetime'] >= time) & (df['tpep_pickup_datetime'] < next_time)]\n"
     ]
    },
    {
     "name": "stdout",
     "output_type": "stream",
     "text": [
      "760done\n"
     ]
    },
    {
     "name": "stderr",
     "output_type": "stream",
     "text": [
      "/var/folders/0x/k389_vt16p1gjts_tn1qjff40000gn/T/ipykernel_1202/1482100882.py:4: UserWarning: Boolean Series key will be reindexed to match DataFrame index.\n",
      "  orders_in_interval = trips[(trips['tpep_pickup_datetime'] >= time) & (df['tpep_pickup_datetime'] < next_time)]\n",
      "/var/folders/0x/k389_vt16p1gjts_tn1qjff40000gn/T/ipykernel_1202/1482100882.py:4: UserWarning: Boolean Series key will be reindexed to match DataFrame index.\n",
      "  orders_in_interval = trips[(trips['tpep_pickup_datetime'] >= time) & (df['tpep_pickup_datetime'] < next_time)]\n",
      "/var/folders/0x/k389_vt16p1gjts_tn1qjff40000gn/T/ipykernel_1202/1482100882.py:4: UserWarning: Boolean Series key will be reindexed to match DataFrame index.\n",
      "  orders_in_interval = trips[(trips['tpep_pickup_datetime'] >= time) & (df['tpep_pickup_datetime'] < next_time)]\n",
      "/var/folders/0x/k389_vt16p1gjts_tn1qjff40000gn/T/ipykernel_1202/1482100882.py:4: UserWarning: Boolean Series key will be reindexed to match DataFrame index.\n",
      "  orders_in_interval = trips[(trips['tpep_pickup_datetime'] >= time) & (df['tpep_pickup_datetime'] < next_time)]\n",
      "/var/folders/0x/k389_vt16p1gjts_tn1qjff40000gn/T/ipykernel_1202/1482100882.py:4: UserWarning: Boolean Series key will be reindexed to match DataFrame index.\n",
      "  orders_in_interval = trips[(trips['tpep_pickup_datetime'] >= time) & (df['tpep_pickup_datetime'] < next_time)]\n",
      "/var/folders/0x/k389_vt16p1gjts_tn1qjff40000gn/T/ipykernel_1202/1482100882.py:4: UserWarning: Boolean Series key will be reindexed to match DataFrame index.\n",
      "  orders_in_interval = trips[(trips['tpep_pickup_datetime'] >= time) & (df['tpep_pickup_datetime'] < next_time)]\n",
      "/var/folders/0x/k389_vt16p1gjts_tn1qjff40000gn/T/ipykernel_1202/1482100882.py:4: UserWarning: Boolean Series key will be reindexed to match DataFrame index.\n",
      "  orders_in_interval = trips[(trips['tpep_pickup_datetime'] >= time) & (df['tpep_pickup_datetime'] < next_time)]\n",
      "/var/folders/0x/k389_vt16p1gjts_tn1qjff40000gn/T/ipykernel_1202/1482100882.py:4: UserWarning: Boolean Series key will be reindexed to match DataFrame index.\n",
      "  orders_in_interval = trips[(trips['tpep_pickup_datetime'] >= time) & (df['tpep_pickup_datetime'] < next_time)]\n",
      "/var/folders/0x/k389_vt16p1gjts_tn1qjff40000gn/T/ipykernel_1202/1482100882.py:4: UserWarning: Boolean Series key will be reindexed to match DataFrame index.\n",
      "  orders_in_interval = trips[(trips['tpep_pickup_datetime'] >= time) & (df['tpep_pickup_datetime'] < next_time)]\n",
      "/var/folders/0x/k389_vt16p1gjts_tn1qjff40000gn/T/ipykernel_1202/1482100882.py:4: UserWarning: Boolean Series key will be reindexed to match DataFrame index.\n",
      "  orders_in_interval = trips[(trips['tpep_pickup_datetime'] >= time) & (df['tpep_pickup_datetime'] < next_time)]\n"
     ]
    },
    {
     "name": "stdout",
     "output_type": "stream",
     "text": [
      "770done\n"
     ]
    },
    {
     "name": "stderr",
     "output_type": "stream",
     "text": [
      "/var/folders/0x/k389_vt16p1gjts_tn1qjff40000gn/T/ipykernel_1202/1482100882.py:4: UserWarning: Boolean Series key will be reindexed to match DataFrame index.\n",
      "  orders_in_interval = trips[(trips['tpep_pickup_datetime'] >= time) & (df['tpep_pickup_datetime'] < next_time)]\n",
      "/var/folders/0x/k389_vt16p1gjts_tn1qjff40000gn/T/ipykernel_1202/1482100882.py:4: UserWarning: Boolean Series key will be reindexed to match DataFrame index.\n",
      "  orders_in_interval = trips[(trips['tpep_pickup_datetime'] >= time) & (df['tpep_pickup_datetime'] < next_time)]\n",
      "/var/folders/0x/k389_vt16p1gjts_tn1qjff40000gn/T/ipykernel_1202/1482100882.py:4: UserWarning: Boolean Series key will be reindexed to match DataFrame index.\n",
      "  orders_in_interval = trips[(trips['tpep_pickup_datetime'] >= time) & (df['tpep_pickup_datetime'] < next_time)]\n",
      "/var/folders/0x/k389_vt16p1gjts_tn1qjff40000gn/T/ipykernel_1202/1482100882.py:4: UserWarning: Boolean Series key will be reindexed to match DataFrame index.\n",
      "  orders_in_interval = trips[(trips['tpep_pickup_datetime'] >= time) & (df['tpep_pickup_datetime'] < next_time)]\n",
      "/var/folders/0x/k389_vt16p1gjts_tn1qjff40000gn/T/ipykernel_1202/1482100882.py:4: UserWarning: Boolean Series key will be reindexed to match DataFrame index.\n",
      "  orders_in_interval = trips[(trips['tpep_pickup_datetime'] >= time) & (df['tpep_pickup_datetime'] < next_time)]\n",
      "/var/folders/0x/k389_vt16p1gjts_tn1qjff40000gn/T/ipykernel_1202/1482100882.py:4: UserWarning: Boolean Series key will be reindexed to match DataFrame index.\n",
      "  orders_in_interval = trips[(trips['tpep_pickup_datetime'] >= time) & (df['tpep_pickup_datetime'] < next_time)]\n",
      "/var/folders/0x/k389_vt16p1gjts_tn1qjff40000gn/T/ipykernel_1202/1482100882.py:4: UserWarning: Boolean Series key will be reindexed to match DataFrame index.\n",
      "  orders_in_interval = trips[(trips['tpep_pickup_datetime'] >= time) & (df['tpep_pickup_datetime'] < next_time)]\n",
      "/var/folders/0x/k389_vt16p1gjts_tn1qjff40000gn/T/ipykernel_1202/1482100882.py:4: UserWarning: Boolean Series key will be reindexed to match DataFrame index.\n",
      "  orders_in_interval = trips[(trips['tpep_pickup_datetime'] >= time) & (df['tpep_pickup_datetime'] < next_time)]\n",
      "/var/folders/0x/k389_vt16p1gjts_tn1qjff40000gn/T/ipykernel_1202/1482100882.py:4: UserWarning: Boolean Series key will be reindexed to match DataFrame index.\n",
      "  orders_in_interval = trips[(trips['tpep_pickup_datetime'] >= time) & (df['tpep_pickup_datetime'] < next_time)]\n",
      "/var/folders/0x/k389_vt16p1gjts_tn1qjff40000gn/T/ipykernel_1202/1482100882.py:4: UserWarning: Boolean Series key will be reindexed to match DataFrame index.\n",
      "  orders_in_interval = trips[(trips['tpep_pickup_datetime'] >= time) & (df['tpep_pickup_datetime'] < next_time)]\n"
     ]
    },
    {
     "name": "stdout",
     "output_type": "stream",
     "text": [
      "780done\n"
     ]
    },
    {
     "name": "stderr",
     "output_type": "stream",
     "text": [
      "/var/folders/0x/k389_vt16p1gjts_tn1qjff40000gn/T/ipykernel_1202/1482100882.py:4: UserWarning: Boolean Series key will be reindexed to match DataFrame index.\n",
      "  orders_in_interval = trips[(trips['tpep_pickup_datetime'] >= time) & (df['tpep_pickup_datetime'] < next_time)]\n",
      "/var/folders/0x/k389_vt16p1gjts_tn1qjff40000gn/T/ipykernel_1202/1482100882.py:4: UserWarning: Boolean Series key will be reindexed to match DataFrame index.\n",
      "  orders_in_interval = trips[(trips['tpep_pickup_datetime'] >= time) & (df['tpep_pickup_datetime'] < next_time)]\n",
      "/var/folders/0x/k389_vt16p1gjts_tn1qjff40000gn/T/ipykernel_1202/1482100882.py:4: UserWarning: Boolean Series key will be reindexed to match DataFrame index.\n",
      "  orders_in_interval = trips[(trips['tpep_pickup_datetime'] >= time) & (df['tpep_pickup_datetime'] < next_time)]\n",
      "/var/folders/0x/k389_vt16p1gjts_tn1qjff40000gn/T/ipykernel_1202/1482100882.py:4: UserWarning: Boolean Series key will be reindexed to match DataFrame index.\n",
      "  orders_in_interval = trips[(trips['tpep_pickup_datetime'] >= time) & (df['tpep_pickup_datetime'] < next_time)]\n",
      "/var/folders/0x/k389_vt16p1gjts_tn1qjff40000gn/T/ipykernel_1202/1482100882.py:4: UserWarning: Boolean Series key will be reindexed to match DataFrame index.\n",
      "  orders_in_interval = trips[(trips['tpep_pickup_datetime'] >= time) & (df['tpep_pickup_datetime'] < next_time)]\n",
      "/var/folders/0x/k389_vt16p1gjts_tn1qjff40000gn/T/ipykernel_1202/1482100882.py:4: UserWarning: Boolean Series key will be reindexed to match DataFrame index.\n",
      "  orders_in_interval = trips[(trips['tpep_pickup_datetime'] >= time) & (df['tpep_pickup_datetime'] < next_time)]\n",
      "/var/folders/0x/k389_vt16p1gjts_tn1qjff40000gn/T/ipykernel_1202/1482100882.py:4: UserWarning: Boolean Series key will be reindexed to match DataFrame index.\n",
      "  orders_in_interval = trips[(trips['tpep_pickup_datetime'] >= time) & (df['tpep_pickup_datetime'] < next_time)]\n",
      "/var/folders/0x/k389_vt16p1gjts_tn1qjff40000gn/T/ipykernel_1202/1482100882.py:4: UserWarning: Boolean Series key will be reindexed to match DataFrame index.\n",
      "  orders_in_interval = trips[(trips['tpep_pickup_datetime'] >= time) & (df['tpep_pickup_datetime'] < next_time)]\n",
      "/var/folders/0x/k389_vt16p1gjts_tn1qjff40000gn/T/ipykernel_1202/1482100882.py:4: UserWarning: Boolean Series key will be reindexed to match DataFrame index.\n",
      "  orders_in_interval = trips[(trips['tpep_pickup_datetime'] >= time) & (df['tpep_pickup_datetime'] < next_time)]\n",
      "/var/folders/0x/k389_vt16p1gjts_tn1qjff40000gn/T/ipykernel_1202/1482100882.py:4: UserWarning: Boolean Series key will be reindexed to match DataFrame index.\n",
      "  orders_in_interval = trips[(trips['tpep_pickup_datetime'] >= time) & (df['tpep_pickup_datetime'] < next_time)]\n"
     ]
    },
    {
     "name": "stdout",
     "output_type": "stream",
     "text": [
      "790done\n"
     ]
    },
    {
     "name": "stderr",
     "output_type": "stream",
     "text": [
      "/var/folders/0x/k389_vt16p1gjts_tn1qjff40000gn/T/ipykernel_1202/1482100882.py:4: UserWarning: Boolean Series key will be reindexed to match DataFrame index.\n",
      "  orders_in_interval = trips[(trips['tpep_pickup_datetime'] >= time) & (df['tpep_pickup_datetime'] < next_time)]\n",
      "/var/folders/0x/k389_vt16p1gjts_tn1qjff40000gn/T/ipykernel_1202/1482100882.py:4: UserWarning: Boolean Series key will be reindexed to match DataFrame index.\n",
      "  orders_in_interval = trips[(trips['tpep_pickup_datetime'] >= time) & (df['tpep_pickup_datetime'] < next_time)]\n",
      "/var/folders/0x/k389_vt16p1gjts_tn1qjff40000gn/T/ipykernel_1202/1482100882.py:4: UserWarning: Boolean Series key will be reindexed to match DataFrame index.\n",
      "  orders_in_interval = trips[(trips['tpep_pickup_datetime'] >= time) & (df['tpep_pickup_datetime'] < next_time)]\n",
      "/var/folders/0x/k389_vt16p1gjts_tn1qjff40000gn/T/ipykernel_1202/1482100882.py:4: UserWarning: Boolean Series key will be reindexed to match DataFrame index.\n",
      "  orders_in_interval = trips[(trips['tpep_pickup_datetime'] >= time) & (df['tpep_pickup_datetime'] < next_time)]\n",
      "/var/folders/0x/k389_vt16p1gjts_tn1qjff40000gn/T/ipykernel_1202/1482100882.py:4: UserWarning: Boolean Series key will be reindexed to match DataFrame index.\n",
      "  orders_in_interval = trips[(trips['tpep_pickup_datetime'] >= time) & (df['tpep_pickup_datetime'] < next_time)]\n",
      "/var/folders/0x/k389_vt16p1gjts_tn1qjff40000gn/T/ipykernel_1202/1482100882.py:4: UserWarning: Boolean Series key will be reindexed to match DataFrame index.\n",
      "  orders_in_interval = trips[(trips['tpep_pickup_datetime'] >= time) & (df['tpep_pickup_datetime'] < next_time)]\n",
      "/var/folders/0x/k389_vt16p1gjts_tn1qjff40000gn/T/ipykernel_1202/1482100882.py:4: UserWarning: Boolean Series key will be reindexed to match DataFrame index.\n",
      "  orders_in_interval = trips[(trips['tpep_pickup_datetime'] >= time) & (df['tpep_pickup_datetime'] < next_time)]\n",
      "/var/folders/0x/k389_vt16p1gjts_tn1qjff40000gn/T/ipykernel_1202/1482100882.py:4: UserWarning: Boolean Series key will be reindexed to match DataFrame index.\n",
      "  orders_in_interval = trips[(trips['tpep_pickup_datetime'] >= time) & (df['tpep_pickup_datetime'] < next_time)]\n",
      "/var/folders/0x/k389_vt16p1gjts_tn1qjff40000gn/T/ipykernel_1202/1482100882.py:4: UserWarning: Boolean Series key will be reindexed to match DataFrame index.\n",
      "  orders_in_interval = trips[(trips['tpep_pickup_datetime'] >= time) & (df['tpep_pickup_datetime'] < next_time)]\n",
      "/var/folders/0x/k389_vt16p1gjts_tn1qjff40000gn/T/ipykernel_1202/1482100882.py:4: UserWarning: Boolean Series key will be reindexed to match DataFrame index.\n",
      "  orders_in_interval = trips[(trips['tpep_pickup_datetime'] >= time) & (df['tpep_pickup_datetime'] < next_time)]\n"
     ]
    },
    {
     "name": "stdout",
     "output_type": "stream",
     "text": [
      "800done\n"
     ]
    },
    {
     "name": "stderr",
     "output_type": "stream",
     "text": [
      "/var/folders/0x/k389_vt16p1gjts_tn1qjff40000gn/T/ipykernel_1202/1482100882.py:4: UserWarning: Boolean Series key will be reindexed to match DataFrame index.\n",
      "  orders_in_interval = trips[(trips['tpep_pickup_datetime'] >= time) & (df['tpep_pickup_datetime'] < next_time)]\n",
      "/var/folders/0x/k389_vt16p1gjts_tn1qjff40000gn/T/ipykernel_1202/1482100882.py:4: UserWarning: Boolean Series key will be reindexed to match DataFrame index.\n",
      "  orders_in_interval = trips[(trips['tpep_pickup_datetime'] >= time) & (df['tpep_pickup_datetime'] < next_time)]\n",
      "/var/folders/0x/k389_vt16p1gjts_tn1qjff40000gn/T/ipykernel_1202/1482100882.py:4: UserWarning: Boolean Series key will be reindexed to match DataFrame index.\n",
      "  orders_in_interval = trips[(trips['tpep_pickup_datetime'] >= time) & (df['tpep_pickup_datetime'] < next_time)]\n",
      "/var/folders/0x/k389_vt16p1gjts_tn1qjff40000gn/T/ipykernel_1202/1482100882.py:4: UserWarning: Boolean Series key will be reindexed to match DataFrame index.\n",
      "  orders_in_interval = trips[(trips['tpep_pickup_datetime'] >= time) & (df['tpep_pickup_datetime'] < next_time)]\n",
      "/var/folders/0x/k389_vt16p1gjts_tn1qjff40000gn/T/ipykernel_1202/1482100882.py:4: UserWarning: Boolean Series key will be reindexed to match DataFrame index.\n",
      "  orders_in_interval = trips[(trips['tpep_pickup_datetime'] >= time) & (df['tpep_pickup_datetime'] < next_time)]\n",
      "/var/folders/0x/k389_vt16p1gjts_tn1qjff40000gn/T/ipykernel_1202/1482100882.py:4: UserWarning: Boolean Series key will be reindexed to match DataFrame index.\n",
      "  orders_in_interval = trips[(trips['tpep_pickup_datetime'] >= time) & (df['tpep_pickup_datetime'] < next_time)]\n",
      "/var/folders/0x/k389_vt16p1gjts_tn1qjff40000gn/T/ipykernel_1202/1482100882.py:4: UserWarning: Boolean Series key will be reindexed to match DataFrame index.\n",
      "  orders_in_interval = trips[(trips['tpep_pickup_datetime'] >= time) & (df['tpep_pickup_datetime'] < next_time)]\n",
      "/var/folders/0x/k389_vt16p1gjts_tn1qjff40000gn/T/ipykernel_1202/1482100882.py:4: UserWarning: Boolean Series key will be reindexed to match DataFrame index.\n",
      "  orders_in_interval = trips[(trips['tpep_pickup_datetime'] >= time) & (df['tpep_pickup_datetime'] < next_time)]\n",
      "/var/folders/0x/k389_vt16p1gjts_tn1qjff40000gn/T/ipykernel_1202/1482100882.py:4: UserWarning: Boolean Series key will be reindexed to match DataFrame index.\n",
      "  orders_in_interval = trips[(trips['tpep_pickup_datetime'] >= time) & (df['tpep_pickup_datetime'] < next_time)]\n",
      "/var/folders/0x/k389_vt16p1gjts_tn1qjff40000gn/T/ipykernel_1202/1482100882.py:4: UserWarning: Boolean Series key will be reindexed to match DataFrame index.\n",
      "  orders_in_interval = trips[(trips['tpep_pickup_datetime'] >= time) & (df['tpep_pickup_datetime'] < next_time)]\n"
     ]
    },
    {
     "name": "stdout",
     "output_type": "stream",
     "text": [
      "810done\n"
     ]
    },
    {
     "name": "stderr",
     "output_type": "stream",
     "text": [
      "/var/folders/0x/k389_vt16p1gjts_tn1qjff40000gn/T/ipykernel_1202/1482100882.py:4: UserWarning: Boolean Series key will be reindexed to match DataFrame index.\n",
      "  orders_in_interval = trips[(trips['tpep_pickup_datetime'] >= time) & (df['tpep_pickup_datetime'] < next_time)]\n",
      "/var/folders/0x/k389_vt16p1gjts_tn1qjff40000gn/T/ipykernel_1202/1482100882.py:4: UserWarning: Boolean Series key will be reindexed to match DataFrame index.\n",
      "  orders_in_interval = trips[(trips['tpep_pickup_datetime'] >= time) & (df['tpep_pickup_datetime'] < next_time)]\n",
      "/var/folders/0x/k389_vt16p1gjts_tn1qjff40000gn/T/ipykernel_1202/1482100882.py:4: UserWarning: Boolean Series key will be reindexed to match DataFrame index.\n",
      "  orders_in_interval = trips[(trips['tpep_pickup_datetime'] >= time) & (df['tpep_pickup_datetime'] < next_time)]\n",
      "/var/folders/0x/k389_vt16p1gjts_tn1qjff40000gn/T/ipykernel_1202/1482100882.py:4: UserWarning: Boolean Series key will be reindexed to match DataFrame index.\n",
      "  orders_in_interval = trips[(trips['tpep_pickup_datetime'] >= time) & (df['tpep_pickup_datetime'] < next_time)]\n",
      "/var/folders/0x/k389_vt16p1gjts_tn1qjff40000gn/T/ipykernel_1202/1482100882.py:4: UserWarning: Boolean Series key will be reindexed to match DataFrame index.\n",
      "  orders_in_interval = trips[(trips['tpep_pickup_datetime'] >= time) & (df['tpep_pickup_datetime'] < next_time)]\n",
      "/var/folders/0x/k389_vt16p1gjts_tn1qjff40000gn/T/ipykernel_1202/1482100882.py:4: UserWarning: Boolean Series key will be reindexed to match DataFrame index.\n",
      "  orders_in_interval = trips[(trips['tpep_pickup_datetime'] >= time) & (df['tpep_pickup_datetime'] < next_time)]\n",
      "/var/folders/0x/k389_vt16p1gjts_tn1qjff40000gn/T/ipykernel_1202/1482100882.py:4: UserWarning: Boolean Series key will be reindexed to match DataFrame index.\n",
      "  orders_in_interval = trips[(trips['tpep_pickup_datetime'] >= time) & (df['tpep_pickup_datetime'] < next_time)]\n",
      "/var/folders/0x/k389_vt16p1gjts_tn1qjff40000gn/T/ipykernel_1202/1482100882.py:4: UserWarning: Boolean Series key will be reindexed to match DataFrame index.\n",
      "  orders_in_interval = trips[(trips['tpep_pickup_datetime'] >= time) & (df['tpep_pickup_datetime'] < next_time)]\n",
      "/var/folders/0x/k389_vt16p1gjts_tn1qjff40000gn/T/ipykernel_1202/1482100882.py:4: UserWarning: Boolean Series key will be reindexed to match DataFrame index.\n",
      "  orders_in_interval = trips[(trips['tpep_pickup_datetime'] >= time) & (df['tpep_pickup_datetime'] < next_time)]\n",
      "/var/folders/0x/k389_vt16p1gjts_tn1qjff40000gn/T/ipykernel_1202/1482100882.py:4: UserWarning: Boolean Series key will be reindexed to match DataFrame index.\n",
      "  orders_in_interval = trips[(trips['tpep_pickup_datetime'] >= time) & (df['tpep_pickup_datetime'] < next_time)]\n"
     ]
    },
    {
     "name": "stdout",
     "output_type": "stream",
     "text": [
      "820done\n"
     ]
    },
    {
     "name": "stderr",
     "output_type": "stream",
     "text": [
      "/var/folders/0x/k389_vt16p1gjts_tn1qjff40000gn/T/ipykernel_1202/1482100882.py:4: UserWarning: Boolean Series key will be reindexed to match DataFrame index.\n",
      "  orders_in_interval = trips[(trips['tpep_pickup_datetime'] >= time) & (df['tpep_pickup_datetime'] < next_time)]\n",
      "/var/folders/0x/k389_vt16p1gjts_tn1qjff40000gn/T/ipykernel_1202/1482100882.py:4: UserWarning: Boolean Series key will be reindexed to match DataFrame index.\n",
      "  orders_in_interval = trips[(trips['tpep_pickup_datetime'] >= time) & (df['tpep_pickup_datetime'] < next_time)]\n",
      "/var/folders/0x/k389_vt16p1gjts_tn1qjff40000gn/T/ipykernel_1202/1482100882.py:4: UserWarning: Boolean Series key will be reindexed to match DataFrame index.\n",
      "  orders_in_interval = trips[(trips['tpep_pickup_datetime'] >= time) & (df['tpep_pickup_datetime'] < next_time)]\n",
      "/var/folders/0x/k389_vt16p1gjts_tn1qjff40000gn/T/ipykernel_1202/1482100882.py:4: UserWarning: Boolean Series key will be reindexed to match DataFrame index.\n",
      "  orders_in_interval = trips[(trips['tpep_pickup_datetime'] >= time) & (df['tpep_pickup_datetime'] < next_time)]\n",
      "/var/folders/0x/k389_vt16p1gjts_tn1qjff40000gn/T/ipykernel_1202/1482100882.py:4: UserWarning: Boolean Series key will be reindexed to match DataFrame index.\n",
      "  orders_in_interval = trips[(trips['tpep_pickup_datetime'] >= time) & (df['tpep_pickup_datetime'] < next_time)]\n",
      "/var/folders/0x/k389_vt16p1gjts_tn1qjff40000gn/T/ipykernel_1202/1482100882.py:4: UserWarning: Boolean Series key will be reindexed to match DataFrame index.\n",
      "  orders_in_interval = trips[(trips['tpep_pickup_datetime'] >= time) & (df['tpep_pickup_datetime'] < next_time)]\n",
      "/var/folders/0x/k389_vt16p1gjts_tn1qjff40000gn/T/ipykernel_1202/1482100882.py:4: UserWarning: Boolean Series key will be reindexed to match DataFrame index.\n",
      "  orders_in_interval = trips[(trips['tpep_pickup_datetime'] >= time) & (df['tpep_pickup_datetime'] < next_time)]\n",
      "/var/folders/0x/k389_vt16p1gjts_tn1qjff40000gn/T/ipykernel_1202/1482100882.py:4: UserWarning: Boolean Series key will be reindexed to match DataFrame index.\n",
      "  orders_in_interval = trips[(trips['tpep_pickup_datetime'] >= time) & (df['tpep_pickup_datetime'] < next_time)]\n",
      "/var/folders/0x/k389_vt16p1gjts_tn1qjff40000gn/T/ipykernel_1202/1482100882.py:4: UserWarning: Boolean Series key will be reindexed to match DataFrame index.\n",
      "  orders_in_interval = trips[(trips['tpep_pickup_datetime'] >= time) & (df['tpep_pickup_datetime'] < next_time)]\n",
      "/var/folders/0x/k389_vt16p1gjts_tn1qjff40000gn/T/ipykernel_1202/1482100882.py:4: UserWarning: Boolean Series key will be reindexed to match DataFrame index.\n",
      "  orders_in_interval = trips[(trips['tpep_pickup_datetime'] >= time) & (df['tpep_pickup_datetime'] < next_time)]\n"
     ]
    },
    {
     "name": "stdout",
     "output_type": "stream",
     "text": [
      "830done\n"
     ]
    },
    {
     "name": "stderr",
     "output_type": "stream",
     "text": [
      "/var/folders/0x/k389_vt16p1gjts_tn1qjff40000gn/T/ipykernel_1202/1482100882.py:4: UserWarning: Boolean Series key will be reindexed to match DataFrame index.\n",
      "  orders_in_interval = trips[(trips['tpep_pickup_datetime'] >= time) & (df['tpep_pickup_datetime'] < next_time)]\n",
      "/var/folders/0x/k389_vt16p1gjts_tn1qjff40000gn/T/ipykernel_1202/1482100882.py:4: UserWarning: Boolean Series key will be reindexed to match DataFrame index.\n",
      "  orders_in_interval = trips[(trips['tpep_pickup_datetime'] >= time) & (df['tpep_pickup_datetime'] < next_time)]\n",
      "/var/folders/0x/k389_vt16p1gjts_tn1qjff40000gn/T/ipykernel_1202/1482100882.py:4: UserWarning: Boolean Series key will be reindexed to match DataFrame index.\n",
      "  orders_in_interval = trips[(trips['tpep_pickup_datetime'] >= time) & (df['tpep_pickup_datetime'] < next_time)]\n",
      "/var/folders/0x/k389_vt16p1gjts_tn1qjff40000gn/T/ipykernel_1202/1482100882.py:4: UserWarning: Boolean Series key will be reindexed to match DataFrame index.\n",
      "  orders_in_interval = trips[(trips['tpep_pickup_datetime'] >= time) & (df['tpep_pickup_datetime'] < next_time)]\n",
      "/var/folders/0x/k389_vt16p1gjts_tn1qjff40000gn/T/ipykernel_1202/1482100882.py:4: UserWarning: Boolean Series key will be reindexed to match DataFrame index.\n",
      "  orders_in_interval = trips[(trips['tpep_pickup_datetime'] >= time) & (df['tpep_pickup_datetime'] < next_time)]\n",
      "/var/folders/0x/k389_vt16p1gjts_tn1qjff40000gn/T/ipykernel_1202/1482100882.py:4: UserWarning: Boolean Series key will be reindexed to match DataFrame index.\n",
      "  orders_in_interval = trips[(trips['tpep_pickup_datetime'] >= time) & (df['tpep_pickup_datetime'] < next_time)]\n",
      "/var/folders/0x/k389_vt16p1gjts_tn1qjff40000gn/T/ipykernel_1202/1482100882.py:4: UserWarning: Boolean Series key will be reindexed to match DataFrame index.\n",
      "  orders_in_interval = trips[(trips['tpep_pickup_datetime'] >= time) & (df['tpep_pickup_datetime'] < next_time)]\n",
      "/var/folders/0x/k389_vt16p1gjts_tn1qjff40000gn/T/ipykernel_1202/1482100882.py:4: UserWarning: Boolean Series key will be reindexed to match DataFrame index.\n",
      "  orders_in_interval = trips[(trips['tpep_pickup_datetime'] >= time) & (df['tpep_pickup_datetime'] < next_time)]\n",
      "/var/folders/0x/k389_vt16p1gjts_tn1qjff40000gn/T/ipykernel_1202/1482100882.py:4: UserWarning: Boolean Series key will be reindexed to match DataFrame index.\n",
      "  orders_in_interval = trips[(trips['tpep_pickup_datetime'] >= time) & (df['tpep_pickup_datetime'] < next_time)]\n",
      "/var/folders/0x/k389_vt16p1gjts_tn1qjff40000gn/T/ipykernel_1202/1482100882.py:4: UserWarning: Boolean Series key will be reindexed to match DataFrame index.\n",
      "  orders_in_interval = trips[(trips['tpep_pickup_datetime'] >= time) & (df['tpep_pickup_datetime'] < next_time)]\n"
     ]
    },
    {
     "name": "stdout",
     "output_type": "stream",
     "text": [
      "840done\n"
     ]
    },
    {
     "name": "stderr",
     "output_type": "stream",
     "text": [
      "/var/folders/0x/k389_vt16p1gjts_tn1qjff40000gn/T/ipykernel_1202/1482100882.py:4: UserWarning: Boolean Series key will be reindexed to match DataFrame index.\n",
      "  orders_in_interval = trips[(trips['tpep_pickup_datetime'] >= time) & (df['tpep_pickup_datetime'] < next_time)]\n",
      "/var/folders/0x/k389_vt16p1gjts_tn1qjff40000gn/T/ipykernel_1202/1482100882.py:4: UserWarning: Boolean Series key will be reindexed to match DataFrame index.\n",
      "  orders_in_interval = trips[(trips['tpep_pickup_datetime'] >= time) & (df['tpep_pickup_datetime'] < next_time)]\n",
      "/var/folders/0x/k389_vt16p1gjts_tn1qjff40000gn/T/ipykernel_1202/1482100882.py:4: UserWarning: Boolean Series key will be reindexed to match DataFrame index.\n",
      "  orders_in_interval = trips[(trips['tpep_pickup_datetime'] >= time) & (df['tpep_pickup_datetime'] < next_time)]\n",
      "/var/folders/0x/k389_vt16p1gjts_tn1qjff40000gn/T/ipykernel_1202/1482100882.py:4: UserWarning: Boolean Series key will be reindexed to match DataFrame index.\n",
      "  orders_in_interval = trips[(trips['tpep_pickup_datetime'] >= time) & (df['tpep_pickup_datetime'] < next_time)]\n",
      "/var/folders/0x/k389_vt16p1gjts_tn1qjff40000gn/T/ipykernel_1202/1482100882.py:4: UserWarning: Boolean Series key will be reindexed to match DataFrame index.\n",
      "  orders_in_interval = trips[(trips['tpep_pickup_datetime'] >= time) & (df['tpep_pickup_datetime'] < next_time)]\n",
      "/var/folders/0x/k389_vt16p1gjts_tn1qjff40000gn/T/ipykernel_1202/1482100882.py:4: UserWarning: Boolean Series key will be reindexed to match DataFrame index.\n",
      "  orders_in_interval = trips[(trips['tpep_pickup_datetime'] >= time) & (df['tpep_pickup_datetime'] < next_time)]\n",
      "/var/folders/0x/k389_vt16p1gjts_tn1qjff40000gn/T/ipykernel_1202/1482100882.py:4: UserWarning: Boolean Series key will be reindexed to match DataFrame index.\n",
      "  orders_in_interval = trips[(trips['tpep_pickup_datetime'] >= time) & (df['tpep_pickup_datetime'] < next_time)]\n",
      "/var/folders/0x/k389_vt16p1gjts_tn1qjff40000gn/T/ipykernel_1202/1482100882.py:4: UserWarning: Boolean Series key will be reindexed to match DataFrame index.\n",
      "  orders_in_interval = trips[(trips['tpep_pickup_datetime'] >= time) & (df['tpep_pickup_datetime'] < next_time)]\n",
      "/var/folders/0x/k389_vt16p1gjts_tn1qjff40000gn/T/ipykernel_1202/1482100882.py:4: UserWarning: Boolean Series key will be reindexed to match DataFrame index.\n",
      "  orders_in_interval = trips[(trips['tpep_pickup_datetime'] >= time) & (df['tpep_pickup_datetime'] < next_time)]\n",
      "/var/folders/0x/k389_vt16p1gjts_tn1qjff40000gn/T/ipykernel_1202/1482100882.py:4: UserWarning: Boolean Series key will be reindexed to match DataFrame index.\n",
      "  orders_in_interval = trips[(trips['tpep_pickup_datetime'] >= time) & (df['tpep_pickup_datetime'] < next_time)]\n"
     ]
    },
    {
     "name": "stdout",
     "output_type": "stream",
     "text": [
      "850done\n"
     ]
    },
    {
     "name": "stderr",
     "output_type": "stream",
     "text": [
      "/var/folders/0x/k389_vt16p1gjts_tn1qjff40000gn/T/ipykernel_1202/1482100882.py:4: UserWarning: Boolean Series key will be reindexed to match DataFrame index.\n",
      "  orders_in_interval = trips[(trips['tpep_pickup_datetime'] >= time) & (df['tpep_pickup_datetime'] < next_time)]\n",
      "/var/folders/0x/k389_vt16p1gjts_tn1qjff40000gn/T/ipykernel_1202/1482100882.py:4: UserWarning: Boolean Series key will be reindexed to match DataFrame index.\n",
      "  orders_in_interval = trips[(trips['tpep_pickup_datetime'] >= time) & (df['tpep_pickup_datetime'] < next_time)]\n",
      "/var/folders/0x/k389_vt16p1gjts_tn1qjff40000gn/T/ipykernel_1202/1482100882.py:4: UserWarning: Boolean Series key will be reindexed to match DataFrame index.\n",
      "  orders_in_interval = trips[(trips['tpep_pickup_datetime'] >= time) & (df['tpep_pickup_datetime'] < next_time)]\n",
      "/var/folders/0x/k389_vt16p1gjts_tn1qjff40000gn/T/ipykernel_1202/1482100882.py:4: UserWarning: Boolean Series key will be reindexed to match DataFrame index.\n",
      "  orders_in_interval = trips[(trips['tpep_pickup_datetime'] >= time) & (df['tpep_pickup_datetime'] < next_time)]\n",
      "/var/folders/0x/k389_vt16p1gjts_tn1qjff40000gn/T/ipykernel_1202/1482100882.py:4: UserWarning: Boolean Series key will be reindexed to match DataFrame index.\n",
      "  orders_in_interval = trips[(trips['tpep_pickup_datetime'] >= time) & (df['tpep_pickup_datetime'] < next_time)]\n",
      "/var/folders/0x/k389_vt16p1gjts_tn1qjff40000gn/T/ipykernel_1202/1482100882.py:4: UserWarning: Boolean Series key will be reindexed to match DataFrame index.\n",
      "  orders_in_interval = trips[(trips['tpep_pickup_datetime'] >= time) & (df['tpep_pickup_datetime'] < next_time)]\n",
      "/var/folders/0x/k389_vt16p1gjts_tn1qjff40000gn/T/ipykernel_1202/1482100882.py:4: UserWarning: Boolean Series key will be reindexed to match DataFrame index.\n",
      "  orders_in_interval = trips[(trips['tpep_pickup_datetime'] >= time) & (df['tpep_pickup_datetime'] < next_time)]\n",
      "/var/folders/0x/k389_vt16p1gjts_tn1qjff40000gn/T/ipykernel_1202/1482100882.py:4: UserWarning: Boolean Series key will be reindexed to match DataFrame index.\n",
      "  orders_in_interval = trips[(trips['tpep_pickup_datetime'] >= time) & (df['tpep_pickup_datetime'] < next_time)]\n",
      "/var/folders/0x/k389_vt16p1gjts_tn1qjff40000gn/T/ipykernel_1202/1482100882.py:4: UserWarning: Boolean Series key will be reindexed to match DataFrame index.\n",
      "  orders_in_interval = trips[(trips['tpep_pickup_datetime'] >= time) & (df['tpep_pickup_datetime'] < next_time)]\n",
      "/var/folders/0x/k389_vt16p1gjts_tn1qjff40000gn/T/ipykernel_1202/1482100882.py:4: UserWarning: Boolean Series key will be reindexed to match DataFrame index.\n",
      "  orders_in_interval = trips[(trips['tpep_pickup_datetime'] >= time) & (df['tpep_pickup_datetime'] < next_time)]\n"
     ]
    },
    {
     "name": "stdout",
     "output_type": "stream",
     "text": [
      "860done\n"
     ]
    },
    {
     "name": "stderr",
     "output_type": "stream",
     "text": [
      "/var/folders/0x/k389_vt16p1gjts_tn1qjff40000gn/T/ipykernel_1202/1482100882.py:4: UserWarning: Boolean Series key will be reindexed to match DataFrame index.\n",
      "  orders_in_interval = trips[(trips['tpep_pickup_datetime'] >= time) & (df['tpep_pickup_datetime'] < next_time)]\n",
      "/var/folders/0x/k389_vt16p1gjts_tn1qjff40000gn/T/ipykernel_1202/1482100882.py:4: UserWarning: Boolean Series key will be reindexed to match DataFrame index.\n",
      "  orders_in_interval = trips[(trips['tpep_pickup_datetime'] >= time) & (df['tpep_pickup_datetime'] < next_time)]\n",
      "/var/folders/0x/k389_vt16p1gjts_tn1qjff40000gn/T/ipykernel_1202/1482100882.py:4: UserWarning: Boolean Series key will be reindexed to match DataFrame index.\n",
      "  orders_in_interval = trips[(trips['tpep_pickup_datetime'] >= time) & (df['tpep_pickup_datetime'] < next_time)]\n",
      "/var/folders/0x/k389_vt16p1gjts_tn1qjff40000gn/T/ipykernel_1202/1482100882.py:4: UserWarning: Boolean Series key will be reindexed to match DataFrame index.\n",
      "  orders_in_interval = trips[(trips['tpep_pickup_datetime'] >= time) & (df['tpep_pickup_datetime'] < next_time)]\n",
      "/var/folders/0x/k389_vt16p1gjts_tn1qjff40000gn/T/ipykernel_1202/1482100882.py:4: UserWarning: Boolean Series key will be reindexed to match DataFrame index.\n",
      "  orders_in_interval = trips[(trips['tpep_pickup_datetime'] >= time) & (df['tpep_pickup_datetime'] < next_time)]\n",
      "/var/folders/0x/k389_vt16p1gjts_tn1qjff40000gn/T/ipykernel_1202/1482100882.py:4: UserWarning: Boolean Series key will be reindexed to match DataFrame index.\n",
      "  orders_in_interval = trips[(trips['tpep_pickup_datetime'] >= time) & (df['tpep_pickup_datetime'] < next_time)]\n",
      "/var/folders/0x/k389_vt16p1gjts_tn1qjff40000gn/T/ipykernel_1202/1482100882.py:4: UserWarning: Boolean Series key will be reindexed to match DataFrame index.\n",
      "  orders_in_interval = trips[(trips['tpep_pickup_datetime'] >= time) & (df['tpep_pickup_datetime'] < next_time)]\n",
      "/var/folders/0x/k389_vt16p1gjts_tn1qjff40000gn/T/ipykernel_1202/1482100882.py:4: UserWarning: Boolean Series key will be reindexed to match DataFrame index.\n",
      "  orders_in_interval = trips[(trips['tpep_pickup_datetime'] >= time) & (df['tpep_pickup_datetime'] < next_time)]\n",
      "/var/folders/0x/k389_vt16p1gjts_tn1qjff40000gn/T/ipykernel_1202/1482100882.py:4: UserWarning: Boolean Series key will be reindexed to match DataFrame index.\n",
      "  orders_in_interval = trips[(trips['tpep_pickup_datetime'] >= time) & (df['tpep_pickup_datetime'] < next_time)]\n",
      "/var/folders/0x/k389_vt16p1gjts_tn1qjff40000gn/T/ipykernel_1202/1482100882.py:4: UserWarning: Boolean Series key will be reindexed to match DataFrame index.\n",
      "  orders_in_interval = trips[(trips['tpep_pickup_datetime'] >= time) & (df['tpep_pickup_datetime'] < next_time)]\n"
     ]
    },
    {
     "name": "stdout",
     "output_type": "stream",
     "text": [
      "870done\n"
     ]
    },
    {
     "name": "stderr",
     "output_type": "stream",
     "text": [
      "/var/folders/0x/k389_vt16p1gjts_tn1qjff40000gn/T/ipykernel_1202/1482100882.py:4: UserWarning: Boolean Series key will be reindexed to match DataFrame index.\n",
      "  orders_in_interval = trips[(trips['tpep_pickup_datetime'] >= time) & (df['tpep_pickup_datetime'] < next_time)]\n",
      "/var/folders/0x/k389_vt16p1gjts_tn1qjff40000gn/T/ipykernel_1202/1482100882.py:4: UserWarning: Boolean Series key will be reindexed to match DataFrame index.\n",
      "  orders_in_interval = trips[(trips['tpep_pickup_datetime'] >= time) & (df['tpep_pickup_datetime'] < next_time)]\n",
      "/var/folders/0x/k389_vt16p1gjts_tn1qjff40000gn/T/ipykernel_1202/1482100882.py:4: UserWarning: Boolean Series key will be reindexed to match DataFrame index.\n",
      "  orders_in_interval = trips[(trips['tpep_pickup_datetime'] >= time) & (df['tpep_pickup_datetime'] < next_time)]\n",
      "/var/folders/0x/k389_vt16p1gjts_tn1qjff40000gn/T/ipykernel_1202/1482100882.py:4: UserWarning: Boolean Series key will be reindexed to match DataFrame index.\n",
      "  orders_in_interval = trips[(trips['tpep_pickup_datetime'] >= time) & (df['tpep_pickup_datetime'] < next_time)]\n",
      "/var/folders/0x/k389_vt16p1gjts_tn1qjff40000gn/T/ipykernel_1202/1482100882.py:4: UserWarning: Boolean Series key will be reindexed to match DataFrame index.\n",
      "  orders_in_interval = trips[(trips['tpep_pickup_datetime'] >= time) & (df['tpep_pickup_datetime'] < next_time)]\n",
      "/var/folders/0x/k389_vt16p1gjts_tn1qjff40000gn/T/ipykernel_1202/1482100882.py:4: UserWarning: Boolean Series key will be reindexed to match DataFrame index.\n",
      "  orders_in_interval = trips[(trips['tpep_pickup_datetime'] >= time) & (df['tpep_pickup_datetime'] < next_time)]\n",
      "/var/folders/0x/k389_vt16p1gjts_tn1qjff40000gn/T/ipykernel_1202/1482100882.py:4: UserWarning: Boolean Series key will be reindexed to match DataFrame index.\n",
      "  orders_in_interval = trips[(trips['tpep_pickup_datetime'] >= time) & (df['tpep_pickup_datetime'] < next_time)]\n",
      "/var/folders/0x/k389_vt16p1gjts_tn1qjff40000gn/T/ipykernel_1202/1482100882.py:4: UserWarning: Boolean Series key will be reindexed to match DataFrame index.\n",
      "  orders_in_interval = trips[(trips['tpep_pickup_datetime'] >= time) & (df['tpep_pickup_datetime'] < next_time)]\n",
      "/var/folders/0x/k389_vt16p1gjts_tn1qjff40000gn/T/ipykernel_1202/1482100882.py:4: UserWarning: Boolean Series key will be reindexed to match DataFrame index.\n",
      "  orders_in_interval = trips[(trips['tpep_pickup_datetime'] >= time) & (df['tpep_pickup_datetime'] < next_time)]\n",
      "/var/folders/0x/k389_vt16p1gjts_tn1qjff40000gn/T/ipykernel_1202/1482100882.py:4: UserWarning: Boolean Series key will be reindexed to match DataFrame index.\n",
      "  orders_in_interval = trips[(trips['tpep_pickup_datetime'] >= time) & (df['tpep_pickup_datetime'] < next_time)]\n"
     ]
    },
    {
     "name": "stdout",
     "output_type": "stream",
     "text": [
      "880done\n"
     ]
    },
    {
     "name": "stderr",
     "output_type": "stream",
     "text": [
      "/var/folders/0x/k389_vt16p1gjts_tn1qjff40000gn/T/ipykernel_1202/1482100882.py:4: UserWarning: Boolean Series key will be reindexed to match DataFrame index.\n",
      "  orders_in_interval = trips[(trips['tpep_pickup_datetime'] >= time) & (df['tpep_pickup_datetime'] < next_time)]\n",
      "/var/folders/0x/k389_vt16p1gjts_tn1qjff40000gn/T/ipykernel_1202/1482100882.py:4: UserWarning: Boolean Series key will be reindexed to match DataFrame index.\n",
      "  orders_in_interval = trips[(trips['tpep_pickup_datetime'] >= time) & (df['tpep_pickup_datetime'] < next_time)]\n",
      "/var/folders/0x/k389_vt16p1gjts_tn1qjff40000gn/T/ipykernel_1202/1482100882.py:4: UserWarning: Boolean Series key will be reindexed to match DataFrame index.\n",
      "  orders_in_interval = trips[(trips['tpep_pickup_datetime'] >= time) & (df['tpep_pickup_datetime'] < next_time)]\n",
      "/var/folders/0x/k389_vt16p1gjts_tn1qjff40000gn/T/ipykernel_1202/1482100882.py:4: UserWarning: Boolean Series key will be reindexed to match DataFrame index.\n",
      "  orders_in_interval = trips[(trips['tpep_pickup_datetime'] >= time) & (df['tpep_pickup_datetime'] < next_time)]\n",
      "/var/folders/0x/k389_vt16p1gjts_tn1qjff40000gn/T/ipykernel_1202/1482100882.py:4: UserWarning: Boolean Series key will be reindexed to match DataFrame index.\n",
      "  orders_in_interval = trips[(trips['tpep_pickup_datetime'] >= time) & (df['tpep_pickup_datetime'] < next_time)]\n",
      "/var/folders/0x/k389_vt16p1gjts_tn1qjff40000gn/T/ipykernel_1202/1482100882.py:4: UserWarning: Boolean Series key will be reindexed to match DataFrame index.\n",
      "  orders_in_interval = trips[(trips['tpep_pickup_datetime'] >= time) & (df['tpep_pickup_datetime'] < next_time)]\n",
      "/var/folders/0x/k389_vt16p1gjts_tn1qjff40000gn/T/ipykernel_1202/1482100882.py:4: UserWarning: Boolean Series key will be reindexed to match DataFrame index.\n",
      "  orders_in_interval = trips[(trips['tpep_pickup_datetime'] >= time) & (df['tpep_pickup_datetime'] < next_time)]\n",
      "/var/folders/0x/k389_vt16p1gjts_tn1qjff40000gn/T/ipykernel_1202/1482100882.py:4: UserWarning: Boolean Series key will be reindexed to match DataFrame index.\n",
      "  orders_in_interval = trips[(trips['tpep_pickup_datetime'] >= time) & (df['tpep_pickup_datetime'] < next_time)]\n",
      "/var/folders/0x/k389_vt16p1gjts_tn1qjff40000gn/T/ipykernel_1202/1482100882.py:4: UserWarning: Boolean Series key will be reindexed to match DataFrame index.\n",
      "  orders_in_interval = trips[(trips['tpep_pickup_datetime'] >= time) & (df['tpep_pickup_datetime'] < next_time)]\n",
      "/var/folders/0x/k389_vt16p1gjts_tn1qjff40000gn/T/ipykernel_1202/1482100882.py:4: UserWarning: Boolean Series key will be reindexed to match DataFrame index.\n",
      "  orders_in_interval = trips[(trips['tpep_pickup_datetime'] >= time) & (df['tpep_pickup_datetime'] < next_time)]\n"
     ]
    },
    {
     "name": "stdout",
     "output_type": "stream",
     "text": [
      "890done\n"
     ]
    },
    {
     "name": "stderr",
     "output_type": "stream",
     "text": [
      "/var/folders/0x/k389_vt16p1gjts_tn1qjff40000gn/T/ipykernel_1202/1482100882.py:4: UserWarning: Boolean Series key will be reindexed to match DataFrame index.\n",
      "  orders_in_interval = trips[(trips['tpep_pickup_datetime'] >= time) & (df['tpep_pickup_datetime'] < next_time)]\n",
      "/var/folders/0x/k389_vt16p1gjts_tn1qjff40000gn/T/ipykernel_1202/1482100882.py:4: UserWarning: Boolean Series key will be reindexed to match DataFrame index.\n",
      "  orders_in_interval = trips[(trips['tpep_pickup_datetime'] >= time) & (df['tpep_pickup_datetime'] < next_time)]\n",
      "/var/folders/0x/k389_vt16p1gjts_tn1qjff40000gn/T/ipykernel_1202/1482100882.py:4: UserWarning: Boolean Series key will be reindexed to match DataFrame index.\n",
      "  orders_in_interval = trips[(trips['tpep_pickup_datetime'] >= time) & (df['tpep_pickup_datetime'] < next_time)]\n",
      "/var/folders/0x/k389_vt16p1gjts_tn1qjff40000gn/T/ipykernel_1202/1482100882.py:4: UserWarning: Boolean Series key will be reindexed to match DataFrame index.\n",
      "  orders_in_interval = trips[(trips['tpep_pickup_datetime'] >= time) & (df['tpep_pickup_datetime'] < next_time)]\n",
      "/var/folders/0x/k389_vt16p1gjts_tn1qjff40000gn/T/ipykernel_1202/1482100882.py:4: UserWarning: Boolean Series key will be reindexed to match DataFrame index.\n",
      "  orders_in_interval = trips[(trips['tpep_pickup_datetime'] >= time) & (df['tpep_pickup_datetime'] < next_time)]\n",
      "/var/folders/0x/k389_vt16p1gjts_tn1qjff40000gn/T/ipykernel_1202/1482100882.py:4: UserWarning: Boolean Series key will be reindexed to match DataFrame index.\n",
      "  orders_in_interval = trips[(trips['tpep_pickup_datetime'] >= time) & (df['tpep_pickup_datetime'] < next_time)]\n",
      "/var/folders/0x/k389_vt16p1gjts_tn1qjff40000gn/T/ipykernel_1202/1482100882.py:4: UserWarning: Boolean Series key will be reindexed to match DataFrame index.\n",
      "  orders_in_interval = trips[(trips['tpep_pickup_datetime'] >= time) & (df['tpep_pickup_datetime'] < next_time)]\n",
      "/var/folders/0x/k389_vt16p1gjts_tn1qjff40000gn/T/ipykernel_1202/1482100882.py:4: UserWarning: Boolean Series key will be reindexed to match DataFrame index.\n",
      "  orders_in_interval = trips[(trips['tpep_pickup_datetime'] >= time) & (df['tpep_pickup_datetime'] < next_time)]\n",
      "/var/folders/0x/k389_vt16p1gjts_tn1qjff40000gn/T/ipykernel_1202/1482100882.py:4: UserWarning: Boolean Series key will be reindexed to match DataFrame index.\n",
      "  orders_in_interval = trips[(trips['tpep_pickup_datetime'] >= time) & (df['tpep_pickup_datetime'] < next_time)]\n",
      "/var/folders/0x/k389_vt16p1gjts_tn1qjff40000gn/T/ipykernel_1202/1482100882.py:4: UserWarning: Boolean Series key will be reindexed to match DataFrame index.\n",
      "  orders_in_interval = trips[(trips['tpep_pickup_datetime'] >= time) & (df['tpep_pickup_datetime'] < next_time)]\n"
     ]
    },
    {
     "name": "stdout",
     "output_type": "stream",
     "text": [
      "900done\n"
     ]
    },
    {
     "name": "stderr",
     "output_type": "stream",
     "text": [
      "/var/folders/0x/k389_vt16p1gjts_tn1qjff40000gn/T/ipykernel_1202/1482100882.py:4: UserWarning: Boolean Series key will be reindexed to match DataFrame index.\n",
      "  orders_in_interval = trips[(trips['tpep_pickup_datetime'] >= time) & (df['tpep_pickup_datetime'] < next_time)]\n",
      "/var/folders/0x/k389_vt16p1gjts_tn1qjff40000gn/T/ipykernel_1202/1482100882.py:4: UserWarning: Boolean Series key will be reindexed to match DataFrame index.\n",
      "  orders_in_interval = trips[(trips['tpep_pickup_datetime'] >= time) & (df['tpep_pickup_datetime'] < next_time)]\n",
      "/var/folders/0x/k389_vt16p1gjts_tn1qjff40000gn/T/ipykernel_1202/1482100882.py:4: UserWarning: Boolean Series key will be reindexed to match DataFrame index.\n",
      "  orders_in_interval = trips[(trips['tpep_pickup_datetime'] >= time) & (df['tpep_pickup_datetime'] < next_time)]\n",
      "/var/folders/0x/k389_vt16p1gjts_tn1qjff40000gn/T/ipykernel_1202/1482100882.py:4: UserWarning: Boolean Series key will be reindexed to match DataFrame index.\n",
      "  orders_in_interval = trips[(trips['tpep_pickup_datetime'] >= time) & (df['tpep_pickup_datetime'] < next_time)]\n",
      "/var/folders/0x/k389_vt16p1gjts_tn1qjff40000gn/T/ipykernel_1202/1482100882.py:4: UserWarning: Boolean Series key will be reindexed to match DataFrame index.\n",
      "  orders_in_interval = trips[(trips['tpep_pickup_datetime'] >= time) & (df['tpep_pickup_datetime'] < next_time)]\n",
      "/var/folders/0x/k389_vt16p1gjts_tn1qjff40000gn/T/ipykernel_1202/1482100882.py:4: UserWarning: Boolean Series key will be reindexed to match DataFrame index.\n",
      "  orders_in_interval = trips[(trips['tpep_pickup_datetime'] >= time) & (df['tpep_pickup_datetime'] < next_time)]\n",
      "/var/folders/0x/k389_vt16p1gjts_tn1qjff40000gn/T/ipykernel_1202/1482100882.py:4: UserWarning: Boolean Series key will be reindexed to match DataFrame index.\n",
      "  orders_in_interval = trips[(trips['tpep_pickup_datetime'] >= time) & (df['tpep_pickup_datetime'] < next_time)]\n",
      "/var/folders/0x/k389_vt16p1gjts_tn1qjff40000gn/T/ipykernel_1202/1482100882.py:4: UserWarning: Boolean Series key will be reindexed to match DataFrame index.\n",
      "  orders_in_interval = trips[(trips['tpep_pickup_datetime'] >= time) & (df['tpep_pickup_datetime'] < next_time)]\n",
      "/var/folders/0x/k389_vt16p1gjts_tn1qjff40000gn/T/ipykernel_1202/1482100882.py:4: UserWarning: Boolean Series key will be reindexed to match DataFrame index.\n",
      "  orders_in_interval = trips[(trips['tpep_pickup_datetime'] >= time) & (df['tpep_pickup_datetime'] < next_time)]\n",
      "/var/folders/0x/k389_vt16p1gjts_tn1qjff40000gn/T/ipykernel_1202/1482100882.py:4: UserWarning: Boolean Series key will be reindexed to match DataFrame index.\n",
      "  orders_in_interval = trips[(trips['tpep_pickup_datetime'] >= time) & (df['tpep_pickup_datetime'] < next_time)]\n"
     ]
    },
    {
     "name": "stdout",
     "output_type": "stream",
     "text": [
      "910done\n"
     ]
    },
    {
     "name": "stderr",
     "output_type": "stream",
     "text": [
      "/var/folders/0x/k389_vt16p1gjts_tn1qjff40000gn/T/ipykernel_1202/1482100882.py:4: UserWarning: Boolean Series key will be reindexed to match DataFrame index.\n",
      "  orders_in_interval = trips[(trips['tpep_pickup_datetime'] >= time) & (df['tpep_pickup_datetime'] < next_time)]\n",
      "/var/folders/0x/k389_vt16p1gjts_tn1qjff40000gn/T/ipykernel_1202/1482100882.py:4: UserWarning: Boolean Series key will be reindexed to match DataFrame index.\n",
      "  orders_in_interval = trips[(trips['tpep_pickup_datetime'] >= time) & (df['tpep_pickup_datetime'] < next_time)]\n",
      "/var/folders/0x/k389_vt16p1gjts_tn1qjff40000gn/T/ipykernel_1202/1482100882.py:4: UserWarning: Boolean Series key will be reindexed to match DataFrame index.\n",
      "  orders_in_interval = trips[(trips['tpep_pickup_datetime'] >= time) & (df['tpep_pickup_datetime'] < next_time)]\n",
      "/var/folders/0x/k389_vt16p1gjts_tn1qjff40000gn/T/ipykernel_1202/1482100882.py:4: UserWarning: Boolean Series key will be reindexed to match DataFrame index.\n",
      "  orders_in_interval = trips[(trips['tpep_pickup_datetime'] >= time) & (df['tpep_pickup_datetime'] < next_time)]\n",
      "/var/folders/0x/k389_vt16p1gjts_tn1qjff40000gn/T/ipykernel_1202/1482100882.py:4: UserWarning: Boolean Series key will be reindexed to match DataFrame index.\n",
      "  orders_in_interval = trips[(trips['tpep_pickup_datetime'] >= time) & (df['tpep_pickup_datetime'] < next_time)]\n",
      "/var/folders/0x/k389_vt16p1gjts_tn1qjff40000gn/T/ipykernel_1202/1482100882.py:4: UserWarning: Boolean Series key will be reindexed to match DataFrame index.\n",
      "  orders_in_interval = trips[(trips['tpep_pickup_datetime'] >= time) & (df['tpep_pickup_datetime'] < next_time)]\n",
      "/var/folders/0x/k389_vt16p1gjts_tn1qjff40000gn/T/ipykernel_1202/1482100882.py:4: UserWarning: Boolean Series key will be reindexed to match DataFrame index.\n",
      "  orders_in_interval = trips[(trips['tpep_pickup_datetime'] >= time) & (df['tpep_pickup_datetime'] < next_time)]\n",
      "/var/folders/0x/k389_vt16p1gjts_tn1qjff40000gn/T/ipykernel_1202/1482100882.py:4: UserWarning: Boolean Series key will be reindexed to match DataFrame index.\n",
      "  orders_in_interval = trips[(trips['tpep_pickup_datetime'] >= time) & (df['tpep_pickup_datetime'] < next_time)]\n",
      "/var/folders/0x/k389_vt16p1gjts_tn1qjff40000gn/T/ipykernel_1202/1482100882.py:4: UserWarning: Boolean Series key will be reindexed to match DataFrame index.\n",
      "  orders_in_interval = trips[(trips['tpep_pickup_datetime'] >= time) & (df['tpep_pickup_datetime'] < next_time)]\n",
      "/var/folders/0x/k389_vt16p1gjts_tn1qjff40000gn/T/ipykernel_1202/1482100882.py:4: UserWarning: Boolean Series key will be reindexed to match DataFrame index.\n",
      "  orders_in_interval = trips[(trips['tpep_pickup_datetime'] >= time) & (df['tpep_pickup_datetime'] < next_time)]\n"
     ]
    },
    {
     "name": "stdout",
     "output_type": "stream",
     "text": [
      "920done\n"
     ]
    },
    {
     "name": "stderr",
     "output_type": "stream",
     "text": [
      "/var/folders/0x/k389_vt16p1gjts_tn1qjff40000gn/T/ipykernel_1202/1482100882.py:4: UserWarning: Boolean Series key will be reindexed to match DataFrame index.\n",
      "  orders_in_interval = trips[(trips['tpep_pickup_datetime'] >= time) & (df['tpep_pickup_datetime'] < next_time)]\n",
      "/var/folders/0x/k389_vt16p1gjts_tn1qjff40000gn/T/ipykernel_1202/1482100882.py:4: UserWarning: Boolean Series key will be reindexed to match DataFrame index.\n",
      "  orders_in_interval = trips[(trips['tpep_pickup_datetime'] >= time) & (df['tpep_pickup_datetime'] < next_time)]\n",
      "/var/folders/0x/k389_vt16p1gjts_tn1qjff40000gn/T/ipykernel_1202/1482100882.py:4: UserWarning: Boolean Series key will be reindexed to match DataFrame index.\n",
      "  orders_in_interval = trips[(trips['tpep_pickup_datetime'] >= time) & (df['tpep_pickup_datetime'] < next_time)]\n",
      "/var/folders/0x/k389_vt16p1gjts_tn1qjff40000gn/T/ipykernel_1202/1482100882.py:4: UserWarning: Boolean Series key will be reindexed to match DataFrame index.\n",
      "  orders_in_interval = trips[(trips['tpep_pickup_datetime'] >= time) & (df['tpep_pickup_datetime'] < next_time)]\n",
      "/var/folders/0x/k389_vt16p1gjts_tn1qjff40000gn/T/ipykernel_1202/1482100882.py:4: UserWarning: Boolean Series key will be reindexed to match DataFrame index.\n",
      "  orders_in_interval = trips[(trips['tpep_pickup_datetime'] >= time) & (df['tpep_pickup_datetime'] < next_time)]\n",
      "/var/folders/0x/k389_vt16p1gjts_tn1qjff40000gn/T/ipykernel_1202/1482100882.py:4: UserWarning: Boolean Series key will be reindexed to match DataFrame index.\n",
      "  orders_in_interval = trips[(trips['tpep_pickup_datetime'] >= time) & (df['tpep_pickup_datetime'] < next_time)]\n",
      "/var/folders/0x/k389_vt16p1gjts_tn1qjff40000gn/T/ipykernel_1202/1482100882.py:4: UserWarning: Boolean Series key will be reindexed to match DataFrame index.\n",
      "  orders_in_interval = trips[(trips['tpep_pickup_datetime'] >= time) & (df['tpep_pickup_datetime'] < next_time)]\n",
      "/var/folders/0x/k389_vt16p1gjts_tn1qjff40000gn/T/ipykernel_1202/1482100882.py:4: UserWarning: Boolean Series key will be reindexed to match DataFrame index.\n",
      "  orders_in_interval = trips[(trips['tpep_pickup_datetime'] >= time) & (df['tpep_pickup_datetime'] < next_time)]\n",
      "/var/folders/0x/k389_vt16p1gjts_tn1qjff40000gn/T/ipykernel_1202/1482100882.py:4: UserWarning: Boolean Series key will be reindexed to match DataFrame index.\n",
      "  orders_in_interval = trips[(trips['tpep_pickup_datetime'] >= time) & (df['tpep_pickup_datetime'] < next_time)]\n",
      "/var/folders/0x/k389_vt16p1gjts_tn1qjff40000gn/T/ipykernel_1202/1482100882.py:4: UserWarning: Boolean Series key will be reindexed to match DataFrame index.\n",
      "  orders_in_interval = trips[(trips['tpep_pickup_datetime'] >= time) & (df['tpep_pickup_datetime'] < next_time)]\n"
     ]
    },
    {
     "name": "stdout",
     "output_type": "stream",
     "text": [
      "930done\n"
     ]
    },
    {
     "name": "stderr",
     "output_type": "stream",
     "text": [
      "/var/folders/0x/k389_vt16p1gjts_tn1qjff40000gn/T/ipykernel_1202/1482100882.py:4: UserWarning: Boolean Series key will be reindexed to match DataFrame index.\n",
      "  orders_in_interval = trips[(trips['tpep_pickup_datetime'] >= time) & (df['tpep_pickup_datetime'] < next_time)]\n",
      "/var/folders/0x/k389_vt16p1gjts_tn1qjff40000gn/T/ipykernel_1202/1482100882.py:4: UserWarning: Boolean Series key will be reindexed to match DataFrame index.\n",
      "  orders_in_interval = trips[(trips['tpep_pickup_datetime'] >= time) & (df['tpep_pickup_datetime'] < next_time)]\n",
      "/var/folders/0x/k389_vt16p1gjts_tn1qjff40000gn/T/ipykernel_1202/1482100882.py:4: UserWarning: Boolean Series key will be reindexed to match DataFrame index.\n",
      "  orders_in_interval = trips[(trips['tpep_pickup_datetime'] >= time) & (df['tpep_pickup_datetime'] < next_time)]\n",
      "/var/folders/0x/k389_vt16p1gjts_tn1qjff40000gn/T/ipykernel_1202/1482100882.py:4: UserWarning: Boolean Series key will be reindexed to match DataFrame index.\n",
      "  orders_in_interval = trips[(trips['tpep_pickup_datetime'] >= time) & (df['tpep_pickup_datetime'] < next_time)]\n",
      "/var/folders/0x/k389_vt16p1gjts_tn1qjff40000gn/T/ipykernel_1202/1482100882.py:4: UserWarning: Boolean Series key will be reindexed to match DataFrame index.\n",
      "  orders_in_interval = trips[(trips['tpep_pickup_datetime'] >= time) & (df['tpep_pickup_datetime'] < next_time)]\n",
      "/var/folders/0x/k389_vt16p1gjts_tn1qjff40000gn/T/ipykernel_1202/1482100882.py:4: UserWarning: Boolean Series key will be reindexed to match DataFrame index.\n",
      "  orders_in_interval = trips[(trips['tpep_pickup_datetime'] >= time) & (df['tpep_pickup_datetime'] < next_time)]\n",
      "/var/folders/0x/k389_vt16p1gjts_tn1qjff40000gn/T/ipykernel_1202/1482100882.py:4: UserWarning: Boolean Series key will be reindexed to match DataFrame index.\n",
      "  orders_in_interval = trips[(trips['tpep_pickup_datetime'] >= time) & (df['tpep_pickup_datetime'] < next_time)]\n",
      "/var/folders/0x/k389_vt16p1gjts_tn1qjff40000gn/T/ipykernel_1202/1482100882.py:4: UserWarning: Boolean Series key will be reindexed to match DataFrame index.\n",
      "  orders_in_interval = trips[(trips['tpep_pickup_datetime'] >= time) & (df['tpep_pickup_datetime'] < next_time)]\n",
      "/var/folders/0x/k389_vt16p1gjts_tn1qjff40000gn/T/ipykernel_1202/1482100882.py:4: UserWarning: Boolean Series key will be reindexed to match DataFrame index.\n",
      "  orders_in_interval = trips[(trips['tpep_pickup_datetime'] >= time) & (df['tpep_pickup_datetime'] < next_time)]\n",
      "/var/folders/0x/k389_vt16p1gjts_tn1qjff40000gn/T/ipykernel_1202/1482100882.py:4: UserWarning: Boolean Series key will be reindexed to match DataFrame index.\n",
      "  orders_in_interval = trips[(trips['tpep_pickup_datetime'] >= time) & (df['tpep_pickup_datetime'] < next_time)]\n"
     ]
    },
    {
     "name": "stdout",
     "output_type": "stream",
     "text": [
      "940done\n"
     ]
    },
    {
     "name": "stderr",
     "output_type": "stream",
     "text": [
      "/var/folders/0x/k389_vt16p1gjts_tn1qjff40000gn/T/ipykernel_1202/1482100882.py:4: UserWarning: Boolean Series key will be reindexed to match DataFrame index.\n",
      "  orders_in_interval = trips[(trips['tpep_pickup_datetime'] >= time) & (df['tpep_pickup_datetime'] < next_time)]\n",
      "/var/folders/0x/k389_vt16p1gjts_tn1qjff40000gn/T/ipykernel_1202/1482100882.py:4: UserWarning: Boolean Series key will be reindexed to match DataFrame index.\n",
      "  orders_in_interval = trips[(trips['tpep_pickup_datetime'] >= time) & (df['tpep_pickup_datetime'] < next_time)]\n",
      "/var/folders/0x/k389_vt16p1gjts_tn1qjff40000gn/T/ipykernel_1202/1482100882.py:4: UserWarning: Boolean Series key will be reindexed to match DataFrame index.\n",
      "  orders_in_interval = trips[(trips['tpep_pickup_datetime'] >= time) & (df['tpep_pickup_datetime'] < next_time)]\n",
      "/var/folders/0x/k389_vt16p1gjts_tn1qjff40000gn/T/ipykernel_1202/1482100882.py:4: UserWarning: Boolean Series key will be reindexed to match DataFrame index.\n",
      "  orders_in_interval = trips[(trips['tpep_pickup_datetime'] >= time) & (df['tpep_pickup_datetime'] < next_time)]\n",
      "/var/folders/0x/k389_vt16p1gjts_tn1qjff40000gn/T/ipykernel_1202/1482100882.py:4: UserWarning: Boolean Series key will be reindexed to match DataFrame index.\n",
      "  orders_in_interval = trips[(trips['tpep_pickup_datetime'] >= time) & (df['tpep_pickup_datetime'] < next_time)]\n",
      "/var/folders/0x/k389_vt16p1gjts_tn1qjff40000gn/T/ipykernel_1202/1482100882.py:4: UserWarning: Boolean Series key will be reindexed to match DataFrame index.\n",
      "  orders_in_interval = trips[(trips['tpep_pickup_datetime'] >= time) & (df['tpep_pickup_datetime'] < next_time)]\n",
      "/var/folders/0x/k389_vt16p1gjts_tn1qjff40000gn/T/ipykernel_1202/1482100882.py:4: UserWarning: Boolean Series key will be reindexed to match DataFrame index.\n",
      "  orders_in_interval = trips[(trips['tpep_pickup_datetime'] >= time) & (df['tpep_pickup_datetime'] < next_time)]\n",
      "/var/folders/0x/k389_vt16p1gjts_tn1qjff40000gn/T/ipykernel_1202/1482100882.py:4: UserWarning: Boolean Series key will be reindexed to match DataFrame index.\n",
      "  orders_in_interval = trips[(trips['tpep_pickup_datetime'] >= time) & (df['tpep_pickup_datetime'] < next_time)]\n",
      "/var/folders/0x/k389_vt16p1gjts_tn1qjff40000gn/T/ipykernel_1202/1482100882.py:4: UserWarning: Boolean Series key will be reindexed to match DataFrame index.\n",
      "  orders_in_interval = trips[(trips['tpep_pickup_datetime'] >= time) & (df['tpep_pickup_datetime'] < next_time)]\n",
      "/var/folders/0x/k389_vt16p1gjts_tn1qjff40000gn/T/ipykernel_1202/1482100882.py:4: UserWarning: Boolean Series key will be reindexed to match DataFrame index.\n",
      "  orders_in_interval = trips[(trips['tpep_pickup_datetime'] >= time) & (df['tpep_pickup_datetime'] < next_time)]\n"
     ]
    },
    {
     "name": "stdout",
     "output_type": "stream",
     "text": [
      "950done\n"
     ]
    },
    {
     "name": "stderr",
     "output_type": "stream",
     "text": [
      "/var/folders/0x/k389_vt16p1gjts_tn1qjff40000gn/T/ipykernel_1202/1482100882.py:4: UserWarning: Boolean Series key will be reindexed to match DataFrame index.\n",
      "  orders_in_interval = trips[(trips['tpep_pickup_datetime'] >= time) & (df['tpep_pickup_datetime'] < next_time)]\n",
      "/var/folders/0x/k389_vt16p1gjts_tn1qjff40000gn/T/ipykernel_1202/1482100882.py:4: UserWarning: Boolean Series key will be reindexed to match DataFrame index.\n",
      "  orders_in_interval = trips[(trips['tpep_pickup_datetime'] >= time) & (df['tpep_pickup_datetime'] < next_time)]\n",
      "/var/folders/0x/k389_vt16p1gjts_tn1qjff40000gn/T/ipykernel_1202/1482100882.py:4: UserWarning: Boolean Series key will be reindexed to match DataFrame index.\n",
      "  orders_in_interval = trips[(trips['tpep_pickup_datetime'] >= time) & (df['tpep_pickup_datetime'] < next_time)]\n",
      "/var/folders/0x/k389_vt16p1gjts_tn1qjff40000gn/T/ipykernel_1202/1482100882.py:4: UserWarning: Boolean Series key will be reindexed to match DataFrame index.\n",
      "  orders_in_interval = trips[(trips['tpep_pickup_datetime'] >= time) & (df['tpep_pickup_datetime'] < next_time)]\n",
      "/var/folders/0x/k389_vt16p1gjts_tn1qjff40000gn/T/ipykernel_1202/1482100882.py:4: UserWarning: Boolean Series key will be reindexed to match DataFrame index.\n",
      "  orders_in_interval = trips[(trips['tpep_pickup_datetime'] >= time) & (df['tpep_pickup_datetime'] < next_time)]\n",
      "/var/folders/0x/k389_vt16p1gjts_tn1qjff40000gn/T/ipykernel_1202/1482100882.py:4: UserWarning: Boolean Series key will be reindexed to match DataFrame index.\n",
      "  orders_in_interval = trips[(trips['tpep_pickup_datetime'] >= time) & (df['tpep_pickup_datetime'] < next_time)]\n",
      "/var/folders/0x/k389_vt16p1gjts_tn1qjff40000gn/T/ipykernel_1202/1482100882.py:4: UserWarning: Boolean Series key will be reindexed to match DataFrame index.\n",
      "  orders_in_interval = trips[(trips['tpep_pickup_datetime'] >= time) & (df['tpep_pickup_datetime'] < next_time)]\n",
      "/var/folders/0x/k389_vt16p1gjts_tn1qjff40000gn/T/ipykernel_1202/1482100882.py:4: UserWarning: Boolean Series key will be reindexed to match DataFrame index.\n",
      "  orders_in_interval = trips[(trips['tpep_pickup_datetime'] >= time) & (df['tpep_pickup_datetime'] < next_time)]\n",
      "/var/folders/0x/k389_vt16p1gjts_tn1qjff40000gn/T/ipykernel_1202/1482100882.py:4: UserWarning: Boolean Series key will be reindexed to match DataFrame index.\n",
      "  orders_in_interval = trips[(trips['tpep_pickup_datetime'] >= time) & (df['tpep_pickup_datetime'] < next_time)]\n",
      "/var/folders/0x/k389_vt16p1gjts_tn1qjff40000gn/T/ipykernel_1202/1482100882.py:4: UserWarning: Boolean Series key will be reindexed to match DataFrame index.\n",
      "  orders_in_interval = trips[(trips['tpep_pickup_datetime'] >= time) & (df['tpep_pickup_datetime'] < next_time)]\n"
     ]
    },
    {
     "name": "stdout",
     "output_type": "stream",
     "text": [
      "960done\n"
     ]
    },
    {
     "name": "stderr",
     "output_type": "stream",
     "text": [
      "/var/folders/0x/k389_vt16p1gjts_tn1qjff40000gn/T/ipykernel_1202/1482100882.py:4: UserWarning: Boolean Series key will be reindexed to match DataFrame index.\n",
      "  orders_in_interval = trips[(trips['tpep_pickup_datetime'] >= time) & (df['tpep_pickup_datetime'] < next_time)]\n",
      "/var/folders/0x/k389_vt16p1gjts_tn1qjff40000gn/T/ipykernel_1202/1482100882.py:4: UserWarning: Boolean Series key will be reindexed to match DataFrame index.\n",
      "  orders_in_interval = trips[(trips['tpep_pickup_datetime'] >= time) & (df['tpep_pickup_datetime'] < next_time)]\n",
      "/var/folders/0x/k389_vt16p1gjts_tn1qjff40000gn/T/ipykernel_1202/1482100882.py:4: UserWarning: Boolean Series key will be reindexed to match DataFrame index.\n",
      "  orders_in_interval = trips[(trips['tpep_pickup_datetime'] >= time) & (df['tpep_pickup_datetime'] < next_time)]\n",
      "/var/folders/0x/k389_vt16p1gjts_tn1qjff40000gn/T/ipykernel_1202/1482100882.py:4: UserWarning: Boolean Series key will be reindexed to match DataFrame index.\n",
      "  orders_in_interval = trips[(trips['tpep_pickup_datetime'] >= time) & (df['tpep_pickup_datetime'] < next_time)]\n",
      "/var/folders/0x/k389_vt16p1gjts_tn1qjff40000gn/T/ipykernel_1202/1482100882.py:4: UserWarning: Boolean Series key will be reindexed to match DataFrame index.\n",
      "  orders_in_interval = trips[(trips['tpep_pickup_datetime'] >= time) & (df['tpep_pickup_datetime'] < next_time)]\n",
      "/var/folders/0x/k389_vt16p1gjts_tn1qjff40000gn/T/ipykernel_1202/1482100882.py:4: UserWarning: Boolean Series key will be reindexed to match DataFrame index.\n",
      "  orders_in_interval = trips[(trips['tpep_pickup_datetime'] >= time) & (df['tpep_pickup_datetime'] < next_time)]\n",
      "/var/folders/0x/k389_vt16p1gjts_tn1qjff40000gn/T/ipykernel_1202/1482100882.py:4: UserWarning: Boolean Series key will be reindexed to match DataFrame index.\n",
      "  orders_in_interval = trips[(trips['tpep_pickup_datetime'] >= time) & (df['tpep_pickup_datetime'] < next_time)]\n",
      "/var/folders/0x/k389_vt16p1gjts_tn1qjff40000gn/T/ipykernel_1202/1482100882.py:4: UserWarning: Boolean Series key will be reindexed to match DataFrame index.\n",
      "  orders_in_interval = trips[(trips['tpep_pickup_datetime'] >= time) & (df['tpep_pickup_datetime'] < next_time)]\n",
      "/var/folders/0x/k389_vt16p1gjts_tn1qjff40000gn/T/ipykernel_1202/1482100882.py:4: UserWarning: Boolean Series key will be reindexed to match DataFrame index.\n",
      "  orders_in_interval = trips[(trips['tpep_pickup_datetime'] >= time) & (df['tpep_pickup_datetime'] < next_time)]\n",
      "/var/folders/0x/k389_vt16p1gjts_tn1qjff40000gn/T/ipykernel_1202/1482100882.py:4: UserWarning: Boolean Series key will be reindexed to match DataFrame index.\n",
      "  orders_in_interval = trips[(trips['tpep_pickup_datetime'] >= time) & (df['tpep_pickup_datetime'] < next_time)]\n"
     ]
    },
    {
     "name": "stdout",
     "output_type": "stream",
     "text": [
      "970done\n"
     ]
    },
    {
     "name": "stderr",
     "output_type": "stream",
     "text": [
      "/var/folders/0x/k389_vt16p1gjts_tn1qjff40000gn/T/ipykernel_1202/1482100882.py:4: UserWarning: Boolean Series key will be reindexed to match DataFrame index.\n",
      "  orders_in_interval = trips[(trips['tpep_pickup_datetime'] >= time) & (df['tpep_pickup_datetime'] < next_time)]\n",
      "/var/folders/0x/k389_vt16p1gjts_tn1qjff40000gn/T/ipykernel_1202/1482100882.py:4: UserWarning: Boolean Series key will be reindexed to match DataFrame index.\n",
      "  orders_in_interval = trips[(trips['tpep_pickup_datetime'] >= time) & (df['tpep_pickup_datetime'] < next_time)]\n",
      "/var/folders/0x/k389_vt16p1gjts_tn1qjff40000gn/T/ipykernel_1202/1482100882.py:4: UserWarning: Boolean Series key will be reindexed to match DataFrame index.\n",
      "  orders_in_interval = trips[(trips['tpep_pickup_datetime'] >= time) & (df['tpep_pickup_datetime'] < next_time)]\n",
      "/var/folders/0x/k389_vt16p1gjts_tn1qjff40000gn/T/ipykernel_1202/1482100882.py:4: UserWarning: Boolean Series key will be reindexed to match DataFrame index.\n",
      "  orders_in_interval = trips[(trips['tpep_pickup_datetime'] >= time) & (df['tpep_pickup_datetime'] < next_time)]\n",
      "/var/folders/0x/k389_vt16p1gjts_tn1qjff40000gn/T/ipykernel_1202/1482100882.py:4: UserWarning: Boolean Series key will be reindexed to match DataFrame index.\n",
      "  orders_in_interval = trips[(trips['tpep_pickup_datetime'] >= time) & (df['tpep_pickup_datetime'] < next_time)]\n",
      "/var/folders/0x/k389_vt16p1gjts_tn1qjff40000gn/T/ipykernel_1202/1482100882.py:4: UserWarning: Boolean Series key will be reindexed to match DataFrame index.\n",
      "  orders_in_interval = trips[(trips['tpep_pickup_datetime'] >= time) & (df['tpep_pickup_datetime'] < next_time)]\n",
      "/var/folders/0x/k389_vt16p1gjts_tn1qjff40000gn/T/ipykernel_1202/1482100882.py:4: UserWarning: Boolean Series key will be reindexed to match DataFrame index.\n",
      "  orders_in_interval = trips[(trips['tpep_pickup_datetime'] >= time) & (df['tpep_pickup_datetime'] < next_time)]\n",
      "/var/folders/0x/k389_vt16p1gjts_tn1qjff40000gn/T/ipykernel_1202/1482100882.py:4: UserWarning: Boolean Series key will be reindexed to match DataFrame index.\n",
      "  orders_in_interval = trips[(trips['tpep_pickup_datetime'] >= time) & (df['tpep_pickup_datetime'] < next_time)]\n",
      "/var/folders/0x/k389_vt16p1gjts_tn1qjff40000gn/T/ipykernel_1202/1482100882.py:4: UserWarning: Boolean Series key will be reindexed to match DataFrame index.\n",
      "  orders_in_interval = trips[(trips['tpep_pickup_datetime'] >= time) & (df['tpep_pickup_datetime'] < next_time)]\n",
      "/var/folders/0x/k389_vt16p1gjts_tn1qjff40000gn/T/ipykernel_1202/1482100882.py:4: UserWarning: Boolean Series key will be reindexed to match DataFrame index.\n",
      "  orders_in_interval = trips[(trips['tpep_pickup_datetime'] >= time) & (df['tpep_pickup_datetime'] < next_time)]\n"
     ]
    },
    {
     "name": "stdout",
     "output_type": "stream",
     "text": [
      "980done\n"
     ]
    },
    {
     "name": "stderr",
     "output_type": "stream",
     "text": [
      "/var/folders/0x/k389_vt16p1gjts_tn1qjff40000gn/T/ipykernel_1202/1482100882.py:4: UserWarning: Boolean Series key will be reindexed to match DataFrame index.\n",
      "  orders_in_interval = trips[(trips['tpep_pickup_datetime'] >= time) & (df['tpep_pickup_datetime'] < next_time)]\n",
      "/var/folders/0x/k389_vt16p1gjts_tn1qjff40000gn/T/ipykernel_1202/1482100882.py:4: UserWarning: Boolean Series key will be reindexed to match DataFrame index.\n",
      "  orders_in_interval = trips[(trips['tpep_pickup_datetime'] >= time) & (df['tpep_pickup_datetime'] < next_time)]\n",
      "/var/folders/0x/k389_vt16p1gjts_tn1qjff40000gn/T/ipykernel_1202/1482100882.py:4: UserWarning: Boolean Series key will be reindexed to match DataFrame index.\n",
      "  orders_in_interval = trips[(trips['tpep_pickup_datetime'] >= time) & (df['tpep_pickup_datetime'] < next_time)]\n",
      "/var/folders/0x/k389_vt16p1gjts_tn1qjff40000gn/T/ipykernel_1202/1482100882.py:4: UserWarning: Boolean Series key will be reindexed to match DataFrame index.\n",
      "  orders_in_interval = trips[(trips['tpep_pickup_datetime'] >= time) & (df['tpep_pickup_datetime'] < next_time)]\n",
      "/var/folders/0x/k389_vt16p1gjts_tn1qjff40000gn/T/ipykernel_1202/1482100882.py:4: UserWarning: Boolean Series key will be reindexed to match DataFrame index.\n",
      "  orders_in_interval = trips[(trips['tpep_pickup_datetime'] >= time) & (df['tpep_pickup_datetime'] < next_time)]\n",
      "/var/folders/0x/k389_vt16p1gjts_tn1qjff40000gn/T/ipykernel_1202/1482100882.py:4: UserWarning: Boolean Series key will be reindexed to match DataFrame index.\n",
      "  orders_in_interval = trips[(trips['tpep_pickup_datetime'] >= time) & (df['tpep_pickup_datetime'] < next_time)]\n",
      "/var/folders/0x/k389_vt16p1gjts_tn1qjff40000gn/T/ipykernel_1202/1482100882.py:4: UserWarning: Boolean Series key will be reindexed to match DataFrame index.\n",
      "  orders_in_interval = trips[(trips['tpep_pickup_datetime'] >= time) & (df['tpep_pickup_datetime'] < next_time)]\n",
      "/var/folders/0x/k389_vt16p1gjts_tn1qjff40000gn/T/ipykernel_1202/1482100882.py:4: UserWarning: Boolean Series key will be reindexed to match DataFrame index.\n",
      "  orders_in_interval = trips[(trips['tpep_pickup_datetime'] >= time) & (df['tpep_pickup_datetime'] < next_time)]\n",
      "/var/folders/0x/k389_vt16p1gjts_tn1qjff40000gn/T/ipykernel_1202/1482100882.py:4: UserWarning: Boolean Series key will be reindexed to match DataFrame index.\n",
      "  orders_in_interval = trips[(trips['tpep_pickup_datetime'] >= time) & (df['tpep_pickup_datetime'] < next_time)]\n",
      "/var/folders/0x/k389_vt16p1gjts_tn1qjff40000gn/T/ipykernel_1202/1482100882.py:4: UserWarning: Boolean Series key will be reindexed to match DataFrame index.\n",
      "  orders_in_interval = trips[(trips['tpep_pickup_datetime'] >= time) & (df['tpep_pickup_datetime'] < next_time)]\n"
     ]
    },
    {
     "name": "stdout",
     "output_type": "stream",
     "text": [
      "990done\n"
     ]
    },
    {
     "name": "stderr",
     "output_type": "stream",
     "text": [
      "/var/folders/0x/k389_vt16p1gjts_tn1qjff40000gn/T/ipykernel_1202/1482100882.py:4: UserWarning: Boolean Series key will be reindexed to match DataFrame index.\n",
      "  orders_in_interval = trips[(trips['tpep_pickup_datetime'] >= time) & (df['tpep_pickup_datetime'] < next_time)]\n",
      "/var/folders/0x/k389_vt16p1gjts_tn1qjff40000gn/T/ipykernel_1202/1482100882.py:4: UserWarning: Boolean Series key will be reindexed to match DataFrame index.\n",
      "  orders_in_interval = trips[(trips['tpep_pickup_datetime'] >= time) & (df['tpep_pickup_datetime'] < next_time)]\n",
      "/var/folders/0x/k389_vt16p1gjts_tn1qjff40000gn/T/ipykernel_1202/1482100882.py:4: UserWarning: Boolean Series key will be reindexed to match DataFrame index.\n",
      "  orders_in_interval = trips[(trips['tpep_pickup_datetime'] >= time) & (df['tpep_pickup_datetime'] < next_time)]\n",
      "/var/folders/0x/k389_vt16p1gjts_tn1qjff40000gn/T/ipykernel_1202/1482100882.py:4: UserWarning: Boolean Series key will be reindexed to match DataFrame index.\n",
      "  orders_in_interval = trips[(trips['tpep_pickup_datetime'] >= time) & (df['tpep_pickup_datetime'] < next_time)]\n",
      "/var/folders/0x/k389_vt16p1gjts_tn1qjff40000gn/T/ipykernel_1202/1482100882.py:4: UserWarning: Boolean Series key will be reindexed to match DataFrame index.\n",
      "  orders_in_interval = trips[(trips['tpep_pickup_datetime'] >= time) & (df['tpep_pickup_datetime'] < next_time)]\n",
      "/var/folders/0x/k389_vt16p1gjts_tn1qjff40000gn/T/ipykernel_1202/1482100882.py:4: UserWarning: Boolean Series key will be reindexed to match DataFrame index.\n",
      "  orders_in_interval = trips[(trips['tpep_pickup_datetime'] >= time) & (df['tpep_pickup_datetime'] < next_time)]\n",
      "/var/folders/0x/k389_vt16p1gjts_tn1qjff40000gn/T/ipykernel_1202/1482100882.py:4: UserWarning: Boolean Series key will be reindexed to match DataFrame index.\n",
      "  orders_in_interval = trips[(trips['tpep_pickup_datetime'] >= time) & (df['tpep_pickup_datetime'] < next_time)]\n",
      "/var/folders/0x/k389_vt16p1gjts_tn1qjff40000gn/T/ipykernel_1202/1482100882.py:4: UserWarning: Boolean Series key will be reindexed to match DataFrame index.\n",
      "  orders_in_interval = trips[(trips['tpep_pickup_datetime'] >= time) & (df['tpep_pickup_datetime'] < next_time)]\n",
      "/var/folders/0x/k389_vt16p1gjts_tn1qjff40000gn/T/ipykernel_1202/1482100882.py:4: UserWarning: Boolean Series key will be reindexed to match DataFrame index.\n",
      "  orders_in_interval = trips[(trips['tpep_pickup_datetime'] >= time) & (df['tpep_pickup_datetime'] < next_time)]\n",
      "/var/folders/0x/k389_vt16p1gjts_tn1qjff40000gn/T/ipykernel_1202/1482100882.py:4: UserWarning: Boolean Series key will be reindexed to match DataFrame index.\n",
      "  orders_in_interval = trips[(trips['tpep_pickup_datetime'] >= time) & (df['tpep_pickup_datetime'] < next_time)]\n"
     ]
    },
    {
     "name": "stdout",
     "output_type": "stream",
     "text": [
      "1000done\n"
     ]
    },
    {
     "name": "stderr",
     "output_type": "stream",
     "text": [
      "/var/folders/0x/k389_vt16p1gjts_tn1qjff40000gn/T/ipykernel_1202/1482100882.py:4: UserWarning: Boolean Series key will be reindexed to match DataFrame index.\n",
      "  orders_in_interval = trips[(trips['tpep_pickup_datetime'] >= time) & (df['tpep_pickup_datetime'] < next_time)]\n",
      "/var/folders/0x/k389_vt16p1gjts_tn1qjff40000gn/T/ipykernel_1202/1482100882.py:4: UserWarning: Boolean Series key will be reindexed to match DataFrame index.\n",
      "  orders_in_interval = trips[(trips['tpep_pickup_datetime'] >= time) & (df['tpep_pickup_datetime'] < next_time)]\n",
      "/var/folders/0x/k389_vt16p1gjts_tn1qjff40000gn/T/ipykernel_1202/1482100882.py:4: UserWarning: Boolean Series key will be reindexed to match DataFrame index.\n",
      "  orders_in_interval = trips[(trips['tpep_pickup_datetime'] >= time) & (df['tpep_pickup_datetime'] < next_time)]\n",
      "/var/folders/0x/k389_vt16p1gjts_tn1qjff40000gn/T/ipykernel_1202/1482100882.py:4: UserWarning: Boolean Series key will be reindexed to match DataFrame index.\n",
      "  orders_in_interval = trips[(trips['tpep_pickup_datetime'] >= time) & (df['tpep_pickup_datetime'] < next_time)]\n",
      "/var/folders/0x/k389_vt16p1gjts_tn1qjff40000gn/T/ipykernel_1202/1482100882.py:4: UserWarning: Boolean Series key will be reindexed to match DataFrame index.\n",
      "  orders_in_interval = trips[(trips['tpep_pickup_datetime'] >= time) & (df['tpep_pickup_datetime'] < next_time)]\n",
      "/var/folders/0x/k389_vt16p1gjts_tn1qjff40000gn/T/ipykernel_1202/1482100882.py:4: UserWarning: Boolean Series key will be reindexed to match DataFrame index.\n",
      "  orders_in_interval = trips[(trips['tpep_pickup_datetime'] >= time) & (df['tpep_pickup_datetime'] < next_time)]\n",
      "/var/folders/0x/k389_vt16p1gjts_tn1qjff40000gn/T/ipykernel_1202/1482100882.py:4: UserWarning: Boolean Series key will be reindexed to match DataFrame index.\n",
      "  orders_in_interval = trips[(trips['tpep_pickup_datetime'] >= time) & (df['tpep_pickup_datetime'] < next_time)]\n",
      "/var/folders/0x/k389_vt16p1gjts_tn1qjff40000gn/T/ipykernel_1202/1482100882.py:4: UserWarning: Boolean Series key will be reindexed to match DataFrame index.\n",
      "  orders_in_interval = trips[(trips['tpep_pickup_datetime'] >= time) & (df['tpep_pickup_datetime'] < next_time)]\n",
      "/var/folders/0x/k389_vt16p1gjts_tn1qjff40000gn/T/ipykernel_1202/1482100882.py:4: UserWarning: Boolean Series key will be reindexed to match DataFrame index.\n",
      "  orders_in_interval = trips[(trips['tpep_pickup_datetime'] >= time) & (df['tpep_pickup_datetime'] < next_time)]\n",
      "/var/folders/0x/k389_vt16p1gjts_tn1qjff40000gn/T/ipykernel_1202/1482100882.py:4: UserWarning: Boolean Series key will be reindexed to match DataFrame index.\n",
      "  orders_in_interval = trips[(trips['tpep_pickup_datetime'] >= time) & (df['tpep_pickup_datetime'] < next_time)]\n"
     ]
    },
    {
     "name": "stdout",
     "output_type": "stream",
     "text": [
      "1010done\n"
     ]
    },
    {
     "name": "stderr",
     "output_type": "stream",
     "text": [
      "/var/folders/0x/k389_vt16p1gjts_tn1qjff40000gn/T/ipykernel_1202/1482100882.py:4: UserWarning: Boolean Series key will be reindexed to match DataFrame index.\n",
      "  orders_in_interval = trips[(trips['tpep_pickup_datetime'] >= time) & (df['tpep_pickup_datetime'] < next_time)]\n",
      "/var/folders/0x/k389_vt16p1gjts_tn1qjff40000gn/T/ipykernel_1202/1482100882.py:4: UserWarning: Boolean Series key will be reindexed to match DataFrame index.\n",
      "  orders_in_interval = trips[(trips['tpep_pickup_datetime'] >= time) & (df['tpep_pickup_datetime'] < next_time)]\n",
      "/var/folders/0x/k389_vt16p1gjts_tn1qjff40000gn/T/ipykernel_1202/1482100882.py:4: UserWarning: Boolean Series key will be reindexed to match DataFrame index.\n",
      "  orders_in_interval = trips[(trips['tpep_pickup_datetime'] >= time) & (df['tpep_pickup_datetime'] < next_time)]\n",
      "/var/folders/0x/k389_vt16p1gjts_tn1qjff40000gn/T/ipykernel_1202/1482100882.py:4: UserWarning: Boolean Series key will be reindexed to match DataFrame index.\n",
      "  orders_in_interval = trips[(trips['tpep_pickup_datetime'] >= time) & (df['tpep_pickup_datetime'] < next_time)]\n",
      "/var/folders/0x/k389_vt16p1gjts_tn1qjff40000gn/T/ipykernel_1202/1482100882.py:4: UserWarning: Boolean Series key will be reindexed to match DataFrame index.\n",
      "  orders_in_interval = trips[(trips['tpep_pickup_datetime'] >= time) & (df['tpep_pickup_datetime'] < next_time)]\n",
      "/var/folders/0x/k389_vt16p1gjts_tn1qjff40000gn/T/ipykernel_1202/1482100882.py:4: UserWarning: Boolean Series key will be reindexed to match DataFrame index.\n",
      "  orders_in_interval = trips[(trips['tpep_pickup_datetime'] >= time) & (df['tpep_pickup_datetime'] < next_time)]\n",
      "/var/folders/0x/k389_vt16p1gjts_tn1qjff40000gn/T/ipykernel_1202/1482100882.py:4: UserWarning: Boolean Series key will be reindexed to match DataFrame index.\n",
      "  orders_in_interval = trips[(trips['tpep_pickup_datetime'] >= time) & (df['tpep_pickup_datetime'] < next_time)]\n",
      "/var/folders/0x/k389_vt16p1gjts_tn1qjff40000gn/T/ipykernel_1202/1482100882.py:4: UserWarning: Boolean Series key will be reindexed to match DataFrame index.\n",
      "  orders_in_interval = trips[(trips['tpep_pickup_datetime'] >= time) & (df['tpep_pickup_datetime'] < next_time)]\n",
      "/var/folders/0x/k389_vt16p1gjts_tn1qjff40000gn/T/ipykernel_1202/1482100882.py:4: UserWarning: Boolean Series key will be reindexed to match DataFrame index.\n",
      "  orders_in_interval = trips[(trips['tpep_pickup_datetime'] >= time) & (df['tpep_pickup_datetime'] < next_time)]\n",
      "/var/folders/0x/k389_vt16p1gjts_tn1qjff40000gn/T/ipykernel_1202/1482100882.py:4: UserWarning: Boolean Series key will be reindexed to match DataFrame index.\n",
      "  orders_in_interval = trips[(trips['tpep_pickup_datetime'] >= time) & (df['tpep_pickup_datetime'] < next_time)]\n"
     ]
    },
    {
     "name": "stdout",
     "output_type": "stream",
     "text": [
      "1020done\n"
     ]
    },
    {
     "name": "stderr",
     "output_type": "stream",
     "text": [
      "/var/folders/0x/k389_vt16p1gjts_tn1qjff40000gn/T/ipykernel_1202/1482100882.py:4: UserWarning: Boolean Series key will be reindexed to match DataFrame index.\n",
      "  orders_in_interval = trips[(trips['tpep_pickup_datetime'] >= time) & (df['tpep_pickup_datetime'] < next_time)]\n",
      "/var/folders/0x/k389_vt16p1gjts_tn1qjff40000gn/T/ipykernel_1202/1482100882.py:4: UserWarning: Boolean Series key will be reindexed to match DataFrame index.\n",
      "  orders_in_interval = trips[(trips['tpep_pickup_datetime'] >= time) & (df['tpep_pickup_datetime'] < next_time)]\n",
      "/var/folders/0x/k389_vt16p1gjts_tn1qjff40000gn/T/ipykernel_1202/1482100882.py:4: UserWarning: Boolean Series key will be reindexed to match DataFrame index.\n",
      "  orders_in_interval = trips[(trips['tpep_pickup_datetime'] >= time) & (df['tpep_pickup_datetime'] < next_time)]\n",
      "/var/folders/0x/k389_vt16p1gjts_tn1qjff40000gn/T/ipykernel_1202/1482100882.py:4: UserWarning: Boolean Series key will be reindexed to match DataFrame index.\n",
      "  orders_in_interval = trips[(trips['tpep_pickup_datetime'] >= time) & (df['tpep_pickup_datetime'] < next_time)]\n",
      "/var/folders/0x/k389_vt16p1gjts_tn1qjff40000gn/T/ipykernel_1202/1482100882.py:4: UserWarning: Boolean Series key will be reindexed to match DataFrame index.\n",
      "  orders_in_interval = trips[(trips['tpep_pickup_datetime'] >= time) & (df['tpep_pickup_datetime'] < next_time)]\n",
      "/var/folders/0x/k389_vt16p1gjts_tn1qjff40000gn/T/ipykernel_1202/1482100882.py:4: UserWarning: Boolean Series key will be reindexed to match DataFrame index.\n",
      "  orders_in_interval = trips[(trips['tpep_pickup_datetime'] >= time) & (df['tpep_pickup_datetime'] < next_time)]\n",
      "/var/folders/0x/k389_vt16p1gjts_tn1qjff40000gn/T/ipykernel_1202/1482100882.py:4: UserWarning: Boolean Series key will be reindexed to match DataFrame index.\n",
      "  orders_in_interval = trips[(trips['tpep_pickup_datetime'] >= time) & (df['tpep_pickup_datetime'] < next_time)]\n",
      "/var/folders/0x/k389_vt16p1gjts_tn1qjff40000gn/T/ipykernel_1202/1482100882.py:4: UserWarning: Boolean Series key will be reindexed to match DataFrame index.\n",
      "  orders_in_interval = trips[(trips['tpep_pickup_datetime'] >= time) & (df['tpep_pickup_datetime'] < next_time)]\n",
      "/var/folders/0x/k389_vt16p1gjts_tn1qjff40000gn/T/ipykernel_1202/1482100882.py:4: UserWarning: Boolean Series key will be reindexed to match DataFrame index.\n",
      "  orders_in_interval = trips[(trips['tpep_pickup_datetime'] >= time) & (df['tpep_pickup_datetime'] < next_time)]\n",
      "/var/folders/0x/k389_vt16p1gjts_tn1qjff40000gn/T/ipykernel_1202/1482100882.py:4: UserWarning: Boolean Series key will be reindexed to match DataFrame index.\n",
      "  orders_in_interval = trips[(trips['tpep_pickup_datetime'] >= time) & (df['tpep_pickup_datetime'] < next_time)]\n"
     ]
    },
    {
     "name": "stdout",
     "output_type": "stream",
     "text": [
      "1030done\n"
     ]
    },
    {
     "name": "stderr",
     "output_type": "stream",
     "text": [
      "/var/folders/0x/k389_vt16p1gjts_tn1qjff40000gn/T/ipykernel_1202/1482100882.py:4: UserWarning: Boolean Series key will be reindexed to match DataFrame index.\n",
      "  orders_in_interval = trips[(trips['tpep_pickup_datetime'] >= time) & (df['tpep_pickup_datetime'] < next_time)]\n",
      "/var/folders/0x/k389_vt16p1gjts_tn1qjff40000gn/T/ipykernel_1202/1482100882.py:4: UserWarning: Boolean Series key will be reindexed to match DataFrame index.\n",
      "  orders_in_interval = trips[(trips['tpep_pickup_datetime'] >= time) & (df['tpep_pickup_datetime'] < next_time)]\n",
      "/var/folders/0x/k389_vt16p1gjts_tn1qjff40000gn/T/ipykernel_1202/1482100882.py:4: UserWarning: Boolean Series key will be reindexed to match DataFrame index.\n",
      "  orders_in_interval = trips[(trips['tpep_pickup_datetime'] >= time) & (df['tpep_pickup_datetime'] < next_time)]\n",
      "/var/folders/0x/k389_vt16p1gjts_tn1qjff40000gn/T/ipykernel_1202/1482100882.py:4: UserWarning: Boolean Series key will be reindexed to match DataFrame index.\n",
      "  orders_in_interval = trips[(trips['tpep_pickup_datetime'] >= time) & (df['tpep_pickup_datetime'] < next_time)]\n",
      "/var/folders/0x/k389_vt16p1gjts_tn1qjff40000gn/T/ipykernel_1202/1482100882.py:4: UserWarning: Boolean Series key will be reindexed to match DataFrame index.\n",
      "  orders_in_interval = trips[(trips['tpep_pickup_datetime'] >= time) & (df['tpep_pickup_datetime'] < next_time)]\n",
      "/var/folders/0x/k389_vt16p1gjts_tn1qjff40000gn/T/ipykernel_1202/1482100882.py:4: UserWarning: Boolean Series key will be reindexed to match DataFrame index.\n",
      "  orders_in_interval = trips[(trips['tpep_pickup_datetime'] >= time) & (df['tpep_pickup_datetime'] < next_time)]\n",
      "/var/folders/0x/k389_vt16p1gjts_tn1qjff40000gn/T/ipykernel_1202/1482100882.py:4: UserWarning: Boolean Series key will be reindexed to match DataFrame index.\n",
      "  orders_in_interval = trips[(trips['tpep_pickup_datetime'] >= time) & (df['tpep_pickup_datetime'] < next_time)]\n",
      "/var/folders/0x/k389_vt16p1gjts_tn1qjff40000gn/T/ipykernel_1202/1482100882.py:4: UserWarning: Boolean Series key will be reindexed to match DataFrame index.\n",
      "  orders_in_interval = trips[(trips['tpep_pickup_datetime'] >= time) & (df['tpep_pickup_datetime'] < next_time)]\n",
      "/var/folders/0x/k389_vt16p1gjts_tn1qjff40000gn/T/ipykernel_1202/1482100882.py:4: UserWarning: Boolean Series key will be reindexed to match DataFrame index.\n",
      "  orders_in_interval = trips[(trips['tpep_pickup_datetime'] >= time) & (df['tpep_pickup_datetime'] < next_time)]\n",
      "/var/folders/0x/k389_vt16p1gjts_tn1qjff40000gn/T/ipykernel_1202/1482100882.py:4: UserWarning: Boolean Series key will be reindexed to match DataFrame index.\n",
      "  orders_in_interval = trips[(trips['tpep_pickup_datetime'] >= time) & (df['tpep_pickup_datetime'] < next_time)]\n"
     ]
    },
    {
     "name": "stdout",
     "output_type": "stream",
     "text": [
      "1040done\n"
     ]
    },
    {
     "name": "stderr",
     "output_type": "stream",
     "text": [
      "/var/folders/0x/k389_vt16p1gjts_tn1qjff40000gn/T/ipykernel_1202/1482100882.py:4: UserWarning: Boolean Series key will be reindexed to match DataFrame index.\n",
      "  orders_in_interval = trips[(trips['tpep_pickup_datetime'] >= time) & (df['tpep_pickup_datetime'] < next_time)]\n",
      "/var/folders/0x/k389_vt16p1gjts_tn1qjff40000gn/T/ipykernel_1202/1482100882.py:4: UserWarning: Boolean Series key will be reindexed to match DataFrame index.\n",
      "  orders_in_interval = trips[(trips['tpep_pickup_datetime'] >= time) & (df['tpep_pickup_datetime'] < next_time)]\n",
      "/var/folders/0x/k389_vt16p1gjts_tn1qjff40000gn/T/ipykernel_1202/1482100882.py:4: UserWarning: Boolean Series key will be reindexed to match DataFrame index.\n",
      "  orders_in_interval = trips[(trips['tpep_pickup_datetime'] >= time) & (df['tpep_pickup_datetime'] < next_time)]\n",
      "/var/folders/0x/k389_vt16p1gjts_tn1qjff40000gn/T/ipykernel_1202/1482100882.py:4: UserWarning: Boolean Series key will be reindexed to match DataFrame index.\n",
      "  orders_in_interval = trips[(trips['tpep_pickup_datetime'] >= time) & (df['tpep_pickup_datetime'] < next_time)]\n",
      "/var/folders/0x/k389_vt16p1gjts_tn1qjff40000gn/T/ipykernel_1202/1482100882.py:4: UserWarning: Boolean Series key will be reindexed to match DataFrame index.\n",
      "  orders_in_interval = trips[(trips['tpep_pickup_datetime'] >= time) & (df['tpep_pickup_datetime'] < next_time)]\n",
      "/var/folders/0x/k389_vt16p1gjts_tn1qjff40000gn/T/ipykernel_1202/1482100882.py:4: UserWarning: Boolean Series key will be reindexed to match DataFrame index.\n",
      "  orders_in_interval = trips[(trips['tpep_pickup_datetime'] >= time) & (df['tpep_pickup_datetime'] < next_time)]\n",
      "/var/folders/0x/k389_vt16p1gjts_tn1qjff40000gn/T/ipykernel_1202/1482100882.py:4: UserWarning: Boolean Series key will be reindexed to match DataFrame index.\n",
      "  orders_in_interval = trips[(trips['tpep_pickup_datetime'] >= time) & (df['tpep_pickup_datetime'] < next_time)]\n",
      "/var/folders/0x/k389_vt16p1gjts_tn1qjff40000gn/T/ipykernel_1202/1482100882.py:4: UserWarning: Boolean Series key will be reindexed to match DataFrame index.\n",
      "  orders_in_interval = trips[(trips['tpep_pickup_datetime'] >= time) & (df['tpep_pickup_datetime'] < next_time)]\n",
      "/var/folders/0x/k389_vt16p1gjts_tn1qjff40000gn/T/ipykernel_1202/1482100882.py:4: UserWarning: Boolean Series key will be reindexed to match DataFrame index.\n",
      "  orders_in_interval = trips[(trips['tpep_pickup_datetime'] >= time) & (df['tpep_pickup_datetime'] < next_time)]\n",
      "/var/folders/0x/k389_vt16p1gjts_tn1qjff40000gn/T/ipykernel_1202/1482100882.py:4: UserWarning: Boolean Series key will be reindexed to match DataFrame index.\n",
      "  orders_in_interval = trips[(trips['tpep_pickup_datetime'] >= time) & (df['tpep_pickup_datetime'] < next_time)]\n"
     ]
    },
    {
     "name": "stdout",
     "output_type": "stream",
     "text": [
      "1050done\n"
     ]
    },
    {
     "name": "stderr",
     "output_type": "stream",
     "text": [
      "/var/folders/0x/k389_vt16p1gjts_tn1qjff40000gn/T/ipykernel_1202/1482100882.py:4: UserWarning: Boolean Series key will be reindexed to match DataFrame index.\n",
      "  orders_in_interval = trips[(trips['tpep_pickup_datetime'] >= time) & (df['tpep_pickup_datetime'] < next_time)]\n",
      "/var/folders/0x/k389_vt16p1gjts_tn1qjff40000gn/T/ipykernel_1202/1482100882.py:4: UserWarning: Boolean Series key will be reindexed to match DataFrame index.\n",
      "  orders_in_interval = trips[(trips['tpep_pickup_datetime'] >= time) & (df['tpep_pickup_datetime'] < next_time)]\n",
      "/var/folders/0x/k389_vt16p1gjts_tn1qjff40000gn/T/ipykernel_1202/1482100882.py:4: UserWarning: Boolean Series key will be reindexed to match DataFrame index.\n",
      "  orders_in_interval = trips[(trips['tpep_pickup_datetime'] >= time) & (df['tpep_pickup_datetime'] < next_time)]\n",
      "/var/folders/0x/k389_vt16p1gjts_tn1qjff40000gn/T/ipykernel_1202/1482100882.py:4: UserWarning: Boolean Series key will be reindexed to match DataFrame index.\n",
      "  orders_in_interval = trips[(trips['tpep_pickup_datetime'] >= time) & (df['tpep_pickup_datetime'] < next_time)]\n",
      "/var/folders/0x/k389_vt16p1gjts_tn1qjff40000gn/T/ipykernel_1202/1482100882.py:4: UserWarning: Boolean Series key will be reindexed to match DataFrame index.\n",
      "  orders_in_interval = trips[(trips['tpep_pickup_datetime'] >= time) & (df['tpep_pickup_datetime'] < next_time)]\n",
      "/var/folders/0x/k389_vt16p1gjts_tn1qjff40000gn/T/ipykernel_1202/1482100882.py:4: UserWarning: Boolean Series key will be reindexed to match DataFrame index.\n",
      "  orders_in_interval = trips[(trips['tpep_pickup_datetime'] >= time) & (df['tpep_pickup_datetime'] < next_time)]\n",
      "/var/folders/0x/k389_vt16p1gjts_tn1qjff40000gn/T/ipykernel_1202/1482100882.py:4: UserWarning: Boolean Series key will be reindexed to match DataFrame index.\n",
      "  orders_in_interval = trips[(trips['tpep_pickup_datetime'] >= time) & (df['tpep_pickup_datetime'] < next_time)]\n",
      "/var/folders/0x/k389_vt16p1gjts_tn1qjff40000gn/T/ipykernel_1202/1482100882.py:4: UserWarning: Boolean Series key will be reindexed to match DataFrame index.\n",
      "  orders_in_interval = trips[(trips['tpep_pickup_datetime'] >= time) & (df['tpep_pickup_datetime'] < next_time)]\n",
      "/var/folders/0x/k389_vt16p1gjts_tn1qjff40000gn/T/ipykernel_1202/1482100882.py:4: UserWarning: Boolean Series key will be reindexed to match DataFrame index.\n",
      "  orders_in_interval = trips[(trips['tpep_pickup_datetime'] >= time) & (df['tpep_pickup_datetime'] < next_time)]\n",
      "/var/folders/0x/k389_vt16p1gjts_tn1qjff40000gn/T/ipykernel_1202/1482100882.py:4: UserWarning: Boolean Series key will be reindexed to match DataFrame index.\n",
      "  orders_in_interval = trips[(trips['tpep_pickup_datetime'] >= time) & (df['tpep_pickup_datetime'] < next_time)]\n"
     ]
    },
    {
     "name": "stdout",
     "output_type": "stream",
     "text": [
      "1060done\n"
     ]
    },
    {
     "name": "stderr",
     "output_type": "stream",
     "text": [
      "/var/folders/0x/k389_vt16p1gjts_tn1qjff40000gn/T/ipykernel_1202/1482100882.py:4: UserWarning: Boolean Series key will be reindexed to match DataFrame index.\n",
      "  orders_in_interval = trips[(trips['tpep_pickup_datetime'] >= time) & (df['tpep_pickup_datetime'] < next_time)]\n",
      "/var/folders/0x/k389_vt16p1gjts_tn1qjff40000gn/T/ipykernel_1202/1482100882.py:4: UserWarning: Boolean Series key will be reindexed to match DataFrame index.\n",
      "  orders_in_interval = trips[(trips['tpep_pickup_datetime'] >= time) & (df['tpep_pickup_datetime'] < next_time)]\n",
      "/var/folders/0x/k389_vt16p1gjts_tn1qjff40000gn/T/ipykernel_1202/1482100882.py:4: UserWarning: Boolean Series key will be reindexed to match DataFrame index.\n",
      "  orders_in_interval = trips[(trips['tpep_pickup_datetime'] >= time) & (df['tpep_pickup_datetime'] < next_time)]\n",
      "/var/folders/0x/k389_vt16p1gjts_tn1qjff40000gn/T/ipykernel_1202/1482100882.py:4: UserWarning: Boolean Series key will be reindexed to match DataFrame index.\n",
      "  orders_in_interval = trips[(trips['tpep_pickup_datetime'] >= time) & (df['tpep_pickup_datetime'] < next_time)]\n",
      "/var/folders/0x/k389_vt16p1gjts_tn1qjff40000gn/T/ipykernel_1202/1482100882.py:4: UserWarning: Boolean Series key will be reindexed to match DataFrame index.\n",
      "  orders_in_interval = trips[(trips['tpep_pickup_datetime'] >= time) & (df['tpep_pickup_datetime'] < next_time)]\n",
      "/var/folders/0x/k389_vt16p1gjts_tn1qjff40000gn/T/ipykernel_1202/1482100882.py:4: UserWarning: Boolean Series key will be reindexed to match DataFrame index.\n",
      "  orders_in_interval = trips[(trips['tpep_pickup_datetime'] >= time) & (df['tpep_pickup_datetime'] < next_time)]\n",
      "/var/folders/0x/k389_vt16p1gjts_tn1qjff40000gn/T/ipykernel_1202/1482100882.py:4: UserWarning: Boolean Series key will be reindexed to match DataFrame index.\n",
      "  orders_in_interval = trips[(trips['tpep_pickup_datetime'] >= time) & (df['tpep_pickup_datetime'] < next_time)]\n",
      "/var/folders/0x/k389_vt16p1gjts_tn1qjff40000gn/T/ipykernel_1202/1482100882.py:4: UserWarning: Boolean Series key will be reindexed to match DataFrame index.\n",
      "  orders_in_interval = trips[(trips['tpep_pickup_datetime'] >= time) & (df['tpep_pickup_datetime'] < next_time)]\n",
      "/var/folders/0x/k389_vt16p1gjts_tn1qjff40000gn/T/ipykernel_1202/1482100882.py:4: UserWarning: Boolean Series key will be reindexed to match DataFrame index.\n",
      "  orders_in_interval = trips[(trips['tpep_pickup_datetime'] >= time) & (df['tpep_pickup_datetime'] < next_time)]\n",
      "/var/folders/0x/k389_vt16p1gjts_tn1qjff40000gn/T/ipykernel_1202/1482100882.py:4: UserWarning: Boolean Series key will be reindexed to match DataFrame index.\n",
      "  orders_in_interval = trips[(trips['tpep_pickup_datetime'] >= time) & (df['tpep_pickup_datetime'] < next_time)]\n"
     ]
    },
    {
     "name": "stdout",
     "output_type": "stream",
     "text": [
      "1070done\n"
     ]
    },
    {
     "name": "stderr",
     "output_type": "stream",
     "text": [
      "/var/folders/0x/k389_vt16p1gjts_tn1qjff40000gn/T/ipykernel_1202/1482100882.py:4: UserWarning: Boolean Series key will be reindexed to match DataFrame index.\n",
      "  orders_in_interval = trips[(trips['tpep_pickup_datetime'] >= time) & (df['tpep_pickup_datetime'] < next_time)]\n",
      "/var/folders/0x/k389_vt16p1gjts_tn1qjff40000gn/T/ipykernel_1202/1482100882.py:4: UserWarning: Boolean Series key will be reindexed to match DataFrame index.\n",
      "  orders_in_interval = trips[(trips['tpep_pickup_datetime'] >= time) & (df['tpep_pickup_datetime'] < next_time)]\n",
      "/var/folders/0x/k389_vt16p1gjts_tn1qjff40000gn/T/ipykernel_1202/1482100882.py:4: UserWarning: Boolean Series key will be reindexed to match DataFrame index.\n",
      "  orders_in_interval = trips[(trips['tpep_pickup_datetime'] >= time) & (df['tpep_pickup_datetime'] < next_time)]\n",
      "/var/folders/0x/k389_vt16p1gjts_tn1qjff40000gn/T/ipykernel_1202/1482100882.py:4: UserWarning: Boolean Series key will be reindexed to match DataFrame index.\n",
      "  orders_in_interval = trips[(trips['tpep_pickup_datetime'] >= time) & (df['tpep_pickup_datetime'] < next_time)]\n",
      "/var/folders/0x/k389_vt16p1gjts_tn1qjff40000gn/T/ipykernel_1202/1482100882.py:4: UserWarning: Boolean Series key will be reindexed to match DataFrame index.\n",
      "  orders_in_interval = trips[(trips['tpep_pickup_datetime'] >= time) & (df['tpep_pickup_datetime'] < next_time)]\n",
      "/var/folders/0x/k389_vt16p1gjts_tn1qjff40000gn/T/ipykernel_1202/1482100882.py:4: UserWarning: Boolean Series key will be reindexed to match DataFrame index.\n",
      "  orders_in_interval = trips[(trips['tpep_pickup_datetime'] >= time) & (df['tpep_pickup_datetime'] < next_time)]\n",
      "/var/folders/0x/k389_vt16p1gjts_tn1qjff40000gn/T/ipykernel_1202/1482100882.py:4: UserWarning: Boolean Series key will be reindexed to match DataFrame index.\n",
      "  orders_in_interval = trips[(trips['tpep_pickup_datetime'] >= time) & (df['tpep_pickup_datetime'] < next_time)]\n",
      "/var/folders/0x/k389_vt16p1gjts_tn1qjff40000gn/T/ipykernel_1202/1482100882.py:4: UserWarning: Boolean Series key will be reindexed to match DataFrame index.\n",
      "  orders_in_interval = trips[(trips['tpep_pickup_datetime'] >= time) & (df['tpep_pickup_datetime'] < next_time)]\n",
      "/var/folders/0x/k389_vt16p1gjts_tn1qjff40000gn/T/ipykernel_1202/1482100882.py:4: UserWarning: Boolean Series key will be reindexed to match DataFrame index.\n",
      "  orders_in_interval = trips[(trips['tpep_pickup_datetime'] >= time) & (df['tpep_pickup_datetime'] < next_time)]\n",
      "/var/folders/0x/k389_vt16p1gjts_tn1qjff40000gn/T/ipykernel_1202/1482100882.py:4: UserWarning: Boolean Series key will be reindexed to match DataFrame index.\n",
      "  orders_in_interval = trips[(trips['tpep_pickup_datetime'] >= time) & (df['tpep_pickup_datetime'] < next_time)]\n"
     ]
    },
    {
     "name": "stdout",
     "output_type": "stream",
     "text": [
      "1080done\n"
     ]
    },
    {
     "name": "stderr",
     "output_type": "stream",
     "text": [
      "/var/folders/0x/k389_vt16p1gjts_tn1qjff40000gn/T/ipykernel_1202/1482100882.py:4: UserWarning: Boolean Series key will be reindexed to match DataFrame index.\n",
      "  orders_in_interval = trips[(trips['tpep_pickup_datetime'] >= time) & (df['tpep_pickup_datetime'] < next_time)]\n",
      "/var/folders/0x/k389_vt16p1gjts_tn1qjff40000gn/T/ipykernel_1202/1482100882.py:4: UserWarning: Boolean Series key will be reindexed to match DataFrame index.\n",
      "  orders_in_interval = trips[(trips['tpep_pickup_datetime'] >= time) & (df['tpep_pickup_datetime'] < next_time)]\n",
      "/var/folders/0x/k389_vt16p1gjts_tn1qjff40000gn/T/ipykernel_1202/1482100882.py:4: UserWarning: Boolean Series key will be reindexed to match DataFrame index.\n",
      "  orders_in_interval = trips[(trips['tpep_pickup_datetime'] >= time) & (df['tpep_pickup_datetime'] < next_time)]\n",
      "/var/folders/0x/k389_vt16p1gjts_tn1qjff40000gn/T/ipykernel_1202/1482100882.py:4: UserWarning: Boolean Series key will be reindexed to match DataFrame index.\n",
      "  orders_in_interval = trips[(trips['tpep_pickup_datetime'] >= time) & (df['tpep_pickup_datetime'] < next_time)]\n",
      "/var/folders/0x/k389_vt16p1gjts_tn1qjff40000gn/T/ipykernel_1202/1482100882.py:4: UserWarning: Boolean Series key will be reindexed to match DataFrame index.\n",
      "  orders_in_interval = trips[(trips['tpep_pickup_datetime'] >= time) & (df['tpep_pickup_datetime'] < next_time)]\n",
      "/var/folders/0x/k389_vt16p1gjts_tn1qjff40000gn/T/ipykernel_1202/1482100882.py:4: UserWarning: Boolean Series key will be reindexed to match DataFrame index.\n",
      "  orders_in_interval = trips[(trips['tpep_pickup_datetime'] >= time) & (df['tpep_pickup_datetime'] < next_time)]\n",
      "/var/folders/0x/k389_vt16p1gjts_tn1qjff40000gn/T/ipykernel_1202/1482100882.py:4: UserWarning: Boolean Series key will be reindexed to match DataFrame index.\n",
      "  orders_in_interval = trips[(trips['tpep_pickup_datetime'] >= time) & (df['tpep_pickup_datetime'] < next_time)]\n",
      "/var/folders/0x/k389_vt16p1gjts_tn1qjff40000gn/T/ipykernel_1202/1482100882.py:4: UserWarning: Boolean Series key will be reindexed to match DataFrame index.\n",
      "  orders_in_interval = trips[(trips['tpep_pickup_datetime'] >= time) & (df['tpep_pickup_datetime'] < next_time)]\n",
      "/var/folders/0x/k389_vt16p1gjts_tn1qjff40000gn/T/ipykernel_1202/1482100882.py:4: UserWarning: Boolean Series key will be reindexed to match DataFrame index.\n",
      "  orders_in_interval = trips[(trips['tpep_pickup_datetime'] >= time) & (df['tpep_pickup_datetime'] < next_time)]\n",
      "/var/folders/0x/k389_vt16p1gjts_tn1qjff40000gn/T/ipykernel_1202/1482100882.py:4: UserWarning: Boolean Series key will be reindexed to match DataFrame index.\n",
      "  orders_in_interval = trips[(trips['tpep_pickup_datetime'] >= time) & (df['tpep_pickup_datetime'] < next_time)]\n"
     ]
    },
    {
     "name": "stdout",
     "output_type": "stream",
     "text": [
      "1090done\n"
     ]
    },
    {
     "name": "stderr",
     "output_type": "stream",
     "text": [
      "/var/folders/0x/k389_vt16p1gjts_tn1qjff40000gn/T/ipykernel_1202/1482100882.py:4: UserWarning: Boolean Series key will be reindexed to match DataFrame index.\n",
      "  orders_in_interval = trips[(trips['tpep_pickup_datetime'] >= time) & (df['tpep_pickup_datetime'] < next_time)]\n",
      "/var/folders/0x/k389_vt16p1gjts_tn1qjff40000gn/T/ipykernel_1202/1482100882.py:4: UserWarning: Boolean Series key will be reindexed to match DataFrame index.\n",
      "  orders_in_interval = trips[(trips['tpep_pickup_datetime'] >= time) & (df['tpep_pickup_datetime'] < next_time)]\n",
      "/var/folders/0x/k389_vt16p1gjts_tn1qjff40000gn/T/ipykernel_1202/1482100882.py:4: UserWarning: Boolean Series key will be reindexed to match DataFrame index.\n",
      "  orders_in_interval = trips[(trips['tpep_pickup_datetime'] >= time) & (df['tpep_pickup_datetime'] < next_time)]\n",
      "/var/folders/0x/k389_vt16p1gjts_tn1qjff40000gn/T/ipykernel_1202/1482100882.py:4: UserWarning: Boolean Series key will be reindexed to match DataFrame index.\n",
      "  orders_in_interval = trips[(trips['tpep_pickup_datetime'] >= time) & (df['tpep_pickup_datetime'] < next_time)]\n",
      "/var/folders/0x/k389_vt16p1gjts_tn1qjff40000gn/T/ipykernel_1202/1482100882.py:4: UserWarning: Boolean Series key will be reindexed to match DataFrame index.\n",
      "  orders_in_interval = trips[(trips['tpep_pickup_datetime'] >= time) & (df['tpep_pickup_datetime'] < next_time)]\n",
      "/var/folders/0x/k389_vt16p1gjts_tn1qjff40000gn/T/ipykernel_1202/1482100882.py:4: UserWarning: Boolean Series key will be reindexed to match DataFrame index.\n",
      "  orders_in_interval = trips[(trips['tpep_pickup_datetime'] >= time) & (df['tpep_pickup_datetime'] < next_time)]\n",
      "/var/folders/0x/k389_vt16p1gjts_tn1qjff40000gn/T/ipykernel_1202/1482100882.py:4: UserWarning: Boolean Series key will be reindexed to match DataFrame index.\n",
      "  orders_in_interval = trips[(trips['tpep_pickup_datetime'] >= time) & (df['tpep_pickup_datetime'] < next_time)]\n",
      "/var/folders/0x/k389_vt16p1gjts_tn1qjff40000gn/T/ipykernel_1202/1482100882.py:4: UserWarning: Boolean Series key will be reindexed to match DataFrame index.\n",
      "  orders_in_interval = trips[(trips['tpep_pickup_datetime'] >= time) & (df['tpep_pickup_datetime'] < next_time)]\n",
      "/var/folders/0x/k389_vt16p1gjts_tn1qjff40000gn/T/ipykernel_1202/1482100882.py:4: UserWarning: Boolean Series key will be reindexed to match DataFrame index.\n",
      "  orders_in_interval = trips[(trips['tpep_pickup_datetime'] >= time) & (df['tpep_pickup_datetime'] < next_time)]\n",
      "/var/folders/0x/k389_vt16p1gjts_tn1qjff40000gn/T/ipykernel_1202/1482100882.py:4: UserWarning: Boolean Series key will be reindexed to match DataFrame index.\n",
      "  orders_in_interval = trips[(trips['tpep_pickup_datetime'] >= time) & (df['tpep_pickup_datetime'] < next_time)]\n"
     ]
    },
    {
     "name": "stdout",
     "output_type": "stream",
     "text": [
      "1100done\n"
     ]
    },
    {
     "name": "stderr",
     "output_type": "stream",
     "text": [
      "/var/folders/0x/k389_vt16p1gjts_tn1qjff40000gn/T/ipykernel_1202/1482100882.py:4: UserWarning: Boolean Series key will be reindexed to match DataFrame index.\n",
      "  orders_in_interval = trips[(trips['tpep_pickup_datetime'] >= time) & (df['tpep_pickup_datetime'] < next_time)]\n",
      "/var/folders/0x/k389_vt16p1gjts_tn1qjff40000gn/T/ipykernel_1202/1482100882.py:4: UserWarning: Boolean Series key will be reindexed to match DataFrame index.\n",
      "  orders_in_interval = trips[(trips['tpep_pickup_datetime'] >= time) & (df['tpep_pickup_datetime'] < next_time)]\n",
      "/var/folders/0x/k389_vt16p1gjts_tn1qjff40000gn/T/ipykernel_1202/1482100882.py:4: UserWarning: Boolean Series key will be reindexed to match DataFrame index.\n",
      "  orders_in_interval = trips[(trips['tpep_pickup_datetime'] >= time) & (df['tpep_pickup_datetime'] < next_time)]\n",
      "/var/folders/0x/k389_vt16p1gjts_tn1qjff40000gn/T/ipykernel_1202/1482100882.py:4: UserWarning: Boolean Series key will be reindexed to match DataFrame index.\n",
      "  orders_in_interval = trips[(trips['tpep_pickup_datetime'] >= time) & (df['tpep_pickup_datetime'] < next_time)]\n",
      "/var/folders/0x/k389_vt16p1gjts_tn1qjff40000gn/T/ipykernel_1202/1482100882.py:4: UserWarning: Boolean Series key will be reindexed to match DataFrame index.\n",
      "  orders_in_interval = trips[(trips['tpep_pickup_datetime'] >= time) & (df['tpep_pickup_datetime'] < next_time)]\n",
      "/var/folders/0x/k389_vt16p1gjts_tn1qjff40000gn/T/ipykernel_1202/1482100882.py:4: UserWarning: Boolean Series key will be reindexed to match DataFrame index.\n",
      "  orders_in_interval = trips[(trips['tpep_pickup_datetime'] >= time) & (df['tpep_pickup_datetime'] < next_time)]\n",
      "/var/folders/0x/k389_vt16p1gjts_tn1qjff40000gn/T/ipykernel_1202/1482100882.py:4: UserWarning: Boolean Series key will be reindexed to match DataFrame index.\n",
      "  orders_in_interval = trips[(trips['tpep_pickup_datetime'] >= time) & (df['tpep_pickup_datetime'] < next_time)]\n",
      "/var/folders/0x/k389_vt16p1gjts_tn1qjff40000gn/T/ipykernel_1202/1482100882.py:4: UserWarning: Boolean Series key will be reindexed to match DataFrame index.\n",
      "  orders_in_interval = trips[(trips['tpep_pickup_datetime'] >= time) & (df['tpep_pickup_datetime'] < next_time)]\n",
      "/var/folders/0x/k389_vt16p1gjts_tn1qjff40000gn/T/ipykernel_1202/1482100882.py:4: UserWarning: Boolean Series key will be reindexed to match DataFrame index.\n",
      "  orders_in_interval = trips[(trips['tpep_pickup_datetime'] >= time) & (df['tpep_pickup_datetime'] < next_time)]\n",
      "/var/folders/0x/k389_vt16p1gjts_tn1qjff40000gn/T/ipykernel_1202/1482100882.py:4: UserWarning: Boolean Series key will be reindexed to match DataFrame index.\n",
      "  orders_in_interval = trips[(trips['tpep_pickup_datetime'] >= time) & (df['tpep_pickup_datetime'] < next_time)]\n"
     ]
    },
    {
     "name": "stdout",
     "output_type": "stream",
     "text": [
      "1110done\n"
     ]
    },
    {
     "name": "stderr",
     "output_type": "stream",
     "text": [
      "/var/folders/0x/k389_vt16p1gjts_tn1qjff40000gn/T/ipykernel_1202/1482100882.py:4: UserWarning: Boolean Series key will be reindexed to match DataFrame index.\n",
      "  orders_in_interval = trips[(trips['tpep_pickup_datetime'] >= time) & (df['tpep_pickup_datetime'] < next_time)]\n",
      "/var/folders/0x/k389_vt16p1gjts_tn1qjff40000gn/T/ipykernel_1202/1482100882.py:4: UserWarning: Boolean Series key will be reindexed to match DataFrame index.\n",
      "  orders_in_interval = trips[(trips['tpep_pickup_datetime'] >= time) & (df['tpep_pickup_datetime'] < next_time)]\n",
      "/var/folders/0x/k389_vt16p1gjts_tn1qjff40000gn/T/ipykernel_1202/1482100882.py:4: UserWarning: Boolean Series key will be reindexed to match DataFrame index.\n",
      "  orders_in_interval = trips[(trips['tpep_pickup_datetime'] >= time) & (df['tpep_pickup_datetime'] < next_time)]\n",
      "/var/folders/0x/k389_vt16p1gjts_tn1qjff40000gn/T/ipykernel_1202/1482100882.py:4: UserWarning: Boolean Series key will be reindexed to match DataFrame index.\n",
      "  orders_in_interval = trips[(trips['tpep_pickup_datetime'] >= time) & (df['tpep_pickup_datetime'] < next_time)]\n",
      "/var/folders/0x/k389_vt16p1gjts_tn1qjff40000gn/T/ipykernel_1202/1482100882.py:4: UserWarning: Boolean Series key will be reindexed to match DataFrame index.\n",
      "  orders_in_interval = trips[(trips['tpep_pickup_datetime'] >= time) & (df['tpep_pickup_datetime'] < next_time)]\n",
      "/var/folders/0x/k389_vt16p1gjts_tn1qjff40000gn/T/ipykernel_1202/1482100882.py:4: UserWarning: Boolean Series key will be reindexed to match DataFrame index.\n",
      "  orders_in_interval = trips[(trips['tpep_pickup_datetime'] >= time) & (df['tpep_pickup_datetime'] < next_time)]\n",
      "/var/folders/0x/k389_vt16p1gjts_tn1qjff40000gn/T/ipykernel_1202/1482100882.py:4: UserWarning: Boolean Series key will be reindexed to match DataFrame index.\n",
      "  orders_in_interval = trips[(trips['tpep_pickup_datetime'] >= time) & (df['tpep_pickup_datetime'] < next_time)]\n",
      "/var/folders/0x/k389_vt16p1gjts_tn1qjff40000gn/T/ipykernel_1202/1482100882.py:4: UserWarning: Boolean Series key will be reindexed to match DataFrame index.\n",
      "  orders_in_interval = trips[(trips['tpep_pickup_datetime'] >= time) & (df['tpep_pickup_datetime'] < next_time)]\n",
      "/var/folders/0x/k389_vt16p1gjts_tn1qjff40000gn/T/ipykernel_1202/1482100882.py:4: UserWarning: Boolean Series key will be reindexed to match DataFrame index.\n",
      "  orders_in_interval = trips[(trips['tpep_pickup_datetime'] >= time) & (df['tpep_pickup_datetime'] < next_time)]\n",
      "/var/folders/0x/k389_vt16p1gjts_tn1qjff40000gn/T/ipykernel_1202/1482100882.py:4: UserWarning: Boolean Series key will be reindexed to match DataFrame index.\n",
      "  orders_in_interval = trips[(trips['tpep_pickup_datetime'] >= time) & (df['tpep_pickup_datetime'] < next_time)]\n"
     ]
    },
    {
     "name": "stdout",
     "output_type": "stream",
     "text": [
      "1120done\n"
     ]
    },
    {
     "name": "stderr",
     "output_type": "stream",
     "text": [
      "/var/folders/0x/k389_vt16p1gjts_tn1qjff40000gn/T/ipykernel_1202/1482100882.py:4: UserWarning: Boolean Series key will be reindexed to match DataFrame index.\n",
      "  orders_in_interval = trips[(trips['tpep_pickup_datetime'] >= time) & (df['tpep_pickup_datetime'] < next_time)]\n",
      "/var/folders/0x/k389_vt16p1gjts_tn1qjff40000gn/T/ipykernel_1202/1482100882.py:4: UserWarning: Boolean Series key will be reindexed to match DataFrame index.\n",
      "  orders_in_interval = trips[(trips['tpep_pickup_datetime'] >= time) & (df['tpep_pickup_datetime'] < next_time)]\n",
      "/var/folders/0x/k389_vt16p1gjts_tn1qjff40000gn/T/ipykernel_1202/1482100882.py:4: UserWarning: Boolean Series key will be reindexed to match DataFrame index.\n",
      "  orders_in_interval = trips[(trips['tpep_pickup_datetime'] >= time) & (df['tpep_pickup_datetime'] < next_time)]\n",
      "/var/folders/0x/k389_vt16p1gjts_tn1qjff40000gn/T/ipykernel_1202/1482100882.py:4: UserWarning: Boolean Series key will be reindexed to match DataFrame index.\n",
      "  orders_in_interval = trips[(trips['tpep_pickup_datetime'] >= time) & (df['tpep_pickup_datetime'] < next_time)]\n",
      "/var/folders/0x/k389_vt16p1gjts_tn1qjff40000gn/T/ipykernel_1202/1482100882.py:4: UserWarning: Boolean Series key will be reindexed to match DataFrame index.\n",
      "  orders_in_interval = trips[(trips['tpep_pickup_datetime'] >= time) & (df['tpep_pickup_datetime'] < next_time)]\n",
      "/var/folders/0x/k389_vt16p1gjts_tn1qjff40000gn/T/ipykernel_1202/1482100882.py:4: UserWarning: Boolean Series key will be reindexed to match DataFrame index.\n",
      "  orders_in_interval = trips[(trips['tpep_pickup_datetime'] >= time) & (df['tpep_pickup_datetime'] < next_time)]\n",
      "/var/folders/0x/k389_vt16p1gjts_tn1qjff40000gn/T/ipykernel_1202/1482100882.py:4: UserWarning: Boolean Series key will be reindexed to match DataFrame index.\n",
      "  orders_in_interval = trips[(trips['tpep_pickup_datetime'] >= time) & (df['tpep_pickup_datetime'] < next_time)]\n",
      "/var/folders/0x/k389_vt16p1gjts_tn1qjff40000gn/T/ipykernel_1202/1482100882.py:4: UserWarning: Boolean Series key will be reindexed to match DataFrame index.\n",
      "  orders_in_interval = trips[(trips['tpep_pickup_datetime'] >= time) & (df['tpep_pickup_datetime'] < next_time)]\n",
      "/var/folders/0x/k389_vt16p1gjts_tn1qjff40000gn/T/ipykernel_1202/1482100882.py:4: UserWarning: Boolean Series key will be reindexed to match DataFrame index.\n",
      "  orders_in_interval = trips[(trips['tpep_pickup_datetime'] >= time) & (df['tpep_pickup_datetime'] < next_time)]\n",
      "/var/folders/0x/k389_vt16p1gjts_tn1qjff40000gn/T/ipykernel_1202/1482100882.py:4: UserWarning: Boolean Series key will be reindexed to match DataFrame index.\n",
      "  orders_in_interval = trips[(trips['tpep_pickup_datetime'] >= time) & (df['tpep_pickup_datetime'] < next_time)]\n"
     ]
    },
    {
     "name": "stdout",
     "output_type": "stream",
     "text": [
      "1130done\n"
     ]
    },
    {
     "name": "stderr",
     "output_type": "stream",
     "text": [
      "/var/folders/0x/k389_vt16p1gjts_tn1qjff40000gn/T/ipykernel_1202/1482100882.py:4: UserWarning: Boolean Series key will be reindexed to match DataFrame index.\n",
      "  orders_in_interval = trips[(trips['tpep_pickup_datetime'] >= time) & (df['tpep_pickup_datetime'] < next_time)]\n",
      "/var/folders/0x/k389_vt16p1gjts_tn1qjff40000gn/T/ipykernel_1202/1482100882.py:4: UserWarning: Boolean Series key will be reindexed to match DataFrame index.\n",
      "  orders_in_interval = trips[(trips['tpep_pickup_datetime'] >= time) & (df['tpep_pickup_datetime'] < next_time)]\n",
      "/var/folders/0x/k389_vt16p1gjts_tn1qjff40000gn/T/ipykernel_1202/1482100882.py:4: UserWarning: Boolean Series key will be reindexed to match DataFrame index.\n",
      "  orders_in_interval = trips[(trips['tpep_pickup_datetime'] >= time) & (df['tpep_pickup_datetime'] < next_time)]\n",
      "/var/folders/0x/k389_vt16p1gjts_tn1qjff40000gn/T/ipykernel_1202/1482100882.py:4: UserWarning: Boolean Series key will be reindexed to match DataFrame index.\n",
      "  orders_in_interval = trips[(trips['tpep_pickup_datetime'] >= time) & (df['tpep_pickup_datetime'] < next_time)]\n",
      "/var/folders/0x/k389_vt16p1gjts_tn1qjff40000gn/T/ipykernel_1202/1482100882.py:4: UserWarning: Boolean Series key will be reindexed to match DataFrame index.\n",
      "  orders_in_interval = trips[(trips['tpep_pickup_datetime'] >= time) & (df['tpep_pickup_datetime'] < next_time)]\n",
      "/var/folders/0x/k389_vt16p1gjts_tn1qjff40000gn/T/ipykernel_1202/1482100882.py:4: UserWarning: Boolean Series key will be reindexed to match DataFrame index.\n",
      "  orders_in_interval = trips[(trips['tpep_pickup_datetime'] >= time) & (df['tpep_pickup_datetime'] < next_time)]\n",
      "/var/folders/0x/k389_vt16p1gjts_tn1qjff40000gn/T/ipykernel_1202/1482100882.py:4: UserWarning: Boolean Series key will be reindexed to match DataFrame index.\n",
      "  orders_in_interval = trips[(trips['tpep_pickup_datetime'] >= time) & (df['tpep_pickup_datetime'] < next_time)]\n",
      "/var/folders/0x/k389_vt16p1gjts_tn1qjff40000gn/T/ipykernel_1202/1482100882.py:4: UserWarning: Boolean Series key will be reindexed to match DataFrame index.\n",
      "  orders_in_interval = trips[(trips['tpep_pickup_datetime'] >= time) & (df['tpep_pickup_datetime'] < next_time)]\n",
      "/var/folders/0x/k389_vt16p1gjts_tn1qjff40000gn/T/ipykernel_1202/1482100882.py:4: UserWarning: Boolean Series key will be reindexed to match DataFrame index.\n",
      "  orders_in_interval = trips[(trips['tpep_pickup_datetime'] >= time) & (df['tpep_pickup_datetime'] < next_time)]\n",
      "/var/folders/0x/k389_vt16p1gjts_tn1qjff40000gn/T/ipykernel_1202/1482100882.py:4: UserWarning: Boolean Series key will be reindexed to match DataFrame index.\n",
      "  orders_in_interval = trips[(trips['tpep_pickup_datetime'] >= time) & (df['tpep_pickup_datetime'] < next_time)]\n"
     ]
    },
    {
     "name": "stdout",
     "output_type": "stream",
     "text": [
      "1140done\n"
     ]
    },
    {
     "name": "stderr",
     "output_type": "stream",
     "text": [
      "/var/folders/0x/k389_vt16p1gjts_tn1qjff40000gn/T/ipykernel_1202/1482100882.py:4: UserWarning: Boolean Series key will be reindexed to match DataFrame index.\n",
      "  orders_in_interval = trips[(trips['tpep_pickup_datetime'] >= time) & (df['tpep_pickup_datetime'] < next_time)]\n",
      "/var/folders/0x/k389_vt16p1gjts_tn1qjff40000gn/T/ipykernel_1202/1482100882.py:4: UserWarning: Boolean Series key will be reindexed to match DataFrame index.\n",
      "  orders_in_interval = trips[(trips['tpep_pickup_datetime'] >= time) & (df['tpep_pickup_datetime'] < next_time)]\n",
      "/var/folders/0x/k389_vt16p1gjts_tn1qjff40000gn/T/ipykernel_1202/1482100882.py:4: UserWarning: Boolean Series key will be reindexed to match DataFrame index.\n",
      "  orders_in_interval = trips[(trips['tpep_pickup_datetime'] >= time) & (df['tpep_pickup_datetime'] < next_time)]\n",
      "/var/folders/0x/k389_vt16p1gjts_tn1qjff40000gn/T/ipykernel_1202/1482100882.py:4: UserWarning: Boolean Series key will be reindexed to match DataFrame index.\n",
      "  orders_in_interval = trips[(trips['tpep_pickup_datetime'] >= time) & (df['tpep_pickup_datetime'] < next_time)]\n",
      "/var/folders/0x/k389_vt16p1gjts_tn1qjff40000gn/T/ipykernel_1202/1482100882.py:4: UserWarning: Boolean Series key will be reindexed to match DataFrame index.\n",
      "  orders_in_interval = trips[(trips['tpep_pickup_datetime'] >= time) & (df['tpep_pickup_datetime'] < next_time)]\n",
      "/var/folders/0x/k389_vt16p1gjts_tn1qjff40000gn/T/ipykernel_1202/1482100882.py:4: UserWarning: Boolean Series key will be reindexed to match DataFrame index.\n",
      "  orders_in_interval = trips[(trips['tpep_pickup_datetime'] >= time) & (df['tpep_pickup_datetime'] < next_time)]\n",
      "/var/folders/0x/k389_vt16p1gjts_tn1qjff40000gn/T/ipykernel_1202/1482100882.py:4: UserWarning: Boolean Series key will be reindexed to match DataFrame index.\n",
      "  orders_in_interval = trips[(trips['tpep_pickup_datetime'] >= time) & (df['tpep_pickup_datetime'] < next_time)]\n",
      "/var/folders/0x/k389_vt16p1gjts_tn1qjff40000gn/T/ipykernel_1202/1482100882.py:4: UserWarning: Boolean Series key will be reindexed to match DataFrame index.\n",
      "  orders_in_interval = trips[(trips['tpep_pickup_datetime'] >= time) & (df['tpep_pickup_datetime'] < next_time)]\n",
      "/var/folders/0x/k389_vt16p1gjts_tn1qjff40000gn/T/ipykernel_1202/1482100882.py:4: UserWarning: Boolean Series key will be reindexed to match DataFrame index.\n",
      "  orders_in_interval = trips[(trips['tpep_pickup_datetime'] >= time) & (df['tpep_pickup_datetime'] < next_time)]\n",
      "/var/folders/0x/k389_vt16p1gjts_tn1qjff40000gn/T/ipykernel_1202/1482100882.py:4: UserWarning: Boolean Series key will be reindexed to match DataFrame index.\n",
      "  orders_in_interval = trips[(trips['tpep_pickup_datetime'] >= time) & (df['tpep_pickup_datetime'] < next_time)]\n"
     ]
    },
    {
     "name": "stdout",
     "output_type": "stream",
     "text": [
      "1150done\n"
     ]
    },
    {
     "name": "stderr",
     "output_type": "stream",
     "text": [
      "/var/folders/0x/k389_vt16p1gjts_tn1qjff40000gn/T/ipykernel_1202/1482100882.py:4: UserWarning: Boolean Series key will be reindexed to match DataFrame index.\n",
      "  orders_in_interval = trips[(trips['tpep_pickup_datetime'] >= time) & (df['tpep_pickup_datetime'] < next_time)]\n",
      "/var/folders/0x/k389_vt16p1gjts_tn1qjff40000gn/T/ipykernel_1202/1482100882.py:4: UserWarning: Boolean Series key will be reindexed to match DataFrame index.\n",
      "  orders_in_interval = trips[(trips['tpep_pickup_datetime'] >= time) & (df['tpep_pickup_datetime'] < next_time)]\n",
      "/var/folders/0x/k389_vt16p1gjts_tn1qjff40000gn/T/ipykernel_1202/1482100882.py:4: UserWarning: Boolean Series key will be reindexed to match DataFrame index.\n",
      "  orders_in_interval = trips[(trips['tpep_pickup_datetime'] >= time) & (df['tpep_pickup_datetime'] < next_time)]\n",
      "/var/folders/0x/k389_vt16p1gjts_tn1qjff40000gn/T/ipykernel_1202/1482100882.py:4: UserWarning: Boolean Series key will be reindexed to match DataFrame index.\n",
      "  orders_in_interval = trips[(trips['tpep_pickup_datetime'] >= time) & (df['tpep_pickup_datetime'] < next_time)]\n",
      "/var/folders/0x/k389_vt16p1gjts_tn1qjff40000gn/T/ipykernel_1202/1482100882.py:4: UserWarning: Boolean Series key will be reindexed to match DataFrame index.\n",
      "  orders_in_interval = trips[(trips['tpep_pickup_datetime'] >= time) & (df['tpep_pickup_datetime'] < next_time)]\n",
      "/var/folders/0x/k389_vt16p1gjts_tn1qjff40000gn/T/ipykernel_1202/1482100882.py:4: UserWarning: Boolean Series key will be reindexed to match DataFrame index.\n",
      "  orders_in_interval = trips[(trips['tpep_pickup_datetime'] >= time) & (df['tpep_pickup_datetime'] < next_time)]\n",
      "/var/folders/0x/k389_vt16p1gjts_tn1qjff40000gn/T/ipykernel_1202/1482100882.py:4: UserWarning: Boolean Series key will be reindexed to match DataFrame index.\n",
      "  orders_in_interval = trips[(trips['tpep_pickup_datetime'] >= time) & (df['tpep_pickup_datetime'] < next_time)]\n",
      "/var/folders/0x/k389_vt16p1gjts_tn1qjff40000gn/T/ipykernel_1202/1482100882.py:4: UserWarning: Boolean Series key will be reindexed to match DataFrame index.\n",
      "  orders_in_interval = trips[(trips['tpep_pickup_datetime'] >= time) & (df['tpep_pickup_datetime'] < next_time)]\n",
      "/var/folders/0x/k389_vt16p1gjts_tn1qjff40000gn/T/ipykernel_1202/1482100882.py:4: UserWarning: Boolean Series key will be reindexed to match DataFrame index.\n",
      "  orders_in_interval = trips[(trips['tpep_pickup_datetime'] >= time) & (df['tpep_pickup_datetime'] < next_time)]\n",
      "/var/folders/0x/k389_vt16p1gjts_tn1qjff40000gn/T/ipykernel_1202/1482100882.py:4: UserWarning: Boolean Series key will be reindexed to match DataFrame index.\n",
      "  orders_in_interval = trips[(trips['tpep_pickup_datetime'] >= time) & (df['tpep_pickup_datetime'] < next_time)]\n"
     ]
    },
    {
     "name": "stdout",
     "output_type": "stream",
     "text": [
      "1160done\n"
     ]
    },
    {
     "name": "stderr",
     "output_type": "stream",
     "text": [
      "/var/folders/0x/k389_vt16p1gjts_tn1qjff40000gn/T/ipykernel_1202/1482100882.py:4: UserWarning: Boolean Series key will be reindexed to match DataFrame index.\n",
      "  orders_in_interval = trips[(trips['tpep_pickup_datetime'] >= time) & (df['tpep_pickup_datetime'] < next_time)]\n",
      "/var/folders/0x/k389_vt16p1gjts_tn1qjff40000gn/T/ipykernel_1202/1482100882.py:4: UserWarning: Boolean Series key will be reindexed to match DataFrame index.\n",
      "  orders_in_interval = trips[(trips['tpep_pickup_datetime'] >= time) & (df['tpep_pickup_datetime'] < next_time)]\n",
      "/var/folders/0x/k389_vt16p1gjts_tn1qjff40000gn/T/ipykernel_1202/1482100882.py:4: UserWarning: Boolean Series key will be reindexed to match DataFrame index.\n",
      "  orders_in_interval = trips[(trips['tpep_pickup_datetime'] >= time) & (df['tpep_pickup_datetime'] < next_time)]\n",
      "/var/folders/0x/k389_vt16p1gjts_tn1qjff40000gn/T/ipykernel_1202/1482100882.py:4: UserWarning: Boolean Series key will be reindexed to match DataFrame index.\n",
      "  orders_in_interval = trips[(trips['tpep_pickup_datetime'] >= time) & (df['tpep_pickup_datetime'] < next_time)]\n",
      "/var/folders/0x/k389_vt16p1gjts_tn1qjff40000gn/T/ipykernel_1202/1482100882.py:4: UserWarning: Boolean Series key will be reindexed to match DataFrame index.\n",
      "  orders_in_interval = trips[(trips['tpep_pickup_datetime'] >= time) & (df['tpep_pickup_datetime'] < next_time)]\n",
      "/var/folders/0x/k389_vt16p1gjts_tn1qjff40000gn/T/ipykernel_1202/1482100882.py:4: UserWarning: Boolean Series key will be reindexed to match DataFrame index.\n",
      "  orders_in_interval = trips[(trips['tpep_pickup_datetime'] >= time) & (df['tpep_pickup_datetime'] < next_time)]\n",
      "/var/folders/0x/k389_vt16p1gjts_tn1qjff40000gn/T/ipykernel_1202/1482100882.py:4: UserWarning: Boolean Series key will be reindexed to match DataFrame index.\n",
      "  orders_in_interval = trips[(trips['tpep_pickup_datetime'] >= time) & (df['tpep_pickup_datetime'] < next_time)]\n",
      "/var/folders/0x/k389_vt16p1gjts_tn1qjff40000gn/T/ipykernel_1202/1482100882.py:4: UserWarning: Boolean Series key will be reindexed to match DataFrame index.\n",
      "  orders_in_interval = trips[(trips['tpep_pickup_datetime'] >= time) & (df['tpep_pickup_datetime'] < next_time)]\n",
      "/var/folders/0x/k389_vt16p1gjts_tn1qjff40000gn/T/ipykernel_1202/1482100882.py:4: UserWarning: Boolean Series key will be reindexed to match DataFrame index.\n",
      "  orders_in_interval = trips[(trips['tpep_pickup_datetime'] >= time) & (df['tpep_pickup_datetime'] < next_time)]\n",
      "/var/folders/0x/k389_vt16p1gjts_tn1qjff40000gn/T/ipykernel_1202/1482100882.py:4: UserWarning: Boolean Series key will be reindexed to match DataFrame index.\n",
      "  orders_in_interval = trips[(trips['tpep_pickup_datetime'] >= time) & (df['tpep_pickup_datetime'] < next_time)]\n"
     ]
    },
    {
     "name": "stdout",
     "output_type": "stream",
     "text": [
      "1170done\n"
     ]
    },
    {
     "name": "stderr",
     "output_type": "stream",
     "text": [
      "/var/folders/0x/k389_vt16p1gjts_tn1qjff40000gn/T/ipykernel_1202/1482100882.py:4: UserWarning: Boolean Series key will be reindexed to match DataFrame index.\n",
      "  orders_in_interval = trips[(trips['tpep_pickup_datetime'] >= time) & (df['tpep_pickup_datetime'] < next_time)]\n",
      "/var/folders/0x/k389_vt16p1gjts_tn1qjff40000gn/T/ipykernel_1202/1482100882.py:4: UserWarning: Boolean Series key will be reindexed to match DataFrame index.\n",
      "  orders_in_interval = trips[(trips['tpep_pickup_datetime'] >= time) & (df['tpep_pickup_datetime'] < next_time)]\n",
      "/var/folders/0x/k389_vt16p1gjts_tn1qjff40000gn/T/ipykernel_1202/1482100882.py:4: UserWarning: Boolean Series key will be reindexed to match DataFrame index.\n",
      "  orders_in_interval = trips[(trips['tpep_pickup_datetime'] >= time) & (df['tpep_pickup_datetime'] < next_time)]\n",
      "/var/folders/0x/k389_vt16p1gjts_tn1qjff40000gn/T/ipykernel_1202/1482100882.py:4: UserWarning: Boolean Series key will be reindexed to match DataFrame index.\n",
      "  orders_in_interval = trips[(trips['tpep_pickup_datetime'] >= time) & (df['tpep_pickup_datetime'] < next_time)]\n",
      "/var/folders/0x/k389_vt16p1gjts_tn1qjff40000gn/T/ipykernel_1202/1482100882.py:4: UserWarning: Boolean Series key will be reindexed to match DataFrame index.\n",
      "  orders_in_interval = trips[(trips['tpep_pickup_datetime'] >= time) & (df['tpep_pickup_datetime'] < next_time)]\n",
      "/var/folders/0x/k389_vt16p1gjts_tn1qjff40000gn/T/ipykernel_1202/1482100882.py:4: UserWarning: Boolean Series key will be reindexed to match DataFrame index.\n",
      "  orders_in_interval = trips[(trips['tpep_pickup_datetime'] >= time) & (df['tpep_pickup_datetime'] < next_time)]\n",
      "/var/folders/0x/k389_vt16p1gjts_tn1qjff40000gn/T/ipykernel_1202/1482100882.py:4: UserWarning: Boolean Series key will be reindexed to match DataFrame index.\n",
      "  orders_in_interval = trips[(trips['tpep_pickup_datetime'] >= time) & (df['tpep_pickup_datetime'] < next_time)]\n",
      "/var/folders/0x/k389_vt16p1gjts_tn1qjff40000gn/T/ipykernel_1202/1482100882.py:4: UserWarning: Boolean Series key will be reindexed to match DataFrame index.\n",
      "  orders_in_interval = trips[(trips['tpep_pickup_datetime'] >= time) & (df['tpep_pickup_datetime'] < next_time)]\n",
      "/var/folders/0x/k389_vt16p1gjts_tn1qjff40000gn/T/ipykernel_1202/1482100882.py:4: UserWarning: Boolean Series key will be reindexed to match DataFrame index.\n",
      "  orders_in_interval = trips[(trips['tpep_pickup_datetime'] >= time) & (df['tpep_pickup_datetime'] < next_time)]\n",
      "/var/folders/0x/k389_vt16p1gjts_tn1qjff40000gn/T/ipykernel_1202/1482100882.py:4: UserWarning: Boolean Series key will be reindexed to match DataFrame index.\n",
      "  orders_in_interval = trips[(trips['tpep_pickup_datetime'] >= time) & (df['tpep_pickup_datetime'] < next_time)]\n"
     ]
    },
    {
     "name": "stdout",
     "output_type": "stream",
     "text": [
      "1180done\n"
     ]
    },
    {
     "name": "stderr",
     "output_type": "stream",
     "text": [
      "/var/folders/0x/k389_vt16p1gjts_tn1qjff40000gn/T/ipykernel_1202/1482100882.py:4: UserWarning: Boolean Series key will be reindexed to match DataFrame index.\n",
      "  orders_in_interval = trips[(trips['tpep_pickup_datetime'] >= time) & (df['tpep_pickup_datetime'] < next_time)]\n",
      "/var/folders/0x/k389_vt16p1gjts_tn1qjff40000gn/T/ipykernel_1202/1482100882.py:4: UserWarning: Boolean Series key will be reindexed to match DataFrame index.\n",
      "  orders_in_interval = trips[(trips['tpep_pickup_datetime'] >= time) & (df['tpep_pickup_datetime'] < next_time)]\n",
      "/var/folders/0x/k389_vt16p1gjts_tn1qjff40000gn/T/ipykernel_1202/1482100882.py:4: UserWarning: Boolean Series key will be reindexed to match DataFrame index.\n",
      "  orders_in_interval = trips[(trips['tpep_pickup_datetime'] >= time) & (df['tpep_pickup_datetime'] < next_time)]\n",
      "/var/folders/0x/k389_vt16p1gjts_tn1qjff40000gn/T/ipykernel_1202/1482100882.py:4: UserWarning: Boolean Series key will be reindexed to match DataFrame index.\n",
      "  orders_in_interval = trips[(trips['tpep_pickup_datetime'] >= time) & (df['tpep_pickup_datetime'] < next_time)]\n",
      "/var/folders/0x/k389_vt16p1gjts_tn1qjff40000gn/T/ipykernel_1202/1482100882.py:4: UserWarning: Boolean Series key will be reindexed to match DataFrame index.\n",
      "  orders_in_interval = trips[(trips['tpep_pickup_datetime'] >= time) & (df['tpep_pickup_datetime'] < next_time)]\n",
      "/var/folders/0x/k389_vt16p1gjts_tn1qjff40000gn/T/ipykernel_1202/1482100882.py:4: UserWarning: Boolean Series key will be reindexed to match DataFrame index.\n",
      "  orders_in_interval = trips[(trips['tpep_pickup_datetime'] >= time) & (df['tpep_pickup_datetime'] < next_time)]\n",
      "/var/folders/0x/k389_vt16p1gjts_tn1qjff40000gn/T/ipykernel_1202/1482100882.py:4: UserWarning: Boolean Series key will be reindexed to match DataFrame index.\n",
      "  orders_in_interval = trips[(trips['tpep_pickup_datetime'] >= time) & (df['tpep_pickup_datetime'] < next_time)]\n",
      "/var/folders/0x/k389_vt16p1gjts_tn1qjff40000gn/T/ipykernel_1202/1482100882.py:4: UserWarning: Boolean Series key will be reindexed to match DataFrame index.\n",
      "  orders_in_interval = trips[(trips['tpep_pickup_datetime'] >= time) & (df['tpep_pickup_datetime'] < next_time)]\n",
      "/var/folders/0x/k389_vt16p1gjts_tn1qjff40000gn/T/ipykernel_1202/1482100882.py:4: UserWarning: Boolean Series key will be reindexed to match DataFrame index.\n",
      "  orders_in_interval = trips[(trips['tpep_pickup_datetime'] >= time) & (df['tpep_pickup_datetime'] < next_time)]\n",
      "/var/folders/0x/k389_vt16p1gjts_tn1qjff40000gn/T/ipykernel_1202/1482100882.py:4: UserWarning: Boolean Series key will be reindexed to match DataFrame index.\n",
      "  orders_in_interval = trips[(trips['tpep_pickup_datetime'] >= time) & (df['tpep_pickup_datetime'] < next_time)]\n"
     ]
    },
    {
     "name": "stdout",
     "output_type": "stream",
     "text": [
      "1190done\n"
     ]
    },
    {
     "name": "stderr",
     "output_type": "stream",
     "text": [
      "/var/folders/0x/k389_vt16p1gjts_tn1qjff40000gn/T/ipykernel_1202/1482100882.py:4: UserWarning: Boolean Series key will be reindexed to match DataFrame index.\n",
      "  orders_in_interval = trips[(trips['tpep_pickup_datetime'] >= time) & (df['tpep_pickup_datetime'] < next_time)]\n",
      "/var/folders/0x/k389_vt16p1gjts_tn1qjff40000gn/T/ipykernel_1202/1482100882.py:4: UserWarning: Boolean Series key will be reindexed to match DataFrame index.\n",
      "  orders_in_interval = trips[(trips['tpep_pickup_datetime'] >= time) & (df['tpep_pickup_datetime'] < next_time)]\n",
      "/var/folders/0x/k389_vt16p1gjts_tn1qjff40000gn/T/ipykernel_1202/1482100882.py:4: UserWarning: Boolean Series key will be reindexed to match DataFrame index.\n",
      "  orders_in_interval = trips[(trips['tpep_pickup_datetime'] >= time) & (df['tpep_pickup_datetime'] < next_time)]\n",
      "/var/folders/0x/k389_vt16p1gjts_tn1qjff40000gn/T/ipykernel_1202/1482100882.py:4: UserWarning: Boolean Series key will be reindexed to match DataFrame index.\n",
      "  orders_in_interval = trips[(trips['tpep_pickup_datetime'] >= time) & (df['tpep_pickup_datetime'] < next_time)]\n",
      "/var/folders/0x/k389_vt16p1gjts_tn1qjff40000gn/T/ipykernel_1202/1482100882.py:4: UserWarning: Boolean Series key will be reindexed to match DataFrame index.\n",
      "  orders_in_interval = trips[(trips['tpep_pickup_datetime'] >= time) & (df['tpep_pickup_datetime'] < next_time)]\n",
      "/var/folders/0x/k389_vt16p1gjts_tn1qjff40000gn/T/ipykernel_1202/1482100882.py:4: UserWarning: Boolean Series key will be reindexed to match DataFrame index.\n",
      "  orders_in_interval = trips[(trips['tpep_pickup_datetime'] >= time) & (df['tpep_pickup_datetime'] < next_time)]\n",
      "/var/folders/0x/k389_vt16p1gjts_tn1qjff40000gn/T/ipykernel_1202/1482100882.py:4: UserWarning: Boolean Series key will be reindexed to match DataFrame index.\n",
      "  orders_in_interval = trips[(trips['tpep_pickup_datetime'] >= time) & (df['tpep_pickup_datetime'] < next_time)]\n",
      "/var/folders/0x/k389_vt16p1gjts_tn1qjff40000gn/T/ipykernel_1202/1482100882.py:4: UserWarning: Boolean Series key will be reindexed to match DataFrame index.\n",
      "  orders_in_interval = trips[(trips['tpep_pickup_datetime'] >= time) & (df['tpep_pickup_datetime'] < next_time)]\n",
      "/var/folders/0x/k389_vt16p1gjts_tn1qjff40000gn/T/ipykernel_1202/1482100882.py:4: UserWarning: Boolean Series key will be reindexed to match DataFrame index.\n",
      "  orders_in_interval = trips[(trips['tpep_pickup_datetime'] >= time) & (df['tpep_pickup_datetime'] < next_time)]\n",
      "/var/folders/0x/k389_vt16p1gjts_tn1qjff40000gn/T/ipykernel_1202/1482100882.py:4: UserWarning: Boolean Series key will be reindexed to match DataFrame index.\n",
      "  orders_in_interval = trips[(trips['tpep_pickup_datetime'] >= time) & (df['tpep_pickup_datetime'] < next_time)]\n"
     ]
    },
    {
     "name": "stdout",
     "output_type": "stream",
     "text": [
      "1200done\n"
     ]
    },
    {
     "name": "stderr",
     "output_type": "stream",
     "text": [
      "/var/folders/0x/k389_vt16p1gjts_tn1qjff40000gn/T/ipykernel_1202/1482100882.py:4: UserWarning: Boolean Series key will be reindexed to match DataFrame index.\n",
      "  orders_in_interval = trips[(trips['tpep_pickup_datetime'] >= time) & (df['tpep_pickup_datetime'] < next_time)]\n",
      "/var/folders/0x/k389_vt16p1gjts_tn1qjff40000gn/T/ipykernel_1202/1482100882.py:4: UserWarning: Boolean Series key will be reindexed to match DataFrame index.\n",
      "  orders_in_interval = trips[(trips['tpep_pickup_datetime'] >= time) & (df['tpep_pickup_datetime'] < next_time)]\n",
      "/var/folders/0x/k389_vt16p1gjts_tn1qjff40000gn/T/ipykernel_1202/1482100882.py:4: UserWarning: Boolean Series key will be reindexed to match DataFrame index.\n",
      "  orders_in_interval = trips[(trips['tpep_pickup_datetime'] >= time) & (df['tpep_pickup_datetime'] < next_time)]\n",
      "/var/folders/0x/k389_vt16p1gjts_tn1qjff40000gn/T/ipykernel_1202/1482100882.py:4: UserWarning: Boolean Series key will be reindexed to match DataFrame index.\n",
      "  orders_in_interval = trips[(trips['tpep_pickup_datetime'] >= time) & (df['tpep_pickup_datetime'] < next_time)]\n",
      "/var/folders/0x/k389_vt16p1gjts_tn1qjff40000gn/T/ipykernel_1202/1482100882.py:4: UserWarning: Boolean Series key will be reindexed to match DataFrame index.\n",
      "  orders_in_interval = trips[(trips['tpep_pickup_datetime'] >= time) & (df['tpep_pickup_datetime'] < next_time)]\n",
      "/var/folders/0x/k389_vt16p1gjts_tn1qjff40000gn/T/ipykernel_1202/1482100882.py:4: UserWarning: Boolean Series key will be reindexed to match DataFrame index.\n",
      "  orders_in_interval = trips[(trips['tpep_pickup_datetime'] >= time) & (df['tpep_pickup_datetime'] < next_time)]\n",
      "/var/folders/0x/k389_vt16p1gjts_tn1qjff40000gn/T/ipykernel_1202/1482100882.py:4: UserWarning: Boolean Series key will be reindexed to match DataFrame index.\n",
      "  orders_in_interval = trips[(trips['tpep_pickup_datetime'] >= time) & (df['tpep_pickup_datetime'] < next_time)]\n",
      "/var/folders/0x/k389_vt16p1gjts_tn1qjff40000gn/T/ipykernel_1202/1482100882.py:4: UserWarning: Boolean Series key will be reindexed to match DataFrame index.\n",
      "  orders_in_interval = trips[(trips['tpep_pickup_datetime'] >= time) & (df['tpep_pickup_datetime'] < next_time)]\n",
      "/var/folders/0x/k389_vt16p1gjts_tn1qjff40000gn/T/ipykernel_1202/1482100882.py:4: UserWarning: Boolean Series key will be reindexed to match DataFrame index.\n",
      "  orders_in_interval = trips[(trips['tpep_pickup_datetime'] >= time) & (df['tpep_pickup_datetime'] < next_time)]\n",
      "/var/folders/0x/k389_vt16p1gjts_tn1qjff40000gn/T/ipykernel_1202/1482100882.py:4: UserWarning: Boolean Series key will be reindexed to match DataFrame index.\n",
      "  orders_in_interval = trips[(trips['tpep_pickup_datetime'] >= time) & (df['tpep_pickup_datetime'] < next_time)]\n"
     ]
    },
    {
     "name": "stdout",
     "output_type": "stream",
     "text": [
      "1210done\n"
     ]
    },
    {
     "name": "stderr",
     "output_type": "stream",
     "text": [
      "/var/folders/0x/k389_vt16p1gjts_tn1qjff40000gn/T/ipykernel_1202/1482100882.py:4: UserWarning: Boolean Series key will be reindexed to match DataFrame index.\n",
      "  orders_in_interval = trips[(trips['tpep_pickup_datetime'] >= time) & (df['tpep_pickup_datetime'] < next_time)]\n",
      "/var/folders/0x/k389_vt16p1gjts_tn1qjff40000gn/T/ipykernel_1202/1482100882.py:4: UserWarning: Boolean Series key will be reindexed to match DataFrame index.\n",
      "  orders_in_interval = trips[(trips['tpep_pickup_datetime'] >= time) & (df['tpep_pickup_datetime'] < next_time)]\n",
      "/var/folders/0x/k389_vt16p1gjts_tn1qjff40000gn/T/ipykernel_1202/1482100882.py:4: UserWarning: Boolean Series key will be reindexed to match DataFrame index.\n",
      "  orders_in_interval = trips[(trips['tpep_pickup_datetime'] >= time) & (df['tpep_pickup_datetime'] < next_time)]\n",
      "/var/folders/0x/k389_vt16p1gjts_tn1qjff40000gn/T/ipykernel_1202/1482100882.py:4: UserWarning: Boolean Series key will be reindexed to match DataFrame index.\n",
      "  orders_in_interval = trips[(trips['tpep_pickup_datetime'] >= time) & (df['tpep_pickup_datetime'] < next_time)]\n",
      "/var/folders/0x/k389_vt16p1gjts_tn1qjff40000gn/T/ipykernel_1202/1482100882.py:4: UserWarning: Boolean Series key will be reindexed to match DataFrame index.\n",
      "  orders_in_interval = trips[(trips['tpep_pickup_datetime'] >= time) & (df['tpep_pickup_datetime'] < next_time)]\n",
      "/var/folders/0x/k389_vt16p1gjts_tn1qjff40000gn/T/ipykernel_1202/1482100882.py:4: UserWarning: Boolean Series key will be reindexed to match DataFrame index.\n",
      "  orders_in_interval = trips[(trips['tpep_pickup_datetime'] >= time) & (df['tpep_pickup_datetime'] < next_time)]\n",
      "/var/folders/0x/k389_vt16p1gjts_tn1qjff40000gn/T/ipykernel_1202/1482100882.py:4: UserWarning: Boolean Series key will be reindexed to match DataFrame index.\n",
      "  orders_in_interval = trips[(trips['tpep_pickup_datetime'] >= time) & (df['tpep_pickup_datetime'] < next_time)]\n",
      "/var/folders/0x/k389_vt16p1gjts_tn1qjff40000gn/T/ipykernel_1202/1482100882.py:4: UserWarning: Boolean Series key will be reindexed to match DataFrame index.\n",
      "  orders_in_interval = trips[(trips['tpep_pickup_datetime'] >= time) & (df['tpep_pickup_datetime'] < next_time)]\n",
      "/var/folders/0x/k389_vt16p1gjts_tn1qjff40000gn/T/ipykernel_1202/1482100882.py:4: UserWarning: Boolean Series key will be reindexed to match DataFrame index.\n",
      "  orders_in_interval = trips[(trips['tpep_pickup_datetime'] >= time) & (df['tpep_pickup_datetime'] < next_time)]\n",
      "/var/folders/0x/k389_vt16p1gjts_tn1qjff40000gn/T/ipykernel_1202/1482100882.py:4: UserWarning: Boolean Series key will be reindexed to match DataFrame index.\n",
      "  orders_in_interval = trips[(trips['tpep_pickup_datetime'] >= time) & (df['tpep_pickup_datetime'] < next_time)]\n"
     ]
    },
    {
     "name": "stdout",
     "output_type": "stream",
     "text": [
      "1220done\n"
     ]
    },
    {
     "name": "stderr",
     "output_type": "stream",
     "text": [
      "/var/folders/0x/k389_vt16p1gjts_tn1qjff40000gn/T/ipykernel_1202/1482100882.py:4: UserWarning: Boolean Series key will be reindexed to match DataFrame index.\n",
      "  orders_in_interval = trips[(trips['tpep_pickup_datetime'] >= time) & (df['tpep_pickup_datetime'] < next_time)]\n",
      "/var/folders/0x/k389_vt16p1gjts_tn1qjff40000gn/T/ipykernel_1202/1482100882.py:4: UserWarning: Boolean Series key will be reindexed to match DataFrame index.\n",
      "  orders_in_interval = trips[(trips['tpep_pickup_datetime'] >= time) & (df['tpep_pickup_datetime'] < next_time)]\n",
      "/var/folders/0x/k389_vt16p1gjts_tn1qjff40000gn/T/ipykernel_1202/1482100882.py:4: UserWarning: Boolean Series key will be reindexed to match DataFrame index.\n",
      "  orders_in_interval = trips[(trips['tpep_pickup_datetime'] >= time) & (df['tpep_pickup_datetime'] < next_time)]\n",
      "/var/folders/0x/k389_vt16p1gjts_tn1qjff40000gn/T/ipykernel_1202/1482100882.py:4: UserWarning: Boolean Series key will be reindexed to match DataFrame index.\n",
      "  orders_in_interval = trips[(trips['tpep_pickup_datetime'] >= time) & (df['tpep_pickup_datetime'] < next_time)]\n",
      "/var/folders/0x/k389_vt16p1gjts_tn1qjff40000gn/T/ipykernel_1202/1482100882.py:4: UserWarning: Boolean Series key will be reindexed to match DataFrame index.\n",
      "  orders_in_interval = trips[(trips['tpep_pickup_datetime'] >= time) & (df['tpep_pickup_datetime'] < next_time)]\n",
      "/var/folders/0x/k389_vt16p1gjts_tn1qjff40000gn/T/ipykernel_1202/1482100882.py:4: UserWarning: Boolean Series key will be reindexed to match DataFrame index.\n",
      "  orders_in_interval = trips[(trips['tpep_pickup_datetime'] >= time) & (df['tpep_pickup_datetime'] < next_time)]\n",
      "/var/folders/0x/k389_vt16p1gjts_tn1qjff40000gn/T/ipykernel_1202/1482100882.py:4: UserWarning: Boolean Series key will be reindexed to match DataFrame index.\n",
      "  orders_in_interval = trips[(trips['tpep_pickup_datetime'] >= time) & (df['tpep_pickup_datetime'] < next_time)]\n",
      "/var/folders/0x/k389_vt16p1gjts_tn1qjff40000gn/T/ipykernel_1202/1482100882.py:4: UserWarning: Boolean Series key will be reindexed to match DataFrame index.\n",
      "  orders_in_interval = trips[(trips['tpep_pickup_datetime'] >= time) & (df['tpep_pickup_datetime'] < next_time)]\n",
      "/var/folders/0x/k389_vt16p1gjts_tn1qjff40000gn/T/ipykernel_1202/1482100882.py:4: UserWarning: Boolean Series key will be reindexed to match DataFrame index.\n",
      "  orders_in_interval = trips[(trips['tpep_pickup_datetime'] >= time) & (df['tpep_pickup_datetime'] < next_time)]\n",
      "/var/folders/0x/k389_vt16p1gjts_tn1qjff40000gn/T/ipykernel_1202/1482100882.py:4: UserWarning: Boolean Series key will be reindexed to match DataFrame index.\n",
      "  orders_in_interval = trips[(trips['tpep_pickup_datetime'] >= time) & (df['tpep_pickup_datetime'] < next_time)]\n"
     ]
    },
    {
     "name": "stdout",
     "output_type": "stream",
     "text": [
      "1230done\n"
     ]
    },
    {
     "name": "stderr",
     "output_type": "stream",
     "text": [
      "/var/folders/0x/k389_vt16p1gjts_tn1qjff40000gn/T/ipykernel_1202/1482100882.py:4: UserWarning: Boolean Series key will be reindexed to match DataFrame index.\n",
      "  orders_in_interval = trips[(trips['tpep_pickup_datetime'] >= time) & (df['tpep_pickup_datetime'] < next_time)]\n",
      "/var/folders/0x/k389_vt16p1gjts_tn1qjff40000gn/T/ipykernel_1202/1482100882.py:4: UserWarning: Boolean Series key will be reindexed to match DataFrame index.\n",
      "  orders_in_interval = trips[(trips['tpep_pickup_datetime'] >= time) & (df['tpep_pickup_datetime'] < next_time)]\n",
      "/var/folders/0x/k389_vt16p1gjts_tn1qjff40000gn/T/ipykernel_1202/1482100882.py:4: UserWarning: Boolean Series key will be reindexed to match DataFrame index.\n",
      "  orders_in_interval = trips[(trips['tpep_pickup_datetime'] >= time) & (df['tpep_pickup_datetime'] < next_time)]\n",
      "/var/folders/0x/k389_vt16p1gjts_tn1qjff40000gn/T/ipykernel_1202/1482100882.py:4: UserWarning: Boolean Series key will be reindexed to match DataFrame index.\n",
      "  orders_in_interval = trips[(trips['tpep_pickup_datetime'] >= time) & (df['tpep_pickup_datetime'] < next_time)]\n",
      "/var/folders/0x/k389_vt16p1gjts_tn1qjff40000gn/T/ipykernel_1202/1482100882.py:4: UserWarning: Boolean Series key will be reindexed to match DataFrame index.\n",
      "  orders_in_interval = trips[(trips['tpep_pickup_datetime'] >= time) & (df['tpep_pickup_datetime'] < next_time)]\n",
      "/var/folders/0x/k389_vt16p1gjts_tn1qjff40000gn/T/ipykernel_1202/1482100882.py:4: UserWarning: Boolean Series key will be reindexed to match DataFrame index.\n",
      "  orders_in_interval = trips[(trips['tpep_pickup_datetime'] >= time) & (df['tpep_pickup_datetime'] < next_time)]\n",
      "/var/folders/0x/k389_vt16p1gjts_tn1qjff40000gn/T/ipykernel_1202/1482100882.py:4: UserWarning: Boolean Series key will be reindexed to match DataFrame index.\n",
      "  orders_in_interval = trips[(trips['tpep_pickup_datetime'] >= time) & (df['tpep_pickup_datetime'] < next_time)]\n",
      "/var/folders/0x/k389_vt16p1gjts_tn1qjff40000gn/T/ipykernel_1202/1482100882.py:4: UserWarning: Boolean Series key will be reindexed to match DataFrame index.\n",
      "  orders_in_interval = trips[(trips['tpep_pickup_datetime'] >= time) & (df['tpep_pickup_datetime'] < next_time)]\n",
      "/var/folders/0x/k389_vt16p1gjts_tn1qjff40000gn/T/ipykernel_1202/1482100882.py:4: UserWarning: Boolean Series key will be reindexed to match DataFrame index.\n",
      "  orders_in_interval = trips[(trips['tpep_pickup_datetime'] >= time) & (df['tpep_pickup_datetime'] < next_time)]\n",
      "/var/folders/0x/k389_vt16p1gjts_tn1qjff40000gn/T/ipykernel_1202/1482100882.py:4: UserWarning: Boolean Series key will be reindexed to match DataFrame index.\n",
      "  orders_in_interval = trips[(trips['tpep_pickup_datetime'] >= time) & (df['tpep_pickup_datetime'] < next_time)]\n"
     ]
    },
    {
     "name": "stdout",
     "output_type": "stream",
     "text": [
      "1240done\n"
     ]
    },
    {
     "name": "stderr",
     "output_type": "stream",
     "text": [
      "/var/folders/0x/k389_vt16p1gjts_tn1qjff40000gn/T/ipykernel_1202/1482100882.py:4: UserWarning: Boolean Series key will be reindexed to match DataFrame index.\n",
      "  orders_in_interval = trips[(trips['tpep_pickup_datetime'] >= time) & (df['tpep_pickup_datetime'] < next_time)]\n",
      "/var/folders/0x/k389_vt16p1gjts_tn1qjff40000gn/T/ipykernel_1202/1482100882.py:4: UserWarning: Boolean Series key will be reindexed to match DataFrame index.\n",
      "  orders_in_interval = trips[(trips['tpep_pickup_datetime'] >= time) & (df['tpep_pickup_datetime'] < next_time)]\n",
      "/var/folders/0x/k389_vt16p1gjts_tn1qjff40000gn/T/ipykernel_1202/1482100882.py:4: UserWarning: Boolean Series key will be reindexed to match DataFrame index.\n",
      "  orders_in_interval = trips[(trips['tpep_pickup_datetime'] >= time) & (df['tpep_pickup_datetime'] < next_time)]\n",
      "/var/folders/0x/k389_vt16p1gjts_tn1qjff40000gn/T/ipykernel_1202/1482100882.py:4: UserWarning: Boolean Series key will be reindexed to match DataFrame index.\n",
      "  orders_in_interval = trips[(trips['tpep_pickup_datetime'] >= time) & (df['tpep_pickup_datetime'] < next_time)]\n",
      "/var/folders/0x/k389_vt16p1gjts_tn1qjff40000gn/T/ipykernel_1202/1482100882.py:4: UserWarning: Boolean Series key will be reindexed to match DataFrame index.\n",
      "  orders_in_interval = trips[(trips['tpep_pickup_datetime'] >= time) & (df['tpep_pickup_datetime'] < next_time)]\n",
      "/var/folders/0x/k389_vt16p1gjts_tn1qjff40000gn/T/ipykernel_1202/1482100882.py:4: UserWarning: Boolean Series key will be reindexed to match DataFrame index.\n",
      "  orders_in_interval = trips[(trips['tpep_pickup_datetime'] >= time) & (df['tpep_pickup_datetime'] < next_time)]\n",
      "/var/folders/0x/k389_vt16p1gjts_tn1qjff40000gn/T/ipykernel_1202/1482100882.py:4: UserWarning: Boolean Series key will be reindexed to match DataFrame index.\n",
      "  orders_in_interval = trips[(trips['tpep_pickup_datetime'] >= time) & (df['tpep_pickup_datetime'] < next_time)]\n",
      "/var/folders/0x/k389_vt16p1gjts_tn1qjff40000gn/T/ipykernel_1202/1482100882.py:4: UserWarning: Boolean Series key will be reindexed to match DataFrame index.\n",
      "  orders_in_interval = trips[(trips['tpep_pickup_datetime'] >= time) & (df['tpep_pickup_datetime'] < next_time)]\n",
      "/var/folders/0x/k389_vt16p1gjts_tn1qjff40000gn/T/ipykernel_1202/1482100882.py:4: UserWarning: Boolean Series key will be reindexed to match DataFrame index.\n",
      "  orders_in_interval = trips[(trips['tpep_pickup_datetime'] >= time) & (df['tpep_pickup_datetime'] < next_time)]\n",
      "/var/folders/0x/k389_vt16p1gjts_tn1qjff40000gn/T/ipykernel_1202/1482100882.py:4: UserWarning: Boolean Series key will be reindexed to match DataFrame index.\n",
      "  orders_in_interval = trips[(trips['tpep_pickup_datetime'] >= time) & (df['tpep_pickup_datetime'] < next_time)]\n"
     ]
    },
    {
     "name": "stdout",
     "output_type": "stream",
     "text": [
      "1250done\n"
     ]
    },
    {
     "name": "stderr",
     "output_type": "stream",
     "text": [
      "/var/folders/0x/k389_vt16p1gjts_tn1qjff40000gn/T/ipykernel_1202/1482100882.py:4: UserWarning: Boolean Series key will be reindexed to match DataFrame index.\n",
      "  orders_in_interval = trips[(trips['tpep_pickup_datetime'] >= time) & (df['tpep_pickup_datetime'] < next_time)]\n",
      "/var/folders/0x/k389_vt16p1gjts_tn1qjff40000gn/T/ipykernel_1202/1482100882.py:4: UserWarning: Boolean Series key will be reindexed to match DataFrame index.\n",
      "  orders_in_interval = trips[(trips['tpep_pickup_datetime'] >= time) & (df['tpep_pickup_datetime'] < next_time)]\n",
      "/var/folders/0x/k389_vt16p1gjts_tn1qjff40000gn/T/ipykernel_1202/1482100882.py:4: UserWarning: Boolean Series key will be reindexed to match DataFrame index.\n",
      "  orders_in_interval = trips[(trips['tpep_pickup_datetime'] >= time) & (df['tpep_pickup_datetime'] < next_time)]\n",
      "/var/folders/0x/k389_vt16p1gjts_tn1qjff40000gn/T/ipykernel_1202/1482100882.py:4: UserWarning: Boolean Series key will be reindexed to match DataFrame index.\n",
      "  orders_in_interval = trips[(trips['tpep_pickup_datetime'] >= time) & (df['tpep_pickup_datetime'] < next_time)]\n",
      "/var/folders/0x/k389_vt16p1gjts_tn1qjff40000gn/T/ipykernel_1202/1482100882.py:4: UserWarning: Boolean Series key will be reindexed to match DataFrame index.\n",
      "  orders_in_interval = trips[(trips['tpep_pickup_datetime'] >= time) & (df['tpep_pickup_datetime'] < next_time)]\n",
      "/var/folders/0x/k389_vt16p1gjts_tn1qjff40000gn/T/ipykernel_1202/1482100882.py:4: UserWarning: Boolean Series key will be reindexed to match DataFrame index.\n",
      "  orders_in_interval = trips[(trips['tpep_pickup_datetime'] >= time) & (df['tpep_pickup_datetime'] < next_time)]\n",
      "/var/folders/0x/k389_vt16p1gjts_tn1qjff40000gn/T/ipykernel_1202/1482100882.py:4: UserWarning: Boolean Series key will be reindexed to match DataFrame index.\n",
      "  orders_in_interval = trips[(trips['tpep_pickup_datetime'] >= time) & (df['tpep_pickup_datetime'] < next_time)]\n",
      "/var/folders/0x/k389_vt16p1gjts_tn1qjff40000gn/T/ipykernel_1202/1482100882.py:4: UserWarning: Boolean Series key will be reindexed to match DataFrame index.\n",
      "  orders_in_interval = trips[(trips['tpep_pickup_datetime'] >= time) & (df['tpep_pickup_datetime'] < next_time)]\n",
      "/var/folders/0x/k389_vt16p1gjts_tn1qjff40000gn/T/ipykernel_1202/1482100882.py:4: UserWarning: Boolean Series key will be reindexed to match DataFrame index.\n",
      "  orders_in_interval = trips[(trips['tpep_pickup_datetime'] >= time) & (df['tpep_pickup_datetime'] < next_time)]\n",
      "/var/folders/0x/k389_vt16p1gjts_tn1qjff40000gn/T/ipykernel_1202/1482100882.py:4: UserWarning: Boolean Series key will be reindexed to match DataFrame index.\n",
      "  orders_in_interval = trips[(trips['tpep_pickup_datetime'] >= time) & (df['tpep_pickup_datetime'] < next_time)]\n"
     ]
    },
    {
     "name": "stdout",
     "output_type": "stream",
     "text": [
      "1260done\n"
     ]
    },
    {
     "name": "stderr",
     "output_type": "stream",
     "text": [
      "/var/folders/0x/k389_vt16p1gjts_tn1qjff40000gn/T/ipykernel_1202/1482100882.py:4: UserWarning: Boolean Series key will be reindexed to match DataFrame index.\n",
      "  orders_in_interval = trips[(trips['tpep_pickup_datetime'] >= time) & (df['tpep_pickup_datetime'] < next_time)]\n",
      "/var/folders/0x/k389_vt16p1gjts_tn1qjff40000gn/T/ipykernel_1202/1482100882.py:4: UserWarning: Boolean Series key will be reindexed to match DataFrame index.\n",
      "  orders_in_interval = trips[(trips['tpep_pickup_datetime'] >= time) & (df['tpep_pickup_datetime'] < next_time)]\n",
      "/var/folders/0x/k389_vt16p1gjts_tn1qjff40000gn/T/ipykernel_1202/1482100882.py:4: UserWarning: Boolean Series key will be reindexed to match DataFrame index.\n",
      "  orders_in_interval = trips[(trips['tpep_pickup_datetime'] >= time) & (df['tpep_pickup_datetime'] < next_time)]\n",
      "/var/folders/0x/k389_vt16p1gjts_tn1qjff40000gn/T/ipykernel_1202/1482100882.py:4: UserWarning: Boolean Series key will be reindexed to match DataFrame index.\n",
      "  orders_in_interval = trips[(trips['tpep_pickup_datetime'] >= time) & (df['tpep_pickup_datetime'] < next_time)]\n",
      "/var/folders/0x/k389_vt16p1gjts_tn1qjff40000gn/T/ipykernel_1202/1482100882.py:4: UserWarning: Boolean Series key will be reindexed to match DataFrame index.\n",
      "  orders_in_interval = trips[(trips['tpep_pickup_datetime'] >= time) & (df['tpep_pickup_datetime'] < next_time)]\n",
      "/var/folders/0x/k389_vt16p1gjts_tn1qjff40000gn/T/ipykernel_1202/1482100882.py:4: UserWarning: Boolean Series key will be reindexed to match DataFrame index.\n",
      "  orders_in_interval = trips[(trips['tpep_pickup_datetime'] >= time) & (df['tpep_pickup_datetime'] < next_time)]\n",
      "/var/folders/0x/k389_vt16p1gjts_tn1qjff40000gn/T/ipykernel_1202/1482100882.py:4: UserWarning: Boolean Series key will be reindexed to match DataFrame index.\n",
      "  orders_in_interval = trips[(trips['tpep_pickup_datetime'] >= time) & (df['tpep_pickup_datetime'] < next_time)]\n",
      "/var/folders/0x/k389_vt16p1gjts_tn1qjff40000gn/T/ipykernel_1202/1482100882.py:4: UserWarning: Boolean Series key will be reindexed to match DataFrame index.\n",
      "  orders_in_interval = trips[(trips['tpep_pickup_datetime'] >= time) & (df['tpep_pickup_datetime'] < next_time)]\n",
      "/var/folders/0x/k389_vt16p1gjts_tn1qjff40000gn/T/ipykernel_1202/1482100882.py:4: UserWarning: Boolean Series key will be reindexed to match DataFrame index.\n",
      "  orders_in_interval = trips[(trips['tpep_pickup_datetime'] >= time) & (df['tpep_pickup_datetime'] < next_time)]\n",
      "/var/folders/0x/k389_vt16p1gjts_tn1qjff40000gn/T/ipykernel_1202/1482100882.py:4: UserWarning: Boolean Series key will be reindexed to match DataFrame index.\n",
      "  orders_in_interval = trips[(trips['tpep_pickup_datetime'] >= time) & (df['tpep_pickup_datetime'] < next_time)]\n"
     ]
    },
    {
     "name": "stdout",
     "output_type": "stream",
     "text": [
      "1270done\n"
     ]
    },
    {
     "name": "stderr",
     "output_type": "stream",
     "text": [
      "/var/folders/0x/k389_vt16p1gjts_tn1qjff40000gn/T/ipykernel_1202/1482100882.py:4: UserWarning: Boolean Series key will be reindexed to match DataFrame index.\n",
      "  orders_in_interval = trips[(trips['tpep_pickup_datetime'] >= time) & (df['tpep_pickup_datetime'] < next_time)]\n"
     ]
    }
   ],
   "source": [
    "result = pd.DataFrame(columns=['tpep_pickup_datetime', 'order_cnt', 'PULocationID'])\n",
    "for idx, time in enumerate(timeline_2023[:-1]):\n",
    "    next_time = timeline_2023[idx + 1]\n",
    "    orders_in_interval = trips[(trips['tpep_pickup_datetime'] >= time) & (df['tpep_pickup_datetime'] < next_time)]\n",
    "    order_counts = orders_in_interval.groupby('PULocationID').size().reset_index(name='order_cnt')\n",
    "    order_counts['tpep_pickup_datetime'] = time\n",
    "    result = pd.concat([result, order_counts], ignore_index=True)\n",
    "    if(idx%10==0):\n",
    "        print(f\"{idx}done\")"
   ]
  },
  {
   "cell_type": "code",
   "execution_count": null,
   "id": "10533d1c",
   "metadata": {},
   "outputs": [],
   "source": []
  }
 ],
 "metadata": {
  "kernelspec": {
   "display_name": "Python 3 (ipykernel)",
   "language": "python",
   "name": "python3"
  },
  "language_info": {
   "codemirror_mode": {
    "name": "ipython",
    "version": 3
   },
   "file_extension": ".py",
   "mimetype": "text/x-python",
   "name": "python",
   "nbconvert_exporter": "python",
   "pygments_lexer": "ipython3",
   "version": "3.9.1"
  }
 },
 "nbformat": 4,
 "nbformat_minor": 5
}
